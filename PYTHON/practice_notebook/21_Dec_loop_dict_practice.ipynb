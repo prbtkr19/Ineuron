{
 "cells": [
  {
   "cell_type": "code",
   "execution_count": 1,
   "id": "d7b21c6a",
   "metadata": {},
   "outputs": [],
   "source": [
    "s = \" this is a basic python class\""
   ]
  },
  {
   "cell_type": "code",
   "execution_count": 2,
   "id": "bfd9a992",
   "metadata": {},
   "outputs": [
    {
     "data": {
      "text/plain": [
       "29"
      ]
     },
     "execution_count": 2,
     "metadata": {},
     "output_type": "execute_result"
    }
   ],
   "source": [
    "len(s)"
   ]
  },
  {
   "cell_type": "code",
   "execution_count": 5,
   "id": "4c66b6ed",
   "metadata": {},
   "outputs": [
    {
     "name": "stdout",
     "output_type": "stream",
     "text": [
      "29\n"
     ]
    }
   ],
   "source": [
    "#count no of letter in string without using inbuilt function\n",
    "count = 0\n",
    "for i in s:\n",
    "    count = count + 1\n",
    "print(count)"
   ]
  },
  {
   "cell_type": "code",
   "execution_count": 6,
   "id": "e92c5dc2",
   "metadata": {},
   "outputs": [
    {
     "data": {
      "text/plain": [
       "'ssalc nohtyp cisab a si siht '"
      ]
     },
     "execution_count": 6,
     "metadata": {},
     "output_type": "execute_result"
    }
   ],
   "source": [
    "s[::-1]"
   ]
  },
  {
   "cell_type": "code",
   "execution_count": 13,
   "id": "1d33fa24",
   "metadata": {},
   "outputs": [
    {
     "name": "stdout",
     "output_type": "stream",
     "text": [
      "s s a l c   n o h t y p   c i s a b   a   s i   s i h t "
     ]
    }
   ],
   "source": [
    "for i in range(len(s)-1,0 ,-1):\n",
    "    print(s[i],end =\" \")\n"
   ]
  },
  {
   "cell_type": "code",
   "execution_count": 10,
   "id": "bb956bab",
   "metadata": {},
   "outputs": [
    {
     "data": {
      "text/plain": [
       "'s'"
      ]
     },
     "execution_count": 10,
     "metadata": {},
     "output_type": "execute_result"
    }
   ],
   "source": [
    "s[28]"
   ]
  },
  {
   "cell_type": "code",
   "execution_count": 12,
   "id": "a552f387",
   "metadata": {},
   "outputs": [
    {
     "name": "stdout",
     "output_type": "stream",
     "text": [
      "s s a l c   n o h t y p   c i s a b   a   s i   s i h t   "
     ]
    }
   ],
   "source": [
    "#using while loop reverse string\n",
    "i =len(s)-1\n",
    "while (i >=0):\n",
    "    print(s[i], end=\" \")\n",
    "    i = i-1"
   ]
  },
  {
   "cell_type": "code",
   "execution_count": 14,
   "id": "01e85674",
   "metadata": {},
   "outputs": [],
   "source": [
    "s = \"ineuron\"\n",
    "v = \" AaEeIiOoUu\"\n"
   ]
  },
  {
   "cell_type": "code",
   "execution_count": 19,
   "id": "8230b0e9",
   "metadata": {},
   "outputs": [
    {
     "name": "stdout",
     "output_type": "stream",
     "text": [
      "vowel is i\n",
      "not vowel n\n",
      "vowel is e\n",
      "vowel is u\n",
      "not vowel r\n",
      "vowel is o\n",
      "not vowel n\n"
     ]
    }
   ],
   "source": [
    "#filter vowel from s\n",
    "for i in s:\n",
    "    if i in v:\n",
    "        print(\"vowel is\", i)\n",
    "    else:\n",
    "        print(\"not vowel\",i)"
   ]
  },
  {
   "cell_type": "code",
   "execution_count": 23,
   "id": "9f307fd8",
   "metadata": {},
   "outputs": [
    {
     "name": "stdout",
     "output_type": "stream",
     "text": [
      "this is not vowel p\n",
      "this is not vowel r\n",
      "vowel is a\n",
      "this is not vowel b\n",
      "this is not vowel h\n",
      "vowel is a\n",
      "this is not vowel t\n"
     ]
    }
   ],
   "source": [
    "s = \"prabhat\"\n",
    "v = \" AaEeIiOoUu\"\n",
    "for i in s:\n",
    "    if i in v:\n",
    "        print(\"vowel is\",i)\n",
    "    else:\n",
    "        print(\"this is not vowel\",i)"
   ]
  },
  {
   "cell_type": "code",
   "execution_count": null,
   "id": "e940718b",
   "metadata": {},
   "outputs": [],
   "source": [
    "\"tnent\"\n",
    "\"malayalam\"\n",
    "\"eye\""
   ]
  },
  {
   "cell_type": "code",
   "execution_count": 27,
   "id": "e8844fc9",
   "metadata": {},
   "outputs": [
    {
     "name": "stdout",
     "output_type": "stream",
     "text": [
      "malayalam\n",
      "given string is: palindrome\n"
     ]
    }
   ],
   "source": [
    "#print palindrome\n",
    "s =input()\n",
    "rev_s = s[::-1]\n",
    "if s == rev_s:\n",
    "    print(\"given string is: palindrome\")\n",
    "else:\n",
    "    print(\"string is not palindrome\")"
   ]
  },
  {
   "cell_type": "code",
   "execution_count": 30,
   "id": "fb463c71",
   "metadata": {},
   "outputs": [
    {
     "name": "stdout",
     "output_type": "stream",
     "text": [
      "malayalam\n",
      "malayalam palindrome\n"
     ]
    }
   ],
   "source": [
    "word = input()\n",
    "for i in range(len(word)):\n",
    "    if word[i] == word[len(word)-1 -i]:\n",
    "        continue\n",
    "    else:\n",
    "        print(word,\"not palindrome\")\n",
    "else:\n",
    "    print(word,\"palindrome\")"
   ]
  },
  {
   "cell_type": "code",
   "execution_count": 31,
   "id": "854e0a46",
   "metadata": {},
   "outputs": [
    {
     "name": "stdout",
     "output_type": "stream",
     "text": [
      "eye\n",
      "palindrome\n",
      "palindrome\n",
      "palindrome\n"
     ]
    }
   ],
   "source": [
    "word = input()\n",
    "for i in range(len(word)):\n",
    "    if word[i] == word[len(word)-1 -i]:\n",
    "        print(\"palindrome\")\n",
    "        continue\n",
    "    else:\n",
    "        print(word,\"not palindrome\")\n",
    "# else:\n",
    "#     print(word,\"palindrome\")"
   ]
  },
  {
   "cell_type": "code",
   "execution_count": 32,
   "id": "04e5371f",
   "metadata": {},
   "outputs": [
    {
     "name": "stdout",
     "output_type": "stream",
     "text": [
      "eye\n",
      "palindrome\n"
     ]
    }
   ],
   "source": [
    "word = input()\n",
    "for i in range(len(word)):\n",
    "    if word[i] == word[len(word)-1 -i]:\n",
    "        print(\"palindrome\")\n",
    "        break\n",
    "    else:\n",
    "        print(word,\"not palindrome\")"
   ]
  },
  {
   "cell_type": "code",
   "execution_count": 34,
   "id": "5bc66d0d",
   "metadata": {},
   "outputs": [],
   "source": [
    "d = {\"india\":\"IN\",\n",
    "    \"canada\" : \"CA\",\n",
    "     \"china\":\"CH\",\n",
    "    \"USA\":\"us\"}"
   ]
  },
  {
   "cell_type": "code",
   "execution_count": 35,
   "id": "4bc55d0f",
   "metadata": {},
   "outputs": [
    {
     "name": "stdout",
     "output_type": "stream",
     "text": [
      "india\n",
      "canada\n",
      "china\n",
      "USA\n"
     ]
    }
   ],
   "source": [
    "for i in d:\n",
    "    print(i)"
   ]
  },
  {
   "cell_type": "code",
   "execution_count": 39,
   "id": "572a18f9",
   "metadata": {},
   "outputs": [],
   "source": [
    "l_greater = []\n",
    "l_smaller = []\n",
    "for i in d:\n",
    "    if len(i) <=5:\n",
    "        \n",
    "        l_smaller.append(i)\n",
    "    else:\n",
    "        l_greater.append(i)"
   ]
  },
  {
   "cell_type": "code",
   "execution_count": 40,
   "id": "84cba204",
   "metadata": {},
   "outputs": [
    {
     "data": {
      "text/plain": [
       "['canada']"
      ]
     },
     "execution_count": 40,
     "metadata": {},
     "output_type": "execute_result"
    }
   ],
   "source": [
    "l_greater"
   ]
  },
  {
   "cell_type": "code",
   "execution_count": 41,
   "id": "e617de42",
   "metadata": {},
   "outputs": [
    {
     "data": {
      "text/plain": [
       "['india', 'china', 'USA']"
      ]
     },
     "execution_count": 41,
     "metadata": {},
     "output_type": "execute_result"
    }
   ],
   "source": [
    "l_smaller"
   ]
  },
  {
   "cell_type": "code",
   "execution_count": 43,
   "id": "cbb72763",
   "metadata": {},
   "outputs": [
    {
     "name": "stdout",
     "output_type": "stream",
     "text": [
      "4\n",
      "0\n"
     ]
    }
   ],
   "source": [
    "d1 = {\"ineuron\":{\"a\":14,\"b\" : 10, \"c\" :4},\n",
    "        \"course\":{ \"d\":45,\"e\":56,\"f\":0}\n",
    "      }\n",
    "lst1 = []\n",
    "lst2 = []\n",
    "for i in d1[\"ineuron\"].values():\n",
    "    lst1.append(i)\n",
    "    #lst1.sort()\n",
    "print(lst1[-1])\n",
    "for i in d1['course'].values():\n",
    "    lst2.append(i)\n",
    "    #lst2.sort()\n",
    "print(lst2[-1])    "
   ]
  },
  {
   "cell_type": "code",
   "execution_count": 44,
   "id": "07dfcab1",
   "metadata": {},
   "outputs": [
    {
     "data": {
      "text/plain": [
       "[14, 10, 4]"
      ]
     },
     "execution_count": 44,
     "metadata": {},
     "output_type": "execute_result"
    }
   ],
   "source": [
    "lst1"
   ]
  },
  {
   "cell_type": "code",
   "execution_count": 45,
   "id": "4faf1c8b",
   "metadata": {},
   "outputs": [
    {
     "data": {
      "text/plain": [
       "[45, 56, 0]"
      ]
     },
     "execution_count": 45,
     "metadata": {},
     "output_type": "execute_result"
    }
   ],
   "source": [
    "lst2"
   ]
  },
  {
   "cell_type": "code",
   "execution_count": 46,
   "id": "ab195097",
   "metadata": {},
   "outputs": [
    {
     "name": "stdout",
     "output_type": "stream",
     "text": [
      "14\n",
      "56\n"
     ]
    }
   ],
   "source": [
    "for i in d1.values():\n",
    "    print(max(i.values()))"
   ]
  },
  {
   "cell_type": "code",
   "execution_count": 47,
   "id": "8b7344a0",
   "metadata": {},
   "outputs": [
    {
     "name": "stdout",
     "output_type": "stream",
     "text": [
      "{'a': 14, 'b': 10, 'c': 4}\n",
      "{'d': 45, 'e': 56, 'f': 0}\n"
     ]
    }
   ],
   "source": [
    "for i in d1.values():\n",
    "    print(i)"
   ]
  },
  {
   "cell_type": "code",
   "execution_count": 48,
   "id": "f1b50806",
   "metadata": {},
   "outputs": [
    {
     "name": "stdout",
     "output_type": "stream",
     "text": [
      "14\n",
      "56\n"
     ]
    }
   ],
   "source": [
    "lst = []\n",
    "for i in d1.values():\n",
    "    for j in i.values():\n",
    "        \n",
    "        lst.append(j)\n",
    "    print(max(lst))\n",
    "    \n",
    "    "
   ]
  },
  {
   "cell_type": "code",
   "execution_count": 49,
   "id": "56a45f2a",
   "metadata": {},
   "outputs": [
    {
     "data": {
      "text/plain": [
       "[14, 10, 4, 45, 56, 0]"
      ]
     },
     "execution_count": 49,
     "metadata": {},
     "output_type": "execute_result"
    }
   ],
   "source": [
    "lst"
   ]
  },
  {
   "cell_type": "code",
   "execution_count": 61,
   "id": "bb14932a",
   "metadata": {},
   "outputs": [],
   "source": [
    "d = {\"india\":\"IN\",\"canada\":\"CA\",\"china\":\"ch\",\"united state\":\"us\"}\n",
    "k = []\n",
    "l = []\n",
    "c= 0\n",
    "for i in d:\n",
    "    for j in i:\n",
    "        c = c+1\n",
    "        #print(c)\n",
    "        \n",
    "    if c >5 :\n",
    "        l.append(i)\n",
    "    else:\n",
    "        k.append(i)"
   ]
  },
  {
   "cell_type": "code",
   "execution_count": 62,
   "id": "e5899859",
   "metadata": {},
   "outputs": [
    {
     "data": {
      "text/plain": [
       "['india']"
      ]
     },
     "execution_count": 62,
     "metadata": {},
     "output_type": "execute_result"
    }
   ],
   "source": [
    "k"
   ]
  },
  {
   "cell_type": "code",
   "execution_count": 55,
   "id": "4bc3a7ac",
   "metadata": {},
   "outputs": [
    {
     "data": {
      "text/plain": [
       "['canada', 'china', 'united state']"
      ]
     },
     "execution_count": 55,
     "metadata": {},
     "output_type": "execute_result"
    }
   ],
   "source": [
    "l"
   ]
  },
  {
   "cell_type": "code",
   "execution_count": 63,
   "id": "cae6ee42",
   "metadata": {},
   "outputs": [
    {
     "ename": "ValueError",
     "evalue": "invalid literal for int() with base 10: 'prabhat'",
     "output_type": "error",
     "traceback": [
      "\u001b[1;31m---------------------------------------------------------------------------\u001b[0m",
      "\u001b[1;31mValueError\u001b[0m                                Traceback (most recent call last)",
      "\u001b[1;32m<ipython-input-63-8bdca7f66d54>\u001b[0m in \u001b[0;36m<module>\u001b[1;34m\u001b[0m\n\u001b[1;32m----> 1\u001b[1;33m \u001b[0mint\u001b[0m\u001b[1;33m(\u001b[0m\u001b[1;34m\"prabhat\"\u001b[0m\u001b[1;33m)\u001b[0m\u001b[1;33m\u001b[0m\u001b[1;33m\u001b[0m\u001b[0m\n\u001b[0m",
      "\u001b[1;31mValueError\u001b[0m: invalid literal for int() with base 10: 'prabhat'"
     ]
    }
   ],
   "source": [
    "int(\"prabhat\")"
   ]
  },
  {
   "cell_type": "code",
   "execution_count": 64,
   "id": "c2084f64",
   "metadata": {},
   "outputs": [
    {
     "data": {
      "text/plain": [
       "45"
      ]
     },
     "execution_count": 64,
     "metadata": {},
     "output_type": "execute_result"
    }
   ],
   "source": [
    "int(\"45\")"
   ]
  },
  {
   "cell_type": "code",
   "execution_count": 65,
   "id": "7f5d968a",
   "metadata": {},
   "outputs": [
    {
     "name": "stdout",
     "output_type": "stream",
     "text": [
      "1\n",
      "2\n",
      "3\n"
     ]
    },
    {
     "ename": "KeyboardInterrupt",
     "evalue": "",
     "output_type": "error",
     "traceback": [
      "\u001b[1;31m---------------------------------------------------------------------------\u001b[0m",
      "\u001b[1;31mKeyboardInterrupt\u001b[0m                         Traceback (most recent call last)",
      "\u001b[1;32m<ipython-input-65-0f34234e2013>\u001b[0m in \u001b[0;36m<module>\u001b[1;34m\u001b[0m\n\u001b[0;32m      2\u001b[0m \u001b[1;32mwhile\u001b[0m \u001b[0mi\u001b[0m\u001b[1;33m<\u001b[0m\u001b[1;36m10\u001b[0m\u001b[1;33m:\u001b[0m\u001b[1;33m\u001b[0m\u001b[1;33m\u001b[0m\u001b[0m\n\u001b[0;32m      3\u001b[0m     \u001b[1;32mif\u001b[0m \u001b[0mi\u001b[0m \u001b[1;33m==\u001b[0m\u001b[1;36m4\u001b[0m\u001b[1;33m:\u001b[0m\u001b[1;33m\u001b[0m\u001b[1;33m\u001b[0m\u001b[0m\n\u001b[1;32m----> 4\u001b[1;33m         \u001b[1;32mcontinue\u001b[0m\u001b[1;33m\u001b[0m\u001b[1;33m\u001b[0m\u001b[0m\n\u001b[0m\u001b[0;32m      5\u001b[0m     \u001b[0mprint\u001b[0m\u001b[1;33m(\u001b[0m\u001b[0mi\u001b[0m\u001b[1;33m)\u001b[0m\u001b[1;33m\u001b[0m\u001b[1;33m\u001b[0m\u001b[0m\n\u001b[0;32m      6\u001b[0m     \u001b[0mi\u001b[0m \u001b[1;33m=\u001b[0m \u001b[0mi\u001b[0m\u001b[1;33m+\u001b[0m\u001b[1;36m1\u001b[0m\u001b[1;33m\u001b[0m\u001b[1;33m\u001b[0m\u001b[0m\n",
      "\u001b[1;31mKeyboardInterrupt\u001b[0m: "
     ]
    }
   ],
   "source": [
    "i = 1\n",
    "while i<10:\n",
    "    if i ==4:\n",
    "        continue\n",
    "    print(i)\n",
    "    i = i+1"
   ]
  },
  {
   "cell_type": "code",
   "execution_count": 67,
   "id": "b18ca111",
   "metadata": {},
   "outputs": [
    {
     "name": "stdout",
     "output_type": "stream",
     "text": [
      "0\n",
      "1\n",
      "2\n",
      "3\n"
     ]
    }
   ],
   "source": [
    "for i in range(10):\n",
    "    if i == 4:\n",
    "        break\n",
    "    print(i)\n",
    "    \n",
    "    "
   ]
  },
  {
   "cell_type": "code",
   "execution_count": 70,
   "id": "54c36552",
   "metadata": {},
   "outputs": [
    {
     "name": "stdout",
     "output_type": "stream",
     "text": [
      "enter a number5\n",
      "prime\n",
      "not prime\n",
      "prime\n"
     ]
    }
   ],
   "source": [
    "a = int(input(\"enter a number\"))\n",
    "for i in range(2,a):\n",
    "    #print(i)\n",
    "    if i%2 ==0:\n",
    "        print(\"prime\")\n",
    "    else:\n",
    "        print(\"not prime\")\n",
    "        "
   ]
  },
  {
   "cell_type": "code",
   "execution_count": null,
   "id": "c50cdfe4",
   "metadata": {},
   "outputs": [],
   "source": []
  }
 ],
 "metadata": {
  "kernelspec": {
   "display_name": "Python 3",
   "language": "python",
   "name": "python3"
  },
  "language_info": {
   "codemirror_mode": {
    "name": "ipython",
    "version": 3
   },
   "file_extension": ".py",
   "mimetype": "text/x-python",
   "name": "python",
   "nbconvert_exporter": "python",
   "pygments_lexer": "ipython3",
   "version": "3.8.8"
  }
 },
 "nbformat": 4,
 "nbformat_minor": 5
}
