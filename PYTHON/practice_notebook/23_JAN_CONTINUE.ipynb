{
 "cells": [
  {
   "cell_type": "code",
   "execution_count": 2,
   "id": "c1cb6243",
   "metadata": {},
   "outputs": [
    {
     "name": "stdout",
     "output_type": "stream",
     "text": [
      " Volume in drive C is Windows\n",
      " Volume Serial Number is A645-86C6\n",
      "\n",
      " Directory of C:\\Users\\prabh\\OneDrive\\Desktop\\INEURON\\Python_Practice_Notebook\n",
      "\n",
      "04-02-2022  19:56    <DIR>          .\n",
      "04-02-2022  19:56    <DIR>          ..\n",
      "04-02-2022  19:54    <DIR>          .ipynb_checkpoints\n",
      "04-02-2022  10:35    <DIR>          __pycache__\n",
      "03-02-2022  21:58           131,535 10_JAN_GENERATOR_FILE-SYSTEM.ipynb\n",
      "04-02-2022  00:08            12,106 15_JAN_EXCEPTION_HANDLING.ipynb\n",
      "26-01-2022  18:20            43,725 18_Dec_(Tuple, set , dict).ipynb\n",
      "02-02-2022  18:19            19,816 19_Dec_if_else.ipynb\n",
      "02-02-2022  22:23           582,979 20_Dec_loop_break_continue.ipynb\n",
      "03-02-2022  12:34            16,126 21_Dec_loop_dict_practice.ipynb\n",
      "04-02-2022  09:41                 0 22_jan_modules.py\n",
      "04-02-2022  10:36            19,919 22_JAN_MODULES_OOPS.ipynb\n",
      "03-02-2022  22:36             2,797 23_DEC_CODING_PROB_FUCTION.ipynb\n",
      "03-02-2022  15:58            30,626 23_DEC_FUNCTION.ipynb\n",
      "04-02-2022  19:56            21,656 23_JAN_OOPS.ipynb\n",
      "24-01-2022  10:43            11,127 4_dec_class.ipynb\n",
      "26-01-2022  14:47            45,112 5_dec(string ,indexing ,list).ipynb\n",
      "03-02-2022  21:54             3,014 google.txt\n",
      "04-02-2022  10:34               236 my_module.py\n",
      "04-02-2022  19:56                 0 mydict.py\n",
      "03-02-2022  22:06             2,654 OS_LEVEL_OPR.ipynb\n",
      "03-02-2022  19:12                 0 test.txt\n",
      "03-02-2022  20:06                56 test1.txt\n",
      "04-02-2022  09:45                 0 test3.py\n",
      "04-02-2022  10:14               226 test4.py\n",
      "04-02-2022  19:54                72 Untitled.ipynb\n",
      "              22 File(s)        943,782 bytes\n",
      "               4 Dir(s)  319,986,438,144 bytes free\n"
     ]
    }
   ],
   "source": [
    "ls"
   ]
  },
  {
   "cell_type": "code",
   "execution_count": 3,
   "id": "b01d7387",
   "metadata": {},
   "outputs": [],
   "source": [
    "import mydict"
   ]
  },
  {
   "cell_type": "code",
   "execution_count": 4,
   "id": "b8d8dbea",
   "metadata": {},
   "outputs": [],
   "source": [
    "d = {\"k\":\"sdsf\",\"k1\":3422}"
   ]
  },
  {
   "cell_type": "code",
   "execution_count": 6,
   "id": "04a334bc",
   "metadata": {},
   "outputs": [],
   "source": [
    "d = mydict.dict_parsing({\"k1\":23,\"k2\":\"prabh\"})"
   ]
  },
  {
   "cell_type": "code",
   "execution_count": 7,
   "id": "57392f60",
   "metadata": {},
   "outputs": [
    {
     "data": {
      "text/plain": [
       "['k1', 'k2']"
      ]
     },
     "execution_count": 7,
     "metadata": {},
     "output_type": "execute_result"
    }
   ],
   "source": [
    "d.getkeys()"
   ]
  },
  {
   "cell_type": "code",
   "execution_count": 8,
   "id": "8777350b",
   "metadata": {},
   "outputs": [
    {
     "data": {
      "text/plain": [
       "<bound method dict_parsing.getvalues of <mydict.dict_parsing object at 0x000002667AD62D90>>"
      ]
     },
     "execution_count": 8,
     "metadata": {},
     "output_type": "execute_result"
    }
   ],
   "source": [
    "d.getvalues"
   ]
  },
  {
   "cell_type": "code",
   "execution_count": 9,
   "id": "e81b0b65",
   "metadata": {},
   "outputs": [
    {
     "data": {
      "text/plain": [
       "[23, 'prabh']"
      ]
     },
     "execution_count": 9,
     "metadata": {},
     "output_type": "execute_result"
    }
   ],
   "source": [
    "d.getvalues()"
   ]
  },
  {
   "cell_type": "code",
   "execution_count": 10,
   "id": "fbe04a7a",
   "metadata": {},
   "outputs": [],
   "source": [
    "from mydict import dict_parsing"
   ]
  },
  {
   "cell_type": "code",
   "execution_count": 12,
   "id": "3de1d4f4",
   "metadata": {},
   "outputs": [],
   "source": [
    "d1 = dict_parsing({\"k1\":23,\"k2\":\"prabh\"})"
   ]
  },
  {
   "cell_type": "code",
   "execution_count": 13,
   "id": "520f09a0",
   "metadata": {},
   "outputs": [
    {
     "data": {
      "text/plain": [
       "['k1', 'k2']"
      ]
     },
     "execution_count": 13,
     "metadata": {},
     "output_type": "execute_result"
    }
   ],
   "source": [
    "d1.getkeys()"
   ]
  },
  {
   "cell_type": "code",
   "execution_count": null,
   "id": "c75806b8",
   "metadata": {},
   "outputs": [],
   "source": [
    "q1: creqte your own package for all the list functions\n",
    "q2: create your own package for all the tuple functions\n",
    "q3: create your own package for all dictionary function\n",
    "q4: create ypir own packahe for all set function\n",
    "    \n",
    "Restriction:\n",
    "    always use exception handling\n",
    "    never use print statement\n",
    "    always use logging while writinga code and log every activity performed by code in respective logginf file\n",
    "    \n",
    "    submit by 30th jan"
   ]
  },
  {
   "cell_type": "code",
   "execution_count": null,
   "id": "e275d6dc",
   "metadata": {},
   "outputs": [],
   "source": [
    "l =[1,2,3,4,5,6,]"
   ]
  }
 ],
 "metadata": {
  "kernelspec": {
   "display_name": "Python 3",
   "language": "python",
   "name": "python3"
  },
  "language_info": {
   "codemirror_mode": {
    "name": "ipython",
    "version": 3
   },
   "file_extension": ".py",
   "mimetype": "text/x-python",
   "name": "python",
   "nbconvert_exporter": "python",
   "pygments_lexer": "ipython3",
   "version": "3.8.8"
  }
 },
 "nbformat": 4,
 "nbformat_minor": 5
}
