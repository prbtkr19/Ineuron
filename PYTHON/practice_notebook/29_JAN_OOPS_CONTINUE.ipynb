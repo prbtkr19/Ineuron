{
 "cells": [
  {
   "cell_type": "code",
   "execution_count": 1,
   "id": "27518b99",
   "metadata": {},
   "outputs": [],
   "source": [
    "class xyz:\n",
    "    def __init__(self,a,b,c):\n",
    "        self.a = a\n",
    "        self.b = b\n",
    "        self.c = c\n",
    "    def test(self):\n",
    "        print(\"this is my first test method of xyz class\")\n",
    "        \n",
    "    def test1(self):\n",
    "        print(\"this is atest1 methd of xyz class\")\n",
    "        \n",
    "    def test2(self):\n",
    "        print(\"this id my test2  ethd olfclass xyzthus\")"
   ]
  },
  {
   "cell_type": "code",
   "execution_count": 4,
   "id": "d0f9fe6d",
   "metadata": {},
   "outputs": [],
   "source": [
    "p = xyz(1,2,4)"
   ]
  },
  {
   "cell_type": "code",
   "execution_count": 5,
   "id": "1c3f04cc",
   "metadata": {},
   "outputs": [
    {
     "name": "stdout",
     "output_type": "stream",
     "text": [
      "this is atest1 methd of xyz class\n"
     ]
    }
   ],
   "source": [
    "p.test1()"
   ]
  },
  {
   "cell_type": "code",
   "execution_count": null,
   "id": "c665e596",
   "metadata": {},
   "outputs": [],
   "source": []
  },
  {
   "cell_type": "code",
   "execution_count": null,
   "id": "ea99a0c7",
   "metadata": {},
   "outputs": [],
   "source": []
  },
  {
   "cell_type": "code",
   "execution_count": null,
   "id": "fef2ff3a",
   "metadata": {},
   "outputs": [],
   "source": []
  },
  {
   "cell_type": "code",
   "execution_count": 3,
   "id": "9a72ed1a",
   "metadata": {},
   "outputs": [],
   "source": [
    "class xyz1(xyz):\n",
    "    pass\n",
    "    \n",
    "    "
   ]
  },
  {
   "cell_type": "code",
   "execution_count": 6,
   "id": "c8b89326",
   "metadata": {},
   "outputs": [
    {
     "ename": "TypeError",
     "evalue": "__init__() missing 3 required positional arguments: 'a', 'b', and 'c'",
     "output_type": "error",
     "traceback": [
      "\u001b[1;31m---------------------------------------------------------------------------\u001b[0m",
      "\u001b[1;31mTypeError\u001b[0m                                 Traceback (most recent call last)",
      "\u001b[1;32m<ipython-input-6-84378f2eae99>\u001b[0m in \u001b[0;36m<module>\u001b[1;34m\u001b[0m\n\u001b[1;32m----> 1\u001b[1;33m \u001b[0mq\u001b[0m \u001b[1;33m=\u001b[0m \u001b[0mxyz1\u001b[0m\u001b[1;33m(\u001b[0m\u001b[1;33m)\u001b[0m\u001b[1;33m\u001b[0m\u001b[1;33m\u001b[0m\u001b[0m\n\u001b[0m",
      "\u001b[1;31mTypeError\u001b[0m: __init__() missing 3 required positional arguments: 'a', 'b', and 'c'"
     ]
    }
   ],
   "source": [
    "q = xyz1()"
   ]
  },
  {
   "cell_type": "code",
   "execution_count": 7,
   "id": "b96309c6",
   "metadata": {},
   "outputs": [],
   "source": [
    "q = xyz1(1,2,3)"
   ]
  },
  {
   "cell_type": "code",
   "execution_count": 8,
   "id": "8966993a",
   "metadata": {},
   "outputs": [
    {
     "name": "stdout",
     "output_type": "stream",
     "text": [
      "this is atest1 methd of xyz class\n"
     ]
    }
   ],
   "source": [
    "q.test1()"
   ]
  },
  {
   "cell_type": "code",
   "execution_count": 9,
   "id": "141cb66e",
   "metadata": {},
   "outputs": [],
   "source": [
    "class xyz1(xyz):\n",
    "    def test(self):\n",
    "        print(\"this is a test mtd availabe in xyz1\")"
   ]
  },
  {
   "cell_type": "code",
   "execution_count": 10,
   "id": "2cb3f1da",
   "metadata": {},
   "outputs": [],
   "source": [
    "g = xyz1(2,3,4)"
   ]
  },
  {
   "cell_type": "code",
   "execution_count": 12,
   "id": "9b9edbe1",
   "metadata": {},
   "outputs": [
    {
     "name": "stdout",
     "output_type": "stream",
     "text": [
      "this is a test mtd availabe in xyz1\n"
     ]
    }
   ],
   "source": [
    "g.test()"
   ]
  },
  {
   "cell_type": "code",
   "execution_count": 17,
   "id": "7d55c626",
   "metadata": {},
   "outputs": [],
   "source": [
    "class xyz():\n",
    "    def __init__(self,a,b,c):\n",
    "        self.a = a\n",
    "        self.b = b\n",
    "        self.c = c\n",
    "    \n",
    "    def test(self):\n",
    "        print(\"this is amtd of xyz class\")\n",
    "        \n",
    "class xyz1():\n",
    "    \n",
    "    def __init__(self,p,q,v):\n",
    "        self.p = p\n",
    "        self.q = q\n",
    "        self.v = v\n",
    "        \n",
    "    def test1(self):\n",
    "        print(\"this a mtd from class xyz1\")\n",
    "        \n",
    "class child(xyz1,xyz):\n",
    "    pass\n",
    "        "
   ]
  },
  {
   "cell_type": "code",
   "execution_count": 18,
   "id": "924d0ab7",
   "metadata": {},
   "outputs": [
    {
     "ename": "TypeError",
     "evalue": "__init__() missing 3 required positional arguments: 'p', 'q', and 'v'",
     "output_type": "error",
     "traceback": [
      "\u001b[1;31m---------------------------------------------------------------------------\u001b[0m",
      "\u001b[1;31mTypeError\u001b[0m                                 Traceback (most recent call last)",
      "\u001b[1;32m<ipython-input-18-372672b210f7>\u001b[0m in \u001b[0;36m<module>\u001b[1;34m\u001b[0m\n\u001b[1;32m----> 1\u001b[1;33m \u001b[0mn\u001b[0m \u001b[1;33m=\u001b[0m \u001b[0mchild\u001b[0m\u001b[1;33m(\u001b[0m\u001b[1;33m)\u001b[0m\u001b[1;33m\u001b[0m\u001b[1;33m\u001b[0m\u001b[0m\n\u001b[0m",
      "\u001b[1;31mTypeError\u001b[0m: __init__() missing 3 required positional arguments: 'p', 'q', and 'v'"
     ]
    }
   ],
   "source": [
    "n = child()"
   ]
  },
  {
   "cell_type": "code",
   "execution_count": 19,
   "id": "2b0e362a",
   "metadata": {},
   "outputs": [],
   "source": [
    "n = child(5,6,7)"
   ]
  },
  {
   "cell_type": "code",
   "execution_count": 21,
   "id": "134dabbc",
   "metadata": {},
   "outputs": [],
   "source": [
    "class xyz():\n",
    "    def __init__(self,a,b,c):\n",
    "        self.a = a\n",
    "        self.b = b\n",
    "        self.c = c\n",
    "    \n",
    "    def test(self):\n",
    "        print(\"this is amtd of xyz class\")\n",
    "        \n",
    "class xyz1():\n",
    "    \n",
    "    def __init__(self,p,q,v):\n",
    "        self.p = p\n",
    "        self.q = q\n",
    "        self.v = v\n",
    "        \n",
    "    def test1(self):\n",
    "        print(\"this a mtd from class xyz1\")\n",
    "        \n",
    "class child(xyz1,xyz):\n",
    "    def __init__(self,*args):\n",
    "        xyz.__init__(self,*args)\n",
    "        xyz1.__init__(self,*args)\n",
    "                \n",
    "        \n",
    "        "
   ]
  },
  {
   "cell_type": "code",
   "execution_count": 22,
   "id": "9f2a45eb",
   "metadata": {},
   "outputs": [],
   "source": [
    "n = child(3,4,5)"
   ]
  },
  {
   "cell_type": "code",
   "execution_count": 23,
   "id": "c9257e84",
   "metadata": {},
   "outputs": [
    {
     "data": {
      "text/plain": [
       "3"
      ]
     },
     "execution_count": 23,
     "metadata": {},
     "output_type": "execute_result"
    }
   ],
   "source": [
    "n.a"
   ]
  },
  {
   "cell_type": "code",
   "execution_count": 24,
   "id": "11c49af6",
   "metadata": {},
   "outputs": [
    {
     "data": {
      "text/plain": [
       "3"
      ]
     },
     "execution_count": 24,
     "metadata": {},
     "output_type": "execute_result"
    }
   ],
   "source": [
    "n.p"
   ]
  },
  {
   "cell_type": "code",
   "execution_count": 26,
   "id": "5abf8580",
   "metadata": {},
   "outputs": [],
   "source": [
    "class xyz():\n",
    "    def __init__(self,a,b,c):\n",
    "        self.a = a\n",
    "        self.b = b\n",
    "        self.c = c\n",
    "    \n",
    "    def test(self):\n",
    "        print(\"this is amtd of xyz class\")\n",
    "        \n",
    "class xyz1(xyz):\n",
    "        \n",
    "    def test1(self):\n",
    "        print(\"this a mtd from class xyz1\")\n",
    "        \n",
    "class xyz2(xyz1):\n",
    "    def test2(self):\n",
    "        print(\"mtd of class xyz2\")"
   ]
  },
  {
   "cell_type": "code",
   "execution_count": 27,
   "id": "c4c033d2",
   "metadata": {},
   "outputs": [
    {
     "ename": "TypeError",
     "evalue": "__init__() missing 3 required positional arguments: 'a', 'b', and 'c'",
     "output_type": "error",
     "traceback": [
      "\u001b[1;31m---------------------------------------------------------------------------\u001b[0m",
      "\u001b[1;31mTypeError\u001b[0m                                 Traceback (most recent call last)",
      "\u001b[1;32m<ipython-input-27-eb62356fd9fe>\u001b[0m in \u001b[0;36m<module>\u001b[1;34m\u001b[0m\n\u001b[1;32m----> 1\u001b[1;33m \u001b[0mv\u001b[0m \u001b[1;33m=\u001b[0m \u001b[0mxyz2\u001b[0m\u001b[1;33m(\u001b[0m\u001b[1;33m)\u001b[0m\u001b[1;33m\u001b[0m\u001b[1;33m\u001b[0m\u001b[0m\n\u001b[0m",
      "\u001b[1;31mTypeError\u001b[0m: __init__() missing 3 required positional arguments: 'a', 'b', and 'c'"
     ]
    }
   ],
   "source": [
    "v = xyz2()"
   ]
  },
  {
   "cell_type": "code",
   "execution_count": 28,
   "id": "b9275bb8",
   "metadata": {},
   "outputs": [],
   "source": [
    "v = xyz2(2,3,4)"
   ]
  },
  {
   "cell_type": "code",
   "execution_count": null,
   "id": "17d46696",
   "metadata": {},
   "outputs": [],
   "source": [
    "v.b"
   ]
  },
  {
   "cell_type": "code",
   "execution_count": null,
   "id": "5dda09d8",
   "metadata": {},
   "outputs": [],
   "source": [
    "1. create a file class for reading data from respective file with a method name read and write\n",
    "2. try to inherit read and write method form parent class to child class to perform read and write operation"
   ]
  },
  {
   "cell_type": "code",
   "execution_count": 29,
   "id": "18126dea",
   "metadata": {},
   "outputs": [],
   "source": [
    "import logging \n",
    "\n",
    "logging.basicConfig(filename=\"list.log\",level=logging.DEBUG,format=\"%(asctime)s %(levelname)s %(message)s\",filemode='w')\n",
    "\n",
    "\n",
    "class File:\n",
    "    def __init__(self,filename):\n",
    "        logging.info(\"Creating file instance varibale\")\n",
    "        self.file = filename\n",
    "\n",
    "    def read(self):\n",
    "        logging.info(\"executing read method\")\n",
    "        try:\n",
    "            with open(f\"{self.file}.txt\",'r') as f:\n",
    "                data = f.read()\n",
    "                return data\n",
    "        except FileNotFoundError as e:\n",
    "            logging.error(\"Error occured while opening the file \")\n",
    "            logging.exception(f\"Error is {e}\")\n",
    "\n",
    "    def write(self,data):\n",
    "        logging.info(\"executing write method\")\n",
    "        try:\n",
    "            with open(f\"{self.file}.txt\",'w') as f:\n",
    "                data = f.write(data)\n",
    "        except FileNotFoundError as e:\n",
    "            logging.error(\"Something is going wrong\")\n",
    "            \n",
    "obj = File(\"abc\")\n"
   ]
  },
  {
   "cell_type": "code",
   "execution_count": null,
   "id": "3275cd25",
   "metadata": {},
   "outputs": [],
   "source": [
    "class readFile:\n",
    "    def __init__(self,fileObj, lines):\n",
    "        self.file = fileObj\n",
    "        self.lines = lines\n",
    "    def readFile(self):\n",
    "        file2=open(self.file,'r')\n",
    "        line=file2.readline()\n",
    "        while(line!=\"\"):\n",
    "            print(line)\n",
    "            line=file2.readline()\n",
    "\n",
    "    def writeFile(self):\n",
    "        content_write = open(self.file,'w')\n",
    "        content_write.writelines(lines)\n",
    "        content_write.close()\n",
    "        \n",
    "class readFile1(readFile):\n",
    "    def readFile1(self):\n",
    "        print(\"inheritance of readFile class\")\n",
    "\n",
    "file1 = r'test1.txt'\n",
    "lines = 'Inserted Lines .......'\n",
    "\n",
    "read_write = readFile1(file1,lines)\n",
    "read_write.writeFile()\n",
    "read_write.readFile()\n"
   ]
  },
  {
   "cell_type": "code",
   "execution_count": null,
   "id": "a4a8421d",
   "metadata": {},
   "outputs": [],
   "source": [
    "class fileopeartion:\n",
    "    def __init__(self,filepath):\n",
    "        self.filepath = filepath\n",
    "    def read(self):\n",
    "        try:\n",
    "            f = open(self.filepath,\"r+\")\n",
    "            print(f.read())\n",
    "        except Exception as e:\n",
    "            print(e)\n",
    "        f.close()\n",
    "    def write(self,writings=\"\"):\n",
    "        try:\n",
    "            f = open(self.filepath,\"a\")\n",
    "        except Exception as e:\n",
    "            print(e)\n",
    "        f.write(writings)\n",
    "        f.close()\n",
    "class child(fileopeartion):\n",
    "    pass\n"
   ]
  },
  {
   "cell_type": "code",
   "execution_count": null,
   "id": "477340a0",
   "metadata": {},
   "outputs": [],
   "source": [
    "class file_read(object):\n",
    "    def __init__(self,filename) -> None:\n",
    "        self.file = filename\n",
    "        \n",
    "class read(file_read):\n",
    "    def read(self):\n",
    "        try : \n",
    "            open_file = open(self.file, \"r\")\n",
    "            self.read_file = open_file.read()\n",
    "            open_file.close()\n",
    "            return self.read_file\n",
    "        except Exception as e :\n",
    "            return e \n",
    "    \n",
    "class write(file_read) :\n",
    "    def write(self,*args):\n",
    "        try : \n",
    "            open_file = open(self.file, \"w\")\n",
    "            for ele in args:\n",
    "                open_file.write(ele)\n",
    "            return True\n",
    "        except Exception as e :\n",
    "            return e\n"
   ]
  },
  {
   "cell_type": "code",
   "execution_count": 6,
   "id": "8ff2d79b",
   "metadata": {},
   "outputs": [],
   "source": [
    "class test:\n",
    "    def __init__(self,a, b,c):\n",
    "        self.a = a\n",
    "        self.b = b\n",
    "        self.c = c\n",
    "class test1(test):\n",
    "    pass\n",
    "\n",
    "#u = test(3,4,5)"
   ]
  },
  {
   "cell_type": "code",
   "execution_count": 7,
   "id": "3470b5f7",
   "metadata": {},
   "outputs": [
    {
     "data": {
      "text/plain": [
       "3"
      ]
     },
     "execution_count": 7,
     "metadata": {},
     "output_type": "execute_result"
    }
   ],
   "source": [
    "u.a"
   ]
  },
  {
   "cell_type": "code",
   "execution_count": 8,
   "id": "53fea8c5",
   "metadata": {},
   "outputs": [],
   "source": [
    "v = test1(7,8,9)"
   ]
  },
  {
   "cell_type": "code",
   "execution_count": 9,
   "id": "adebba4b",
   "metadata": {},
   "outputs": [
    {
     "data": {
      "text/plain": [
       "7"
      ]
     },
     "execution_count": 9,
     "metadata": {},
     "output_type": "execute_result"
    }
   ],
   "source": [
    "v.a"
   ]
  },
  {
   "cell_type": "code",
   "execution_count": 10,
   "id": "eca78d10",
   "metadata": {},
   "outputs": [],
   "source": [
    "class test:\n",
    "    def __init__(self):\n",
    "        self.a = 4\n",
    "        \n",
    "class test1(test):\n",
    "    \n",
    "    pass\n",
    "\n",
    "u = test()"
   ]
  },
  {
   "cell_type": "code",
   "execution_count": 11,
   "id": "1f35a325",
   "metadata": {},
   "outputs": [
    {
     "data": {
      "text/plain": [
       "4"
      ]
     },
     "execution_count": 11,
     "metadata": {},
     "output_type": "execute_result"
    }
   ],
   "source": [
    "u.a"
   ]
  },
  {
   "cell_type": "code",
   "execution_count": 12,
   "id": "efc73f1d",
   "metadata": {},
   "outputs": [],
   "source": [
    "v =test1()"
   ]
  },
  {
   "cell_type": "code",
   "execution_count": 13,
   "id": "93005d18",
   "metadata": {},
   "outputs": [
    {
     "data": {
      "text/plain": [
       "4"
      ]
     },
     "execution_count": 13,
     "metadata": {},
     "output_type": "execute_result"
    }
   ],
   "source": [
    "v.a"
   ]
  },
  {
   "cell_type": "code",
   "execution_count": 14,
   "id": "169dd5fb",
   "metadata": {},
   "outputs": [],
   "source": [
    "class test:\n",
    "    def __init__(self):\n",
    "        self.a = 4\n",
    "        \n",
    "class test1(test):\n",
    "    def __init__(self):\n",
    "        \n",
    "        self.a = 7\n",
    "    \n",
    "    \n",
    "\n",
    "u = test()"
   ]
  },
  {
   "cell_type": "code",
   "execution_count": 15,
   "id": "e1c56534",
   "metadata": {},
   "outputs": [
    {
     "data": {
      "text/plain": [
       "4"
      ]
     },
     "execution_count": 15,
     "metadata": {},
     "output_type": "execute_result"
    }
   ],
   "source": [
    "u.a"
   ]
  },
  {
   "cell_type": "code",
   "execution_count": 16,
   "id": "38cbb6f3",
   "metadata": {},
   "outputs": [],
   "source": [
    "v = test1()"
   ]
  },
  {
   "cell_type": "code",
   "execution_count": 17,
   "id": "42632290",
   "metadata": {},
   "outputs": [
    {
     "data": {
      "text/plain": [
       "7"
      ]
     },
     "execution_count": 17,
     "metadata": {},
     "output_type": "execute_result"
    }
   ],
   "source": [
    "v.a"
   ]
  },
  {
   "cell_type": "code",
   "execution_count": 20,
   "id": "847f6e30",
   "metadata": {},
   "outputs": [],
   "source": [
    "class test:\n",
    "    def __init__(self):\n",
    "        self.a = 4\n",
    "        \n",
    "class test1(test):\n",
    "    def __init__(self):\n",
    "        test.__init__(self)\n",
    "        \n",
    "        self.a = 7\n",
    "    \n",
    "    \n",
    "\n",
    "u = test()"
   ]
  },
  {
   "cell_type": "code",
   "execution_count": 24,
   "id": "41e2fe67",
   "metadata": {},
   "outputs": [
    {
     "data": {
      "text/plain": [
       "4"
      ]
     },
     "execution_count": 24,
     "metadata": {},
     "output_type": "execute_result"
    }
   ],
   "source": [
    "u.a"
   ]
  },
  {
   "cell_type": "code",
   "execution_count": 22,
   "id": "bada2a04",
   "metadata": {},
   "outputs": [],
   "source": [
    "v = test1()"
   ]
  },
  {
   "cell_type": "code",
   "execution_count": 23,
   "id": "c5a82058",
   "metadata": {},
   "outputs": [
    {
     "data": {
      "text/plain": [
       "7"
      ]
     },
     "execution_count": 23,
     "metadata": {},
     "output_type": "execute_result"
    }
   ],
   "source": [
    "v.a"
   ]
  },
  {
   "cell_type": "code",
   "execution_count": 25,
   "id": "b10c375c",
   "metadata": {},
   "outputs": [],
   "source": [
    "class test:\n",
    "    def __init__(self):\n",
    "        self.__a = 4\n",
    "        \n",
    "class test1(test):\n",
    "    def __init__(self):\n",
    "        self.__a = 7\n",
    "        \n",
    "        \n",
    "         \n",
    "    \n",
    "    \n",
    "\n",
    "u = test()"
   ]
  },
  {
   "cell_type": "code",
   "execution_count": 26,
   "id": "d1c26bec",
   "metadata": {},
   "outputs": [
    {
     "ename": "AttributeError",
     "evalue": "'test' object has no attribute '__a'",
     "output_type": "error",
     "traceback": [
      "\u001b[1;31m---------------------------------------------------------------------------\u001b[0m",
      "\u001b[1;31mAttributeError\u001b[0m                            Traceback (most recent call last)",
      "\u001b[1;32m<ipython-input-26-45f5c7f66ea7>\u001b[0m in \u001b[0;36m<module>\u001b[1;34m\u001b[0m\n\u001b[1;32m----> 1\u001b[1;33m \u001b[0mu\u001b[0m\u001b[1;33m.\u001b[0m\u001b[0m__a\u001b[0m\u001b[1;33m\u001b[0m\u001b[1;33m\u001b[0m\u001b[0m\n\u001b[0m",
      "\u001b[1;31mAttributeError\u001b[0m: 'test' object has no attribute '__a'"
     ]
    }
   ],
   "source": [
    "u.__a"
   ]
  },
  {
   "cell_type": "code",
   "execution_count": 31,
   "id": "7520d130",
   "metadata": {},
   "outputs": [],
   "source": [
    "class test:\n",
    "    def __init__(self,a,b,c):\n",
    "        self._a = a\n",
    "        self.__b = b\n",
    "        self.c = c\n",
    "v =test(3,4,5)"
   ]
  },
  {
   "cell_type": "code",
   "execution_count": 32,
   "id": "a73b106f",
   "metadata": {},
   "outputs": [
    {
     "ename": "AttributeError",
     "evalue": "'test' object has no attribute 'a'",
     "output_type": "error",
     "traceback": [
      "\u001b[1;31m---------------------------------------------------------------------------\u001b[0m",
      "\u001b[1;31mAttributeError\u001b[0m                            Traceback (most recent call last)",
      "\u001b[1;32m<ipython-input-32-bd111c48723f>\u001b[0m in \u001b[0;36m<module>\u001b[1;34m\u001b[0m\n\u001b[1;32m----> 1\u001b[1;33m \u001b[0mv\u001b[0m\u001b[1;33m.\u001b[0m\u001b[0ma\u001b[0m\u001b[1;33m\u001b[0m\u001b[1;33m\u001b[0m\u001b[0m\n\u001b[0m",
      "\u001b[1;31mAttributeError\u001b[0m: 'test' object has no attribute 'a'"
     ]
    }
   ],
   "source": [
    "v.a"
   ]
  },
  {
   "cell_type": "code",
   "execution_count": 33,
   "id": "ebafffb1",
   "metadata": {},
   "outputs": [
    {
     "ename": "AttributeError",
     "evalue": "'test' object has no attribute '__b'",
     "output_type": "error",
     "traceback": [
      "\u001b[1;31m---------------------------------------------------------------------------\u001b[0m",
      "\u001b[1;31mAttributeError\u001b[0m                            Traceback (most recent call last)",
      "\u001b[1;32m<ipython-input-33-93239adde735>\u001b[0m in \u001b[0;36m<module>\u001b[1;34m\u001b[0m\n\u001b[1;32m----> 1\u001b[1;33m \u001b[0mv\u001b[0m\u001b[1;33m.\u001b[0m\u001b[0m__b\u001b[0m\u001b[1;33m\u001b[0m\u001b[1;33m\u001b[0m\u001b[0m\n\u001b[0m",
      "\u001b[1;31mAttributeError\u001b[0m: 'test' object has no attribute '__b'"
     ]
    }
   ],
   "source": [
    "v.__b"
   ]
  },
  {
   "cell_type": "code",
   "execution_count": 35,
   "id": "5c0f8023",
   "metadata": {},
   "outputs": [
    {
     "data": {
      "text/plain": [
       "4"
      ]
     },
     "execution_count": 35,
     "metadata": {},
     "output_type": "execute_result"
    }
   ],
   "source": [
    "v._test__b"
   ]
  },
  {
   "cell_type": "code",
   "execution_count": 36,
   "id": "a3166bcb",
   "metadata": {},
   "outputs": [
    {
     "data": {
      "text/plain": [
       "int"
      ]
     },
     "execution_count": 36,
     "metadata": {},
     "output_type": "execute_result"
    }
   ],
   "source": [
    "type(v._test__b)"
   ]
  },
  {
   "cell_type": "code",
   "execution_count": 41,
   "id": "7ea87f7d",
   "metadata": {},
   "outputs": [],
   "source": [
    "class test:\n",
    "    def __init__(self,a,b,c):\n",
    "        self._a = a\n",
    "        self.__b = b\n",
    "        self.c = c\n",
    "class test1(test):\n",
    "    pass\n",
    "    #def __init__(self):\n",
    "        #test.__init__(self)\n",
    "v =test(3,4,5) "
   ]
  },
  {
   "cell_type": "code",
   "execution_count": 42,
   "id": "8fc25615",
   "metadata": {},
   "outputs": [
    {
     "data": {
      "text/plain": [
       "3"
      ]
     },
     "execution_count": 42,
     "metadata": {},
     "output_type": "execute_result"
    }
   ],
   "source": [
    "v._a"
   ]
  },
  {
   "cell_type": "code",
   "execution_count": 43,
   "id": "2b90deae",
   "metadata": {},
   "outputs": [],
   "source": [
    "v = test1(2,3,4)"
   ]
  },
  {
   "cell_type": "code",
   "execution_count": 44,
   "id": "a2fa3f4e",
   "metadata": {},
   "outputs": [
    {
     "data": {
      "text/plain": [
       "2"
      ]
     },
     "execution_count": 44,
     "metadata": {},
     "output_type": "execute_result"
    }
   ],
   "source": [
    "v._a"
   ]
  },
  {
   "cell_type": "code",
   "execution_count": 45,
   "id": "7301197d",
   "metadata": {},
   "outputs": [
    {
     "ename": "AttributeError",
     "evalue": "'test1' object has no attribute '__b'",
     "output_type": "error",
     "traceback": [
      "\u001b[1;31m---------------------------------------------------------------------------\u001b[0m",
      "\u001b[1;31mAttributeError\u001b[0m                            Traceback (most recent call last)",
      "\u001b[1;32m<ipython-input-45-93239adde735>\u001b[0m in \u001b[0;36m<module>\u001b[1;34m\u001b[0m\n\u001b[1;32m----> 1\u001b[1;33m \u001b[0mv\u001b[0m\u001b[1;33m.\u001b[0m\u001b[0m__b\u001b[0m\u001b[1;33m\u001b[0m\u001b[1;33m\u001b[0m\u001b[0m\n\u001b[0m",
      "\u001b[1;31mAttributeError\u001b[0m: 'test1' object has no attribute '__b'"
     ]
    }
   ],
   "source": [
    "v.__b"
   ]
  },
  {
   "cell_type": "code",
   "execution_count": 46,
   "id": "1b0dab3f",
   "metadata": {},
   "outputs": [
    {
     "ename": "AttributeError",
     "evalue": "'test' object has no attribute '__b'",
     "output_type": "error",
     "traceback": [
      "\u001b[1;31m---------------------------------------------------------------------------\u001b[0m",
      "\u001b[1;31mAttributeError\u001b[0m                            Traceback (most recent call last)",
      "\u001b[1;32m<ipython-input-46-4dfc70e27000>\u001b[0m in \u001b[0;36m<module>\u001b[1;34m\u001b[0m\n\u001b[1;32m----> 1\u001b[1;33m \u001b[0mu\u001b[0m\u001b[1;33m.\u001b[0m\u001b[0m__b\u001b[0m\u001b[1;33m\u001b[0m\u001b[1;33m\u001b[0m\u001b[0m\n\u001b[0m",
      "\u001b[1;31mAttributeError\u001b[0m: 'test' object has no attribute '__b'"
     ]
    }
   ],
   "source": [
    "u.__b"
   ]
  },
  {
   "cell_type": "code",
   "execution_count": 47,
   "id": "f18e1d50",
   "metadata": {},
   "outputs": [
    {
     "data": {
      "text/plain": [
       "3"
      ]
     },
     "execution_count": 47,
     "metadata": {},
     "output_type": "execute_result"
    }
   ],
   "source": [
    "v._test__b"
   ]
  },
  {
   "cell_type": "code",
   "execution_count": 63,
   "id": "af552d9d",
   "metadata": {},
   "outputs": [],
   "source": [
    "class bonuscalculator:\n",
    "    def __init__(self,empid,emprating):\n",
    "        self.empid =empid\n",
    "        self.emprating = emprating\n",
    "        self._empmail = \"abc@gmail.com\"\n",
    "        self.__bonusforratingA = \"70%\"\n",
    "        self.__bonusforratingB = \"50%\"\n",
    "        self.__bonusforratingC = \"40%\"\n",
    "        \n",
    "    def bonuscalculator(self):\n",
    "        if self.emprating == \"A\":\n",
    "            bonus = self.__bonusforratingA\n",
    "            return bonus\n",
    "        elif self.emprating ==\"B\":\n",
    "            bonus = self.__bonusforratingB\n",
    "            return bonus\n",
    "        else:\n",
    "            bonus = self.__bonusforratingC\n",
    "            return bonus\n",
    "        \n",
    "    "
   ]
  },
  {
   "cell_type": "code",
   "execution_count": 64,
   "id": "624400a4",
   "metadata": {},
   "outputs": [],
   "source": [
    "emp1 = bonuscalculator(101,\"A\")\n",
    "emp2 = bonuscalculator(102,\"B\")\n",
    "emp3 = bonuscalculator(103,\"C\")"
   ]
  },
  {
   "cell_type": "code",
   "execution_count": 65,
   "id": "cb5cfaf7",
   "metadata": {},
   "outputs": [
    {
     "data": {
      "text/plain": [
       "'70%'"
      ]
     },
     "execution_count": 65,
     "metadata": {},
     "output_type": "execute_result"
    }
   ],
   "source": [
    "emp1.bonuscalculator()"
   ]
  },
  {
   "cell_type": "code",
   "execution_count": 66,
   "id": "373dd3c3",
   "metadata": {},
   "outputs": [
    {
     "data": {
      "text/plain": [
       "'50%'"
      ]
     },
     "execution_count": 66,
     "metadata": {},
     "output_type": "execute_result"
    }
   ],
   "source": [
    "emp2.bonuscalculator()"
   ]
  },
  {
   "cell_type": "code",
   "execution_count": 67,
   "id": "f0e9ce9c",
   "metadata": {},
   "outputs": [
    {
     "data": {
      "text/plain": [
       "'40%'"
      ]
     },
     "execution_count": 67,
     "metadata": {},
     "output_type": "execute_result"
    }
   ],
   "source": [
    "emp3.bonuscalculator()"
   ]
  },
  {
   "cell_type": "code",
   "execution_count": 68,
   "id": "2378994b",
   "metadata": {},
   "outputs": [],
   "source": [
    "emp1.empid =4"
   ]
  },
  {
   "cell_type": "code",
   "execution_count": 69,
   "id": "e2e206f6",
   "metadata": {},
   "outputs": [
    {
     "data": {
      "text/plain": [
       "4"
      ]
     },
     "execution_count": 69,
     "metadata": {},
     "output_type": "execute_result"
    }
   ],
   "source": [
    "emp1.empid"
   ]
  },
  {
   "cell_type": "code",
   "execution_count": 70,
   "id": "c11b162c",
   "metadata": {},
   "outputs": [],
   "source": [
    "emp1.__bonusratingB = \"90%\""
   ]
  },
  {
   "cell_type": "code",
   "execution_count": 71,
   "id": "e8f1f064",
   "metadata": {},
   "outputs": [
    {
     "data": {
      "text/plain": [
       "'70%'"
      ]
     },
     "execution_count": 71,
     "metadata": {},
     "output_type": "execute_result"
    }
   ],
   "source": [
    "emp1.bonuscalculator()"
   ]
  },
  {
   "cell_type": "code",
   "execution_count": 72,
   "id": "53728748",
   "metadata": {},
   "outputs": [
    {
     "data": {
      "text/plain": [
       "'B'"
      ]
     },
     "execution_count": 72,
     "metadata": {},
     "output_type": "execute_result"
    }
   ],
   "source": [
    "emp2.emprating"
   ]
  },
  {
   "cell_type": "code",
   "execution_count": 73,
   "id": "fefca637",
   "metadata": {},
   "outputs": [
    {
     "data": {
      "text/plain": [
       "'50%'"
      ]
     },
     "execution_count": 73,
     "metadata": {},
     "output_type": "execute_result"
    }
   ],
   "source": [
    "emp2.bonuscalculator()"
   ]
  },
  {
   "cell_type": "code",
   "execution_count": 74,
   "id": "b22192ef",
   "metadata": {},
   "outputs": [],
   "source": [
    "emp2.__bonusratingB = \"100%\""
   ]
  },
  {
   "cell_type": "code",
   "execution_count": 75,
   "id": "42ee0b10",
   "metadata": {},
   "outputs": [
    {
     "data": {
      "text/plain": [
       "'70%'"
      ]
     },
     "execution_count": 75,
     "metadata": {},
     "output_type": "execute_result"
    }
   ],
   "source": [
    "emp2._bonuscalculator__bonusforratingA"
   ]
  },
  {
   "cell_type": "code",
   "execution_count": null,
   "id": "7aae9a3d",
   "metadata": {},
   "outputs": [],
   "source": []
  },
  {
   "cell_type": "code",
   "execution_count": 76,
   "id": "e770b016",
   "metadata": {},
   "outputs": [
    {
     "data": {
      "text/plain": [
       "'abc@gmail.com'"
      ]
     },
     "execution_count": 76,
     "metadata": {},
     "output_type": "execute_result"
    }
   ],
   "source": [
    "emp1._empmail"
   ]
  },
  {
   "cell_type": "code",
   "execution_count": 77,
   "id": "de164294",
   "metadata": {},
   "outputs": [],
   "source": [
    "emp1._empmail = \"zya@gmail.com\""
   ]
  },
  {
   "cell_type": "code",
   "execution_count": 78,
   "id": "2e932f8a",
   "metadata": {},
   "outputs": [
    {
     "data": {
      "text/plain": [
       "'zya@gmail.com'"
      ]
     },
     "execution_count": 78,
     "metadata": {},
     "output_type": "execute_result"
    }
   ],
   "source": [
    "emp1._empmail"
   ]
  },
  {
   "cell_type": "code",
   "execution_count": 94,
   "id": "909224a3",
   "metadata": {},
   "outputs": [],
   "source": [
    "#prime nu\n",
    "def prime():\n",
    "    n = int(input())\n",
    "    if n > 1:\n",
    "        for i in range(2,n):\n",
    "            if(n % i) == 0:\n",
    "                print(n,\"not  a prime number\")\n",
    "                \n",
    "            else:\n",
    "                print(\"prime number\")\n",
    "                break\n"
   ]
  },
  {
   "cell_type": "code",
   "execution_count": 97,
   "id": "804aef4b",
   "metadata": {},
   "outputs": [
    {
     "name": "stdout",
     "output_type": "stream",
     "text": [
      "12\n",
      "12 not  a prime number\n",
      "12 not  a prime number\n",
      "12 not  a prime number\n",
      "prime number\n"
     ]
    }
   ],
   "source": [
    "prime()"
   ]
  },
  {
   "cell_type": "code",
   "execution_count": 93,
   "id": "76b039db",
   "metadata": {},
   "outputs": [
    {
     "name": "stdout",
     "output_type": "stream",
     "text": [
      "0\n",
      "1\n",
      "2\n",
      "3\n",
      "4\n"
     ]
    }
   ],
   "source": [
    "for i in range(5):\n",
    "    print(i)"
   ]
  },
  {
   "cell_type": "code",
   "execution_count": null,
   "id": "36832269",
   "metadata": {},
   "outputs": [],
   "source": []
  }
 ],
 "metadata": {
  "kernelspec": {
   "display_name": "Python 3",
   "language": "python",
   "name": "python3"
  },
  "language_info": {
   "codemirror_mode": {
    "name": "ipython",
    "version": 3
   },
   "file_extension": ".py",
   "mimetype": "text/x-python",
   "name": "python",
   "nbconvert_exporter": "python",
   "pygments_lexer": "ipython3",
   "version": "3.8.8"
  }
 },
 "nbformat": 4,
 "nbformat_minor": 5
}
