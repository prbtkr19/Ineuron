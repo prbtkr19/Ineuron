{
 "cells": [
  {
   "cell_type": "code",
   "execution_count": 1,
   "id": "f18d1dfe",
   "metadata": {},
   "outputs": [],
   "source": [
    "import os"
   ]
  },
  {
   "cell_type": "code",
   "execution_count": 2,
   "id": "67246e01",
   "metadata": {},
   "outputs": [
    {
     "data": {
      "text/plain": [
       "'C:\\\\Users\\\\prabh\\\\OneDrive\\\\Desktop\\\\INEURON\\\\Python_Practice_Notebook'"
      ]
     },
     "execution_count": 2,
     "metadata": {},
     "output_type": "execute_result"
    }
   ],
   "source": [
    "os.getcwd()"
   ]
  },
  {
   "cell_type": "code",
   "execution_count": 3,
   "id": "7a1ad98d",
   "metadata": {},
   "outputs": [
    {
     "data": {
      "text/plain": [
       "'C:\\\\Users\\\\prabh\\\\OneDrive\\\\Desktop\\\\INEURON\\\\Python_Practice_Notebook'"
      ]
     },
     "execution_count": 3,
     "metadata": {},
     "output_type": "execute_result"
    }
   ],
   "source": [
    "pwd"
   ]
  },
  {
   "cell_type": "code",
   "execution_count": 4,
   "id": "25c16918",
   "metadata": {},
   "outputs": [
    {
     "data": {
      "text/plain": [
       "['.ipynb_checkpoints',\n",
       " '10_JAN_GENERATOR_FILE-SYSTEM.ipynb',\n",
       " '18_Dec_(Tuple, set , dict).ipynb',\n",
       " '19_Dec_if_else.ipynb',\n",
       " '20_Dec_loop_break_continue.ipynb',\n",
       " '21_Dec_loop_dict_practice.ipynb',\n",
       " '23_DEC_CODING_PROB_FUCTION.ipynb',\n",
       " '23_DEC_FUNCTION.ipynb',\n",
       " '4_dec_class.ipynb',\n",
       " '5_dec(string ,indexing ,list).ipynb',\n",
       " 'google.txt',\n",
       " 'OS_LEVEL_OPR.ipynb',\n",
       " 'test.txt',\n",
       " 'test1.txt']"
      ]
     },
     "execution_count": 4,
     "metadata": {},
     "output_type": "execute_result"
    }
   ],
   "source": [
    "os.listdir()"
   ]
  },
  {
   "cell_type": "code",
   "execution_count": 5,
   "id": "4c2d3184",
   "metadata": {},
   "outputs": [],
   "source": [
    "l = os.listdir()"
   ]
  },
  {
   "cell_type": "code",
   "execution_count": null,
   "id": "714ca6bf",
   "metadata": {},
   "outputs": [],
   "source": [
    "#filter .txt file read it and append all txt in a single file\n",
    "for i in l:\n",
    "    if "
   ]
  }
 ],
 "metadata": {
  "kernelspec": {
   "display_name": "Python 3",
   "language": "python",
   "name": "python3"
  },
  "language_info": {
   "codemirror_mode": {
    "name": "ipython",
    "version": 3
   },
   "file_extension": ".py",
   "mimetype": "text/x-python",
   "name": "python",
   "nbconvert_exporter": "python",
   "pygments_lexer": "ipython3",
   "version": "3.8.8"
  }
 },
 "nbformat": 4,
 "nbformat_minor": 5
}
