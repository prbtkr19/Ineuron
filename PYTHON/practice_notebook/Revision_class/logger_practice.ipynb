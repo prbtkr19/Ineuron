{
 "cells": [
  {
   "cell_type": "code",
   "execution_count": 6,
   "id": "35963220",
   "metadata": {},
   "outputs": [],
   "source": [
    "import logging"
   ]
  },
  {
   "cell_type": "code",
   "execution_count": 7,
   "id": "c5d3b99f",
   "metadata": {},
   "outputs": [
    {
     "name": "stderr",
     "output_type": "stream",
     "text": [
      "WARNING:root:watch out\n"
     ]
    }
   ],
   "source": [
    "logging.warning(\"watch out\")\n",
    "logging.info(\"hi prabhat\")"
   ]
  },
  {
   "cell_type": "code",
   "execution_count": 8,
   "id": "8c693da4",
   "metadata": {},
   "outputs": [],
   "source": [
    "import logging\n",
    "logging.basicConfig(filename='example1.log', level=logging.DEBUG)"
   ]
  },
  {
   "cell_type": "code",
   "execution_count": 9,
   "id": "0ca44b95",
   "metadata": {},
   "outputs": [
    {
     "data": {
      "text/plain": [
       "'C:\\\\Users\\\\prabh\\\\OneDrive\\\\Desktop\\\\INEURON\\\\Revision_class'"
      ]
     },
     "execution_count": 9,
     "metadata": {},
     "output_type": "execute_result"
    }
   ],
   "source": [
    "pwd"
   ]
  },
  {
   "cell_type": "code",
   "execution_count": 10,
   "id": "f1621e74",
   "metadata": {},
   "outputs": [
    {
     "data": {
      "text/plain": [
       "<function dir>"
      ]
     },
     "execution_count": 10,
     "metadata": {},
     "output_type": "execute_result"
    }
   ],
   "source": [
    "dir"
   ]
  },
  {
   "cell_type": "code",
   "execution_count": 11,
   "id": "2cd6c4ca",
   "metadata": {},
   "outputs": [
    {
     "data": {
      "text/plain": [
       "'C:\\\\Users\\\\prabh\\\\OneDrive\\\\Desktop\\\\INEURON\\\\Revision_class'"
      ]
     },
     "execution_count": 11,
     "metadata": {},
     "output_type": "execute_result"
    }
   ],
   "source": [
    "import os\n",
    "os.getcwd()"
   ]
  },
  {
   "cell_type": "code",
   "execution_count": 12,
   "id": "2b811990",
   "metadata": {},
   "outputs": [
    {
     "name": "stdout",
     "output_type": "stream",
     "text": [
      " Volume in drive C is Windows\n",
      " Volume Serial Number is A645-86C6\n",
      "\n",
      " Directory of C:\\Users\\prabh\\OneDrive\\Desktop\\INEURON\\Revision_class\n",
      "\n",
      "03-05-2022  09:40    <DIR>          .\n",
      "03-05-2022  08:18    <DIR>          ..\n",
      "03-05-2022  09:19    <DIR>          .ipynb_checkpoints\n",
      "02-05-2022  17:21           127,135 07 Functions_Revision.ipynb\n",
      "03-05-2022  09:19            16,585 11.1 Logger.ipynb\n",
      "30-04-2022  12:37         1,083,241 13. OOPS_latest (1).ipynb\n",
      "30-04-2022  12:38         1,083,241 13. OOPS_latest (2).ipynb\n",
      "30-04-2022  12:36         1,083,241 13. OOPS_latest.ipynb\n",
      "30-04-2022  12:35            16,152 8.Iterators and Generators.ipynb\n",
      "30-04-2022  12:39         1,758,817 advance_oops .ipynb\n",
      "30-04-2022  12:34           407,775 Exception_handling_revision_class.ipynb\n",
      "30-04-2022  12:37       250,640,139 feb11.mp4\n",
      "30-04-2022  12:36       351,880,512 feb16.mp4\n",
      "30-04-2022  12:39       300,322,194 feb18.mp4\n",
      "30-04-2022  12:36       400,151,903 feb9.mp4\n",
      "30-04-2022  12:31       390,573,829 function_lambda_map.mp4\n",
      "03-05-2022  09:40             4,233 logger_practice.ipynb\n",
      "30-04-2022  12:34       361,034,132 logging.mp4\n",
      "30-04-2022  12:39           184,916 ploymorphism.ipynb\n",
      "              16 File(s)  2,060,368,045 bytes\n",
      "               3 Dir(s)  239,830,081,536 bytes free\n"
     ]
    }
   ],
   "source": [
    "!dir"
   ]
  },
  {
   "cell_type": "code",
   "execution_count": null,
   "id": "57918fbd",
   "metadata": {},
   "outputs": [],
   "source": []
  }
 ],
 "metadata": {
  "kernelspec": {
   "display_name": "Python 3 (ipykernel)",
   "language": "python",
   "name": "python3"
  },
  "language_info": {
   "codemirror_mode": {
    "name": "ipython",
    "version": 3
   },
   "file_extension": ".py",
   "mimetype": "text/x-python",
   "name": "python",
   "nbconvert_exporter": "python",
   "pygments_lexer": "ipython3",
   "version": "3.8.8"
  }
 },
 "nbformat": 4,
 "nbformat_minor": 5
}
