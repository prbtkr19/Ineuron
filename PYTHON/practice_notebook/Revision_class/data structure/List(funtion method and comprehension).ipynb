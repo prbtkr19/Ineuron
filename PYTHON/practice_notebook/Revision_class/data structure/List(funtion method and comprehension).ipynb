{
 "cells": [
  {
   "cell_type": "markdown",
   "metadata": {},
   "source": [
    "### These are:\n",
    "\n",
    "len()\n",
    "\n",
    "max()\n",
    "\n",
    "min()\n",
    "\n",
    "sum()\n",
    "\n",
    "sorted()\n",
    "\n",
    "list()\n",
    "\n",
    "any()\n",
    "\n",
    "all()\n"
   ]
  },
  {
   "cell_type": "code",
   "execution_count": 1,
   "metadata": {},
   "outputs": [],
   "source": [
    "l=[1,23,432,34,345,54,54,6]"
   ]
  },
  {
   "cell_type": "code",
   "execution_count": 2,
   "metadata": {},
   "outputs": [
    {
     "data": {
      "text/plain": [
       "8"
      ]
     },
     "execution_count": 2,
     "metadata": {},
     "output_type": "execute_result"
    }
   ],
   "source": [
    "len(l)"
   ]
  },
  {
   "cell_type": "markdown",
   "metadata": {},
   "source": [
    "### max() function "
   ]
  },
  {
   "cell_type": "code",
   "execution_count": 3,
   "metadata": {},
   "outputs": [
    {
     "name": "stdout",
     "output_type": "stream",
     "text": [
      "4\n"
     ]
    }
   ],
   "source": [
    "fruits=[\"apple\",\"banana\",\"orange\",None]\n",
    "print(len(fruits)) \n",
    "\n"
   ]
  },
  {
   "cell_type": "code",
   "execution_count": 4,
   "metadata": {},
   "outputs": [
    {
     "name": "stdout",
     "output_type": "stream",
     "text": [
      "11\n"
     ]
    }
   ],
   "source": [
    "nums=[5,2,11,3]\n",
    "print(max(nums))\n"
   ]
  },
  {
   "cell_type": "code",
   "execution_count": 5,
   "metadata": {},
   "outputs": [
    {
     "name": "stdout",
     "output_type": "stream",
     "text": [
      "may\n"
     ]
    }
   ],
   "source": [
    "months=[\"january\",\"may\",\"december\"]\n",
    "print(max(months))\n"
   ]
  },
  {
   "cell_type": "code",
   "execution_count": 6,
   "metadata": {},
   "outputs": [
    {
     "name": "stdout",
     "output_type": "stream",
     "text": [
      "True\n"
     ]
    }
   ],
   "source": [
    "booleans=[False,True]\n",
    "print(max(booleans))\n"
   ]
  },
  {
   "cell_type": "code",
   "execution_count": 7,
   "metadata": {},
   "outputs": [
    {
     "name": "stdout",
     "output_type": "stream",
     "text": [
      "True\n"
     ]
    }
   ],
   "source": [
    "mynums=[0.2,0.4,True,0.5]\n",
    "print(max(mynums))\n"
   ]
  },
  {
   "cell_type": "code",
   "execution_count": 8,
   "metadata": {},
   "outputs": [
    {
     "name": "stdout",
     "output_type": "stream",
     "text": [
      "True\n"
     ]
    }
   ],
   "source": [
    "mynums=[0.2,0.4,True,0.5]\n",
    "print(max(mynums))\n"
   ]
  },
  {
   "cell_type": "code",
   "execution_count": 9,
   "metadata": {},
   "outputs": [
    {
     "ename": "TypeError",
     "evalue": "'>' not supported between instances of 'str' and 'int'",
     "output_type": "error",
     "traceback": [
      "\u001b[1;31m---------------------------------------------------------------------------\u001b[0m",
      "\u001b[1;31mTypeError\u001b[0m                                 Traceback (most recent call last)",
      "\u001b[1;32m<ipython-input-9-53c758d7c328>\u001b[0m in \u001b[0;36m<module>\u001b[1;34m\u001b[0m\n\u001b[0;32m      1\u001b[0m \u001b[0mvalues\u001b[0m\u001b[1;33m=\u001b[0m\u001b[1;33m[\u001b[0m\u001b[1;36m10\u001b[0m\u001b[1;33m,\u001b[0m\u001b[1;34m\"hello\"\u001b[0m\u001b[1;33m,\u001b[0m\u001b[1;36m20\u001b[0m\u001b[1;33m,\u001b[0m\u001b[1;34m\"bye\"\u001b[0m\u001b[1;33m]\u001b[0m\u001b[1;33m\u001b[0m\u001b[1;33m\u001b[0m\u001b[0m\n\u001b[1;32m----> 2\u001b[1;33m \u001b[0mprint\u001b[0m\u001b[1;33m(\u001b[0m\u001b[0mmax\u001b[0m\u001b[1;33m(\u001b[0m\u001b[0mvalues\u001b[0m\u001b[1;33m)\u001b[0m\u001b[1;33m)\u001b[0m\u001b[1;33m\u001b[0m\u001b[1;33m\u001b[0m\u001b[0m\n\u001b[0m",
      "\u001b[1;31mTypeError\u001b[0m: '>' not supported between instances of 'str' and 'int'"
     ]
    }
   ],
   "source": [
    "values=[10,\"hello\",20,\"bye\"]\n",
    "print(max(values))\n"
   ]
  },
  {
   "cell_type": "code",
   "execution_count": 10,
   "metadata": {},
   "outputs": [
    {
     "ename": "TypeError",
     "evalue": "'>' not supported between instances of 'NoneType' and 'str'",
     "output_type": "error",
     "traceback": [
      "\u001b[1;31m---------------------------------------------------------------------------\u001b[0m",
      "\u001b[1;31mTypeError\u001b[0m                                 Traceback (most recent call last)",
      "\u001b[1;32m<ipython-input-10-5ee8cfa45a11>\u001b[0m in \u001b[0;36m<module>\u001b[1;34m\u001b[0m\n\u001b[0;32m      1\u001b[0m \u001b[0mfruits\u001b[0m\u001b[1;33m=\u001b[0m\u001b[1;33m[\u001b[0m\u001b[1;34m\"apple\"\u001b[0m\u001b[1;33m,\u001b[0m\u001b[1;34m\"banana\"\u001b[0m\u001b[1;33m,\u001b[0m\u001b[1;34m\"orange\"\u001b[0m\u001b[1;33m,\u001b[0m\u001b[1;32mNone\u001b[0m\u001b[1;33m]\u001b[0m\u001b[1;33m\u001b[0m\u001b[1;33m\u001b[0m\u001b[0m\n\u001b[1;32m----> 2\u001b[1;33m \u001b[0mprint\u001b[0m\u001b[1;33m(\u001b[0m\u001b[0mmax\u001b[0m\u001b[1;33m(\u001b[0m\u001b[0mfruits\u001b[0m\u001b[1;33m)\u001b[0m\u001b[1;33m)\u001b[0m\u001b[1;33m\u001b[0m\u001b[1;33m\u001b[0m\u001b[0m\n\u001b[0m",
      "\u001b[1;31mTypeError\u001b[0m: '>' not supported between instances of 'NoneType' and 'str'"
     ]
    }
   ],
   "source": [
    "fruits=[\"apple\",\"banana\",\"orange\",None]\n",
    "print(max(fruits)) \n"
   ]
  },
  {
   "cell_type": "markdown",
   "metadata": {},
   "source": [
    "### min() function"
   ]
  },
  {
   "cell_type": "code",
   "execution_count": 12,
   "metadata": {},
   "outputs": [
    {
     "name": "stdout",
     "output_type": "stream",
     "text": [
      "2\n"
     ]
    }
   ],
   "source": [
    "nums=[5,2,11,3]\n",
    "print(min(nums))\n"
   ]
  },
  {
   "cell_type": "code",
   "execution_count": 13,
   "metadata": {},
   "outputs": [
    {
     "name": "stdout",
     "output_type": "stream",
     "text": [
      "december\n"
     ]
    }
   ],
   "source": [
    "months=[\"january\",\"may\",\"december\"]\n",
    "print(min(months))\n"
   ]
  },
  {
   "cell_type": "markdown",
   "metadata": {},
   "source": [
    "### The sum( ) Function"
   ]
  },
  {
   "cell_type": "code",
   "execution_count": 14,
   "metadata": {},
   "outputs": [
    {
     "name": "stdout",
     "output_type": "stream",
     "text": [
      "60\n"
     ]
    }
   ],
   "source": [
    "nums=[10,20,30]\n",
    "print(sum(nums))\n"
   ]
  },
  {
   "cell_type": "code",
   "execution_count": 15,
   "metadata": {},
   "outputs": [
    {
     "name": "stdout",
     "output_type": "stream",
     "text": [
      "61\n"
     ]
    }
   ],
   "source": [
    "nums=[10,20,30,True,False]\n",
    "print(sum(nums))\n"
   ]
  },
  {
   "cell_type": "code",
   "execution_count": 16,
   "metadata": {},
   "outputs": [
    {
     "ename": "TypeError",
     "evalue": "unsupported operand type(s) for +: 'int' and 'str'",
     "output_type": "error",
     "traceback": [
      "\u001b[1;31m---------------------------------------------------------------------------\u001b[0m",
      "\u001b[1;31mTypeError\u001b[0m                                 Traceback (most recent call last)",
      "\u001b[1;32m<ipython-input-16-488f8999d931>\u001b[0m in \u001b[0;36m<module>\u001b[1;34m\u001b[0m\n\u001b[0;32m      1\u001b[0m \u001b[0mnums\u001b[0m\u001b[1;33m=\u001b[0m\u001b[1;33m[\u001b[0m\u001b[1;34m'1'\u001b[0m\u001b[1;33m,\u001b[0m\u001b[1;34m'2'\u001b[0m\u001b[1;33m,\u001b[0m\u001b[1;34m'3'\u001b[0m\u001b[1;33m]\u001b[0m\u001b[1;33m\u001b[0m\u001b[1;33m\u001b[0m\u001b[0m\n\u001b[1;32m----> 2\u001b[1;33m \u001b[0mprint\u001b[0m\u001b[1;33m(\u001b[0m\u001b[0msum\u001b[0m\u001b[1;33m(\u001b[0m\u001b[0mnums\u001b[0m\u001b[1;33m)\u001b[0m\u001b[1;33m)\u001b[0m\u001b[1;33m\u001b[0m\u001b[1;33m\u001b[0m\u001b[0m\n\u001b[0m\u001b[0;32m      3\u001b[0m \u001b[1;33m\u001b[0m\u001b[0m\n",
      "\u001b[1;31mTypeError\u001b[0m: unsupported operand type(s) for +: 'int' and 'str'"
     ]
    }
   ],
   "source": [
    "nums=['1','2','3']\n",
    "print(sum(nums))\n",
    "\n"
   ]
  },
  {
   "cell_type": "code",
   "execution_count": 21,
   "metadata": {},
   "outputs": [
    {
     "data": {
      "text/plain": [
       "6"
      ]
     },
     "execution_count": 21,
     "metadata": {},
     "output_type": "execute_result"
    }
   ],
   "source": [
    "sum([int('1'),int('2'),int('3')])"
   ]
  },
  {
   "cell_type": "markdown",
   "metadata": {},
   "source": [
    "### The sorted( ) Function"
   ]
  },
  {
   "cell_type": "code",
   "execution_count": 22,
   "metadata": {},
   "outputs": [
    {
     "name": "stdout",
     "output_type": "stream",
     "text": [
      "[1, 4, 7, 9]\n",
      "[7, 4, 9, 1]\n"
     ]
    }
   ],
   "source": [
    "nums=[7,4,9,1]\n",
    "print(sorted(nums)) \n",
    "print(nums)\n"
   ]
  },
  {
   "cell_type": "code",
   "execution_count": 23,
   "metadata": {},
   "outputs": [
    {
     "name": "stdout",
     "output_type": "stream",
     "text": [
      "['december', 'january', 'may']\n"
     ]
    }
   ],
   "source": [
    "months=[\"january\",\"may\",\"december\"]\n",
    "print(sorted(months)) \n",
    "\n"
   ]
  },
  {
   "cell_type": "code",
   "execution_count": 24,
   "metadata": {},
   "outputs": [
    {
     "ename": "TypeError",
     "evalue": "'<' not supported between instances of 'int' and 'str'",
     "output_type": "error",
     "traceback": [
      "\u001b[1;31m---------------------------------------------------------------------------\u001b[0m",
      "\u001b[1;31mTypeError\u001b[0m                                 Traceback (most recent call last)",
      "\u001b[1;32m<ipython-input-24-91ad0220b178>\u001b[0m in \u001b[0;36m<module>\u001b[1;34m\u001b[0m\n\u001b[0;32m      1\u001b[0m \u001b[0mmonths\u001b[0m\u001b[1;33m=\u001b[0m\u001b[1;33m[\u001b[0m\u001b[1;34m\"january\"\u001b[0m\u001b[1;33m,\u001b[0m\u001b[1;34m\"may\"\u001b[0m\u001b[1;33m,\u001b[0m\u001b[1;34m\"december\"\u001b[0m\u001b[1;33m,\u001b[0m\u001b[1;36m3\u001b[0m\u001b[1;33m]\u001b[0m\u001b[1;33m\u001b[0m\u001b[1;33m\u001b[0m\u001b[0m\n\u001b[1;32m----> 2\u001b[1;33m \u001b[0mprint\u001b[0m\u001b[1;33m(\u001b[0m\u001b[0msorted\u001b[0m\u001b[1;33m(\u001b[0m\u001b[0mmonths\u001b[0m\u001b[1;33m)\u001b[0m\u001b[1;33m)\u001b[0m\u001b[1;33m\u001b[0m\u001b[1;33m\u001b[0m\u001b[0m\n\u001b[0m",
      "\u001b[1;31mTypeError\u001b[0m: '<' not supported between instances of 'int' and 'str'"
     ]
    }
   ],
   "source": [
    "months=[\"january\",\"may\",\"december\",3]\n",
    "print(sorted(months)) \n"
   ]
  },
  {
   "cell_type": "code",
   "execution_count": 25,
   "metadata": {},
   "outputs": [
    {
     "name": "stdout",
     "output_type": "stream",
     "text": [
      "[1.0, 2, 2.4, 3.6]\n"
     ]
    }
   ],
   "source": [
    "values=[2.4,1.0,2,3.6]\n",
    "print(sorted(values)) \n"
   ]
  },
  {
   "cell_type": "code",
   "execution_count": null,
   "metadata": {},
   "outputs": [],
   "source": [
    "[1.0,2,2.4,3.6]\n"
   ]
  },
  {
   "cell_type": "markdown",
   "metadata": {},
   "source": [
    "### Sorting In Descending Order"
   ]
  },
  {
   "cell_type": "code",
   "execution_count": 26,
   "metadata": {},
   "outputs": [
    {
     "name": "stdout",
     "output_type": "stream",
     "text": [
      "[5, 3, 2, 1]\n"
     ]
    }
   ],
   "source": [
    "#To sort the list in descending order , we can pass the keyword argument reverse with value set to True to the function sorted( )\n",
    "\n",
    "nums=[3,1,5,2]\n",
    "print(sorted(nums,reverse=True)) \n"
   ]
  },
  {
   "cell_type": "markdown",
   "metadata": {},
   "source": [
    "### The list( ) Function"
   ]
  },
  {
   "cell_type": "code",
   "execution_count": 27,
   "metadata": {},
   "outputs": [
    {
     "ename": "TypeError",
     "evalue": "'int' object is not iterable",
     "output_type": "error",
     "traceback": [
      "\u001b[1;31m---------------------------------------------------------------------------\u001b[0m",
      "\u001b[1;31mTypeError\u001b[0m                                 Traceback (most recent call last)",
      "\u001b[1;32m<ipython-input-27-c5c3c2b74734>\u001b[0m in \u001b[0;36m<module>\u001b[1;34m\u001b[0m\n\u001b[1;32m----> 1\u001b[1;33m \u001b[0mlist\u001b[0m\u001b[1;33m(\u001b[0m\u001b[1;36m2\u001b[0m\u001b[1;33m)\u001b[0m\u001b[1;33m\u001b[0m\u001b[1;33m\u001b[0m\u001b[0m\n\u001b[0m",
      "\u001b[1;31mTypeError\u001b[0m: 'int' object is not iterable"
     ]
    }
   ],
   "source": [
    "list(2)"
   ]
  },
  {
   "cell_type": "code",
   "execution_count": 28,
   "metadata": {},
   "outputs": [
    {
     "name": "stdout",
     "output_type": "stream",
     "text": [
      "['b', 'h', 'o', 'p', 'a', 'l']\n"
     ]
    }
   ],
   "source": [
    "#The list( ) function converts an iterable i.e tuple , range, set , dictionary and string to a list.\n",
    "#Syntax:\n",
    "#list(iterable)\n",
    "\n",
    "#Example:\n",
    "city=\"bhopal\"\n",
    "x=list(city)\n",
    "print(x)\n"
   ]
  },
  {
   "cell_type": "code",
   "execution_count": 29,
   "metadata": {},
   "outputs": [
    {
     "ename": "TypeError",
     "evalue": "'int' object is not iterable",
     "output_type": "error",
     "traceback": [
      "\u001b[1;31m---------------------------------------------------------------------------\u001b[0m",
      "\u001b[1;31mTypeError\u001b[0m                                 Traceback (most recent call last)",
      "\u001b[1;32m<ipython-input-29-bcebdc8c92c2>\u001b[0m in \u001b[0;36m<module>\u001b[1;34m\u001b[0m\n\u001b[0;32m      1\u001b[0m \u001b[0mn\u001b[0m\u001b[1;33m=\u001b[0m\u001b[1;36m20\u001b[0m\u001b[1;33m\u001b[0m\u001b[1;33m\u001b[0m\u001b[0m\n\u001b[1;32m----> 2\u001b[1;33m \u001b[0mx\u001b[0m\u001b[1;33m=\u001b[0m\u001b[0mlist\u001b[0m\u001b[1;33m(\u001b[0m\u001b[0mn\u001b[0m\u001b[1;33m)\u001b[0m\u001b[1;33m\u001b[0m\u001b[1;33m\u001b[0m\u001b[0m\n\u001b[0m\u001b[0;32m      3\u001b[0m \u001b[0mprint\u001b[0m\u001b[1;33m(\u001b[0m\u001b[0mx\u001b[0m\u001b[1;33m)\u001b[0m\u001b[1;33m\u001b[0m\u001b[1;33m\u001b[0m\u001b[0m\n",
      "\u001b[1;31mTypeError\u001b[0m: 'int' object is not iterable"
     ]
    }
   ],
   "source": [
    "n=20\n",
    "x=list(n)\n",
    "print(x)\n"
   ]
  },
  {
   "cell_type": "code",
   "execution_count": 30,
   "metadata": {},
   "outputs": [
    {
     "name": "stdout",
     "output_type": "stream",
     "text": [
      "['2', '0']\n"
     ]
    }
   ],
   "source": [
    "n=\"20\"\n",
    "x=list(n)\n",
    "print(x)\n",
    "\n"
   ]
  },
  {
   "cell_type": "code",
   "execution_count": 31,
   "metadata": {},
   "outputs": [
    {
     "name": "stdout",
     "output_type": "stream",
     "text": [
      "[10, 20, 30]\n"
     ]
    }
   ],
   "source": [
    "t=(10,20,30)\n",
    "x=list(t)\n",
    "print(x)\n"
   ]
  },
  {
   "cell_type": "markdown",
   "metadata": {},
   "source": [
    "### The any( ) Function"
   ]
  },
  {
   "cell_type": "markdown",
   "metadata": {},
   "source": [
    "The any( ) function accepts a List as argument and returns True if atleast one element of the List is True. If not, this method returns False. If the List is empty, then also it returns False\n",
    "Syntax:"
   ]
  },
  {
   "cell_type": "code",
   "execution_count": 32,
   "metadata": {},
   "outputs": [
    {
     "name": "stdout",
     "output_type": "stream",
     "text": [
      "True\n"
     ]
    }
   ],
   "source": [
    "#Example:\n",
    "x = [1, 3, 4, 0]\n",
    "print(any(x))\n"
   ]
  },
  {
   "cell_type": "code",
   "execution_count": 34,
   "metadata": {},
   "outputs": [
    {
     "name": "stdout",
     "output_type": "stream",
     "text": [
      "False\n"
     ]
    }
   ],
   "source": [
    "x = [0, False]\n",
    "print(any(x))\n",
    "\n"
   ]
  },
  {
   "cell_type": "code",
   "execution_count": 35,
   "metadata": {},
   "outputs": [
    {
     "name": "stdout",
     "output_type": "stream",
     "text": [
      "True\n"
     ]
    }
   ],
   "source": [
    "x = [0, False, 5]\n",
    "print(any(x))\n",
    "\n",
    "\n"
   ]
  },
  {
   "cell_type": "code",
   "execution_count": 36,
   "metadata": {},
   "outputs": [
    {
     "name": "stdout",
     "output_type": "stream",
     "text": [
      "False\n"
     ]
    }
   ],
   "source": [
    "x= []\n",
    "print(any(x))\n",
    "\n"
   ]
  },
  {
   "cell_type": "markdown",
   "metadata": {},
   "source": [
    "### The all( ) Function"
   ]
  },
  {
   "cell_type": "markdown",
   "metadata": {},
   "source": [
    "The all( ) function accepts a List as argument and returns True if  all the elements of the List are True or if the List is empty .If not, this method returns False.\n"
   ]
  },
  {
   "cell_type": "code",
   "execution_count": 39,
   "metadata": {},
   "outputs": [
    {
     "name": "stdout",
     "output_type": "stream",
     "text": [
      "False\n"
     ]
    }
   ],
   "source": [
    "#Example:\n",
    "x = [1, 3, 4, 0]\n",
    "print(all(x))\n"
   ]
  },
  {
   "cell_type": "code",
   "execution_count": 40,
   "metadata": {},
   "outputs": [
    {
     "name": "stdout",
     "output_type": "stream",
     "text": [
      "False\n"
     ]
    }
   ],
   "source": [
    "x = [0, False]\n",
    "print(all(x))\n"
   ]
  },
  {
   "cell_type": "code",
   "execution_count": 41,
   "metadata": {},
   "outputs": [
    {
     "name": "stdout",
     "output_type": "stream",
     "text": [
      "True\n"
     ]
    }
   ],
   "source": [
    "x = [1,3,4,5]\n",
    "print(all(x))\n",
    "\n",
    "\n"
   ]
  },
  {
   "cell_type": "code",
   "execution_count": 42,
   "metadata": {},
   "outputs": [
    {
     "name": "stdout",
     "output_type": "stream",
     "text": [
      "False\n"
     ]
    }
   ],
   "source": [
    "x = [0, False, 5]\n",
    "print(all(x))\n",
    "\n",
    "\n"
   ]
  },
  {
   "cell_type": "code",
   "execution_count": 43,
   "metadata": {},
   "outputs": [
    {
     "name": "stdout",
     "output_type": "stream",
     "text": [
      "True\n"
     ]
    }
   ],
   "source": [
    "x= []\n",
    "print(all(x))\n",
    "\n"
   ]
  },
  {
   "cell_type": "markdown",
   "metadata": {},
   "source": [
    "### Methods Of List\n"
   ]
  },
  {
   "cell_type": "code",
   "execution_count": null,
   "metadata": {},
   "outputs": [],
   "source": [
    "There are some methods also in  Python that we can use on lists.\n",
    "\n",
    "These are:\n",
    "append()\n",
    "extend()\n",
    "insert()\n",
    "index()\n",
    "count()\n",
    "remove()\n",
    "pop()\n",
    "clear()\n",
    "sort()\n",
    "reverse()\n"
   ]
  },
  {
   "cell_type": "markdown",
   "metadata": {},
   "source": [
    "### The append( ) Method"
   ]
  },
  {
   "cell_type": "code",
   "execution_count": null,
   "metadata": {},
   "outputs": [],
   "source": [
    "Adds a single element to the end of the list . Modifies the list in place but doesn’t return anything\n",
    "\n",
    "Syntax:\n",
    "list_var.append(item)\n",
    "\n"
   ]
  },
  {
   "cell_type": "code",
   "execution_count": 44,
   "metadata": {},
   "outputs": [
    {
     "name": "stdout",
     "output_type": "stream",
     "text": [
      "[2, 3, 5, 7, 11]\n"
     ]
    }
   ],
   "source": [
    "#Example:\n",
    "primes=[2,3,5,7]\n",
    "primes.append(11)\n",
    "print(primes)\n"
   ]
  },
  {
   "cell_type": "code",
   "execution_count": 45,
   "metadata": {},
   "outputs": [
    {
     "name": "stdout",
     "output_type": "stream",
     "text": [
      "['cat', 'dog', 'rabbit', ['tiger', 'fox']]\n"
     ]
    }
   ],
   "source": [
    "animal = ['cat', 'dog', 'rabbit']\n",
    "wild_animal = ['tiger', 'fox']\n",
    "animal.append(wild_animal)\n",
    "print(animal)\n"
   ]
  },
  {
   "cell_type": "code",
   "execution_count": 46,
   "metadata": {},
   "outputs": [
    {
     "name": "stdout",
     "output_type": "stream",
     "text": [
      "['tiger', 'fox']\n",
      "tiger\n",
      "t\n",
      "f\n"
     ]
    }
   ],
   "source": [
    "animal = ['cat', 'dog', 'rabbit']\n",
    "wild_animal = ['tiger', 'fox']\n",
    "animal.append(wild_animal)\n",
    "print(animal[3])\n",
    "print(animal[3][0])\n",
    "print(animal[3][0][0])\n",
    "print(animal[3][1][0])\n"
   ]
  },
  {
   "cell_type": "markdown",
   "metadata": {},
   "source": [
    "### Write a program to accept an alphanumeric string from the user. Now extract only digits from the given input and add it to the list . Finally print the list. Make sure your list contains numeric representation of digits\n"
   ]
  },
  {
   "cell_type": "code",
   "execution_count": null,
   "metadata": {},
   "outputs": [],
   "source": []
  },
  {
   "cell_type": "code",
   "execution_count": 47,
   "metadata": {},
   "outputs": [
    {
     "name": "stdout",
     "output_type": "stream",
     "text": [
      "Enter an alphanumeric string:12345qwert6457hghjn\n",
      "[1, 2, 3, 4, 5, 6, 4, 5, 7]\n"
     ]
    }
   ],
   "source": [
    "text=input(\"Enter an alphanumeric string:\")\n",
    "nums=[]\n",
    "for x in text:\n",
    "    if x in \"0123456789\":\n",
    "        nums.append(int(x))\n",
    "print(nums)\n"
   ]
  },
  {
   "cell_type": "markdown",
   "metadata": {},
   "source": [
    "### The extend( ) Method"
   ]
  },
  {
   "cell_type": "code",
   "execution_count": null,
   "metadata": {},
   "outputs": [],
   "source": [
    "extend() also adds to the end of a list, but the argument is expected to be an iterable. \n",
    "The items in <iterable> are added individually. \n",
    "Modifies the list in place but doesn’t return anything\n",
    "\n",
    "Syntax:\n",
    "list_var.extend(iterable)\n"
   ]
  },
  {
   "cell_type": "code",
   "execution_count": 48,
   "metadata": {},
   "outputs": [
    {
     "name": "stdout",
     "output_type": "stream",
     "text": [
      "[2, 3, 5, 7, 11, 13, 17]\n"
     ]
    }
   ],
   "source": [
    "#Example:\n",
    "primes=[2,3,5,7]\n",
    "primes.extend([11,13,17])\n",
    "print(primes)\n"
   ]
  },
  {
   "cell_type": "code",
   "execution_count": 50,
   "metadata": {},
   "outputs": [
    {
     "name": "stdout",
     "output_type": "stream",
     "text": [
      "[2, 3, 5, 7, 11]\n"
     ]
    }
   ],
   "source": [
    "primes=[2,3,5,7]\n",
    "primes.extend([11])\n",
    "print(primes)\n"
   ]
  },
  {
   "cell_type": "code",
   "execution_count": 52,
   "metadata": {},
   "outputs": [
    {
     "name": "stdout",
     "output_type": "stream",
     "text": [
      "[2, 3, 5, 7, 11]\n"
     ]
    }
   ],
   "source": [
    "primes=[2,3,5,7]\n",
    "primes.extend([11])\n",
    "print(primes)"
   ]
  },
  {
   "cell_type": "code",
   "execution_count": 53,
   "metadata": {},
   "outputs": [
    {
     "name": "stdout",
     "output_type": "stream",
     "text": [
      "['cat', 'dog', 'rabbit', 'tiger', 'fox']\n"
     ]
    }
   ],
   "source": [
    "animal = ['cat', 'dog', 'rabbit']\n",
    "wild_animal = ['tiger', 'fox']\n",
    "animal.extend(wild_animal)\n",
    "print(animal)\n"
   ]
  },
  {
   "cell_type": "code",
   "execution_count": 54,
   "metadata": {},
   "outputs": [
    {
     "name": "stdout",
     "output_type": "stream",
     "text": [
      "tiger\n",
      "t\n",
      "i\n"
     ]
    }
   ],
   "source": [
    "animal = ['cat', 'dog', 'rabbit']\n",
    "wild_animal = ['tiger', 'fox']\n",
    "animal.extend(wild_animal)\n",
    "print(animal[3])\n",
    "print(animal[3][0])\n",
    "print(animal[3][1])\n"
   ]
  },
  {
   "cell_type": "code",
   "execution_count": 55,
   "metadata": {},
   "outputs": [
    {
     "name": "stdout",
     "output_type": "stream",
     "text": [
      "['red', 'green', 'b', 'l', 'u', 'e']\n"
     ]
    }
   ],
   "source": [
    "colors=[\"red\",\"green\"]\n",
    "colors.extend(\"blue\")\n",
    "print(colors)\n"
   ]
  },
  {
   "cell_type": "code",
   "execution_count": 56,
   "metadata": {},
   "outputs": [
    {
     "name": "stdout",
     "output_type": "stream",
     "text": [
      "['red', 'green', 'blue']\n"
     ]
    }
   ],
   "source": [
    "colors=[\"red\",\"green\"]\n",
    "colors.extend([\"blue\"])\n",
    "print(colors)\n"
   ]
  },
  {
   "cell_type": "code",
   "execution_count": null,
   "metadata": {},
   "outputs": [],
   "source": []
  },
  {
   "cell_type": "code",
   "execution_count": 65,
   "metadata": {},
   "outputs": [],
   "source": [
    "l = [1, 2, 3]"
   ]
  },
  {
   "cell_type": "code",
   "execution_count": 67,
   "metadata": {},
   "outputs": [
    {
     "name": "stdout",
     "output_type": "stream",
     "text": [
      "[1, 2, 3, 1, 2, 3, 1, 2, 3]\n"
     ]
    }
   ],
   "source": [
    "l.extend([1, 2, 3])\n",
    "print(l)"
   ]
  },
  {
   "cell_type": "code",
   "execution_count": 68,
   "metadata": {},
   "outputs": [
    {
     "name": "stdout",
     "output_type": "stream",
     "text": [
      "None\n"
     ]
    }
   ],
   "source": [
    "m = [4, 5, 6].extend([1, 2, 3])\n",
    "print(m)\n"
   ]
  },
  {
   "cell_type": "markdown",
   "metadata": {},
   "source": [
    "### The insert( ) Method"
   ]
  },
  {
   "cell_type": "markdown",
   "metadata": {},
   "source": [
    "The insert() method inserts the element to the list at the given index. \n",
    "Modifies the list in place but doesn’t return anything"
   ]
  },
  {
   "cell_type": "code",
   "execution_count": 69,
   "metadata": {},
   "outputs": [
    {
     "name": "stdout",
     "output_type": "stream",
     "text": [
      "[2, 3, 5, 7, 9]\n"
     ]
    }
   ],
   "source": [
    "#Example:\n",
    "primes=[2,3,7,9]\n",
    "primes.insert(2,5)\n",
    "print(primes)\n"
   ]
  },
  {
   "cell_type": "code",
   "execution_count": null,
   "metadata": {},
   "outputs": [],
   "source": [
    "[2,3,5,9]\n",
    "\n",
    "\n",
    "2,3,5,7,9\n"
   ]
  },
  {
   "cell_type": "code",
   "execution_count": null,
   "metadata": {},
   "outputs": [],
   "source": [
    "primes=[2,3,7,9]\n",
    "primes.insert(-2,5)\n",
    "print(primes)\n",
    "\n"
   ]
  },
  {
   "cell_type": "code",
   "execution_count": null,
   "metadata": {},
   "outputs": [],
   "source": [
    "primes=[2,3,5,7]\n",
    "primes.insert(5,9)\n",
    "print(primes)\n"
   ]
  },
  {
   "cell_type": "code",
   "execution_count": null,
   "metadata": {},
   "outputs": [],
   "source": [
    "primes=[2,3,5,7]\n",
    "primes.insert(-5,9)\n",
    "print(primes)\n"
   ]
  },
  {
   "cell_type": "code",
   "execution_count": 70,
   "metadata": {},
   "outputs": [
    {
     "name": "stdout",
     "output_type": "stream",
     "text": [
      "enter num2\n",
      "[2]\n",
      "enter num3\n",
      "[2, 3]\n",
      "enter num5\n",
      "[2, 3, 5]\n",
      "enter num5\n",
      "[2, 3, 5, 5]\n",
      "enter num9\n",
      "[2, 3, 5, 5, 9]\n"
     ]
    }
   ],
   "source": [
    "l =[]\n",
    "for i in range(0,5):\n",
    "    l.append(int(input(\"enter num\")))\n",
    "    l.sort()\n",
    "    print(l)\n"
   ]
  },
  {
   "cell_type": "code",
   "execution_count": 72,
   "metadata": {},
   "outputs": [
    {
     "name": "stdout",
     "output_type": "stream",
     "text": [
      "enterfirst no:7\n",
      "enterfirst no:546\n",
      "enterfirst no:678\n",
      "enterfirst no:56\n",
      "enterfirst no:768\n",
      "['7', '546', '678', '56', '768']\n"
     ]
    }
   ],
   "source": [
    "c=input(\"enterfirst no:\")\n",
    "d=input(\"enterfirst no:\")\n",
    "e=input(\"enterfirst no:\")\n",
    "f=input(\"enterfirst no:\")\n",
    "g=input(\"enterfirst no:\")\n",
    "list=[]\n",
    "list.append(c)\n",
    "list.append(d)\n",
    "list.append(e)\n",
    "list.append(f)\n",
    "list.append(g)\n",
    "print(list)\n"
   ]
  },
  {
   "cell_type": "code",
   "execution_count": 74,
   "metadata": {},
   "outputs": [
    {
     "name": "stdout",
     "output_type": "stream",
     "text": [
      "Enter a number34\n",
      "Enter a number345\n",
      "Enter a number456\n",
      "Enter a number4567\n",
      "Enter a number567\n",
      "[34, 345, 456, 567, 4567]\n"
     ]
    }
   ],
   "source": [
    "i =0 \n",
    "l = []\n",
    "while i < 5:\n",
    "    x = int(input(\"Enter a number\"))\n",
    "    l.append(x)\n",
    "    i+=1\n",
    "\n",
    "\n",
    "for i in range(len(l)):\n",
    "    for j in range(len(l)):\n",
    "        if (l[i] < l[j]):\n",
    "            l[j], l[i] = l[i], l[j]\n",
    "\n",
    "print(l)\n"
   ]
  },
  {
   "cell_type": "code",
   "execution_count": 75,
   "metadata": {},
   "outputs": [
    {
     "name": "stdout",
     "output_type": "stream",
     "text": [
      "Enter the element345\n",
      "Enter the element456\n",
      "Enter the element547\n",
      "Enter the element4567\n",
      "Enter the element567\n",
      "[345, 456, 547, 567, 4567]\n"
     ]
    }
   ],
   "source": [
    "l = []\n",
    "for i in range(5):\n",
    "    ele = int(input(\"Enter the element\"))\n",
    "    l.append(ele)\n",
    "\n",
    "l = sorted(l)\n",
    "print(l)\n"
   ]
  },
  {
   "cell_type": "code",
   "execution_count": null,
   "metadata": {},
   "outputs": [],
   "source": [
    "l=[]\n",
    "for i in range(5):\n",
    "    l.append(int(input(\"Enter the Number : \")))\n",
    "l=sorted(l)\n",
    "print(l)\n"
   ]
  },
  {
   "cell_type": "code",
   "execution_count": null,
   "metadata": {},
   "outputs": [],
   "source": [
    "i =0 \n",
    "l = []\n",
    "while i < 5:\n",
    "    x = int(input(\"Enter a number\"))\n",
    "    l.append(x)\n",
    "    i+=1\n",
    "\n",
    "for i in range(len(l)):\n",
    "    for j in range(len(l)):\n",
    "        if (l[i] < l[j]):\n",
    "            l[j], l[i] = l[i], l[j]\n",
    "\n",
    "print(l)\n"
   ]
  },
  {
   "cell_type": "markdown",
   "metadata": {},
   "source": [
    "### Write a program to accept any 5 random integers from the user and add them in a list in such a way that list always remains sorted. DO NOT USE THE FUNCTION sort( )\n",
    "\n"
   ]
  },
  {
   "cell_type": "code",
   "execution_count": 76,
   "metadata": {},
   "outputs": [
    {
     "name": "stdout",
     "output_type": "stream",
     "text": [
      "Enter any 5 random integers:\n",
      "2\n",
      "4\n",
      "56\n",
      "6\n",
      "7\n",
      "Sorted list is:\n",
      "[2, 4, 6, 7, 56]\n"
     ]
    }
   ],
   "source": [
    "i=1\n",
    "sortednums=[]\n",
    "print(\"Enter any 5 random integers:\")\n",
    "while i<=5:\n",
    "\tn=int(input())\n",
    "\tpos=0\n",
    "\tfor x in sortednums:\n",
    "\t\tif x>n:\n",
    "\t\t   break\n",
    "\t\tpos=pos+1   \t\n",
    "\tsortednums.insert(pos,n)\n",
    "\ti=i+1\n",
    "print(\"Sorted list is:\")\n",
    "print(sortednums)\n"
   ]
  },
  {
   "cell_type": "code",
   "execution_count": null,
   "metadata": {},
   "outputs": [],
   "source": [
    "### The index( ) Method"
   ]
  },
  {
   "cell_type": "code",
   "execution_count": null,
   "metadata": {},
   "outputs": [],
   "source": [
    "The index() method searches an element in the list and returns it’s index. \n",
    "If the element occurs more than once it returns it’s smallest/first position. \n",
    "If element is not found, it raises a ValueError exception \n",
    "\n",
    "Syntax:\n",
    "list_var.index(item)\n"
   ]
  },
  {
   "cell_type": "code",
   "execution_count": 77,
   "metadata": {},
   "outputs": [
    {
     "name": "stdout",
     "output_type": "stream",
     "text": [
      "position of 5 is 2\n"
     ]
    }
   ],
   "source": [
    "#Example:\n",
    "primes=[2,3,5,7]\n",
    "pos=primes.index(5)\t\n",
    "print(\"position of 5 is\",pos)\n"
   ]
  },
  {
   "cell_type": "code",
   "execution_count": 78,
   "metadata": {},
   "outputs": [
    {
     "name": "stdout",
     "output_type": "stream",
     "text": [
      "The index of e: 1\n"
     ]
    }
   ],
   "source": [
    "vowels = ['a', 'e', 'i', 'o', 'i', 'u']\n",
    "pos = vowels.index('e')\n",
    "print('The index of e:',pos)"
   ]
  },
  {
   "cell_type": "code",
   "execution_count": 79,
   "metadata": {},
   "outputs": [
    {
     "name": "stdout",
     "output_type": "stream",
     "text": [
      "The index of i: 2\n"
     ]
    }
   ],
   "source": [
    "pos = vowels.index('i')\n",
    "print('The index of i:',pos)\n"
   ]
  },
  {
   "cell_type": "code",
   "execution_count": 80,
   "metadata": {},
   "outputs": [
    {
     "name": "stdout",
     "output_type": "stream",
     "text": [
      "20 occurs at 1 position\n"
     ]
    }
   ],
   "source": [
    "mynums = [10,20,30,40,50]\n",
    "x = mynums.index(20)\n",
    "print(\"20 occurs at\",x,\"position\")"
   ]
  },
  {
   "cell_type": "code",
   "execution_count": 81,
   "metadata": {},
   "outputs": [
    {
     "ename": "ValueError",
     "evalue": "60 is not in list",
     "output_type": "error",
     "traceback": [
      "\u001b[1;31m---------------------------------------------------------------------------\u001b[0m",
      "\u001b[1;31mValueError\u001b[0m                                Traceback (most recent call last)",
      "\u001b[1;32m<ipython-input-81-53dab156018d>\u001b[0m in \u001b[0;36m<module>\u001b[1;34m\u001b[0m\n\u001b[1;32m----> 1\u001b[1;33m \u001b[0mx\u001b[0m \u001b[1;33m=\u001b[0m \u001b[0mmynums\u001b[0m\u001b[1;33m.\u001b[0m\u001b[0mindex\u001b[0m\u001b[1;33m(\u001b[0m\u001b[1;36m60\u001b[0m\u001b[1;33m)\u001b[0m\u001b[1;33m\u001b[0m\u001b[1;33m\u001b[0m\u001b[0m\n\u001b[0m\u001b[0;32m      2\u001b[0m \u001b[0mprint\u001b[0m\u001b[1;33m(\u001b[0m\u001b[1;34m\"60 occurs at\"\u001b[0m\u001b[1;33m,\u001b[0m\u001b[0mx\u001b[0m\u001b[1;33m,\u001b[0m\u001b[1;34m\"position\"\u001b[0m\u001b[1;33m)\u001b[0m\u001b[1;33m\u001b[0m\u001b[1;33m\u001b[0m\u001b[0m\n",
      "\u001b[1;31mValueError\u001b[0m: 60 is not in list"
     ]
    }
   ],
   "source": [
    "x = mynums.index(60)\n",
    "print(\"60 occurs at\",x,\"position\")"
   ]
  },
  {
   "cell_type": "code",
   "execution_count": 82,
   "metadata": {},
   "outputs": [
    {
     "name": "stdout",
     "output_type": "stream",
     "text": [
      "10 occurs at 0 position\n"
     ]
    }
   ],
   "source": [
    "x = mynums.index(10)\n",
    "print(\"10 occurs at\",x,\"position\")\n"
   ]
  },
  {
   "cell_type": "code",
   "execution_count": null,
   "metadata": {},
   "outputs": [],
   "source": [
    "vowels = ['a', 'e', 'i', 'o', 'i', 'u']\n",
    "pos = vowels.index('f')\n",
    "print('The index of e:',pos)\n",
    "pos = vowels.index('i')\n",
    "print('The index of i:',pos)\n",
    "\n"
   ]
  },
  {
   "cell_type": "markdown",
   "metadata": {},
   "source": [
    "### The count( ) Method"
   ]
  },
  {
   "cell_type": "code",
   "execution_count": null,
   "metadata": {},
   "outputs": [],
   "source": [
    "The count() method returns the number of occurrences of an element in a list\n",
    "\n",
    "In simple terms, it counts how many times an element has occurred in a list and returns it.\n",
    "\n",
    "Syntax:\n",
    "list_var.count(item)\n"
   ]
  },
  {
   "cell_type": "code",
   "execution_count": 83,
   "metadata": {},
   "outputs": [
    {
     "name": "stdout",
     "output_type": "stream",
     "text": [
      "i occurs 2 times in ['i', 'n', 'd', 'i', 'a']\n"
     ]
    }
   ],
   "source": [
    "#Example:\n",
    "country=['i','n','d','i','a']\n",
    "x=country.count('i')\n",
    "print(\"i occurs\",x,\"times in\",country)\n"
   ]
  },
  {
   "cell_type": "code",
   "execution_count": 84,
   "metadata": {},
   "outputs": [
    {
     "name": "stdout",
     "output_type": "stream",
     "text": [
      "i occurs 2 times\n"
     ]
    }
   ],
   "source": [
    "vowels = ['a', 'e', 'i', 'o', 'i', 'u']\n",
    "x = vowels.count('i')\n",
    "print(\"i occurs\",x,\"times\")"
   ]
  },
  {
   "cell_type": "code",
   "execution_count": 85,
   "metadata": {},
   "outputs": [
    {
     "name": "stdout",
     "output_type": "stream",
     "text": [
      "e occurs 1 times\n"
     ]
    }
   ],
   "source": [
    "x = vowels.count('e')\n",
    "print(\"e occurs\",x,\"times\")"
   ]
  },
  {
   "cell_type": "code",
   "execution_count": 86,
   "metadata": {},
   "outputs": [
    {
     "name": "stdout",
     "output_type": "stream",
     "text": [
      "j occurs 0 times\n"
     ]
    }
   ],
   "source": [
    "x = vowels.count('j')\n",
    "print(\"j occurs\",x,\"times\")\n"
   ]
  },
  {
   "cell_type": "code",
   "execution_count": 87,
   "metadata": {},
   "outputs": [
    {
     "name": "stdout",
     "output_type": "stream",
     "text": [
      "9 occurs 2 times\n"
     ]
    }
   ],
   "source": [
    "points = [1, 4, 2, 9, 7, 8, 9, 3, 1]\n",
    "x = points.count(9)\n",
    "print(\"9 occurs\",x,\"times\")\n"
   ]
  },
  {
   "cell_type": "code",
   "execution_count": 89,
   "metadata": {},
   "outputs": [
    {
     "name": "stdout",
     "output_type": "stream",
     "text": [
      "Cat occurs 1 times\n"
     ]
    }
   ],
   "source": [
    "strings = ['Cat', 'Bat', 'Sat', 'Cat', 'cat', 'Mat'] \n",
    "x=strings.count(\"cat\")\n",
    "print(\"Cat occurs\",x,\"times\") \n",
    "\n"
   ]
  },
  {
   "cell_type": "markdown",
   "metadata": {},
   "source": [
    "### The remove( ) Method"
   ]
  },
  {
   "cell_type": "code",
   "execution_count": null,
   "metadata": {},
   "outputs": [],
   "source": [
    "The remove() method searches for the given element in the list and removes the first matching element.\n",
    "\n",
    "If the element(argument) passed to the remove() method doesn't exist, ValueError exception is thrown.\n",
    "\n",
    "Syntax:\n",
    "list_var.remove(item)"
   ]
  },
  {
   "cell_type": "code",
   "execution_count": 102,
   "metadata": {},
   "outputs": [],
   "source": [
    "#Example:\n",
    "vowels=['a','a','e','a','i','o','u']"
   ]
  },
  {
   "cell_type": "code",
   "execution_count": 103,
   "metadata": {},
   "outputs": [
    {
     "data": {
      "text/plain": [
       "['a', 'a', 'e', 'a', 'i', 'o', 'u']"
      ]
     },
     "execution_count": 103,
     "metadata": {},
     "output_type": "execute_result"
    }
   ],
   "source": [
    "vowels"
   ]
  },
  {
   "cell_type": "code",
   "execution_count": 106,
   "metadata": {},
   "outputs": [
    {
     "name": "stdout",
     "output_type": "stream",
     "text": [
      "['e', 'i', 'o', 'u']\n"
     ]
    }
   ],
   "source": [
    "vowels.remove('a')\n",
    "print(vowels)"
   ]
  },
  {
   "cell_type": "code",
   "execution_count": 91,
   "metadata": {},
   "outputs": [
    {
     "name": "stdout",
     "output_type": "stream",
     "text": [
      "['phy', 'maths']\n"
     ]
    }
   ],
   "source": [
    "subjects=[\"phy\",\"chem\",\"maths\"]\n",
    "subjects.remove(\"chem\")\n",
    "print(subjects)\n"
   ]
  },
  {
   "cell_type": "code",
   "execution_count": 92,
   "metadata": {},
   "outputs": [
    {
     "name": "stdout",
     "output_type": "stream",
     "text": [
      "['phy', 'maths', 'chem']\n"
     ]
    }
   ],
   "source": [
    "subjects=[\"phy\",\"chem\",\"maths\",\"chem\"]\n",
    "subjects.remove(\"chem\")\n",
    "print(subjects)"
   ]
  },
  {
   "cell_type": "code",
   "execution_count": 93,
   "metadata": {},
   "outputs": [
    {
     "name": "stdout",
     "output_type": "stream",
     "text": [
      "['phy', 'maths']\n"
     ]
    }
   ],
   "source": [
    "subjects.remove(\"chem\")\n",
    "print(subjects)"
   ]
  },
  {
   "cell_type": "code",
   "execution_count": 94,
   "metadata": {},
   "outputs": [
    {
     "ename": "ValueError",
     "evalue": "list.remove(x): x not in list",
     "output_type": "error",
     "traceback": [
      "\u001b[1;31m---------------------------------------------------------------------------\u001b[0m",
      "\u001b[1;31mValueError\u001b[0m                                Traceback (most recent call last)",
      "\u001b[1;32m<ipython-input-94-33ac1df41231>\u001b[0m in \u001b[0;36m<module>\u001b[1;34m\u001b[0m\n\u001b[1;32m----> 1\u001b[1;33m \u001b[0msubjects\u001b[0m\u001b[1;33m.\u001b[0m\u001b[0mremove\u001b[0m\u001b[1;33m(\u001b[0m\u001b[1;34m\"chem\"\u001b[0m\u001b[1;33m)\u001b[0m\u001b[1;33m\u001b[0m\u001b[1;33m\u001b[0m\u001b[0m\n\u001b[0m\u001b[0;32m      2\u001b[0m \u001b[0mprint\u001b[0m\u001b[1;33m(\u001b[0m\u001b[0msubjects\u001b[0m\u001b[1;33m)\u001b[0m\u001b[1;33m\u001b[0m\u001b[1;33m\u001b[0m\u001b[0m\n",
      "\u001b[1;31mValueError\u001b[0m: list.remove(x): x not in list"
     ]
    }
   ],
   "source": [
    "subjects.remove(\"chem\")\n",
    "print(subjects)"
   ]
  },
  {
   "cell_type": "markdown",
   "metadata": {},
   "source": [
    "### The pop( ) Method"
   ]
  },
  {
   "cell_type": "code",
   "execution_count": null,
   "metadata": {},
   "outputs": [],
   "source": [
    "The pop() method removes and returns the element at the given index (passed as an argument) from the list.\n",
    "\n",
    "Syntax:\n",
    "list_var.pop(index)\n",
    "\n",
    "Important points about pop( ) method:\n",
    "\n",
    "If the index passed to the pop() method is not in the range, it throws IndexError: pop index out of range exception.\n",
    "\n",
    "The parameter passed to the pop() method is optional. If no parameter is passed, the default index -1 is passed as an argument which returns the last element\n",
    "\n",
    "The pop() method returns the element present at the given index.\n",
    "\n",
    "Also, the pop() method updates the list after removing the element\n"
   ]
  },
  {
   "cell_type": "code",
   "execution_count": 107,
   "metadata": {},
   "outputs": [
    {
     "name": "stdout",
     "output_type": "stream",
     "text": [
      "['apple', 'banana', 'cherry']\n",
      "banana\n",
      "['apple', 'cherry']\n"
     ]
    }
   ],
   "source": [
    "fruits = ['apple', 'banana', 'cherry']\n",
    "print(fruits)\n",
    "print(fruits.pop(1))\n",
    "print(fruits)\n"
   ]
  },
  {
   "cell_type": "code",
   "execution_count": 108,
   "metadata": {},
   "outputs": [
    {
     "name": "stdout",
     "output_type": "stream",
     "text": [
      "['apple', 'banana', 'cherry']\n"
     ]
    }
   ],
   "source": [
    "fruits = ['apple', 'banana', 'cherry']\n",
    "print(fruits)"
   ]
  },
  {
   "cell_type": "code",
   "execution_count": 109,
   "metadata": {},
   "outputs": [
    {
     "name": "stdout",
     "output_type": "stream",
     "text": [
      "cherry\n"
     ]
    }
   ],
   "source": [
    "print(fruits.pop())"
   ]
  },
  {
   "cell_type": "code",
   "execution_count": 110,
   "metadata": {},
   "outputs": [
    {
     "name": "stdout",
     "output_type": "stream",
     "text": [
      "['apple', 'banana']\n"
     ]
    }
   ],
   "source": [
    "print(fruits)\n"
   ]
  },
  {
   "cell_type": "code",
   "execution_count": 111,
   "metadata": {},
   "outputs": [],
   "source": [
    "fruits = ['apple', 'banana', 'cherry']"
   ]
  },
  {
   "cell_type": "code",
   "execution_count": 112,
   "metadata": {},
   "outputs": [
    {
     "name": "stdout",
     "output_type": "stream",
     "text": [
      "['apple', 'banana', 'cherry']\n"
     ]
    }
   ],
   "source": [
    "\n",
    "print(fruits)"
   ]
  },
  {
   "cell_type": "code",
   "execution_count": 114,
   "metadata": {},
   "outputs": [
    {
     "name": "stdout",
     "output_type": "stream",
     "text": [
      "apple\n"
     ]
    }
   ],
   "source": [
    "print(fruits.pop(-3))"
   ]
  },
  {
   "cell_type": "code",
   "execution_count": 115,
   "metadata": {},
   "outputs": [
    {
     "name": "stdout",
     "output_type": "stream",
     "text": [
      "['banana', 'cherry']\n"
     ]
    }
   ],
   "source": [
    "\n",
    "print(fruits)\n"
   ]
  },
  {
   "cell_type": "code",
   "execution_count": null,
   "metadata": {},
   "outputs": [],
   "source": [
    "fruits = ['apple', 'banana', 'cherry']\n",
    "print(fruits)\n",
    "print(fruits.pop(-3))\n",
    "print(fruits)\n",
    "\n"
   ]
  },
  {
   "cell_type": "code",
   "execution_count": null,
   "metadata": {},
   "outputs": [],
   "source": [
    "fruits = ['apple', 'banana', 'cherry']\n",
    "print(fruits)\n",
    "print(fruits.pop(-4))\n",
    "print(fruits)\n"
   ]
  },
  {
   "cell_type": "markdown",
   "metadata": {},
   "source": [
    "### del v/s pop( ) v/s remove( )"
   ]
  },
  {
   "cell_type": "code",
   "execution_count": null,
   "metadata": {},
   "outputs": [],
   "source": [
    "pop( ) : Takes Index , removes element & returns it\n",
    "\n",
    "remove( ) : Takes value, removes first occurrence and returns nothing\n",
    "\n",
    "delete : Takes index, removes value at that index and returns nothing\n",
    "\n",
    "Even their exceptions are also different if index is wrong or element is not present:\n",
    "pop() : throws IndexError: pop index out of range\n",
    "remove(): throws ValueError: list.remove(x): x not in list\n",
    "del: throws IndexError: list assignment index out of range\n"
   ]
  },
  {
   "cell_type": "markdown",
   "metadata": {},
   "source": [
    "### The clear( ) Method"
   ]
  },
  {
   "cell_type": "code",
   "execution_count": null,
   "metadata": {},
   "outputs": [],
   "source": [
    "The clear() method removes all items from the list. \n",
    "It only empties the given list and  doesn't return any value.\n",
    "\n",
    "Syntax:\n",
    "list_var.clear( )\n",
    "\n",
    "Example:\n",
    "fruits = ['apple', 'banana', 'cherry']\n",
    "print(fruits)\n",
    "fruits.clear()\n",
    "print(fruits)"
   ]
  },
  {
   "cell_type": "code",
   "execution_count": 116,
   "metadata": {},
   "outputs": [
    {
     "name": "stdout",
     "output_type": "stream",
     "text": [
      "['apple', 'banana', 'cherry']\n",
      "[]\n"
     ]
    }
   ],
   "source": [
    "##Example:\n",
    "fruits = ['apple', 'banana', 'cherry']\n",
    "print(fruits)\n",
    "fruits.clear()\n",
    "print(fruits)"
   ]
  },
  {
   "cell_type": "markdown",
   "metadata": {},
   "source": [
    "### The sort( ) Method"
   ]
  },
  {
   "cell_type": "code",
   "execution_count": null,
   "metadata": {},
   "outputs": [],
   "source": [
    "The sort() method sorts the elements of a given list.\n",
    "\n",
    "The order can be ascending or descending\n",
    "\n",
    "Syntax:\n",
    "list_var.sort(reverse=True|False, key=name of func) \n"
   ]
  },
  {
   "cell_type": "markdown",
   "metadata": {},
   "source": [
    "Parameter Name\n",
    "Description\n",
    "\n",
    "reverses\n",
    "Optional. reverse=True will sort the list descending. Default is reverse=False\n",
    "\n",
    "key\n",
    "Optional. A function to specify the sorting criteria(s)\n",
    "\n",
    "\n"
   ]
  },
  {
   "cell_type": "code",
   "execution_count": null,
   "metadata": {},
   "outputs": [],
   "source": [
    "vowels = ['e', 'a', 'u', 'o', 'i']\n",
    "vowels.sort()\n",
    "print(vowels)\n"
   ]
  },
  {
   "cell_type": "code",
   "execution_count": null,
   "metadata": {},
   "outputs": [],
   "source": [
    "vowels = ['e', 'a', 'u', 'o', 'i']\n",
    "vowels.sort(reverse=True)\n",
    "print(vowels)\n"
   ]
  },
  {
   "cell_type": "code",
   "execution_count": null,
   "metadata": {},
   "outputs": [],
   "source": [
    "a = [\"bee\", \"wasp\", \"moth\", \"ant\"]\n",
    "a.sort()\n",
    "print(a)\n"
   ]
  },
  {
   "cell_type": "code",
   "execution_count": null,
   "metadata": {},
   "outputs": [],
   "source": [
    "a = [\"bee\", \"wasp\", \"moth\", \"ant\"]\n",
    "a.sort(reverse=True)\n",
    "print(a)\n"
   ]
  },
  {
   "cell_type": "code",
   "execution_count": null,
   "metadata": {},
   "outputs": [],
   "source": [
    "a = [\"bee\", \"wasp\", \"moth\", \"ant\"]\n",
    "a.sort(key=len)\n",
    "print(a)\n"
   ]
  },
  {
   "cell_type": "code",
   "execution_count": null,
   "metadata": {},
   "outputs": [],
   "source": [
    "a = [\"january\", \"february\", \"march\"]\n",
    "a.sort(key=len,reverse=True)\n",
    "print(a)\n"
   ]
  },
  {
   "cell_type": "code",
   "execution_count": null,
   "metadata": {},
   "outputs": [],
   "source": [
    "mylist = [\"a\",10,True]\n",
    "mylist.sort()\n",
    "print(mylist)\n"
   ]
  },
  {
   "cell_type": "code",
   "execution_count": null,
   "metadata": {},
   "outputs": [],
   "source": [
    "mylist = [25,10,True,False]\n",
    "mylist.sort()\n",
    "print(mylist)\n"
   ]
  },
  {
   "cell_type": "markdown",
   "metadata": {},
   "source": [
    "### Passing Our \u000b",
    "Own Function As Key|"
   ]
  },
  {
   "cell_type": "markdown",
   "metadata": {},
   "source": [
    "We also can pass our own function name to be used as key but it should take only 1 argument and return some value based on that argument.\n",
    "\n",
    "\n",
    "This return value will be used by Python as key to sorting\n"
   ]
  },
  {
   "cell_type": "code",
   "execution_count": 149,
   "metadata": {},
   "outputs": [],
   "source": [
    "def sortSecond(val): \n",
    "    return val[1]"
   ]
  },
  {
   "cell_type": "code",
   "execution_count": 129,
   "metadata": {},
   "outputs": [],
   "source": [
    "list1 = sortSecond([(1,2),(3,3),(1,1)]) "
   ]
  },
  {
   "cell_type": "code",
   "execution_count": 130,
   "metadata": {},
   "outputs": [
    {
     "data": {
      "text/plain": [
       "(1, 1)"
      ]
     },
     "execution_count": 130,
     "metadata": {},
     "output_type": "execute_result"
    }
   ],
   "source": [
    "list1"
   ]
  },
  {
   "cell_type": "code",
   "execution_count": 150,
   "metadata": {},
   "outputs": [],
   "source": [
    "list1 = [(1,2),(3,3),(1,1)] "
   ]
  },
  {
   "cell_type": "code",
   "execution_count": 151,
   "metadata": {},
   "outputs": [],
   "source": [
    "list1.sort(key=sortSecond)  "
   ]
  },
  {
   "cell_type": "code",
   "execution_count": 152,
   "metadata": {},
   "outputs": [
    {
     "name": "stdout",
     "output_type": "stream",
     "text": [
      "[(1, 1), (1, 2), (3, 3)]\n"
     ]
    }
   ],
   "source": [
    "print(list1) \n",
    "\n"
   ]
  },
  {
   "cell_type": "code",
   "execution_count": 137,
   "metadata": {},
   "outputs": [
    {
     "name": "stdout",
     "output_type": "stream",
     "text": [
      "[(1, 2), (3, 3), (1, 1)]\n"
     ]
    }
   ],
   "source": [
    "def sortSecond(val): \n",
    "    return 0\n",
    "list1 = [(1,2),(3,3),(1,1)] \n",
    "list1.sort(key=sortSecond)  \n",
    "print(list1) \n"
   ]
  },
  {
   "cell_type": "code",
   "execution_count": 138,
   "metadata": {},
   "outputs": [],
   "source": [
    "student_rec = [['john', 'A', 12],['jane', 'B', 7],['dave', 'B', 10]]"
   ]
  },
  {
   "cell_type": "code",
   "execution_count": 139,
   "metadata": {},
   "outputs": [],
   "source": [
    "\n",
    "student_rec.sort()"
   ]
  },
  {
   "cell_type": "code",
   "execution_count": 140,
   "metadata": {},
   "outputs": [
    {
     "name": "stdout",
     "output_type": "stream",
     "text": [
      "[['dave', 'B', 10], ['jane', 'B', 7], ['john', 'A', 12]]\n"
     ]
    }
   ],
   "source": [
    "\n",
    "print(student_rec)\n"
   ]
  },
  {
   "cell_type": "code",
   "execution_count": 141,
   "metadata": {},
   "outputs": [],
   "source": [
    "def myFunc(val):\n",
    "    return val[2]"
   ]
  },
  {
   "cell_type": "code",
   "execution_count": 142,
   "metadata": {},
   "outputs": [],
   "source": [
    "student_rec = [['john', 'A', 12],['jane', 'B', 7],['dave', 'B', 10]]"
   ]
  },
  {
   "cell_type": "code",
   "execution_count": 143,
   "metadata": {},
   "outputs": [],
   "source": [
    "student_rec.sort(key=myFunc)"
   ]
  },
  {
   "cell_type": "code",
   "execution_count": 144,
   "metadata": {},
   "outputs": [
    {
     "name": "stdout",
     "output_type": "stream",
     "text": [
      "[['jane', 'B', 7], ['dave', 'B', 10], ['john', 'A', 12]]\n"
     ]
    }
   ],
   "source": [
    "print(student_rec)\n"
   ]
  },
  {
   "cell_type": "markdown",
   "metadata": {},
   "source": [
    "### The reverse( ) Method"
   ]
  },
  {
   "cell_type": "code",
   "execution_count": null,
   "metadata": {},
   "outputs": [],
   "source": [
    "The reverse() method reverses the elements of a given list.\n",
    "\n",
    "It doesn't return any value. It only reverses the elements and updates the list.\n",
    "\n",
    "Syntax:\n",
    "list_var.reverse( )\n"
   ]
  },
  {
   "cell_type": "code",
   "execution_count": 153,
   "metadata": {},
   "outputs": [
    {
     "name": "stdout",
     "output_type": "stream",
     "text": [
      "Original List: ['Windows', 'macOS', 'Linux']\n",
      "Updated List: ['Linux', 'macOS', 'Windows']\n"
     ]
    }
   ],
   "source": [
    "#Example:\n",
    "os = ['Windows', 'macOS', 'Linux']\n",
    "print('Original List:', os)\n",
    "os.reverse()\n",
    "print('Updated List:', os)"
   ]
  },
  {
   "cell_type": "markdown",
   "metadata": {},
   "source": [
    "### List Comprehension\n",
    "\n"
   ]
  },
  {
   "cell_type": "markdown",
   "metadata": {},
   "source": [
    "Comprehensions are constructs that allow sequences to be built from other sequences. \n",
    "\n",
    "In simple words to build a List from another List or Set from another Set , we can use Comprehensions\n",
    "\n",
    "Python 2.0 introduced list comprehensions and Python 3.0 comes with dictionary and set comprehensions"
   ]
  },
  {
   "cell_type": "markdown",
   "metadata": {},
   "source": [
    "To understand List comprehensions let’s take a programming challenge.\n",
    "\n",
    "Suppose you want to take the letters in the word “Bhopal”, and put them in a list.\n",
    "\n",
    "\n",
    "Can you tell in how many ways can you do this ?\n",
    "\n",
    "Till now , we know 2 ways to achieve this:\n",
    "Using for loop\n",
    "Using lambda\n"
   ]
  },
  {
   "cell_type": "code",
   "execution_count": null,
   "metadata": {},
   "outputs": [],
   "source": [
    "text=\"Bhopal\"\n",
    "myList=[]\n",
    "for x in text:\n",
    "\tmyList.append(x)\n",
    "print(myList)\n"
   ]
  },
  {
   "cell_type": "code",
   "execution_count": null,
   "metadata": {},
   "outputs": [],
   "source": [
    "myList=list(map(lambda x:x ,\"Bhopal\"))\n",
    "print(myList)\n"
   ]
  },
  {
   "cell_type": "markdown",
   "metadata": {},
   "source": [
    "### Understanding List Comprehension"
   ]
  },
  {
   "cell_type": "markdown",
   "metadata": {},
   "source": [
    "Now , we can solve the same problem by using List Comprehension also .\n",
    "\n",
    "\n",
    "\n",
    "The advantage is that List Comprehensions are 35% faster than FOR loop and 45% faster than map function\n",
    "\n"
   ]
  },
  {
   "cell_type": "code",
   "execution_count": null,
   "metadata": {},
   "outputs": [],
   "source": [
    "To understand this , look at the same code using List Comprehension:\n",
    "\n",
    "myList=[x for x in \"Bhopal\"]\n",
    "print(myList)\n"
   ]
  },
  {
   "cell_type": "markdown",
   "metadata": {},
   "source": [
    "### SYNTAX FOR THE LIST COMPREHENSION"
   ]
  },
  {
   "cell_type": "code",
   "execution_count": null,
   "metadata": {},
   "outputs": [],
   "source": [
    "Syntax:\n",
    "\n",
    "list_variable = [x   for x in iterable  <test_cond>]\n",
    "\n",
    "Explanation\n",
    "\n",
    "For a Python List Comprehension, we use the delimiters for a list- square brackets. \n",
    "\n",
    "Inside those, we use a for-statement on an iterable.\n",
    "\n",
    "Then there is an optional test condition we can apply on each member of iterable \n",
    "\n",
    "Finally we have our output expression\n"
   ]
  },
  {
   "cell_type": "code",
   "execution_count": null,
   "metadata": {},
   "outputs": [],
   "source": [
    "Write a program to produce square of nos from 1 to 5 , store them in a list and print the list.\n",
    "\n",
    "Do the code using:\n",
    "Normal for loop\n",
    "List Comprehension\n"
   ]
  },
  {
   "cell_type": "code",
   "execution_count": null,
   "metadata": {},
   "outputs": [],
   "source": [
    "squaresList=[]\n",
    "for i in range(1,6):\n",
    "\tsquaresList.append(i**2)\n",
    "\n",
    "print(squaresList)\n"
   ]
  },
  {
   "cell_type": "code",
   "execution_count": null,
   "metadata": {},
   "outputs": [],
   "source": [
    "squaresList=[x**2 for x in range(1,6)]\n",
    "print(squaresList)\n"
   ]
  },
  {
   "cell_type": "code",
   "execution_count": null,
   "metadata": {},
   "outputs": [],
   "source": [
    "Write a program to accept a string from the user and convert each word of the given string to uppercase , store it in a list and print the list\n",
    "\n",
    "Do the code using:\n",
    "Normal for loop\n",
    "List Comprehension\n"
   ]
  },
  {
   "cell_type": "markdown",
   "metadata": {},
   "source": [
    "### using for loop"
   ]
  },
  {
   "cell_type": "code",
   "execution_count": null,
   "metadata": {},
   "outputs": [],
   "source": [
    "text=input(\"Type a string:\")\n",
    "uppersList=[]\n",
    "for x in text.split():\n",
    "\tuppersList.append(x.upper())\n",
    "\n",
    "print(uppersList)\n"
   ]
  },
  {
   "cell_type": "code",
   "execution_count": null,
   "metadata": {},
   "outputs": [],
   "source": [
    "text=input(\"Type a string:\")\n",
    "uppersList=[x.upper()for x in text.split()]\n",
    "\n",
    "print(uppersList)\n"
   ]
  },
  {
   "cell_type": "markdown",
   "metadata": {},
   "source": [
    "Write a program to accept 5 integers from the user and store them in a list . Now display the list and sum of the elements.\n",
    "\n",
    "Do the code using:\n",
    "\n",
    "Normal for loop\n",
    "\n",
    "List Comprehension\n"
   ]
  },
  {
   "cell_type": "code",
   "execution_count": null,
   "metadata": {},
   "outputs": [],
   "source": [
    "myNums=[]\n",
    "text=input(\"Enter 5 integers:\")\n",
    "for x in text.split():\n",
    "\tmyNums.append(int(x))\n",
    "\n",
    "print(\"List is:\",myNums)\n",
    "print(\"Sum is:\",sum(myNums))"
   ]
  },
  {
   "cell_type": "code",
   "execution_count": null,
   "metadata": {},
   "outputs": [],
   "source": [
    "text=input(\"Enter 5 integers:\")\n",
    "myNums=[int(x) for x in text.split()]\n",
    "\n",
    "print(\"List is:\",myNums)\n",
    "print(\"Sum is:\",sum(myNums))\n"
   ]
  },
  {
   "cell_type": "code",
   "execution_count": null,
   "metadata": {},
   "outputs": [],
   "source": [
    "As previously mentioned , it is possible to add a test condition in List Comprehension.\n",
    "\n",
    "\n",
    "When we do this , we get only those items from the iterable for which the condition is True. \n",
    "\n",
    "Syntax:\n",
    "\n",
    "list_variable = [x   for x in iterable  <test_cond>]\n",
    "\n",
    "\n"
   ]
  },
  {
   "cell_type": "code",
   "execution_count": null,
   "metadata": {},
   "outputs": [],
   "source": [
    "Write a program to produce square of only odd nos from 1 to 5 , store them in a list and print the list.\n",
    "\n",
    "Solution\n",
    "squaresList=[x**2   for x in range(1,6)  if x%2!=0]\n",
    "print(squaresList)\n"
   ]
  },
  {
   "cell_type": "code",
   "execution_count": null,
   "metadata": {},
   "outputs": [],
   "source": [
    "Create a function called removevowels() which accepts a string as argument and returns a list with all the vowels removed from that string\n",
    "\n",
    "Do this code using:\n",
    "Normal for loop\n",
    "List Comprehension\n"
   ]
  },
  {
   "cell_type": "code",
   "execution_count": null,
   "metadata": {},
   "outputs": [],
   "source": [
    "def removevowels(text):\n",
    "\tmyList=[]\n",
    "\tfor x in text:\n",
    "\t\tif x not in \"aeiou\":\n",
    "\t\t\tmyList.append(x)\n",
    "\treturn myList\n",
    "\n",
    "text=input(\"Type a string:\")\n",
    "finalList=removevowels(text)\n",
    "print(finalList)\n"
   ]
  },
  {
   "cell_type": "code",
   "execution_count": null,
   "metadata": {},
   "outputs": [],
   "source": [
    "def removevowels(text):\n",
    "\tmyList=[x for x in text if x not in \"aeiou\"]\n",
    "\treturn myList\n",
    "\n",
    "text=input(\"Type a string:\")\n",
    "finalList=removevowels(text)\n",
    "print(finalList)\n"
   ]
  },
  {
   "cell_type": "markdown",
   "metadata": {},
   "source": [
    "Create a function called get_numbers() which accepts a list of strings , symbols and numbers as argument and returns a list containing  only numbers from that list.\n"
   ]
  },
  {
   "cell_type": "code",
   "execution_count": null,
   "metadata": {},
   "outputs": [],
   "source": [
    "def get_numbers(myList):\n",
    "\tmynumberList=[x for x in myList if type(x) is int]\n",
    "\treturn mynumberList\n",
    "\n",
    "myList=[\"bhopal\",25,\"$\",\"hello\",34,21,\"indore\",22]\n",
    "print(\"Actual List\")\n",
    "print(myList)\n",
    "print(\"List with numbers only\")\n",
    "mynumberList=get_numbers(myList)\n",
    "print(mynumberList)\n"
   ]
  },
  {
   "cell_type": "markdown",
   "metadata": {},
   "source": [
    "Create a function called getlength() which accepts a string  as argument and returns a list containing the length of all the words of that string except the word “the”. Accept the string from the user.\n"
   ]
  },
  {
   "cell_type": "code",
   "execution_count": null,
   "metadata": {},
   "outputs": [],
   "source": [
    "def getlength(str):\n",
    "\tmyList=[len(x) for x in str.split() if x!=\"the\"]\n",
    "\treturn myList\n",
    "\n",
    "\n",
    "text=input(\"Type a string:\")\n",
    "myList=getlength(text)\n",
    "print(myList)\n"
   ]
  },
  {
   "cell_type": "code",
   "execution_count": null,
   "metadata": {},
   "outputs": [],
   "source": [
    "List Comprehension allows us to mention more than one if condition.\n",
    "\n",
    "To do this we simply have to mention the next if after the condition of first if \n",
    "\n",
    "Syntax:\n",
    "\n",
    "list_variable = [x   for x in iterable  <test_cond 1> <test cond 2>]\n",
    "\n"
   ]
  },
  {
   "cell_type": "code",
   "execution_count": null,
   "metadata": {},
   "outputs": [],
   "source": [
    "Write a program to produce square of only those numbers which are divisible by 2 as well as 3 from 1 to 20 , store them in a list and print the list.\n",
    "\n",
    "Solution\n",
    "myList=[x**2 for x in range(1,21) if x%2==0 if x%3==0]\n",
    "print(myList)\n"
   ]
  },
  {
   "cell_type": "code",
   "execution_count": null,
   "metadata": {},
   "outputs": [],
   "source": [
    "myNums=[]\n",
    "for x in range(1,21):\n",
    "\tif x%2==0:\n",
    "\t\tif x%3==0:\n",
    "\t\t\tmyNums.append(x**2)\n",
    "print(myNums)\n"
   ]
  },
  {
   "cell_type": "markdown",
   "metadata": {},
   "source": [
    "Write a function called get_upper( ) which accepts a string as argument and returns a list containing only upper case letters but without any vowels of that string. Accept the string from the user as input\n",
    "\n"
   ]
  },
  {
   "cell_type": "code",
   "execution_count": null,
   "metadata": {},
   "outputs": [],
   "source": [
    "def get_upper (text):\n",
    "\tmyList=[x for x in text if 65<=ord(x)<=90 if x not in \"AEIOU\"]\n",
    "\treturn myList\n",
    "\n",
    "text=input(\"Type a string:\")\n",
    "myList=get_upper(text)\n",
    "print(myList)\n"
   ]
  },
  {
   "cell_type": "markdown",
   "metadata": {},
   "source": [
    "### What about logical operator"
   ]
  },
  {
   "cell_type": "code",
   "execution_count": null,
   "metadata": {},
   "outputs": [],
   "source": [
    "List Comprehension allows us to use logical or/and operator also but we should use only 1 if statement\n",
    "\n",
    "\n",
    "Example:\n",
    "a = [1,2,3,4,5,6,7,8,9,10]\n",
    "b = [x for x in a if x % 2 == 0 or x % 3 == 0]\n",
    "print(b)\n"
   ]
  },
  {
   "cell_type": "markdown",
   "metadata": {},
   "source": [
    "### Exercise"
   ]
  },
  {
   "cell_type": "markdown",
   "metadata": {},
   "source": [
    "Write a function called remove_min_max( ) which accepts a list as argument and removes the minimum and maximum elements from the list and returns it\n"
   ]
  },
  {
   "cell_type": "code",
   "execution_count": null,
   "metadata": {},
   "outputs": [],
   "source": [
    "def remove_min_max(myList):\n",
    "\tmyNewList=[x for x in myList if x!=min(myList) and x!=max(myList)]\n",
    "\treturn myNewList\n",
    "\n",
    "a=[10,3,15,12,24,6,1,18]\t\n",
    "print(\"Original list\")\n",
    "print(a)\n",
    "print(\"After removing min and max element\")\n",
    "print(remove_min_max(a))\n"
   ]
  },
  {
   "cell_type": "markdown",
   "metadata": {},
   "source": [
    "### If – else In List Comprehension"
   ]
  },
  {
   "cell_type": "code",
   "execution_count": null,
   "metadata": {},
   "outputs": [],
   "source": [
    "List Comprehension allows us to put if- else statements also \n",
    "\n",
    "But since in a comprehension, the first thing we specify is the value to put in a list, so we put our if-else in place of value.\n",
    "\n",
    "Syntax:\n",
    "\n",
    "list_variable = [expr1 if cond else expr2   for x in iterable  ]\n",
    "\n"
   ]
  },
  {
   "cell_type": "code",
   "execution_count": null,
   "metadata": {},
   "outputs": [],
   "source": [
    "myList=[\"Even\" if i%2==0 else \"Odd\" for i in range(1,11)]\n",
    "print(myList)\n"
   ]
  },
  {
   "cell_type": "markdown",
   "metadata": {},
   "source": [
    "### Nested List Comprehension"
   ]
  },
  {
   "cell_type": "code",
   "execution_count": null,
   "metadata": {},
   "outputs": [],
   "source": [
    "List Comprehension can be nested also.\n",
    "\n",
    "\n",
    "\n",
    "To understand this , look at the code in the next slide and figure out it’s output\n"
   ]
  },
  {
   "cell_type": "code",
   "execution_count": null,
   "metadata": {},
   "outputs": [],
   "source": [
    "a=[20,40,60]\n",
    "b=[2,4,6]\n",
    "c=[]\n",
    "for x in a:\n",
    "\tfor y in b:\n",
    "\t\tc.append(x * y) \n",
    "print(c)"
   ]
  },
  {
   "cell_type": "code",
   "execution_count": null,
   "metadata": {},
   "outputs": [],
   "source": [
    "Explanation:\n",
    "\n",
    "The code is multiplying \n",
    "every element of list a , with\n",
    "every element of list b  and storing\n",
    "the product in list c\n"
   ]
  },
  {
   "cell_type": "code",
   "execution_count": null,
   "metadata": {},
   "outputs": [],
   "source": [
    "Now the same code can be rewritten using Nested List Comprehension.\n",
    "\n",
    "\n",
    "To do this , we will condense each of the lines of code into one line, beginning with the x * y operation. \n",
    "\n",
    "\n",
    "This will be followed by the outer for loop, then the inner for loop. \n"
   ]
  },
  {
   "cell_type": "code",
   "execution_count": null,
   "metadata": {},
   "outputs": [],
   "source": [
    "a=[20,40,60]\n",
    "b=[2,4,6]\n",
    "c=[x * y for x in a for y in b] \n",
    "print(c)\n"
   ]
  },
  {
   "cell_type": "markdown",
   "metadata": {},
   "source": [
    "Write a function called flatten( ) which accepts a nested list as argument and returns a single list containing all the elements of the nested list\n",
    "\n"
   ]
  },
  {
   "cell_type": "code",
   "execution_count": null,
   "metadata": {},
   "outputs": [],
   "source": [
    "def flatten(mylist):\n",
    "\tnewlist=[y for x in mylist for y in x]\n",
    "\treturn newlist\n",
    "\n",
    "mylist = [[1,2,3],[4,5,6],[7,8]]\n",
    "print(\"Before calling flatten list is\")\n",
    "print(mylist)\n",
    "newlist=flatten(mylist)\n",
    "print(\"After calling flatten list is\")\n",
    "print(newlist)\n"
   ]
  },
  {
   "cell_type": "code",
   "execution_count": null,
   "metadata": {},
   "outputs": [],
   "source": []
  },
  {
   "cell_type": "code",
   "execution_count": null,
   "metadata": {},
   "outputs": [],
   "source": []
  }
 ],
 "metadata": {
  "kernelspec": {
   "display_name": "Python 3",
   "language": "python",
   "name": "python3"
  },
  "language_info": {
   "codemirror_mode": {
    "name": "ipython",
    "version": 3
   },
   "file_extension": ".py",
   "mimetype": "text/x-python",
   "name": "python",
   "nbconvert_exporter": "python",
   "pygments_lexer": "ipython3",
   "version": "3.8.3"
  }
 },
 "nbformat": 4,
 "nbformat_minor": 4
}
