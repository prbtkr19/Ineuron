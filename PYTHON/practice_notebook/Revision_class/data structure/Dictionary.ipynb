{
 "cells": [
  {
   "cell_type": "code",
   "execution_count": null,
   "metadata": {},
   "outputs": [],
   "source": [
    "Python dictionary is an unordered collection of items.\n",
    "\n",
    "\n",
    "The collections we have studied till now like list , tuple and string are all ordered collections as well as can hold only one value as their element \n",
    "\n",
    "On the other hand dictionary is an unordered collection which holds the data in a key: value pair.\n"
   ]
  },
  {
   "cell_type": "code",
   "execution_count": null,
   "metadata": {},
   "outputs": [],
   "source": [
    "Sometimes we need to store the data so that one piece of information is connected to another piece of information.\n",
    "\n",
    "For example RollNoStudent Name or           Customer NameMobile Number\n",
    "\n",
    "In these examples RollNo will be called a key while it’s associated Student Name will be called value\n",
    "\n",
    "To store such paired data Python provides us the data type called dictionary\n"
   ]
  },
  {
   "cell_type": "code",
   "execution_count": null,
   "metadata": {},
   "outputs": [],
   "source": [
    "Creating a dictionary is as simple as placing items inside curly braces { } separated by comma.\n",
    "\n",
    "Every item has a key and the corresponding value expressed as a pair, key: value.\n",
    "\n",
    "\n",
    "While values can be of any data type and can repeat, but keys must be of immutable type and must be unique.\n"
   ]
  },
  {
   "cell_type": "code",
   "execution_count": null,
   "metadata": {},
   "outputs": [],
   "source": [
    "Syntax:\n",
    "\n",
    "d = { \n",
    "\t\t<key>: <value>, \n",
    "\t\t<key>: <value>, \n",
    "\t\t. . . \n",
    "\t\t<key>: <value> \n",
    "\t   }\n"
   ]
  },
  {
   "cell_type": "code",
   "execution_count": null,
   "metadata": {},
   "outputs": [],
   "source": [
    "# empty dictionary \n",
    "my_dict = { } \n",
    "\n",
    "# dictionary with integer keys \n",
    "my_dict = {1: 'Amit', 2: 'Brajesh',3:'Chetan'}\n",
    "\n",
    "# dictionary with mixed keys \n",
    "my_dict = {1: 'John', 'a':'vowel'} \n",
    "\n",
    "# dictionary with list as values\n",
    "my_dict = {'Rahul':['C', 'C++'], 'Ajay':['Java', 'C', 'Python'], 'Neeraj':['Oracle', 'Python']}\n"
   ]
  },
  {
   "cell_type": "code",
   "execution_count": null,
   "metadata": {},
   "outputs": [],
   "source": [
    "The important characteristics of Python dictionaries are as follows:\n",
    "\n",
    "\n",
    "They can be nested.\n",
    "\n",
    "They are mutable.\n",
    "\n",
    "They are dynamic. \n",
    "\n",
    "They are unordered.\n",
    "\n",
    "Unlike Lists and tuples , a dictionary item is accessed by it’s corresponding key not index\n"
   ]
  },
  {
   "cell_type": "code",
   "execution_count": null,
   "metadata": {},
   "outputs": [],
   "source": [
    "We also can create a list by using the dict( ) function\n",
    "\n",
    "# Create an empty dictionary\n",
    "my_dict = dict()\n",
    "\n",
    "# Create a dictionary with elements\n",
    "my_dict = dict({1:'apple', 2:'ball'}) \n",
    "\n",
    "# Create a dictionary with other sequences\n",
    "my_dict = dict([(1,'apple'), (2,'ball')])"
   ]
  },
  {
   "cell_type": "code",
   "execution_count": null,
   "metadata": {},
   "outputs": [],
   "source": [
    "We can print a dictionary in four ways:\n",
    "\n",
    "Directly passing it to the print( ) function\n",
    "\n",
    "Accessing individual values by passing keys to subscript operator [ ]\n",
    "\n",
    "Accessing individual values by passing keys to the method   get( )\n",
    "\n",
    "Traversing using loop\n"
   ]
  },
  {
   "cell_type": "code",
   "execution_count": null,
   "metadata": {},
   "outputs": [],
   "source": [
    "student_data = {1:'Amit', 2:'Brajesh',3:'Chetan', 4:'Deepak',5:'Neeraj'}\n",
    "\n",
    "print(student_data)\n"
   ]
  },
  {
   "cell_type": "code",
   "execution_count": null,
   "metadata": {},
   "outputs": [],
   "source": [
    "As mentioned previously, keys are used to retrieve their corresponding values in Python dictionary. \n",
    "\n",
    "\n",
    "Keys can be used inside subscript operator [  ] or we can use Python built-in function get() to access the values in the dictionary using keys.\n",
    "\n"
   ]
  },
  {
   "cell_type": "code",
   "execution_count": null,
   "metadata": {},
   "outputs": [],
   "source": [
    "student_data = {1:'Amit', 2:'Brajesh',3:'Chetan', 4:'Deepak',5:'Neeraj'}\n",
    "\n",
    "print(student_data[3])\n",
    "\n",
    "print(student_data.get(3)) \n",
    "\n"
   ]
  },
  {
   "cell_type": "code",
   "execution_count": null,
   "metadata": {},
   "outputs": [],
   "source": [
    "Although both subscript operator and get( ) method allow us to access individual element using it’s key , but there is an important difference in them.\n",
    "\n",
    "The difference is that when we try to access a value whose key doesn’t exist in the dictionary using subscript operator , it throws a KeyError. \n",
    "\n",
    "\n",
    "But when we try to access using get() method, instead of throwing KeyError, it returns nothing which in Python is None.\n"
   ]
  },
  {
   "cell_type": "code",
   "execution_count": null,
   "metadata": {},
   "outputs": [],
   "source": [
    "student_data = {1:'Amit', 2:'Brajesh',3:'Chetan', 4:'Deepak',5:'Neeraj'}\n",
    "\n",
    "print(\"Name of student with roll no 6:\",student_data.get(6))\n",
    "\n",
    "print(\"Name of student with roll no 6:\",student_data[6])"
   ]
  },
  {
   "cell_type": "code",
   "execution_count": null,
   "metadata": {},
   "outputs": [],
   "source": [
    "Python allows us three ways to traverse over a dictionary:\n",
    "\n",
    "Iterate only on keys\n",
    "\n",
    "Iterate on both , keys and values \n",
    "\n",
    "Iterate only on values\n"
   ]
  },
  {
   "cell_type": "code",
   "execution_count": null,
   "metadata": {},
   "outputs": [],
   "source": [
    "When for ... in is used on a dictionary, looping is by default done over its keys, and not over the values or the key:value pairs:\n"
   ]
  },
  {
   "cell_type": "code",
   "execution_count": null,
   "metadata": {},
   "outputs": [],
   "source": [
    "student_data = {1:'Amit', 2:'Brajesh',3:'Chetan', 4:'Deepak',5:'Neeraj'}\n",
    "\n",
    "for roll in student_data:\n",
    "\tprint(\"Roll:\",roll)\n"
   ]
  },
  {
   "cell_type": "code",
   "execution_count": null,
   "metadata": {},
   "outputs": [],
   "source": [
    "Python provides us a method called keys() which will return all keys inside given dictionary as Python list \n",
    "\n",
    "\n",
    "Then this list will be iterated with for loop.\n"
   ]
  },
  {
   "cell_type": "code",
   "execution_count": null,
   "metadata": {},
   "outputs": [],
   "source": [
    "student_data = {1:'Amit', 2:'Brajesh',3:'Chetan', 4:'Deepak',5:'Neeraj'}\n",
    "\n",
    "for roll in student_data.keys():\n",
    "\tprint(\"Roll:\",roll)\n",
    "\n"
   ]
  },
  {
   "cell_type": "code",
   "execution_count": null,
   "metadata": {},
   "outputs": [],
   "source": [
    "Once , we have keys , we can fetch the values by using subscript operator or get( ) method during each loop cycle.\n",
    "\n"
   ]
  },
  {
   "cell_type": "code",
   "execution_count": null,
   "metadata": {},
   "outputs": [],
   "source": [
    "student_data = {1:'Amit', 2:'Brajesh',3:'Chetan', 4:'Deepak',5:'Neeraj'}\n",
    "\n",
    "\n",
    "for roll in student_data:\n",
    "\tprint(\"Roll:\",roll,\"Name:\",student_data[roll])\n",
    "\n"
   ]
  },
  {
   "cell_type": "code",
   "execution_count": null,
   "metadata": {},
   "outputs": [],
   "source": [
    "Although the code is working , but it has a performance issue .\n",
    "\n",
    "Can you tell what it is ?\n",
    "\n",
    "We are iterating over all the keys in dictionary and for each key we are again searching for its associated value , which is not at all an efficient solution\n"
   ]
  },
  {
   "cell_type": "code",
   "execution_count": null,
   "metadata": {},
   "outputs": [],
   "source": [
    "To resolve the performance issue , we have a much better solution provided by Python .\n",
    "\n",
    "\n",
    "The solution is to use the method items( )\n",
    "\n",
    "\n",
    "This method returns a  dict_item object that contains a list of dictionary's (key, value) pairs as tuple.\n"
   ]
  },
  {
   "cell_type": "code",
   "execution_count": null,
   "metadata": {},
   "outputs": [],
   "source": [
    "Syntax:\n",
    "\n",
    "for <var 1,var 2> in <dict_var>.items( ):\n",
    "\t# var 1 will hold , var 2 will hold value\n",
    "\n",
    "\n",
    "Explanation:\n",
    "\n",
    "When we define two variables in a for loop in conjunction \n",
    "with a call to items() on a dictionary, Python automatically \n",
    "assigns the first variable as the name of a key in that \n",
    "dictionary, and the second variable as the corresponding \n",
    "value for that key.\n"
   ]
  },
  {
   "cell_type": "code",
   "execution_count": null,
   "metadata": {},
   "outputs": [],
   "source": [
    "student_data = {1:'Amit', 2:'Brajesh',3:'Chetan', 4:'Deepak',5:'Neeraj'}\n",
    "\n",
    "\n",
    "for roll,name in student_data.items():\n",
    "\tprint(\"Roll:\",roll,\"Name:\",name)\n"
   ]
  },
  {
   "cell_type": "code",
   "execution_count": null,
   "metadata": {},
   "outputs": [],
   "source": [
    "We can only iterate over values also without using any key. \n",
    "\n",
    "\n",
    "To do this we can use values() method provided by dictionary type which will populate values in given dictionary in an iterable format. \n",
    "\n",
    "\n",
    "We can then put these values of dictionary in each step into variable v and access it\n"
   ]
  },
  {
   "cell_type": "code",
   "execution_count": null,
   "metadata": {},
   "outputs": [],
   "source": [
    "student_data = {1:'Amit', 2:'Brajesh',3:'Chetan', 4:'Deepak',5:'Neeraj'}\n",
    "\n",
    "for name in student_data.values():\n",
    "\tprint(\"Name:\",name)\n"
   ]
  },
  {
   "cell_type": "code",
   "execution_count": null,
   "metadata": {},
   "outputs": [],
   "source": [
    "If you remember , while introducing the dictionary we mentioned that it is an unordered collection.\n",
    "\n",
    "\n",
    "\n",
    "The term unordered means that the order in which elements are inserted in a dictionary and the order in which they are retrieved might be different\n"
   ]
  },
  {
   "cell_type": "code",
   "execution_count": null,
   "metadata": {},
   "outputs": [],
   "source": [
    "But you must have observed that it was not the case with us.\n",
    "\n",
    "Have look at the examples :\n",
    "student_data = {1:'Amit', 2:'Brajesh',3:'Chetan', 4:'Deepak',5:'Neeraj'}\n",
    "print(student_data)\n",
    "\n",
    "\n",
    "\n",
    "If you can observe , the output is in the same order as we inserted the data.\n"
   ]
  },
  {
   "cell_type": "code",
   "execution_count": null,
   "metadata": {},
   "outputs": [],
   "source": [
    "As of Python 3.6, for the CPython implementation of Python, dictionaries remember the order of items inserted. \n",
    "\n",
    "This was  considered an implementation detail in Python 3.6 and we  need to use OrderedDict if we want insertion ordering that's guaranteed across other implementations of Python\n",
    "\n",
    "As of Python 3.7, this is no longer an implementation detail and instead becomes a language feature.\n",
    "\n",
    "This simply means that other implementations of Python must also offer an insertion ordered dictionary if they wish to be a conforming implementation of Python 3.7.\n"
   ]
  },
  {
   "cell_type": "code",
   "execution_count": 1,
   "metadata": {},
   "outputs": [],
   "source": [
    "### Updating Elements In Dictionary\n",
    "\n",
    "### Removing Elements From Dictionary\n",
    "\n",
    "### Functions Used In Dictionary\n"
   ]
  },
  {
   "cell_type": "code",
   "execution_count": null,
   "metadata": {},
   "outputs": [],
   "source": [
    "Since dictionary is mutable, so we can add new items or change the value of existing items using either of two ways.\n",
    "\n",
    "These are:\n",
    "\n",
    "assignment operator or \n",
    "\n",
    "update( ) method of dictionary object\n"
   ]
  },
  {
   "cell_type": "code",
   "execution_count": null,
   "metadata": {},
   "outputs": [],
   "source": [
    "Syntax Of Assigment Operator:\n",
    "dict_var[key]=value\n",
    "\n",
    "When we use assignment operator , Python simply searches for the key in the dictionary object.\n",
    "\n",
    "If the key is found , it’s value is replaced with the value we have passed, otherwise a new key-value pair entry is created\n"
   ]
  },
  {
   "cell_type": "code",
   "execution_count": null,
   "metadata": {},
   "outputs": [],
   "source": [
    "student_data = {1:'Amit', 2:'Brajesh',3:'Chetan', 4:'Deepak',5:'Neeraj'}\n",
    "print(\"Before updating:\")\n",
    "print(student_data)\n",
    "student_data[2]='Brajendra'\n",
    "print(\"After updating:\")\n",
    "print(student_data)\n",
    "\n"
   ]
  },
  {
   "cell_type": "code",
   "execution_count": null,
   "metadata": {},
   "outputs": [],
   "source": [
    "student_data = {1:'Amit', 2:'Brajesh',3:'Chetan', 4:'Deepak',5:'Neeraj'}\n",
    "print(\"Before updating:\")\n",
    "print(student_data)\n",
    "student_data[8]='Ankit‘\n",
    "print(\"After updating:\")\n",
    "print(student_data)\n"
   ]
  },
  {
   "cell_type": "code",
   "execution_count": null,
   "metadata": {},
   "outputs": [],
   "source": [
    "Syntax Of  update( ) Method:\n",
    "\n",
    "dict_var.update( dict_var2)\n",
    "\n",
    "\n",
    "The update( ) method merges the keys and values of one dictionary into another, overwriting values of the same key\n",
    "\n"
   ]
  },
  {
   "cell_type": "code",
   "execution_count": null,
   "metadata": {},
   "outputs": [],
   "source": [
    "student_data = {1:'Amit', 2:'Brajesh',3:'Chetan', 4:'Deepak',5:'Neeraj'}\n",
    "student_data2={2:'Brajendra',8:'Ankit'}\n",
    "print(\"Before updating:\")\n",
    "print(student_data)\n",
    "student_data.update(student_data2)\n",
    "print(\"After updating:\")\n",
    "print(student_data)\n"
   ]
  },
  {
   "cell_type": "markdown",
   "metadata": {},
   "source": [
    "Write a program to create a dictionary called accounts \n",
    "containing account id and balance of account holders . \n",
    "Initialize it with the following data:\n",
    "\n",
    "101: 50000\n",
    "\n",
    "102:45000\n",
    "\n",
    "103:55000\n",
    "\n",
    "Now ask the user to input an account id and amount . If \n",
    "the account id is present in the dictionary then update the \n",
    "balance by adding the amount given otherwise add a new \n",
    "entry of account id and balance in the dictionary. Finally \n",
    "print all the accounts details.\n"
   ]
  },
  {
   "cell_type": "code",
   "execution_count": null,
   "metadata": {},
   "outputs": [],
   "source": [
    "accounts={101:50000,102:45000,103:55000}\n",
    "print(\"Current Accounts Present\")\n",
    "print(accounts)\n",
    "id=int(input(\"Enter account id:\"))\n",
    "amt=int(input(\"Enter amount:\"))\n",
    "balance=accounts.get(id)\n",
    "if balance == None:\n",
    "\t\taccounts[id]=amt\n",
    "\t\tprint(\"New Account Created\")\n",
    "else:\n",
    "\t\tnewbalance=balance+amt\n",
    "\t\taccounts[id]=newbalance\n",
    "\t\tprint(\"Account updated\")\n",
    "print(\"Account Details:\")\n",
    "print(accounts)\n"
   ]
  },
  {
   "cell_type": "code",
   "execution_count": null,
   "metadata": {},
   "outputs": [],
   "source": [
    "Since dictionary is mutable, so we can remove items from the dictionary.\n",
    "\n",
    "There are certain methods available in Python to delete the items or delete entire dictionary.\n",
    "\n",
    "These are:\n",
    "\n",
    "pop(key): removes the entry with provided key and returns it’s value\n",
    "\n",
    "popitem(): same as pop(), the difference being that popitem() removes an arbitary item and returns the (key,value) pair\n",
    "\n",
    "del: deletes a single item or the dictionary entirely\n",
    "\n",
    "clear(): clears all the items in the dictionary and returns an empty dictionary\n"
   ]
  },
  {
   "cell_type": "markdown",
   "metadata": {},
   "source": [
    "### The pop()  Method"
   ]
  },
  {
   "cell_type": "code",
   "execution_count": null,
   "metadata": {},
   "outputs": [],
   "source": [
    "Syntax Of pop( ) Method:\n",
    "\n",
    "dict_var.pop(key,[default])\n",
    "\n",
    "The pop() method takes two parameters:\n",
    "key - key which is to be searched for removal\n",
    "default - (optional) value which is to be returned when the key is not in the dictionary\n",
    "Return Value From pop( )\n",
    "If key is found – it returns value of removed/popped element from the dictionary\n",
    "If key is not found – it returns the value specified as the second argument (default)\n",
    "If key is not found and default argument is not specified – it raises  KeyError exception\n"
   ]
  },
  {
   "cell_type": "code",
   "execution_count": null,
   "metadata": {},
   "outputs": [],
   "source": [
    "sixMonths = {\"Jan\":31, \"Feb\":28, \"Mar\":31, \"Apr\":30, \"May\":31, \"Jun\":30}\n",
    "print(sixMonths)\n",
    "print(sixMonths.pop(\"Jun\")) \n",
    "print(sixMonths)\n",
    "print(sixMonths.pop(\"Jul\",-1))\n",
    "print(sixMonths.pop(\"Jul\",\"Not found\"))\n",
    "print(sixMonths.pop(\"Jul\"))"
   ]
  },
  {
   "cell_type": "markdown",
   "metadata": {},
   "source": [
    "### The popitem()  Method"
   ]
  },
  {
   "cell_type": "code",
   "execution_count": null,
   "metadata": {},
   "outputs": [],
   "source": [
    "Syntax Of popitem( ) Method:\n",
    "\n",
    "dict_var.popitem( )\n",
    "\n",
    "The popitem() method doesn’t take any parameter\n",
    "\n",
    "Return Value From popitem( )\n",
    "\n",
    "Selects an arbitary entry to be removed , removes it and returns that entry as a key-value pair in the form of tuple\n",
    "\n",
    "If the dictionary is empty it raises KeyError exception\n",
    "\n"
   ]
  },
  {
   "cell_type": "code",
   "execution_count": null,
   "metadata": {},
   "outputs": [],
   "source": [
    "Just like list , Python also allows us to delete an item from the dictionary by calling the operator/keyword del\n",
    "\n",
    "Syntax Of del Operator:\n",
    "\n",
    "del dict_var[key]\n",
    "\n",
    "It removes the entry from the dictionary whose key is passed as argument\n",
    "\n",
    "If the key is not found or dictionary is empty it raises KeyError exception\n",
    "\n",
    "If we do not pass the key then del deletes the entire dictionary object\n"
   ]
  },
  {
   "cell_type": "code",
   "execution_count": null,
   "metadata": {},
   "outputs": [],
   "source": [
    "threeMonths = {\"Jan\":31, \"Feb\":28, \"Mar\":31}\n",
    "print(threeMonths)\n",
    "del threeMonths \n",
    "print(threeMonths)\n"
   ]
  },
  {
   "cell_type": "code",
   "execution_count": null,
   "metadata": {},
   "outputs": [],
   "source": [
    "The clear() method removes all items from the dictionary.\n",
    "\n",
    "Syntax Of clear( ) Method:\n",
    "\n",
    "dict_var.clear( )\n",
    "\n",
    "The clear() method doesn’t take any argument\n",
    "\n",
    "It returns nothing ( None )\n"
   ]
  },
  {
   "cell_type": "code",
   "execution_count": null,
   "metadata": {},
   "outputs": [],
   "source": [
    "threeMonths = {\"Jan\":31, \"Feb\":28, \"Mar\":31}\n",
    "print(threeMonths)\n",
    "threeMonths.clear()\n",
    "print(threeMonths) \n"
   ]
  },
  {
   "cell_type": "markdown",
   "metadata": {},
   "source": [
    "Like list , Python allows us to use the following functions with dictionary object\n",
    "\n",
    "len()\n",
    "\n",
    "max()\n",
    "\n",
    "min()\n",
    "\n",
    "any()\n",
    "\n",
    "all()\n",
    "\n",
    "sorted()\n",
    "\n",
    "dict()\n"
   ]
  },
  {
   "cell_type": "code",
   "execution_count": null,
   "metadata": {},
   "outputs": [],
   "source": [
    "Returns the number of items in the dictionary\n",
    "\n",
    "Example:\n",
    "sixMonths = {\"Jan\":31, \"Feb\":28, \"Mar\":31, \"Apr\":30, \"May\":31, \"Jun\":30}\n",
    "\n",
    "print(len(sixMonths))"
   ]
  },
  {
   "cell_type": "code",
   "execution_count": null,
   "metadata": {},
   "outputs": [],
   "source": [
    "Returns the greatest key present in the dictionary\n",
    "\n",
    "Example:\n",
    "sixMonths = {\"Jan\":31, \"Feb\":28, \"Mar\":31, \"Apr\":30, \"May\":31, \"Jun\":30}\n",
    "\n",
    "print(max(sixMonths))\n",
    "\n"
   ]
  },
  {
   "cell_type": "code",
   "execution_count": null,
   "metadata": {},
   "outputs": [],
   "source": [
    "sixMonths = {\"Jan\":31, \"Feb\":28, 3:31, \"Apr\":30 ,5:31 ,6:30}\n",
    "print(max(sixMonths))\n"
   ]
  },
  {
   "cell_type": "code",
   "execution_count": null,
   "metadata": {},
   "outputs": [],
   "source": [
    "sixMonths = {1:31, 2:28, 3:31,4:30,5:31,6:30}\n",
    "print(max(sixMonths))\n"
   ]
  },
  {
   "cell_type": "code",
   "execution_count": null,
   "metadata": {},
   "outputs": [],
   "source": [
    "data = {False: 10,True: 5}\n",
    "print(max(data))\n",
    "\n"
   ]
  },
  {
   "cell_type": "code",
   "execution_count": null,
   "metadata": {},
   "outputs": [],
   "source": [
    "data={False:0,True:1,None:2}\n",
    "print(max(data))\n"
   ]
  },
  {
   "cell_type": "markdown",
   "metadata": {},
   "source": [
    "Write a program to create a dictionary called players\n",
    "and accept names of 5 players and their runs from the \n",
    "user. Now find out the highest score\n"
   ]
  },
  {
   "cell_type": "code",
   "execution_count": null,
   "metadata": {},
   "outputs": [],
   "source": [
    "players={}\n",
    "i=1\n",
    "while i<=5:\n",
    "\tname=input(\"Enter player name:\")\n",
    "\truns=int(input(\"Enter runs:\"))\n",
    "\tplayers[name]=runs\n",
    "\ti=i+1\n",
    "print(players)\n",
    "runs=max(players.values())\n",
    "print(\"Highest runs are :\",runs)\n"
   ]
  },
  {
   "cell_type": "markdown",
   "metadata": {},
   "source": [
    "Modify the previous code so that you are able to find out \n",
    "the name of the player also who has scored the highest \n",
    "score\n"
   ]
  },
  {
   "cell_type": "code",
   "execution_count": null,
   "metadata": {},
   "outputs": [],
   "source": [
    "players={}\n",
    "i=1\n",
    "while i<=5:\n",
    "\tname=input(\"Enter player name:\")\n",
    "\truns=int(input(\"Enter runs:\"))\n",
    "\tplayers[name]=runs\n",
    "\ti=i+1\n",
    "print(players)\n",
    "max=0\n",
    "pl=\"\"\n",
    "for name,runs in players.items():\n",
    "\tif runs>max:\n",
    "\t\tmax=runs\n",
    "\t\tpl=name\n",
    "print(\"Player with top score is\",pl,\"with score of\",max)"
   ]
  },
  {
   "cell_type": "code",
   "execution_count": null,
   "metadata": {},
   "outputs": [],
   "source": [
    "Returns the least item present in the dictionary\n",
    "\n",
    "Example:\n",
    "sixMonths = {\"Jan\":31, \"Feb\":28, \"Mar\":31, \"Apr\":30, \"May\":31, \"Jun\":30}\n",
    "\n",
    "print(min(sixMonths))\n"
   ]
  },
  {
   "cell_type": "code",
   "execution_count": null,
   "metadata": {},
   "outputs": [],
   "source": [
    "Like list and tuple ,  any( ) function accepts a dict as argument and returns True if atleast one element of the dict is True. If not, this method returns False. If the dict is empty, then also it returns False\n",
    "\n",
    "Example:\n",
    "data={1:31,2:28,3:30}\n",
    "print(any(data))\n"
   ]
  },
  {
   "cell_type": "code",
   "execution_count": null,
   "metadata": {},
   "outputs": [],
   "source": [
    "data={0:1,False:2,'':3}\n",
    "print(any(data))\n"
   ]
  },
  {
   "cell_type": "code",
   "execution_count": null,
   "metadata": {},
   "outputs": [],
   "source": [
    "data={'0':1,False:2,'':3}\n",
    "print(any(data))\n"
   ]
  },
  {
   "cell_type": "code",
   "execution_count": null,
   "metadata": {},
   "outputs": [],
   "source": [
    "data= { }\n",
    "print(any(data))\n"
   ]
  },
  {
   "cell_type": "code",
   "execution_count": null,
   "metadata": {},
   "outputs": [],
   "source": [
    "The all( ) function accepts a dict as argument and returns True if  all the keys of the dict are True or if the List is empty .If not, this method returns False.\n",
    "\n",
    "\n",
    "Example:\n",
    "data={1:31,2:28,3:30,0:10}\n",
    "print(all(data))\n"
   ]
  },
  {
   "cell_type": "code",
   "execution_count": null,
   "metadata": {},
   "outputs": [],
   "source": [
    "data={1:31,2:28,3:30}\n",
    "print(all(data))\n"
   ]
  },
  {
   "cell_type": "code",
   "execution_count": null,
   "metadata": {},
   "outputs": [],
   "source": [
    "data={'0':1,True:2,'   ':3}\n",
    "print(all(data))\n"
   ]
  },
  {
   "cell_type": "code",
   "execution_count": null,
   "metadata": {},
   "outputs": [],
   "source": [
    "data= { }\n",
    "print(all(data))\n"
   ]
  },
  {
   "cell_type": "code",
   "execution_count": null,
   "metadata": {},
   "outputs": [],
   "source": [
    "Like it is with lists and tuples, the sorted() function returns a sorted sequence of the keys in the dictionary. \n",
    "\n",
    "\n",
    "\n",
    "The sorting is in ascending order, and doesn’t modify the original Python dictionary.\n"
   ]
  },
  {
   "cell_type": "code",
   "execution_count": null,
   "metadata": {},
   "outputs": [],
   "source": [
    "sixMonths = {\"Jan\":31, \"Feb\":28, \"Mar\":31, \"Apr\":30, \"May\":31, \"Jun\":30}\n",
    "print(sorted(sixMonths))\n",
    "print(sixMonths)\n"
   ]
  },
  {
   "cell_type": "code",
   "execution_count": null,
   "metadata": {},
   "outputs": [],
   "source": [
    "sixMonths = {\"Jan\":31, \"Feb\":28, \"Mar\":31, \"Apr\":30, 4:31, 5:30}\n",
    "print(sorted(sixMonths))\n"
   ]
  },
  {
   "cell_type": "code",
   "execution_count": null,
   "metadata": {},
   "outputs": [],
   "source": [
    "sixMonths = {\"Jan\":31, \"Feb\":28, \"Mar\":31, \"Apr\":30, \"May\":31, \"Jun\":30}\n",
    "print(sorted(sixMonths,reverse=True))\n",
    "\n"
   ]
  },
  {
   "cell_type": "code",
   "execution_count": null,
   "metadata": {},
   "outputs": [],
   "source": [
    "As previously mentioned the dict( ) function can be used to create dictionaries . It can accept key-value pairs or iterable or mappings as argument and converts them into dictionaries\n",
    "\n",
    "Example:\n",
    "months = dict(Jan=31,Feb=28)\n",
    "print('months = ',months)\n",
    "print(type(months))\n"
   ]
  },
  {
   "cell_type": "code",
   "execution_count": null,
   "metadata": {},
   "outputs": [],
   "source": [
    "months = dict([('Jan',31),('Feb',28)])\n",
    "print('months = ',months)\n"
   ]
  },
  {
   "cell_type": "code",
   "execution_count": null,
   "metadata": {},
   "outputs": [],
   "source": [
    "months = dict((('Jan',31),('Feb',28)))\n",
    "print('months = ',months)\n",
    "\n"
   ]
  },
  {
   "cell_type": "code",
   "execution_count": null,
   "metadata": {},
   "outputs": [],
   "source": [
    "months = dict({'Jan':31,'Feb':28})\n",
    "print('months = ',months) \n",
    "\n"
   ]
  },
  {
   "cell_type": "code",
   "execution_count": null,
   "metadata": {},
   "outputs": [],
   "source": [
    "months = dict(12)\n",
    "print('months = ',months)\n",
    "\n",
    "\n"
   ]
  },
  {
   "cell_type": "code",
   "execution_count": null,
   "metadata": {},
   "outputs": [],
   "source": [
    "To understand kwargs , try to figure out the output of the code below\n",
    "\n",
    "Example:\n",
    "def addnos(x,y,z): \n",
    "\tprint(\"sum:\",x+y+z) \n",
    "addnos(10,20,30)\n",
    "addnos(10,20,30,40,50)\n"
   ]
  },
  {
   "cell_type": "code",
   "execution_count": null,
   "metadata": {},
   "outputs": [],
   "source": [
    "To overcome this problem , we used the technique of variable length arguments, where we prefix the function parameter with an asterisk\n",
    "\n",
    "\n",
    "\n",
    "This allows us to pass any number of arguments to the function and inside the  function they are received as tuple\n"
   ]
  },
  {
   "cell_type": "code",
   "execution_count": null,
   "metadata": {},
   "outputs": [],
   "source": [
    "def addnos(*args): \n",
    "\tsum=0\n",
    "\tfor x in args:\n",
    "\t\tsum=sum+x\n",
    "\tprint(\"sum:\",sum) \n",
    "addnos(10,20,30)\n",
    "addnos(10,20,30,40,50)\n"
   ]
  },
  {
   "cell_type": "code",
   "execution_count": null,
   "metadata": {},
   "outputs": [],
   "source": [
    "Using *args , we cannot pass keyword arguments\n",
    "\n",
    "\n",
    "\n",
    "\n",
    "So , Python has given us a solution for this ,called **kwargs, which allows us to pass the variable length of keyword arguments to the function.\n"
   ]
  },
  {
   "cell_type": "code",
   "execution_count": null,
   "metadata": {},
   "outputs": [],
   "source": [
    "In the function, we use the double asterisk ** before the parameter name to denote this type of argument. \n",
    "\n",
    "\n",
    "The arguments are passed as a dictionary and the name of the dictionary is the name of parameter\n",
    "\n",
    "The keywords become keys and the actual data passed becomes values\n"
   ]
  },
  {
   "cell_type": "code",
   "execution_count": null,
   "metadata": {},
   "outputs": [],
   "source": [
    "def show_details(**data):\n",
    "    print(\"\\nData type of argument:\",type(data))\n",
    "    for key, value in data.items():\n",
    "        print(\"{} is {}\".format(key,value))\n",
    "\n",
    "\n",
    "\n",
    "show_details(Firstname=\"Sachin\", Lastname=\"Kapoor\", Age=38, Phone=9826012345)\n",
    "\n",
    "\n",
    "show_details(Firstname=\"Amit\", Lastname=\"Sharma\", Email=\"amit@gmail.com\", Country=\"India\", Age=25, Phone=9893198931)\n"
   ]
  },
  {
   "cell_type": "markdown",
   "metadata": {},
   "source": [
    "- Dictionary Methods\n",
    "\n",
    "- Removing Elements From Dictionary\n",
    "\n",
    "- Functions Used In Dictionary\n",
    "\n"
   ]
  },
  {
   "cell_type": "markdown",
   "metadata": {},
   "source": [
    "Python provides us following methods to work upon dictionary object:\n",
    "\n",
    "clear()\n",
    "\n",
    "copy()\n",
    "\n",
    "setdefault()\n",
    "\n",
    "get()\n",
    "\n",
    "items()\n",
    "\n",
    "keys()\n",
    "\n",
    "pop()\n",
    "\n",
    "popitem()\n",
    "\n",
    "update()\n",
    "\n",
    "values()\n",
    "\n",
    "\n"
   ]
  },
  {
   "cell_type": "code",
   "execution_count": null,
   "metadata": {},
   "outputs": [],
   "source": [
    "This method returns a shallow copy of the dictionary.\n",
    "\n",
    "Syntax:\n",
    "dict.copy()\n",
    "\n",
    "Example:\n",
    "original = {1:'one', 2:'two'}\n",
    "new = original.copy()\n",
    "print('new: ', new)\n",
    "print('original: ', original) \n"
   ]
  },
  {
   "cell_type": "code",
   "execution_count": null,
   "metadata": {},
   "outputs": [],
   "source": [
    "When copy() method is used, a new dictionary is created which is filled with a copy of the data from the original dictionary.\n",
    "\n",
    "\n",
    "\n",
    "When = operator is used, a new reference to the original dictionary is created.\n"
   ]
  },
  {
   "cell_type": "code",
   "execution_count": null,
   "metadata": {},
   "outputs": [],
   "source": [
    "original = {1:'one', 2:'two'}\n",
    "new = original\n",
    "new.clear()\n",
    "print('new: ', new)\n",
    "print('original: ', original)\n"
   ]
  },
  {
   "cell_type": "code",
   "execution_count": null,
   "metadata": {},
   "outputs": [],
   "source": [
    "original = {1:'one', 2:'two'}\n",
    "new = original.copy()\n",
    "new.clear()\n",
    "print('new: ', new)\n",
    "print('original: ', original)\n"
   ]
  },
  {
   "cell_type": "code",
   "execution_count": null,
   "metadata": {},
   "outputs": [],
   "source": [
    "This method method returns the value of a key (if the key is in dictionary). \n",
    "If not, it inserts key with a value to the dictionary.\n",
    "\n",
    "Syntax:\n",
    "dict.setdefault(key,[value])\n",
    "\n",
    "The setdefault() takes maximum of two parameters:\n",
    "key - key to be searched in the dictionary\n",
    "default_value (optional) - key with a value default_value is inserted to the dictionary if key is not in the dictionary.\u000b",
    "If not provided, the default_value will be None.\n",
    "The setdefault() returns:\n",
    "value of the key if it is in the dictionary\n",
    "None if key is not in the dictionary and default_value is not specified\n",
    "default_value if key is not in the dictionary and default_value is specified\n"
   ]
  },
  {
   "cell_type": "code",
   "execution_count": null,
   "metadata": {},
   "outputs": [],
   "source": [
    "cars = {\"Maruti\":\"Ciaz\",\"Hyundai\":\"Verna\",\"Honda\":\"Amaze\"}\n",
    "print(cars)\n",
    "value=cars.setdefault(\"Hyundai\")\n",
    "print(\"Value is\",value)\n",
    "print(cars)\n",
    "value=cars.setdefault(\"Hyundai\",\"i10\")\n",
    "print(\"Value is\",value)\n",
    "print(cars)\n",
    "value=cars.setdefault(\"Renault\")\n",
    "print(\"Value is\",value)\n",
    "print(cars)\n",
    "value=cars.setdefault(\"Audi\",\"Q7\")\n",
    "print(\"Value is\",value)\n",
    "print(cars)"
   ]
  },
  {
   "cell_type": "code",
   "execution_count": null,
   "metadata": {},
   "outputs": [],
   "source": [
    "We can apply the ‘in’ and ‘not in’ operators on a dictionary to check whether it contains a certain key.\n",
    "\n",
    "\n",
    "If the key is present then in returns True ,otherwise it returns False.\n",
    "\n",
    "Similarly , if the key is not present not in returns True , otherwise it returns False\n"
   ]
  },
  {
   "cell_type": "code",
   "execution_count": null,
   "metadata": {},
   "outputs": [],
   "source": [
    "cars = {\"Maruti\":\"Ciaz\",\"Hyundai\":\"Verna\",\"Honda\":\"Amaze\"}\n",
    "print(cars)\n",
    "print(\"Hyundai is present:\",\"Hyundai\" in cars)\n",
    "print(\"Audi is present:\" ,\"Audi\" in cars)\n",
    "print(\"Renault not present:\",\"Renault\" not in cars) \n",
    "\n"
   ]
  },
  {
   "cell_type": "code",
   "execution_count": null,
   "metadata": {},
   "outputs": [],
   "source": [
    "Just like we have list comprehension , we also have dictionary comprehension \n",
    "\n",
    "\n",
    "Dictionary Comprehension is a mechanism for transforming one dictionary into another dictionary.\n",
    "\n",
    " During this transformation, items within the original dictionary can be conditionally included in the new dictionary and each item can be transformed as needed.\n"
   ]
  },
  {
   "cell_type": "code",
   "execution_count": null,
   "metadata": {},
   "outputs": [],
   "source": [
    "Syntax:\n",
    "\n",
    "dict_variable = { key:value for (key,value) in iterable}\n",
    "\n",
    "Explanation\n",
    "\n",
    "Iterable can be any object on which iteration is possible\n",
    "\n",
    "(key,value) is the tuple which will receive these key-value pairs one at a time\n",
    "\n",
    "key:value  is the expression or key-value pair which will be assigned to new dictionary\n"
   ]
  },
  {
   "cell_type": "code",
   "execution_count": null,
   "metadata": {},
   "outputs": [],
   "source": [
    "Write a program to produce a copy of the dictionary cars using dictionary comprehension \n",
    "\n",
    "cars = {\"Maruti\":\"Ciaz\",\"Hyundai\":\"Verna\",\"Honda\":\"Amaze\"}\n",
    "newcars={ k:v for (k,v) in cars.items()}\n",
    "print(newcars)\n"
   ]
  },
  {
   "cell_type": "code",
   "execution_count": null,
   "metadata": {},
   "outputs": [],
   "source": [
    "How will you do the same without dictionary comprehension or copy( ) method ?\n",
    "\n",
    "cars = {\"Maruti\":\"Ciaz\",\"Hyundai\":\"Verna\",\"Honda\":\"Amaze\"}\n",
    "newcars={}\n",
    "for (k,v) in cars.items():\n",
    "\tnewcars[k]=v\n"
   ]
  },
  {
   "cell_type": "code",
   "execution_count": null,
   "metadata": {},
   "outputs": [],
   "source": [
    "Write a program to produce a new dictionary from the given dictionary with the values of each key getting doubled\n",
    "\n",
    "dict1 = {'a': 1, 'b': 2, 'c': 3, 'd': 4, 'e': 5}\n",
    "double_dict1 = {k:v*2 for (k,v) in dict1.items()}\n",
    "print(double_dict1)\n",
    "\n"
   ]
  },
  {
   "cell_type": "code",
   "execution_count": null,
   "metadata": {},
   "outputs": [],
   "source": [
    "Write a program to produce a new dictionary from the given dictionary with the keys of each key getting doubled\n",
    "\n",
    "dict1 = {'a': 1, 'b': 2, 'c': 3, 'd': 4, 'e': 5}\n",
    "double_dict1 = {k*2:v for (k,v) in dict1.items()}\n",
    "print(double_dict1)\n"
   ]
  },
  {
   "cell_type": "code",
   "execution_count": null,
   "metadata": {},
   "outputs": [],
   "source": [
    "Write a program to accept a string from the user and print the frequency count of it’s letters , i.e. how many times each letter is occuring in the string\n"
   ]
  },
  {
   "cell_type": "code",
   "execution_count": null,
   "metadata": {},
   "outputs": [],
   "source": [
    "str=input(\"Type a string:\")\n",
    "mydict={ch:str.count(ch) for ch in str}\n",
    "for k,v in mydict.items():\n",
    "\tprint(k,\":\",v)\n"
   ]
  },
  {
   "cell_type": "code",
   "execution_count": null,
   "metadata": {},
   "outputs": [],
   "source": [
    "Like list comprehension , dictionary comprehension also allows us to add conditionals to make it more powerful.\n",
    "\n",
    "Syntax:\n",
    "dict_variable = { key:value for (key,value) in iterable <test_cond>}\n",
    "\n",
    "\n",
    "As usual , only those key-value pairs will be returned by dictionary comprehension which satisfy the condition\n"
   ]
  },
  {
   "cell_type": "code",
   "execution_count": null,
   "metadata": {},
   "outputs": [],
   "source": [
    "Write a program to produce a new dictionary from the given dictionary but with the values that are greater than 2\n",
    "\n",
    "dict1 = {'a': 1, 'b': 2, 'c': 3, 'd': 4, 'e': 5}\n",
    "dict2 = {k:v*2 for (k,v) in dict1.items() if v>2}\n",
    "print(dict2)\n"
   ]
  },
  {
   "cell_type": "code",
   "execution_count": null,
   "metadata": {},
   "outputs": [],
   "source": [
    "Write a program to produce a new dictionary from the given dictionary but with the values that are greater than 2 as well as multiple of 2\n",
    "\n",
    "dict1 = {'a': 1, 'b': 2, 'c': 3, 'd': 4, 'e': 5}\n",
    "dict2 = {k:v*2 for (k,v) in dict1.items() if v>2 if v%2==0}\n",
    "print(dict2)\n"
   ]
  },
  {
   "cell_type": "code",
   "execution_count": null,
   "metadata": {},
   "outputs": [],
   "source": [
    "Write a program to produce a new dictionary from the given dictionary but with the value should be the string “EVEN” for even values and “ODD” for odd values\n",
    "\n",
    "dict1 = {'a': 1, 'b': 2, 'c': 3, 'd': 4, 'e': 5}\n",
    "dict2= {k:'even' if v%2==0 else 'odd' for (k,v) in dict1.items()}\n",
    "print(dict2)\n"
   ]
  },
  {
   "cell_type": "code",
   "execution_count": null,
   "metadata": {},
   "outputs": [],
   "source": [
    "Almost any type of value can be used as a dictionary key in Python , like integer, float,  Boolean etc\n",
    "\n",
    "Example:\n",
    "\td={65:\"A\", 3.14:\"pi\", True:1}\n",
    "\tprint(d)\n"
   ]
  },
  {
   "cell_type": "code",
   "execution_count": null,
   "metadata": {},
   "outputs": [],
   "source": [
    "We can even use built-in objects like types and functions:\n",
    "\n",
    "Example:\n",
    "d={int:1, float:2, bool:3}\n",
    "print(d)\n",
    "print(d[float])\n"
   ]
  },
  {
   "cell_type": "code",
   "execution_count": null,
   "metadata": {},
   "outputs": [],
   "source": [
    "Duplicate keys are not allowed. If we assign a value to an already existing dictionary key, it does not add the key a second time, but replaces the existing value:\n",
    "\n",
    "Example:\n",
    "d={\"MP\":\"Indore\",\"UP\":\"Lucknow\",\"RAJ\":\"Jaipur\"}\n",
    "print(d)\n",
    "d[\"MP\"]=\"Bhopal\"\n",
    "print(d)\n"
   ]
  },
  {
   "cell_type": "code",
   "execution_count": null,
   "metadata": {},
   "outputs": [],
   "source": [
    "If we specify a key a second time during the initial creation of a dictionary, the second occurrence will override the first:\n",
    "Example:\n",
    "d={\"MP\":\"Indore\",\"UP\":\"Lucknow\",\"RAJ\":\"Jaipur\",\"MP\":\"Bhopal\"}\n",
    "print(d)\n"
   ]
  },
  {
   "cell_type": "code",
   "execution_count": null,
   "metadata": {},
   "outputs": [],
   "source": [
    "A dictionary key must be of a type that is immutable. Like  integer, float, string and Boolean—can serve as dictionary keys. Even a tuple can also be a dictionary key, because tuples are immutable:\n",
    "\n",
    "Example:\n",
    "d = {(1, 1): 'a', (1, 2): 'b', (2, 1): 'c', (2, 2): 'd'}\n",
    "print(d)\n",
    "print(d[(1,2)])\n"
   ]
  },
  {
   "cell_type": "code",
   "execution_count": null,
   "metadata": {},
   "outputs": [],
   "source": [
    "However, neither a list nor another dictionary can serve as a dictionary key, because lists and dictionaries are mutable:\n",
    "\n",
    "Example:\n",
    "d = {[1, 1]: 'a', [1, 2]: 'b', [2, 1]: 'c', [2, 2]: 'd'}\n",
    "print(d)\n"
   ]
  },
  {
   "cell_type": "code",
   "execution_count": null,
   "metadata": {},
   "outputs": [],
   "source": [
    "There are no restrictions on dictionary values. \n",
    "\n",
    "\n",
    "A dictionary value can be any type of object Python supports, including mutable types like lists and dictionaries, and user-defined objects\n",
    "\n",
    "\n",
    "There is also no restriction against a particular value appearing in a dictionary multiple times:\n"
   ]
  },
  {
   "cell_type": "code",
   "execution_count": null,
   "metadata": {},
   "outputs": [],
   "source": [
    "Write a complete COUNTRY MANAGEMENT APP. Your code should store COUNTRY CODE and COUNTRY NAME as key-value pair in a dictionary and allow perform following operations on the dictionary :\n",
    "View\n",
    "Add\n",
    "Delete\n",
    "\n",
    "To start the program initialize your dictionary with \n",
    "the following set of key-value pairs:\n",
    "\n",
    "INIndia\n",
    "USAmerica\n",
    "AUAustralia\n",
    "CACanada\n"
   ]
  },
  {
   "cell_type": "code",
   "execution_count": null,
   "metadata": {},
   "outputs": [],
   "source": [
    "def show_menu():\n",
    "\tprint(\"SELECT AN OPTION:\")\n",
    "\tprint(\"view: View country names\")\n",
    "\tprint(\"add: Add a country\")\n",
    "\tprint(\"del: Delete a country\")\n",
    "\tprint(\"exit- Exit the program\")\n",
    "\tprint()\n",
    "\t\n",
    "def show_codes(countries):\n",
    "\tcodes=list(countries.keys())\n",
    "\tcodes.sort()\n",
    "\tstr=\"Country Codes:\"\n",
    "\tfor x in codes:\n",
    "\t\tstr+=x+\" \"\n",
    "\tprint(str)\n"
   ]
  },
  {
   "cell_type": "code",
   "execution_count": null,
   "metadata": {},
   "outputs": [],
   "source": [
    "def view_country(countries):\n",
    "\tshow_codes(countries)\n",
    "\tcode=input(\"Enter country code:\")\n",
    "\tcname=countries.get(code.upper())\n",
    "\tif cname==None:\n",
    "\t\tprint(\"There is no country for country code\",code)\n",
    "\telse:\n",
    "\t\tprint(\"Country is\",cname)\n",
    "def add_country(countries):\n",
    "\tcode=input(\"Enter country code:\")\n",
    "\tcode=code.upper()\n",
    "\tcname=countries.get(code)\n",
    "\tif cname==None:\n",
    "\t\tcname=input(\"Enter country name:\")\n",
    "\t\tcname=cname.title()\n",
    "\t\tcountries[code]=cname\n",
    "\t\tprint(cname, \"added to the list\")\n",
    "\telse:\n",
    "\t\tprint(code ,\"is already used by\",cname)\n"
   ]
  },
  {
   "cell_type": "code",
   "execution_count": null,
   "metadata": {},
   "outputs": [],
   "source": [
    "def del_country(countries):\n",
    "\tcode=input(\"Enter country code:\")\n",
    "\tcname=countries.pop(code.upper(),\"NF\")\n",
    "\tif cname==\"NF\":\n",
    "\t\tprint(\"Sorry! You entered a wrong country code\")\n",
    "\telse:\n",
    "\t\tprint(cname ,\"was deleted successfully! from the list\")\n",
    "\t\n",
    "countries={\"IN\":\"India\",\"US\":\"America\",\"AU\":\"Australia\",\"CA\":\"Canada\"}\n",
    "while True:\n",
    "\tshow_menu()\n",
    "\tchoice=input(\"Your choice:\")\n",
    "\tif choice==\"view\":\n",
    "\t\tview_country(countries)\n",
    "\telif choice==\"add\":\n",
    "\t\tadd_country(countries)\n",
    "\telif choice==\"del\":\n",
    "\t\tdel_country(countries)\n",
    "\telif choice==\"exit\":\n",
    "\t\t break;\n",
    "\telse:\n",
    "\t\tprint(\"Wrong choice ! Try again!\")\n"
   ]
  },
  {
   "cell_type": "code",
   "execution_count": null,
   "metadata": {},
   "outputs": [],
   "source": [
    "Modify the previous code , so that now you are able to store 3 values for each key . These are COUNTRY NAME , CAPITAL CITY and POPULATION. Provide same options to the user and start with the following data\n",
    "\n",
    "INIndia , Delhi,1320000000\n",
    "USAmerica,Washington,320000000\n",
    "AUAustralia,Canberra,24000000\n",
    "CACanada,Ottawa,940000\n"
   ]
  },
  {
   "cell_type": "code",
   "execution_count": null,
   "metadata": {},
   "outputs": [],
   "source": []
  }
 ],
 "metadata": {
  "kernelspec": {
   "display_name": "Python 3",
   "language": "python",
   "name": "python3"
  },
  "language_info": {
   "codemirror_mode": {
    "name": "ipython",
    "version": 3
   },
   "file_extension": ".py",
   "mimetype": "text/x-python",
   "name": "python",
   "nbconvert_exporter": "python",
   "pygments_lexer": "ipython3",
   "version": "3.8.3"
  }
 },
 "nbformat": 4,
 "nbformat_minor": 4
}
