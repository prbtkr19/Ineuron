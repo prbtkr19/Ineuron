{
 "cells": [
  {
   "cell_type": "markdown",
   "metadata": {},
   "source": [
    "### What Is A Tuple ?"
   ]
  },
  {
   "cell_type": "code",
   "execution_count": null,
   "metadata": {},
   "outputs": [],
   "source": [
    "Python provides another type that is an ordered collection of objects.\n",
    "\n",
    "\n",
    "This type is called a tuple.\n"
   ]
  },
  {
   "cell_type": "markdown",
   "metadata": {},
   "source": [
    "### Differences With List"
   ]
  },
  {
   "cell_type": "markdown",
   "metadata": {},
   "source": [
    "Tuples are identical to lists in all respects, except for the following properties:\n",
    "\n",
    "Tuples are defined by enclosing the elements in parentheses (()) instead of square brackets ([]).\n",
    "\n",
    "Tuples are immutable.\n"
   ]
  },
  {
   "cell_type": "markdown",
   "metadata": {},
   "source": [
    "### Advantages Of Tuple Over List"
   ]
  },
  {
   "cell_type": "markdown",
   "metadata": {},
   "source": [
    "Program execution is faster when manipulating a tuple than it is for the equivalent list. \n",
    "\n",
    "They prevent accidental modification.\n",
    "\n",
    "There is another Python data type called a dictionary, which requires as one of it’s components a value that is of an immutable type. A tuple can be used for this purpose, whereas a list can’t be.\n"
   ]
  },
  {
   "cell_type": "code",
   "execution_count": null,
   "metadata": {},
   "outputs": [],
   "source": [
    "As mentioned before a tuple is created by placing all the items (elements) inside a parenthesis (  ), separated by commas.\n",
    "\n",
    "It can contain heterogeneous elements also.\n",
    "\n",
    "\n",
    "\n",
    "\n",
    "\n"
   ]
  },
  {
   "cell_type": "code",
   "execution_count": 2,
   "metadata": {},
   "outputs": [],
   "source": [
    "# empty tuple\n",
    "my_tuple = ()"
   ]
  },
  {
   "cell_type": "code",
   "execution_count": 3,
   "metadata": {},
   "outputs": [],
   "source": [
    "\n",
    "# tuple having integers\n",
    "my_tuple = (1, 2, 3)"
   ]
  },
  {
   "cell_type": "code",
   "execution_count": 4,
   "metadata": {},
   "outputs": [],
   "source": [
    "# tuple with mixed datatypes\n",
    "my_tuple = (1, \"Hello\", 3.4)"
   ]
  },
  {
   "cell_type": "code",
   "execution_count": 5,
   "metadata": {},
   "outputs": [
    {
     "name": "stdout",
     "output_type": "stream",
     "text": [
      "2\n",
      "<class 'int'>\n"
     ]
    }
   ],
   "source": [
    "my_tuple = (2)\n",
    "print(my_tuple)\n",
    "print(type(my_tuple))\n",
    "\n"
   ]
  },
  {
   "cell_type": "code",
   "execution_count": 6,
   "metadata": {},
   "outputs": [
    {
     "name": "stdout",
     "output_type": "stream",
     "text": [
      "(2,)\n",
      "<class 'tuple'>\n"
     ]
    }
   ],
   "source": [
    "my_tuple = (2,)\n",
    "print(my_tuple)\n",
    "print(type(my_tuple))\n"
   ]
  },
  {
   "cell_type": "markdown",
   "metadata": {},
   "source": [
    "Packing and unpacking is another thing which sets tuples apart from lists."
   ]
  },
  {
   "cell_type": "code",
   "execution_count": null,
   "metadata": {},
   "outputs": [],
   "source": [
    "Packing:\n",
    "Packing is a simple syntax which lets us create tuples \"on the fly\" without using the normal notation:\n",
    "\ta = 1, 2, 3 \n",
    "This creates a tuple of 3 values and assigned it to a. Comparing this to the \"normal\" way:\n",
    "\ta = (1, 2, 3)\n"
   ]
  },
  {
   "cell_type": "code",
   "execution_count": 7,
   "metadata": {},
   "outputs": [],
   "source": [
    "a = (1, 2, 3)"
   ]
  },
  {
   "cell_type": "code",
   "execution_count": 10,
   "metadata": {},
   "outputs": [
    {
     "ename": "ValueError",
     "evalue": "too many values to unpack (expected 2)",
     "output_type": "error",
     "traceback": [
      "\u001b[1;31m---------------------------------------------------------------------------\u001b[0m",
      "\u001b[1;31mValueError\u001b[0m                                Traceback (most recent call last)",
      "\u001b[1;32m<ipython-input-10-bdaab2078729>\u001b[0m in \u001b[0;36m<module>\u001b[1;34m\u001b[0m\n\u001b[1;32m----> 1\u001b[1;33m \u001b[0mx\u001b[0m\u001b[1;33m,\u001b[0m \u001b[0my\u001b[0m\u001b[1;33m=\u001b[0m \u001b[0ma\u001b[0m\u001b[1;33m\u001b[0m\u001b[1;33m\u001b[0m\u001b[0m\n\u001b[0m",
      "\u001b[1;31mValueError\u001b[0m: too many values to unpack (expected 2)"
     ]
    }
   ],
   "source": [
    "x, y= a "
   ]
  },
  {
   "cell_type": "code",
   "execution_count": 9,
   "metadata": {},
   "outputs": [
    {
     "data": {
      "text/plain": [
       "(1, 2, 3)"
      ]
     },
     "execution_count": 9,
     "metadata": {},
     "output_type": "execute_result"
    }
   ],
   "source": [
    "x, y, z"
   ]
  },
  {
   "cell_type": "code",
   "execution_count": null,
   "metadata": {},
   "outputs": [],
   "source": [
    "Unpacking:\n",
    "We can also go the other way, and unpack the values from a tuple into separate variables:\n",
    "    a = 1, 2, 3 \n",
    "    x, y, z = a \n",
    "\n",
    "After running this code, we have x = 1, y = 2 and z = 3. \n",
    "\n",
    "The value of the tuple a is unpacked into the 3 variables x, y and z. \n",
    "\n",
    "Note that the number of variables has to exactly match the number of elements in the tuple, or there will be an exception.\n",
    "\n"
   ]
  },
  {
   "cell_type": "code",
   "execution_count": null,
   "metadata": {},
   "outputs": [],
   "source": [
    "In the previous code , the variable a is just used as a temporary store for the tuple. \n",
    "\n",
    "We also can leave the middle-man and do this:\n",
    "\tx, y, z = 1, 2, 3 \n",
    "\n",
    "After running this code, as before, we have x = 1, y =2 and z = 3.\n",
    "\n",
    "But can you guess what Python is doing internally ?\n"
   ]
  },
  {
   "cell_type": "code",
   "execution_count": null,
   "metadata": {},
   "outputs": [],
   "source": [
    "We have seen the following code many times before which swaps the variables a and b :\n",
    "\ta = 10 \n",
    "\tb = 20 \n",
    "\tb, a = a, b\n",
    "\n",
    "Now , can you tell what is happening internally ?\n",
    "\n",
    "First, a and b get packed into a tuple. \n",
    "Then the tuple gets unpacked again, but this time into variables b then a. \n",
    "So the values get swapped!\n"
   ]
  },
  {
   "cell_type": "code",
   "execution_count": 11,
   "metadata": {},
   "outputs": [],
   "source": [
    "def calculate(a,b): \n",
    "    c=a+b\n",
    "    d=a-b\n",
    "    return c,d"
   ]
  },
  {
   "cell_type": "code",
   "execution_count": 12,
   "metadata": {},
   "outputs": [],
   "source": [
    "x,y=calculate(5,3)"
   ]
  },
  {
   "cell_type": "code",
   "execution_count": 13,
   "metadata": {},
   "outputs": [
    {
     "data": {
      "text/plain": [
       "8"
      ]
     },
     "execution_count": 13,
     "metadata": {},
     "output_type": "execute_result"
    }
   ],
   "source": [
    "x"
   ]
  },
  {
   "cell_type": "code",
   "execution_count": 14,
   "metadata": {},
   "outputs": [
    {
     "data": {
      "text/plain": [
       "2"
      ]
     },
     "execution_count": 14,
     "metadata": {},
     "output_type": "execute_result"
    }
   ],
   "source": [
    "y"
   ]
  },
  {
   "cell_type": "code",
   "execution_count": null,
   "metadata": {},
   "outputs": [],
   "source": []
  },
  {
   "cell_type": "code",
   "execution_count": null,
   "metadata": {},
   "outputs": [],
   "source": []
  },
  {
   "cell_type": "code",
   "execution_count": null,
   "metadata": {},
   "outputs": [],
   "source": []
  },
  {
   "cell_type": "code",
   "execution_count": null,
   "metadata": {},
   "outputs": [],
   "source": []
  },
  {
   "cell_type": "code",
   "execution_count": null,
   "metadata": {},
   "outputs": [],
   "source": [
    "def calculate(a,b): \n",
    "    c=a+b\n",
    "    d=a-b\n",
    "    return c,d\n",
    "x,y=calculate(5,3)\n",
    "print(\"Sum is\",x,\"and difference is\",y)\n",
    "z=calculate(15,23)\n",
    "print(\"Sum is\",z[0],\"and difference is\",z[1]) \n",
    "\n"
   ]
  },
  {
   "cell_type": "markdown",
   "metadata": {},
   "source": [
    "Here Python will do the following:\n",
    "    \n",
    "It will pack the values of c and d in a tuple\n",
    "\n",
    "Then it will unpack this tuple into the variables x and y\n",
    "\n",
    "In the second call since z is a single variable , it is automatically converted into a tuple\n"
   ]
  },
  {
   "cell_type": "code",
   "execution_count": 17,
   "metadata": {},
   "outputs": [
    {
     "name": "stdout",
     "output_type": "stream",
     "text": [
      "Sum is ((10, 20, 30, 40),)\n"
     ]
    }
   ],
   "source": [
    "def add(*a):\n",
    "    print(\"Sum is\",a)\n",
    "\n",
    "mytuple=(10,20,30,40)\n",
    "add(mytuple)\n",
    "\n"
   ]
  },
  {
   "cell_type": "code",
   "execution_count": null,
   "metadata": {},
   "outputs": [],
   "source": [
    "Since we are passing mytuple as a\n",
    "single argument , so Python\n",
    "is giving exception. \n",
    "\n"
   ]
  },
  {
   "cell_type": "code",
   "execution_count": null,
   "metadata": {},
   "outputs": [],
   "source": [
    "To overcome this we must \n",
    "unpack mytuple to 4 individual \n",
    "values. This can be done by \n",
    "prefixing mytuple with\n",
    "a *. So the call will be\n",
    "add(*mytuple"
   ]
  },
  {
   "cell_type": "code",
   "execution_count": 19,
   "metadata": {},
   "outputs": [
    {
     "name": "stdout",
     "output_type": "stream",
     "text": [
      "Sum is 100\n"
     ]
    }
   ],
   "source": [
    "def add(a,b,c,d):\n",
    "    print(\"Sum is\",a+b+c+d)\n",
    "\n",
    "mytuple=(10,20,30,40)\n",
    "add(*mytuple)\n"
   ]
  },
  {
   "cell_type": "code",
   "execution_count": null,
   "metadata": {},
   "outputs": [],
   "source": [
    "Similar to a list , we can access/print a tuple in three ways:\n",
    "\n",
    "Directly passing it to the print( ) function\n",
    "\n",
    "Accessing individual elements using subscript operator [ ]\n",
    "\n",
    "Accessing multiple elements using slice operator [ : ]\n"
   ]
  },
  {
   "cell_type": "code",
   "execution_count": null,
   "metadata": {},
   "outputs": [],
   "source": [
    "values=(10,20,30,40)\n",
    "print(values)\n",
    "\n"
   ]
  },
  {
   "cell_type": "code",
   "execution_count": null,
   "metadata": {},
   "outputs": [],
   "source": [
    "Like a list , a tuple also  has indexes running from 0 to size-1\n",
    "\n",
    "For example:\n",
    "\n",
    "mynums=(10,20,30,40,50)\n",
    "\n",
    "\n",
    "The above code will create a logical diagram in memory, where positive indexing will go from 0 to 4 and negative indexing from -1 to -5\n"
   ]
  },
  {
   "cell_type": "code",
   "execution_count": null,
   "metadata": {},
   "outputs": [],
   "source": [
    "Accessing Individual Elements\n",
    "\n"
   ]
  },
  {
   "cell_type": "code",
   "execution_count": null,
   "metadata": {},
   "outputs": [],
   "source": [
    "mynums=(10,20,30,40,50)\n",
    "print(mynums[0])\n",
    "print(mynums[1])\n",
    "print(mynums[-3])\n",
    "print(mynums[-2])\n"
   ]
  },
  {
   "cell_type": "code",
   "execution_count": null,
   "metadata": {},
   "outputs": [],
   "source": [
    "mynums=(10,20,30,40,50)\n",
    "n=len(mynums)\n",
    "i=0\n",
    "while i<n:\n",
    "\tprint(mynums[i])\n",
    "\ti=i+1\n"
   ]
  },
  {
   "cell_type": "code",
   "execution_count": null,
   "metadata": {},
   "outputs": [],
   "source": [
    "mynums=(10,20,30,40,50)\n",
    "for x in mynums:\n",
    "\tprint(x)\n"
   ]
  },
  {
   "cell_type": "markdown",
   "metadata": {},
   "source": [
    "### Slice Operator With Tuple"
   ]
  },
  {
   "cell_type": "code",
   "execution_count": null,
   "metadata": {},
   "outputs": [],
   "source": [
    "Just like we can apply slice operator with lists and strings , similarly Python allows us to apply slice operator with tuple also.\n",
    "\n",
    "\n",
    "Syntax: tuple_var[x:y]\n",
    "\n",
    "x denotes the start index of slicing and y denotes the end index . But Python ends slicing at y-1 index.\n"
   ]
  },
  {
   "cell_type": "code",
   "execution_count": null,
   "metadata": {},
   "outputs": [],
   "source": [
    "Example:\n",
    "\t\n",
    "mynums=(10,20,30,40,50)\n",
    "print(mynums[1:4])\n"
   ]
  },
  {
   "cell_type": "code",
   "execution_count": null,
   "metadata": {},
   "outputs": [],
   "source": [
    "Example:\n",
    "\n",
    "mynums=(10,20,30, 40,50)\n",
    "print(mynums[3:5])\n"
   ]
  },
  {
   "cell_type": "markdown",
   "metadata": {},
   "source": [
    "### Changing The Tuple\n",
    "\n",
    "### Deleting The Tuple\n",
    "\n",
    "### Functions Used With Tuple\n"
   ]
  },
  {
   "cell_type": "code",
   "execution_count": null,
   "metadata": {},
   "outputs": [],
   "source": [
    "Unlike lists, tuples are immutable.\n",
    "\n",
    "\n",
    "\n",
    "This means that elements of a tuple cannot be changed once it has been assigned. \n"
   ]
  },
  {
   "cell_type": "code",
   "execution_count": null,
   "metadata": {},
   "outputs": [],
   "source": [
    "mynums=(10,20,30,40,50)\n",
    "mynums[0]=15\n",
    "\n"
   ]
  },
  {
   "cell_type": "code",
   "execution_count": null,
   "metadata": {},
   "outputs": [],
   "source": [
    "mynums=([10,20],30,40,50)\n",
    "print(mynums)\n",
    "mynums[0][0]=15\n",
    "print(mynums)\n"
   ]
  },
  {
   "cell_type": "code",
   "execution_count": null,
   "metadata": {},
   "outputs": [],
   "source": [
    "Although a tuple is immutable,\n",
    "but if it contains a mutable\n",
    "data then we can change \n",
    "it’s value\n"
   ]
  },
  {
   "cell_type": "code",
   "execution_count": null,
   "metadata": {},
   "outputs": [],
   "source": [
    "myvalues=(\"hello\",30,40,50)\n",
    "print(myvalues)\n",
    "myvalues[0]=\"hi\"\n",
    "print(myvalues) \t\n"
   ]
  },
  {
   "cell_type": "code",
   "execution_count": null,
   "metadata": {},
   "outputs": [],
   "source": [
    "myvalues=([\"hello\",20],30,40,50)\n",
    "print(myvalues)\n",
    "myvalues[0][0]=\"hi\"\n",
    "print(myvalues)\n",
    "\t\n"
   ]
  },
  {
   "cell_type": "code",
   "execution_count": null,
   "metadata": {},
   "outputs": [],
   "source": [
    "mynums=(10,20,30,40,50)\n",
    "print(mynums)\n",
    "mynums=(15,25,35,45,55)\n",
    "print(mynums)\n"
   ]
  },
  {
   "cell_type": "code",
   "execution_count": null,
   "metadata": {},
   "outputs": [],
   "source": [
    "As we discussed previously, a tuple is immutable. \n",
    "\n",
    "\n",
    "This also means that we can’t delete just a part of it. \n",
    "\n",
    "\n",
    "However we can delete an entire tuple if required.\n"
   ]
  },
  {
   "cell_type": "code",
   "execution_count": null,
   "metadata": {},
   "outputs": [],
   "source": [
    "mynums=(10,20,30,40,50)\n",
    "print(mynums)\n",
    "del mynums[0]\n",
    "print(mynums)\n",
    "\t\n"
   ]
  },
  {
   "cell_type": "code",
   "execution_count": null,
   "metadata": {},
   "outputs": [],
   "source": [
    "mynums=(10,20,30,40,50)\n",
    "print(mynums)\n",
    "del mynums[2:4]\n",
    "print(mynums)\n"
   ]
  },
  {
   "cell_type": "code",
   "execution_count": null,
   "metadata": {},
   "outputs": [],
   "source": [
    "mynums=(10,20,30,40,50)\n",
    "print(mynums)\n",
    "del mynums\n",
    "print(mynums) \t\n"
   ]
  },
  {
   "cell_type": "markdown",
   "metadata": {},
   "source": [
    "A lot of functions that work on lists work on tuples too. \n",
    "\n",
    "But only those functions work with tuple which do not modify it\n",
    "\n",
    "Can you figure out which of these functions will work with tuple ?\n",
    "\n",
    "len()\n",
    "\n",
    "max()\n",
    "\n",
    "min()\n",
    "\n",
    "sum()\n",
    "\n",
    "sorted()\n",
    "\n",
    "tuple()\n",
    "\n",
    "any()\n",
    "\n",
    "all()\n"
   ]
  },
  {
   "cell_type": "markdown",
   "metadata": {},
   "source": [
    "All of them will work with tuple.\n",
    "\n",
    "Will sorted( ) also work ?\n",
    "\n",
    "Yes, even sorted( ) function \n",
    "will also work since it does not \n",
    "change the original tuple , \n",
    "rather it returns a sorted copy \n",
    "of it\n"
   ]
  },
  {
   "cell_type": "markdown",
   "metadata": {},
   "source": [
    "### The len( ) Function"
   ]
  },
  {
   "cell_type": "code",
   "execution_count": null,
   "metadata": {},
   "outputs": [],
   "source": [
    "Returns the number of items in the tuple\n",
    "Example:\n",
    "fruits=(\"apple\",\"banana\",\"orange\",None)\n",
    "print(len(fruits)) \n"
   ]
  },
  {
   "cell_type": "markdown",
   "metadata": {},
   "source": [
    "### The max( ) Function"
   ]
  },
  {
   "cell_type": "code",
   "execution_count": null,
   "metadata": {},
   "outputs": [],
   "source": [
    "Returns the greatest item present in the tuple\n",
    "\n",
    "Example:\n",
    "nums=(5,2,11,3)\n",
    "print(max(nums))\n"
   ]
  },
  {
   "cell_type": "code",
   "execution_count": null,
   "metadata": {},
   "outputs": [],
   "source": [
    "months=(\"january\",\"may\",\"december“)\n",
    "print(max(months))\n"
   ]
  },
  {
   "cell_type": "code",
   "execution_count": null,
   "metadata": {},
   "outputs": [],
   "source": [
    "booleans=(False,True)\n",
    "print(max(booleans))\n"
   ]
  },
  {
   "cell_type": "code",
   "execution_count": null,
   "metadata": {},
   "outputs": [],
   "source": [
    "Mynums=(True,5,False)\n",
    "print(max(mynums))\n",
    "\n"
   ]
  },
  {
   "cell_type": "code",
   "execution_count": null,
   "metadata": {},
   "outputs": [],
   "source": [
    "mynums=(\"True\",False)\n",
    "print(max(mynums))\n",
    "\n"
   ]
  },
  {
   "cell_type": "code",
   "execution_count": null,
   "metadata": {},
   "outputs": [],
   "source": [
    "values=(10,\"hello\",20,\"bye\")\n",
    "print(max(values))\n"
   ]
  },
  {
   "cell_type": "code",
   "execution_count": null,
   "metadata": {},
   "outputs": [],
   "source": [
    "fruits=(\"apple\",\"banana\",\"orange\")\n",
    "print(max(fruits)) \n",
    "\n"
   ]
  },
  {
   "cell_type": "code",
   "execution_count": null,
   "metadata": {},
   "outputs": [],
   "source": [
    "fruits=(\"apple\",\"banana\",\"orange\",None)\n",
    "print(max(fruits)) \n"
   ]
  },
  {
   "cell_type": "markdown",
   "metadata": {},
   "source": [
    "### The min( ) Function"
   ]
  },
  {
   "cell_type": "code",
   "execution_count": null,
   "metadata": {},
   "outputs": [],
   "source": [
    "Returns the least item present in the tuple\n",
    "\n",
    "Example:\n",
    "nums=(5,2,11,3)\n",
    "print(min(nums))\n"
   ]
  },
  {
   "cell_type": "code",
   "execution_count": null,
   "metadata": {},
   "outputs": [],
   "source": [
    "months=(\"january\",\"may\",\"december\")\n",
    "print(min(months))\n"
   ]
  },
  {
   "cell_type": "markdown",
   "metadata": {},
   "source": [
    "### The sum( ) Function"
   ]
  },
  {
   "cell_type": "code",
   "execution_count": null,
   "metadata": {},
   "outputs": [],
   "source": [
    "Returns the sum of all the items present in the tuple . \n",
    "\n",
    "As before , the  items must be of Numeric or boolean type\n",
    "\n",
    "Example:\n",
    "nums=(10,20,30)\n",
    "print(sum(nums))\n"
   ]
  },
  {
   "cell_type": "markdown",
   "metadata": {},
   "source": [
    "### The sorted( ) Function"
   ]
  },
  {
   "cell_type": "code",
   "execution_count": null,
   "metadata": {},
   "outputs": [],
   "source": [
    "Returns a sorted version of the tuple passed as argument.\n",
    "\n",
    "Example:\n",
    "nums=(7,4,9,1)\n",
    "print(sorted(nums)) \n",
    "print(nums)\n"
   ]
  },
  {
   "cell_type": "code",
   "execution_count": null,
   "metadata": {},
   "outputs": [],
   "source": [
    "Although sorted( ) is working\n",
    "on a tuple , but it has returned\n",
    "a list\n"
   ]
  },
  {
   "cell_type": "code",
   "execution_count": null,
   "metadata": {},
   "outputs": [],
   "source": [
    "months=(\"january\",\"may\",\"december\")\n",
    "print(sorted(months)) \n",
    "\n",
    "Output:\n",
    "[“december”,”january”,”may”]\n"
   ]
  },
  {
   "cell_type": "markdown",
   "metadata": {},
   "source": [
    "### Sorting In Descending Order"
   ]
  },
  {
   "cell_type": "code",
   "execution_count": null,
   "metadata": {},
   "outputs": [],
   "source": [
    "To sort the tuple in descending order , we can pass the keyword argument reverse with value set to True to the function sorted( )\n",
    "\n",
    "Example:\n",
    "nums=(7,4,9,1)\n",
    "print(sorted(nums,reverse=True))\n",
    "print(nums)\n"
   ]
  },
  {
   "cell_type": "code",
   "execution_count": null,
   "metadata": {},
   "outputs": [],
   "source": [
    "The tuple( ) function converts an iterable i.e list , range, set , dictionary and string to a tuple.\n",
    "Syntax:\n",
    "tuple(iterable)\n",
    "\n",
    "Example:\n",
    "city=\"bhopal\"\n",
    "x=tuple(city)\n",
    "print(x)\n"
   ]
  },
  {
   "cell_type": "code",
   "execution_count": null,
   "metadata": {},
   "outputs": [],
   "source": [
    "n=20\n",
    "x=tuple(n)\n",
    "print(x)\n",
    "\n"
   ]
  },
  {
   "cell_type": "code",
   "execution_count": null,
   "metadata": {},
   "outputs": [],
   "source": [
    "n=\"20\"\n",
    "x=tuple(n)\n",
    "print(x)\n"
   ]
  },
  {
   "cell_type": "code",
   "execution_count": null,
   "metadata": {},
   "outputs": [],
   "source": [
    "l=[10,20,30]\n",
    "x=tuple(l)\n",
    "print(x)\n"
   ]
  },
  {
   "cell_type": "markdown",
   "metadata": {},
   "source": [
    "### The any( ) Function"
   ]
  },
  {
   "cell_type": "code",
   "execution_count": null,
   "metadata": {},
   "outputs": [],
   "source": [
    "The any( ) function accepts a Tuple as argument and returns True if atleast one element of the Tuple is True. If not, this method returns False. If the Tuple is empty, then also it returns False\n",
    "Syntax:\n",
    "list(iterable)\n",
    "\n",
    "Example:\n",
    "x = (1, 3, 4, 0)\n",
    "print(any(x))\n"
   ]
  },
  {
   "cell_type": "code",
   "execution_count": null,
   "metadata": {},
   "outputs": [],
   "source": [
    "x = (0, False)\n",
    "print(any(x))\n",
    "\n"
   ]
  },
  {
   "cell_type": "code",
   "execution_count": null,
   "metadata": {},
   "outputs": [],
   "source": [
    "x = (0, False, 5)\n",
    "print(any(x))\n",
    "\n",
    "\n"
   ]
  },
  {
   "cell_type": "code",
   "execution_count": null,
   "metadata": {},
   "outputs": [],
   "source": [
    "x= ()\n",
    "print(any(x))\n",
    "\n"
   ]
  },
  {
   "cell_type": "code",
   "execution_count": null,
   "metadata": {},
   "outputs": [],
   "source": [
    "x= (\"\",\"0\", \"\")\n",
    "print(any(x))\n",
    "\n"
   ]
  },
  {
   "cell_type": "code",
   "execution_count": null,
   "metadata": {},
   "outputs": [],
   "source": [
    "x= (\"\",0, \"\")\n",
    "print(any(x))\n",
    "\n"
   ]
  },
  {
   "cell_type": "markdown",
   "metadata": {},
   "source": [
    "### The all( ) Function"
   ]
  },
  {
   "cell_type": "code",
   "execution_count": null,
   "metadata": {},
   "outputs": [],
   "source": [
    "The all( ) function accepts a Tuple as argument and returns True if  all the elements of the Tuple are True or if the Tuple is empty .If not, this method returns False.\n",
    "\n",
    "Syntax:\n",
    "all(iterable)\n",
    "\n",
    "Example:\n",
    "x = (1, 3, 4, 0)\n",
    "print(all(x))\n"
   ]
  },
  {
   "cell_type": "code",
   "execution_count": null,
   "metadata": {},
   "outputs": [],
   "source": [
    "x = (0, False)\n",
    "print(all(x))\n",
    "\n",
    "\n"
   ]
  },
  {
   "cell_type": "code",
   "execution_count": null,
   "metadata": {},
   "outputs": [],
   "source": [
    "x = (1,3,4,5)\n",
    "print(all(x))\n",
    "\n",
    "\n"
   ]
  },
  {
   "cell_type": "code",
   "execution_count": null,
   "metadata": {},
   "outputs": [],
   "source": [
    "x = (0, False, 5)\n",
    "print(all(x))\n"
   ]
  },
  {
   "cell_type": "code",
   "execution_count": null,
   "metadata": {},
   "outputs": [],
   "source": [
    "x= ()\n",
    "print(all(x))\n"
   ]
  },
  {
   "cell_type": "markdown",
   "metadata": {},
   "source": [
    "### Methods Used With Tuple\n",
    "\n",
    "### Operations Allowed On Tuple\n",
    "\n",
    "\n"
   ]
  },
  {
   "cell_type": "markdown",
   "metadata": {},
   "source": [
    "As mentioned previously a Tuple is immutable.\n",
    "So only those methods work with it which do not change the tuple data\n",
    "Can you figure out which of these methods work with tuples ?\n",
    "These are:\n",
    "\n",
    "append()\n",
    "\n",
    "extend()\n",
    "\n",
    "insert()\n",
    "\n",
    "index()\n",
    "\n",
    "count()\n",
    "\n",
    "remove()\n",
    "\n",
    "pop()\n",
    "\n",
    "clear()\n",
    "\n",
    "sort()\n",
    "\n",
    "reverse()\n"
   ]
  },
  {
   "cell_type": "markdown",
   "metadata": {},
   "source": [
    "Only index( ) and count( ).\n",
    "Rest all the methods change the \n",
    "sequence object on which they \n",
    "have been called.\n"
   ]
  },
  {
   "cell_type": "code",
   "execution_count": null,
   "metadata": {},
   "outputs": [],
   "source": []
  },
  {
   "cell_type": "code",
   "execution_count": null,
   "metadata": {},
   "outputs": [],
   "source": []
  },
  {
   "cell_type": "markdown",
   "metadata": {},
   "source": [
    "### The index( ) Method"
   ]
  },
  {
   "cell_type": "code",
   "execution_count": null,
   "metadata": {},
   "outputs": [],
   "source": [
    "The index() method searches an element in the tuple and returns it’s index. \n",
    "If the element occurs more than once it returns it’s smallest/first position. \n",
    "If element is not found, it raises a ValueError exception \n",
    "\n",
    "Syntax:\n",
    "tuple_var.index(item)\n",
    "\n",
    "Example:\n",
    "primes=(2,3,5,7)\n",
    "pos=primes.index(5)\t\n",
    "print(\"position of 5 is\",pos)\n"
   ]
  },
  {
   "cell_type": "code",
   "execution_count": null,
   "metadata": {},
   "outputs": [],
   "source": [
    "vowels = ('a', 'e', 'i', 'o', 'i', 'u')\n",
    "pos = vowels.index('e')\n",
    "print('The index of e:',pos)\n",
    "pos = vowels.index('i')\n",
    "print('The index of i:',pos)\n"
   ]
  },
  {
   "cell_type": "code",
   "execution_count": null,
   "metadata": {},
   "outputs": [],
   "source": [
    "mynums = (10,20,30,40,50)\n",
    "p = mynums.index(20)\n",
    "print(\"20 occurs at\",p,\"position\")\n",
    "p = mynums.index(60)\n",
    "print(\"60 occurs at\",p,\"position\")\n",
    "p = mynums.index(10)\n",
    "print(\"10 occurs at\",p,\"position\") \n"
   ]
  },
  {
   "cell_type": "markdown",
   "metadata": {},
   "source": [
    "### The count( ) Method"
   ]
  },
  {
   "cell_type": "code",
   "execution_count": null,
   "metadata": {},
   "outputs": [],
   "source": [
    "The count() method returns the number of occurrences of an element in a tuple\n",
    "\n",
    "In simple terms, it counts how many times an element has occurred in a tuple and returns it.\n",
    "\n",
    "Syntax:\n",
    "tuple_var.count(item)\n",
    "\n",
    "Example:\n",
    "country=('i','n','d','i','a')\n",
    "x=country.count('i')\n",
    "print(\"i occurs\",x,\"times in\",country)\n"
   ]
  },
  {
   "cell_type": "code",
   "execution_count": null,
   "metadata": {},
   "outputs": [],
   "source": [
    "vowels = ('a', 'e', 'i', 'o', 'i', 'u')\n",
    "x = vowels.count('i')\n",
    "print(\"i occurs\",x,\"times\")\n",
    "x = vowels.count('e')\n",
    "print(\"e occurs\",x,\"times\")\n",
    "x = vowels.count('j')\n",
    "print(\"j occurs\",x,\"times\")\n"
   ]
  },
  {
   "cell_type": "code",
   "execution_count": null,
   "metadata": {},
   "outputs": [],
   "source": [
    "points = (1, 4, 2, 9, 7, 8, 9, 3, 1)\n",
    "x = points.count(9)\n",
    "print(\"9 occurs\",x,\"times\")\n",
    "\n",
    "\n"
   ]
  },
  {
   "cell_type": "code",
   "execution_count": null,
   "metadata": {},
   "outputs": [],
   "source": [
    "strings = ('Cat', 'Bat', 'Sat', 'Cat', 'cat', 'Mat')\n",
    "x=strings.count(\"Cat\")\n",
    "print(\"Cat occurs\",x,\"times\") \n"
   ]
  },
  {
   "cell_type": "code",
   "execution_count": null,
   "metadata": {},
   "outputs": [],
   "source": [
    "We can apply four  types of operators on Tuple objects\n",
    "\n",
    "These are:\n",
    "\n",
    "Membership Operators\n",
    "\n",
    "Concatenation Operator\n",
    "\n",
    "Multiplication \n",
    "\n",
    "Relational Operators\n"
   ]
  },
  {
   "cell_type": "code",
   "execution_count": null,
   "metadata": {},
   "outputs": [],
   "source": [
    "We can apply the ‘in’ and ‘not in’ operators on tuple. \n",
    "\n",
    "This tells us whether an item belongs / not belongs to tuple.\n"
   ]
  },
  {
   "cell_type": "code",
   "execution_count": null,
   "metadata": {},
   "outputs": [],
   "source": [
    "my_tuple = ('a','p','p','l','e',)\n",
    "print('a' in my_tuple)\n",
    "print('b' in my_tuple)\n",
    "print('g' not in my_tuple)\n"
   ]
  },
  {
   "cell_type": "code",
   "execution_count": null,
   "metadata": {},
   "outputs": [],
   "source": [
    "Concatenation is the act of joining. \n",
    "\n",
    "\n",
    "We can join two tuples using the concatenation operator ‘+’.\n",
    "\n",
    "\n",
    "All other arithmetic operators are not allowed to work on two tuples.\n",
    "\n",
    "However * works but as a repetition operator\n"
   ]
  },
  {
   "cell_type": "code",
   "execution_count": null,
   "metadata": {},
   "outputs": [],
   "source": [
    "odds=(1,3,5)\n",
    "evens=(2,4,6)\n",
    "all=odds+evens\n",
    "print(all)\n",
    "\n"
   ]
  },
  {
   "cell_type": "code",
   "execution_count": null,
   "metadata": {},
   "outputs": [],
   "source": [
    "ages=(10,20,30)\n",
    "names=(\"amit\",\"deepak\",\"ravi\")\n",
    "students=ages+names\n",
    "print(students)\n",
    "\n"
   ]
  },
  {
   "cell_type": "code",
   "execution_count": null,
   "metadata": {},
   "outputs": [],
   "source": [
    "Python allows us to multiply a tuple by a constant\n",
    "\n",
    "To do this , as usual we use the operator *\n",
    "\n"
   ]
  },
  {
   "cell_type": "code",
   "execution_count": null,
   "metadata": {},
   "outputs": [],
   "source": [
    "a=(10,20,30)\n",
    "b=a*3\n",
    "print(b)\n"
   ]
  },
  {
   "cell_type": "code",
   "execution_count": null,
   "metadata": {},
   "outputs": [],
   "source": [
    "a=(10,20,30)\n",
    "b=a*3.0\n",
    "print(b)\n"
   ]
  },
  {
   "cell_type": "markdown",
   "metadata": {},
   "source": [
    "### Relational Operators On Tuples"
   ]
  },
  {
   "cell_type": "code",
   "execution_count": null,
   "metadata": {},
   "outputs": [],
   "source": [
    "The relational operators work with tuples and other sequences.\n",
    "\n",
    "Python starts by comparing the first element from each sequence. \n",
    "\n",
    "If they are equal, it goes on to the next element, and so on, until it finds elements that differ. \n",
    "\n",
    "Subsequent elements are not considered (even if they are really big).\n"
   ]
  },
  {
   "cell_type": "code",
   "execution_count": null,
   "metadata": {},
   "outputs": [],
   "source": [
    "a=(1,2,3)\n",
    "b=(1,3,4)\n",
    "print(a<b)\n"
   ]
  },
  {
   "cell_type": "code",
   "execution_count": null,
   "metadata": {},
   "outputs": [],
   "source": [
    "a=(1,3,2)\n",
    "b=(1,2,3)\n",
    "print(a<b)\n",
    "\n"
   ]
  },
  {
   "cell_type": "code",
   "execution_count": null,
   "metadata": {},
   "outputs": [],
   "source": [
    "a=(1,2,3)\n",
    "b=(1,2,3,4)\n",
    "print(a<b)\n",
    "\n"
   ]
  },
  {
   "cell_type": "code",
   "execution_count": null,
   "metadata": {},
   "outputs": [],
   "source": [
    "a=()\n",
    "b=(0)\n",
    "print(a<b)\n"
   ]
  },
  {
   "cell_type": "code",
   "execution_count": null,
   "metadata": {},
   "outputs": [],
   "source": [
    "a=()\n",
    "b=(0,)\n",
    "print(a<b)\n"
   ]
  },
  {
   "cell_type": "code",
   "execution_count": null,
   "metadata": {},
   "outputs": [],
   "source": [
    "a=(1,2)\n",
    "b=(\"one\",\"two\")\n",
    "print(a<b)\n"
   ]
  },
  {
   "cell_type": "code",
   "execution_count": null,
   "metadata": {},
   "outputs": [],
   "source": [
    "a=(1,\"one\")\n",
    "b=(1,\"two\")\n",
    "print(a<b)\n",
    "\n"
   ]
  },
  {
   "cell_type": "code",
   "execution_count": null,
   "metadata": {},
   "outputs": [],
   "source": []
  },
  {
   "cell_type": "code",
   "execution_count": null,
   "metadata": {},
   "outputs": [],
   "source": []
  },
  {
   "cell_type": "code",
   "execution_count": null,
   "metadata": {},
   "outputs": [],
   "source": []
  },
  {
   "cell_type": "code",
   "execution_count": null,
   "metadata": {},
   "outputs": [],
   "source": []
  },
  {
   "cell_type": "code",
   "execution_count": null,
   "metadata": {},
   "outputs": [],
   "source": []
  },
  {
   "cell_type": "code",
   "execution_count": null,
   "metadata": {},
   "outputs": [],
   "source": []
  },
  {
   "cell_type": "code",
   "execution_count": null,
   "metadata": {},
   "outputs": [],
   "source": []
  },
  {
   "cell_type": "code",
   "execution_count": null,
   "metadata": {},
   "outputs": [],
   "source": []
  }
 ],
 "metadata": {
  "kernelspec": {
   "display_name": "Python 3",
   "language": "python",
   "name": "python3"
  },
  "language_info": {
   "codemirror_mode": {
    "name": "ipython",
    "version": 3
   },
   "file_extension": ".py",
   "mimetype": "text/x-python",
   "name": "python",
   "nbconvert_exporter": "python",
   "pygments_lexer": "ipython3",
   "version": "3.8.3"
  }
 },
 "nbformat": 4,
 "nbformat_minor": 4
}
