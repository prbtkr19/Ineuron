{
 "cells": [
  {
   "cell_type": "code",
   "execution_count": 1,
   "id": "42b8b61e",
   "metadata": {},
   "outputs": [],
   "source": [
    "def test1(a,b):\n",
    "    return a+b"
   ]
  },
  {
   "cell_type": "code",
   "execution_count": 2,
   "id": "61af1057",
   "metadata": {},
   "outputs": [
    {
     "data": {
      "text/plain": [
       "7"
      ]
     },
     "execution_count": 2,
     "metadata": {},
     "output_type": "execute_result"
    }
   ],
   "source": [
    "test1(3,4)"
   ]
  },
  {
   "cell_type": "code",
   "execution_count": 3,
   "id": "680a66d1",
   "metadata": {},
   "outputs": [
    {
     "data": {
      "text/plain": [
       "'prabhatkumar'"
      ]
     },
     "execution_count": 3,
     "metadata": {},
     "output_type": "execute_result"
    }
   ],
   "source": [
    "test1(\"prabhat\",\"kumar\")"
   ]
  },
  {
   "cell_type": "code",
   "execution_count": 5,
   "id": "e0b38589",
   "metadata": {},
   "outputs": [],
   "source": [
    "class insta:\n",
    "    def share_story(self):\n",
    "        print(\"this will share my insta story\")\n",
    "    \n",
    "class facebook:\n",
    "    def share_story(self):\n",
    "        print(\"this willl share fb story\")"
   ]
  },
  {
   "cell_type": "code",
   "execution_count": 12,
   "id": "536cfcb9",
   "metadata": {},
   "outputs": [],
   "source": [
    "def sharestory(app):\n",
    "    app.share_story()"
   ]
  },
  {
   "cell_type": "code",
   "execution_count": 13,
   "id": "54373fd4",
   "metadata": {},
   "outputs": [],
   "source": [
    "i = insta()\n",
    "f = facebook()"
   ]
  },
  {
   "cell_type": "code",
   "execution_count": 14,
   "id": "fe7f8e9e",
   "metadata": {},
   "outputs": [
    {
     "name": "stdout",
     "output_type": "stream",
     "text": [
      "this willl share fb story\n"
     ]
    }
   ],
   "source": [
    "sharestory(f)"
   ]
  },
  {
   "cell_type": "code",
   "execution_count": 15,
   "id": "d82cbe48",
   "metadata": {},
   "outputs": [],
   "source": [
    "class social_media:\n",
    "    def share_stories(self):\n",
    "        print(\"share a stories\")\n",
    "        \n",
    "    def upload_pic(self):\n",
    "        print(\"this will help your ot uploa dpi on ocial media\")\n",
    "class facebook(social_media):\n",
    "    def share_stories(self):\n",
    "        print(\"this is a finction for sharing stories\")\n",
    "\n",
    "class insta(social_media):\n",
    "    def share_stories(self):\n",
    "        print(\"this will print story from insta\")\n",
    "    "
   ]
  },
  {
   "cell_type": "code",
   "execution_count": 16,
   "id": "5344ee12",
   "metadata": {},
   "outputs": [],
   "source": [
    "f = facebook()\n",
    "i = insta()"
   ]
  },
  {
   "cell_type": "code",
   "execution_count": 17,
   "id": "2cdd7786",
   "metadata": {},
   "outputs": [
    {
     "name": "stdout",
     "output_type": "stream",
     "text": [
      "this is a finction for sharing stories\n"
     ]
    }
   ],
   "source": [
    "f.share_stories()"
   ]
  },
  {
   "cell_type": "code",
   "execution_count": 18,
   "id": "6df2a929",
   "metadata": {},
   "outputs": [
    {
     "name": "stdout",
     "output_type": "stream",
     "text": [
      "this will print story from insta\n"
     ]
    }
   ],
   "source": [
    "i.share_stories()"
   ]
  },
  {
   "cell_type": "code",
   "execution_count": 19,
   "id": "2490c64e",
   "metadata": {},
   "outputs": [],
   "source": [
    "class test(Exception):\n",
    "    def __init__(self,msg):\n",
    "        self.msg = msg"
   ]
  },
  {
   "cell_type": "code",
   "execution_count": 20,
   "id": "958e8b08",
   "metadata": {},
   "outputs": [
    {
     "name": "stdout",
     "output_type": "stream",
     "text": [
      "this is my own exception class\n"
     ]
    }
   ],
   "source": [
    "try:\n",
    "    raise(test(\"this is my own exception class\"))\n",
    "except test as t:\n",
    "    print(t)"
   ]
  },
  {
   "cell_type": "code",
   "execution_count": 21,
   "id": "a50f6a43",
   "metadata": {},
   "outputs": [
    {
     "ename": "ZeroDivisionError",
     "evalue": "division by zero",
     "output_type": "error",
     "traceback": [
      "\u001b[1;31m---------------------------------------------------------------------------\u001b[0m",
      "\u001b[1;31mZeroDivisionError\u001b[0m                         Traceback (most recent call last)",
      "\u001b[1;32m<ipython-input-21-832216dea6c6>\u001b[0m in \u001b[0;36m<module>\u001b[1;34m\u001b[0m\n\u001b[0;32m      1\u001b[0m \u001b[1;32mtry\u001b[0m\u001b[1;33m:\u001b[0m\u001b[1;33m\u001b[0m\u001b[1;33m\u001b[0m\u001b[0m\n\u001b[1;32m----> 2\u001b[1;33m     \u001b[1;36m5\u001b[0m\u001b[1;33m/\u001b[0m\u001b[1;36m0\u001b[0m\u001b[1;33m\u001b[0m\u001b[1;33m\u001b[0m\u001b[0m\n\u001b[0m\u001b[0;32m      3\u001b[0m \u001b[1;32mexcept\u001b[0m \u001b[0mtest\u001b[0m \u001b[1;32mas\u001b[0m \u001b[0mt\u001b[0m\u001b[1;33m:\u001b[0m\u001b[1;33m\u001b[0m\u001b[1;33m\u001b[0m\u001b[0m\n\u001b[0;32m      4\u001b[0m     \u001b[0mprint\u001b[0m\u001b[1;33m(\u001b[0m\u001b[0mt\u001b[0m\u001b[1;33m)\u001b[0m\u001b[1;33m\u001b[0m\u001b[1;33m\u001b[0m\u001b[0m\n",
      "\u001b[1;31mZeroDivisionError\u001b[0m: division by zero"
     ]
    }
   ],
   "source": [
    "try:\n",
    "    5/0\n",
    "except test as t:\n",
    "    print(t)"
   ]
  },
  {
   "cell_type": "code",
   "execution_count": 22,
   "id": "d16fa6dc",
   "metadata": {},
   "outputs": [
    {
     "ename": "ZeroDivisionError",
     "evalue": "division by zero",
     "output_type": "error",
     "traceback": [
      "\u001b[1;31m---------------------------------------------------------------------------\u001b[0m",
      "\u001b[1;31mZeroDivisionError\u001b[0m                         Traceback (most recent call last)",
      "\u001b[1;32m<ipython-input-22-36d015e5d3cd>\u001b[0m in \u001b[0;36m<module>\u001b[1;34m\u001b[0m\n\u001b[0;32m      1\u001b[0m \u001b[1;32mtry\u001b[0m\u001b[1;33m:\u001b[0m\u001b[1;33m\u001b[0m\u001b[1;33m\u001b[0m\u001b[0m\n\u001b[1;32m----> 2\u001b[1;33m     \u001b[1;36m5\u001b[0m\u001b[1;33m/\u001b[0m\u001b[1;36m0\u001b[0m\u001b[1;33m\u001b[0m\u001b[1;33m\u001b[0m\u001b[0m\n\u001b[0m\u001b[0;32m      3\u001b[0m     \u001b[1;32mraise\u001b[0m\u001b[1;33m(\u001b[0m\u001b[0mtest\u001b[0m\u001b[1;33m(\u001b[0m\u001b[1;34m\"this is my own exception class\"\u001b[0m\u001b[1;33m)\u001b[0m\u001b[1;33m)\u001b[0m\u001b[1;33m\u001b[0m\u001b[1;33m\u001b[0m\u001b[0m\n\u001b[0;32m      4\u001b[0m \u001b[1;32mexcept\u001b[0m \u001b[0mtest\u001b[0m \u001b[1;32mas\u001b[0m \u001b[0mt\u001b[0m\u001b[1;33m:\u001b[0m\u001b[1;33m\u001b[0m\u001b[1;33m\u001b[0m\u001b[0m\n\u001b[0;32m      5\u001b[0m     \u001b[0mprint\u001b[0m\u001b[1;33m(\u001b[0m\u001b[0mt\u001b[0m\u001b[1;33m)\u001b[0m\u001b[1;33m\u001b[0m\u001b[1;33m\u001b[0m\u001b[0m\n",
      "\u001b[1;31mZeroDivisionError\u001b[0m: division by zero"
     ]
    }
   ],
   "source": [
    "try:\n",
    "    5/0\n",
    "    raise(test(\"this is my own exception class\"))\n",
    "except test as t:\n",
    "    print(t)"
   ]
  },
  {
   "cell_type": "code",
   "execution_count": 23,
   "id": "ff4ed05b",
   "metadata": {},
   "outputs": [
    {
     "name": "stdout",
     "output_type": "stream",
     "text": [
      "this is my own exception class\n"
     ]
    }
   ],
   "source": [
    "try:\n",
    "    \n",
    "    raise(test(\"this is my own exception class\"))\n",
    "    5/0\n",
    "except test as t:\n",
    "    print(t)"
   ]
  },
  {
   "cell_type": "code",
   "execution_count": null,
   "id": "517f9145",
   "metadata": {},
   "outputs": [],
   "source": [
    "q1: create your own class to achieve multiple, multilevel inheritance\n",
    "q2: create your own class to repreesent polymorphism\n",
    "q3: createyour own class for custom exception\n",
    "q4: createyoir own class to achive encapsultion\n",
    "q:5 create yourown class to achiebe mtd overloading and overriding"
   ]
  },
  {
   "cell_type": "code",
   "execution_count": 2,
   "id": "a3dee704",
   "metadata": {},
   "outputs": [
    {
     "name": "stdout",
     "output_type": "stream",
     "text": [
      "batch 2\n",
      "course fsds\n"
     ]
    }
   ],
   "source": [
    "#multiple inheritance\n",
    "#parent class\n",
    "\n",
    "class batch_number:\n",
    "    batchnumber = \"\"\n",
    "    def __init__(self,a,b,c):\n",
    "        self.a = a\n",
    "        self.b = b\n",
    "        self.c = c\n",
    "    def batch(self):\n",
    "        print(\"self.batchnumber\")\n",
    "        \n",
    "#parent class 2\n",
    "class course_name:\n",
    "    cname = \"\"\n",
    "    def course(self):\n",
    "        print(self.cname)\n",
    "        \n",
    "#child class\n",
    "class student(batch_number,course_name):\n",
    "    def dee(self):\n",
    "        print(\"batch\",self.batchnumber)\n",
    "        print(\"course\",self.cname)\n",
    "        \n",
    "s1 = student(2,3,4)\n",
    "s1.batchnumber = \"2\"\n",
    "s1.cname = \"fsds\"\n",
    "s1.dee()\n",
    "\n",
    "\n",
    "\n"
   ]
  },
  {
   "cell_type": "code",
   "execution_count": 3,
   "id": "0887a180",
   "metadata": {},
   "outputs": [
    {
     "data": {
      "text/plain": [
       "''"
      ]
     },
     "execution_count": 3,
     "metadata": {},
     "output_type": "execute_result"
    }
   ],
   "source": [
    "bn = batch_number(1,2,3)\n",
    "bn.batchnumber"
   ]
  },
  {
   "cell_type": "code",
   "execution_count": 4,
   "id": "a8983c6c",
   "metadata": {},
   "outputs": [
    {
     "data": {
      "text/plain": [
       "''"
      ]
     },
     "execution_count": 4,
     "metadata": {},
     "output_type": "execute_result"
    }
   ],
   "source": [
    "batch_number.batchnumber"
   ]
  },
  {
   "cell_type": "code",
   "execution_count": 5,
   "id": "4abdbf81",
   "metadata": {},
   "outputs": [
    {
     "data": {
      "text/plain": [
       "''"
      ]
     },
     "execution_count": 5,
     "metadata": {},
     "output_type": "execute_result"
    }
   ],
   "source": [
    "bn.batchnumber"
   ]
  },
  {
   "cell_type": "code",
   "execution_count": 6,
   "id": "bcb7de77",
   "metadata": {},
   "outputs": [],
   "source": [
    "bn.batchnumber = \"prabat\""
   ]
  },
  {
   "cell_type": "code",
   "execution_count": 8,
   "id": "086d0f3b",
   "metadata": {},
   "outputs": [],
   "source": [
    "bn1 = batch_number(1,2,3)"
   ]
  },
  {
   "cell_type": "code",
   "execution_count": 9,
   "id": "a3292579",
   "metadata": {},
   "outputs": [
    {
     "data": {
      "text/plain": [
       "''"
      ]
     },
     "execution_count": 9,
     "metadata": {},
     "output_type": "execute_result"
    }
   ],
   "source": [
    "bn1.batchnumber "
   ]
  },
  {
   "cell_type": "code",
   "execution_count": 12,
   "id": "f20c948c",
   "metadata": {},
   "outputs": [],
   "source": [
    "class batch_number:\n",
    "    batchnumber = \"\"\n",
    "    #static variable\n",
    "    def __init__(self,a,b,c):\n",
    "        self.a = a\n",
    "        self.b = b\n",
    "        self.c = c\n",
    "    #@staticmethod\n",
    "    def batch():\n",
    "        print(self.batchnumber)\n",
    "        \n"
   ]
  },
  {
   "cell_type": "code",
   "execution_count": 14,
   "id": "984e7912",
   "metadata": {},
   "outputs": [],
   "source": [
    "bn = batch_number(1,2,3)"
   ]
  },
  {
   "cell_type": "code",
   "execution_count": 15,
   "id": "1cd185fa",
   "metadata": {},
   "outputs": [
    {
     "ename": "TypeError",
     "evalue": "batch() takes 0 positional arguments but 1 was given",
     "output_type": "error",
     "traceback": [
      "\u001b[1;31m---------------------------------------------------------------------------\u001b[0m",
      "\u001b[1;31mTypeError\u001b[0m                                 Traceback (most recent call last)",
      "\u001b[1;32m<ipython-input-15-fef551a47874>\u001b[0m in \u001b[0;36m<module>\u001b[1;34m\u001b[0m\n\u001b[1;32m----> 1\u001b[1;33m \u001b[0mbn\u001b[0m\u001b[1;33m.\u001b[0m\u001b[0mbatch\u001b[0m\u001b[1;33m(\u001b[0m\u001b[1;33m)\u001b[0m\u001b[1;33m\u001b[0m\u001b[1;33m\u001b[0m\u001b[0m\n\u001b[0m",
      "\u001b[1;31mTypeError\u001b[0m: batch() takes 0 positional arguments but 1 was given"
     ]
    }
   ],
   "source": [
    "bn.batch()"
   ]
  },
  {
   "cell_type": "code",
   "execution_count": 19,
   "id": "7f42513d",
   "metadata": {},
   "outputs": [],
   "source": [
    "class batch_number:\n",
    "    batchnumber = \"\"\n",
    "    #static variable\n",
    "    def __init__(self,a,b,c):\n",
    "        self.a = a\n",
    "        self.b = b\n",
    "        self.c = c\n",
    "    @staticmethod\n",
    "    def batch():\n",
    "        print(\"this is static mtd\")\n",
    "        \n"
   ]
  },
  {
   "cell_type": "code",
   "execution_count": 20,
   "id": "aa8e0937",
   "metadata": {},
   "outputs": [],
   "source": [
    "bn = batch_number(2,3,4)"
   ]
  },
  {
   "cell_type": "code",
   "execution_count": 21,
   "id": "be152b1f",
   "metadata": {},
   "outputs": [
    {
     "name": "stdout",
     "output_type": "stream",
     "text": [
      "this is static mtd\n"
     ]
    }
   ],
   "source": [
    "bn.batch()"
   ]
  },
  {
   "cell_type": "code",
   "execution_count": null,
   "id": "f3cbb593",
   "metadata": {},
   "outputs": [],
   "source": [
    "class accountdetails:\n",
    "    account_no = \"1223344455\"\n",
    "    def __init__(self,amount):\n",
    "        self.amount = amount\n",
    "        \n",
    "    def show_balance(self,deduction):\n",
    "        self.amount= self.amount - deduction\n",
    "        return self.amount, account_no"
   ]
  },
  {
   "cell_type": "code",
   "execution_count": null,
   "id": "92184f07",
   "metadata": {},
   "outputs": [],
   "source": [
    "#multilevel inheritance\n",
    "class xyz:\n",
    "    def __init_"
   ]
  },
  {
   "cell_type": "code",
   "execution_count": 22,
   "id": "e6f7e015",
   "metadata": {},
   "outputs": [
    {
     "name": "stdout",
     "output_type": "stream",
     "text": [
      "enter 1st no5\n",
      "enter seconf no0\n"
     ]
    },
    {
     "ename": "ZeroDivisionError",
     "evalue": "division by zero",
     "output_type": "error",
     "traceback": [
      "\u001b[1;31m---------------------------------------------------------------------------\u001b[0m",
      "\u001b[1;31mZeroDivisionError\u001b[0m                         Traceback (most recent call last)",
      "\u001b[1;32m<ipython-input-22-ebde31a88049>\u001b[0m in \u001b[0;36m<module>\u001b[1;34m\u001b[0m\n\u001b[0;32m     16\u001b[0m     \u001b[0mprint\u001b[0m\u001b[1;33m(\u001b[0m\u001b[0mmsg\u001b[0m\u001b[1;33m)\u001b[0m\u001b[1;33m\u001b[0m\u001b[1;33m\u001b[0m\u001b[0m\n\u001b[0;32m     17\u001b[0m \u001b[1;32melse\u001b[0m\u001b[1;33m:\u001b[0m\u001b[1;33m\u001b[0m\u001b[1;33m\u001b[0m\u001b[0m\n\u001b[1;32m---> 18\u001b[1;33m     \u001b[0mresult\u001b[0m \u001b[1;33m=\u001b[0m \u001b[0ma\u001b[0m\u001b[1;33m/\u001b[0m\u001b[0mb\u001b[0m\u001b[1;33m\u001b[0m\u001b[1;33m\u001b[0m\u001b[0m\n\u001b[0m\u001b[0;32m     19\u001b[0m     \u001b[0mprint\u001b[0m\u001b[1;33m(\u001b[0m\u001b[0mresult\u001b[0m\u001b[1;33m)\u001b[0m\u001b[1;33m\u001b[0m\u001b[1;33m\u001b[0m\u001b[0m\n",
      "\u001b[1;31mZeroDivisionError\u001b[0m: division by zero"
     ]
    }
   ],
   "source": [
    "#custome exception\n",
    "class division_by_5(Exception):\n",
    "    def __init__(self,msg):\n",
    "        self.msg = msg\n",
    "        \n",
    "try:\n",
    "    a = int(input(\"enter 1st no\"))\n",
    "    b = int(input(\"enter seconf no\"))\n",
    "    \n",
    "    if b ==5:\n",
    "        raise division_by_5(\"divisiobby5 error\")\n",
    "except ValueError as msg:\n",
    "    print(msg)\n",
    "    \n",
    "except ZeroDivisionError as msg:\n",
    "    print(msg)\n",
    "else:\n",
    "    result = a/b\n",
    "    print(result)"
   ]
  },
  {
   "cell_type": "code",
   "execution_count": null,
   "id": "a7bef3e0",
   "metadata": {},
   "outputs": [],
   "source": [
    "a = [\"package:in:gov.hamraaz\",\"package.com.jio.jioplay.tv\"]\n",
    "b = [\"package\",\"a\"]"
   ]
  },
  {
   "cell_type": "code",
   "execution_count": 23,
   "id": "0a86e023",
   "metadata": {},
   "outputs": [],
   "source": [
    "class abc:\n",
    "    pass\n",
    "#justa blueprint"
   ]
  },
  {
   "cell_type": "markdown",
   "id": "98edeaf6",
   "metadata": {},
   "source": [
    "# abstraction"
   ]
  },
  {
   "cell_type": "code",
   "execution_count": null,
   "id": "358f4d6c",
   "metadata": {},
   "outputs": [],
   "source": [
    "class data_project:\n",
    "     def read_file(self):\n",
    "            pass\n",
    "    def validate_file_name(self):\n",
    "        pass\n",
    "    def validate_datatype(self):\n",
    "        pass\n",
    "    def create_conn(self):\n",
    "        pass\n",
    "    \n",
    "    def insert_data(self):\n",
    "        pass"
   ]
  },
  {
   "cell_type": "code",
   "execution_count": 24,
   "id": "a6974a40",
   "metadata": {},
   "outputs": [
    {
     "ename": "NameError",
     "evalue": "name 'data_project' is not defined",
     "output_type": "error",
     "traceback": [
      "\u001b[1;31m---------------------------------------------------------------------------\u001b[0m",
      "\u001b[1;31mNameError\u001b[0m                                 Traceback (most recent call last)",
      "\u001b[1;32m<ipython-input-24-a17ed8035a17>\u001b[0m in \u001b[0;36m<module>\u001b[1;34m\u001b[0m\n\u001b[1;32m----> 1\u001b[1;33m \u001b[1;32mclass\u001b[0m \u001b[0mdb_ops\u001b[0m\u001b[1;33m(\u001b[0m\u001b[0mdata_project\u001b[0m\u001b[1;33m)\u001b[0m\u001b[1;33m:\u001b[0m\u001b[1;33m\u001b[0m\u001b[1;33m\u001b[0m\u001b[0m\n\u001b[0m\u001b[0;32m      2\u001b[0m     \u001b[1;32mpass\u001b[0m\u001b[1;33m\u001b[0m\u001b[1;33m\u001b[0m\u001b[0m\n",
      "\u001b[1;31mNameError\u001b[0m: name 'data_project' is not defined"
     ]
    }
   ],
   "source": [
    "class db_ops(data_project):\n",
    "    pass"
   ]
  },
  {
   "cell_type": "code",
   "execution_count": 1,
   "id": "8f08d725",
   "metadata": {},
   "outputs": [],
   "source": [
    "class test:\n",
    "    def __init__(self):\n",
    "        print(\"this is my sampple clas\")\n",
    "        \n",
    "    def __str__(self):\n",
    "        #used to oveload\n",
    "        return str(\"this is called at time of obj crreation\")"
   ]
  },
  {
   "cell_type": "code",
   "execution_count": 2,
   "id": "5878a0d0",
   "metadata": {},
   "outputs": [
    {
     "name": "stdout",
     "output_type": "stream",
     "text": [
      "this is my sampple clas\n"
     ]
    }
   ],
   "source": [
    "t =test()"
   ]
  },
  {
   "cell_type": "code",
   "execution_count": 3,
   "id": "2bf8a1bb",
   "metadata": {},
   "outputs": [
    {
     "name": "stdout",
     "output_type": "stream",
     "text": [
      "this is called at time of obj crreation\n"
     ]
    }
   ],
   "source": [
    "print(t)"
   ]
  },
  {
   "cell_type": "code",
   "execution_count": 38,
   "id": "f86fe63f",
   "metadata": {},
   "outputs": [
    {
     "data": {
      "text/plain": [
       "<__main__.test at 0x21aceacabb0>"
      ]
     },
     "execution_count": 38,
     "metadata": {},
     "output_type": "execute_result"
    }
   ],
   "source": [
    "t"
   ]
  },
  {
   "cell_type": "code",
   "execution_count": 34,
   "id": "7779ea8e",
   "metadata": {},
   "outputs": [
    {
     "name": "stdout",
     "output_type": "stream",
     "text": [
      "<__main__.test object at 0x0000021ACED0CFD0>\n"
     ]
    }
   ],
   "source": [
    "print(t)"
   ]
  },
  {
   "cell_type": "code",
   "execution_count": 35,
   "id": "b0e9aeac",
   "metadata": {},
   "outputs": [
    {
     "data": {
      "text/plain": [
       "<__main__.test at 0x21aced0cfd0>"
      ]
     },
     "execution_count": 35,
     "metadata": {},
     "output_type": "execute_result"
    }
   ],
   "source": [
    "t"
   ]
  },
  {
   "cell_type": "code",
   "execution_count": 9,
   "id": "6f778400",
   "metadata": {},
   "outputs": [],
   "source": [
    "#overloading\n",
    "class test:\n",
    "    def __init__(self,a,b,c):\n",
    "        self.a =a\n",
    "        self.b=b\n",
    "        self.c=c\n",
    "        \n",
    "    def __str__(self):\n",
    "        return \"sdcsd\"\n",
    "        "
   ]
  },
  {
   "cell_type": "code",
   "execution_count": 10,
   "id": "049a47f2",
   "metadata": {},
   "outputs": [],
   "source": [
    "t =test(3,4,5)"
   ]
  },
  {
   "cell_type": "code",
   "execution_count": 11,
   "id": "b06483c1",
   "metadata": {},
   "outputs": [
    {
     "name": "stdout",
     "output_type": "stream",
     "text": [
      "sdcsd\n"
     ]
    }
   ],
   "source": [
    "print(t)"
   ]
  },
  {
   "cell_type": "code",
   "execution_count": null,
   "id": "68f83996",
   "metadata": {},
   "outputs": [],
   "source": []
  }
 ],
 "metadata": {
  "kernelspec": {
   "display_name": "Python 3",
   "language": "python",
   "name": "python3"
  },
  "language_info": {
   "codemirror_mode": {
    "name": "ipython",
    "version": 3
   },
   "file_extension": ".py",
   "mimetype": "text/x-python",
   "name": "python",
   "nbconvert_exporter": "python",
   "pygments_lexer": "ipython3",
   "version": "3.8.8"
  }
 },
 "nbformat": 4,
 "nbformat_minor": 5
}
