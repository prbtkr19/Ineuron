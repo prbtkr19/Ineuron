{
 "cells": [
  {
   "cell_type": "code",
   "execution_count": 1,
   "id": "e88a09df",
   "metadata": {},
   "outputs": [],
   "source": [
    "def test(a,b,c,d,e):\n",
    "    return a,b,c,d,e\n",
    "    "
   ]
  },
  {
   "cell_type": "code",
   "execution_count": 2,
   "id": "7a9a3791",
   "metadata": {},
   "outputs": [
    {
     "data": {
      "text/plain": [
       "(1, 2, 3, 4, 5)"
      ]
     },
     "execution_count": 2,
     "metadata": {},
     "output_type": "execute_result"
    }
   ],
   "source": [
    "test(1,2,3,4,5)"
   ]
  },
  {
   "cell_type": "code",
   "execution_count": 4,
   "id": "ea80c4a9",
   "metadata": {},
   "outputs": [
    {
     "data": {
      "text/plain": [
       "tuple"
      ]
     },
     "execution_count": 4,
     "metadata": {},
     "output_type": "execute_result"
    }
   ],
   "source": [
    "type(test(1,2,3,4,5))"
   ]
  },
  {
   "cell_type": "code",
   "execution_count": 5,
   "id": "cca159e9",
   "metadata": {},
   "outputs": [],
   "source": [
    "def test1(*args):\n",
    "    return args"
   ]
  },
  {
   "cell_type": "code",
   "execution_count": 6,
   "id": "f619bee2",
   "metadata": {},
   "outputs": [
    {
     "data": {
      "text/plain": [
       "(1, 2, 3)"
      ]
     },
     "execution_count": 6,
     "metadata": {},
     "output_type": "execute_result"
    }
   ],
   "source": [
    "test1(1,2,3)"
   ]
  },
  {
   "cell_type": "code",
   "execution_count": 7,
   "id": "d39d417c",
   "metadata": {},
   "outputs": [
    {
     "data": {
      "text/plain": [
       "(2, 3, 4, 5, 6)"
      ]
     },
     "execution_count": 7,
     "metadata": {},
     "output_type": "execute_result"
    }
   ],
   "source": [
    "test1(2,3,4,5,6)"
   ]
  },
  {
   "cell_type": "code",
   "execution_count": 8,
   "id": "95b7ce2e",
   "metadata": {},
   "outputs": [
    {
     "data": {
      "text/plain": [
       "('prabhat',)"
      ]
     },
     "execution_count": 8,
     "metadata": {},
     "output_type": "execute_result"
    }
   ],
   "source": [
    "test1(\"prabhat\")"
   ]
  },
  {
   "cell_type": "code",
   "execution_count": 9,
   "id": "ef5824da",
   "metadata": {},
   "outputs": [],
   "source": [
    "def test2(*prabhat):\n",
    "    return prabhat"
   ]
  },
  {
   "cell_type": "code",
   "execution_count": 10,
   "id": "4d558687",
   "metadata": {},
   "outputs": [
    {
     "data": {
      "text/plain": [
       "('2',)"
      ]
     },
     "execution_count": 10,
     "metadata": {},
     "output_type": "execute_result"
    }
   ],
   "source": [
    "test2(\"2\")"
   ]
  },
  {
   "cell_type": "code",
   "execution_count": 11,
   "id": "9315f0ad",
   "metadata": {},
   "outputs": [
    {
     "data": {
      "text/plain": [
       "([2, 3, 4],)"
      ]
     },
     "execution_count": 11,
     "metadata": {},
     "output_type": "execute_result"
    }
   ],
   "source": [
    "test2([2,3,4])"
   ]
  },
  {
   "cell_type": "code",
   "execution_count": 14,
   "id": "18439174",
   "metadata": {},
   "outputs": [],
   "source": [
    "def test3(*args,a):\n",
    "    return prabhat ,a"
   ]
  },
  {
   "cell_type": "code",
   "execution_count": 16,
   "id": "e0314d50",
   "metadata": {},
   "outputs": [
    {
     "ename": "TypeError",
     "evalue": "test3() missing 1 required keyword-only argument: 'a'",
     "output_type": "error",
     "traceback": [
      "\u001b[1;31m---------------------------------------------------------------------------\u001b[0m",
      "\u001b[1;31mTypeError\u001b[0m                                 Traceback (most recent call last)",
      "\u001b[1;32m<ipython-input-16-a6cb69f70d0b>\u001b[0m in \u001b[0;36m<module>\u001b[1;34m\u001b[0m\n\u001b[1;32m----> 1\u001b[1;33m \u001b[0mtest3\u001b[0m\u001b[1;33m(\u001b[0m\u001b[1;36m1\u001b[0m\u001b[1;33m,\u001b[0m\u001b[1;36m2\u001b[0m\u001b[1;33m,\u001b[0m\u001b[1;36m3\u001b[0m\u001b[1;33m)\u001b[0m\u001b[1;33m\u001b[0m\u001b[1;33m\u001b[0m\u001b[0m\n\u001b[0m",
      "\u001b[1;31mTypeError\u001b[0m: test3() missing 1 required keyword-only argument: 'a'"
     ]
    }
   ],
   "source": [
    "test3(1,2,3)"
   ]
  },
  {
   "cell_type": "code",
   "execution_count": 20,
   "id": "76e444bc",
   "metadata": {},
   "outputs": [],
   "source": [
    "def test3(*args,a =45):\n",
    "    return args ,a"
   ]
  },
  {
   "cell_type": "code",
   "execution_count": 21,
   "id": "1875174d",
   "metadata": {},
   "outputs": [
    {
     "data": {
      "text/plain": [
       "((1, 2, 45), 45)"
      ]
     },
     "execution_count": 21,
     "metadata": {},
     "output_type": "execute_result"
    }
   ],
   "source": [
    "test3(1,2,45)"
   ]
  },
  {
   "cell_type": "code",
   "execution_count": 22,
   "id": "9e1a3791",
   "metadata": {},
   "outputs": [],
   "source": [
    "def test4(*prabhat,a,b,c,d):\n",
    "    return prabhat ,a,b,c,d"
   ]
  },
  {
   "cell_type": "code",
   "execution_count": 25,
   "id": "0ec992a5",
   "metadata": {},
   "outputs": [
    {
     "data": {
      "text/plain": [
       "((1, 2, 3, 4), [1, 2, 3], [1, 2, 3, 4], (12, 34), (34, 4, 5))"
      ]
     },
     "execution_count": 25,
     "metadata": {},
     "output_type": "execute_result"
    }
   ],
   "source": [
    "test4(1,2,3,4, a=[1,2,3],b=[1,2,3,4] ,c =(12,34),d =(34,4,5))"
   ]
  },
  {
   "cell_type": "code",
   "execution_count": 26,
   "id": "b1afcc5c",
   "metadata": {},
   "outputs": [],
   "source": [
    "def test5(a ,*args):\n",
    "    return a,args"
   ]
  },
  {
   "cell_type": "code",
   "execution_count": 27,
   "id": "6c979d84",
   "metadata": {},
   "outputs": [
    {
     "ename": "TypeError",
     "evalue": "test5() got multiple values for argument 'a'",
     "output_type": "error",
     "traceback": [
      "\u001b[1;31m---------------------------------------------------------------------------\u001b[0m",
      "\u001b[1;31mTypeError\u001b[0m                                 Traceback (most recent call last)",
      "\u001b[1;32m<ipython-input-27-4cd5a19dbe2d>\u001b[0m in \u001b[0;36m<module>\u001b[1;34m\u001b[0m\n\u001b[1;32m----> 1\u001b[1;33m \u001b[0mtest5\u001b[0m\u001b[1;33m(\u001b[0m\u001b[1;34m\"dsgvfd\"\u001b[0m\u001b[1;33m,\u001b[0m\u001b[1;36m234\u001b[0m\u001b[1;33m,\u001b[0m\u001b[1;36m455\u001b[0m\u001b[1;33m,\u001b[0m\u001b[0ma\u001b[0m\u001b[1;33m=\u001b[0m\u001b[1;34m\"fdjf\"\u001b[0m\u001b[1;33m)\u001b[0m\u001b[1;33m\u001b[0m\u001b[1;33m\u001b[0m\u001b[0m\n\u001b[0m",
      "\u001b[1;31mTypeError\u001b[0m: test5() got multiple values for argument 'a'"
     ]
    }
   ],
   "source": [
    "test5(\"dsgvfd\",234,455,a=\"fdjf\")"
   ]
  },
  {
   "cell_type": "code",
   "execution_count": 28,
   "id": "06522cf0",
   "metadata": {},
   "outputs": [
    {
     "data": {
      "text/plain": [
       "('dsgvfd', (234, 455))"
      ]
     },
     "execution_count": 28,
     "metadata": {},
     "output_type": "execute_result"
    }
   ],
   "source": [
    "test5(\"dsgvfd\",234,455)"
   ]
  },
  {
   "cell_type": "code",
   "execution_count": 30,
   "id": "eea9adea",
   "metadata": {},
   "outputs": [],
   "source": [
    "def test6(a,*args,b,c):\n",
    "    return a,args,b,c"
   ]
  },
  {
   "cell_type": "code",
   "execution_count": 32,
   "id": "098e769b",
   "metadata": {},
   "outputs": [
    {
     "data": {
      "text/plain": [
       "('sjbhdjwf', ([1, 2, 3, 4], 34, 4), 4, 3)"
      ]
     },
     "execution_count": 32,
     "metadata": {},
     "output_type": "execute_result"
    }
   ],
   "source": [
    "test6(\"sjbhdjwf\",[1,2,3,4],34,4,b=4,c=3)"
   ]
  },
  {
   "cell_type": "code",
   "execution_count": 51,
   "id": "cd167318",
   "metadata": {},
   "outputs": [],
   "source": [
    "def test7(*args):\n",
    "    l =[]\n",
    "    for i in args:\n",
    "        \n",
    "        if type(i) ==list:\n",
    "            l.append(i)\n",
    "    return l"
   ]
  },
  {
   "cell_type": "code",
   "execution_count": 52,
   "id": "b0dbf3ed",
   "metadata": {},
   "outputs": [
    {
     "data": {
      "text/plain": [
       "[[1, 2, 3, 4]]"
      ]
     },
     "execution_count": 52,
     "metadata": {},
     "output_type": "execute_result"
    }
   ],
   "source": [
    "test7([1,2,3,4],(1,2,3,4))"
   ]
  },
  {
   "cell_type": "code",
   "execution_count": 53,
   "id": "30fac93c",
   "metadata": {},
   "outputs": [
    {
     "data": {
      "text/plain": [
       "[[67, 56, 7], [23, 4, 5]]"
      ]
     },
     "execution_count": 53,
     "metadata": {},
     "output_type": "execute_result"
    }
   ],
   "source": [
    "test7(1,2,3,[67,56,7],[23,4,5],\"jkbkvdss\")"
   ]
  },
  {
   "cell_type": "code",
   "execution_count": 47,
   "id": "9eb51940",
   "metadata": {},
   "outputs": [],
   "source": [
    "def test7(*args):\n",
    "    for i in args:\n",
    "        \n",
    "        if type(i) ==list:\n",
    "            print(i)\n",
    "            type(i)"
   ]
  },
  {
   "cell_type": "code",
   "execution_count": 48,
   "id": "a8c1e0c5",
   "metadata": {},
   "outputs": [
    {
     "name": "stdout",
     "output_type": "stream",
     "text": [
      "[1, 2, 3, 4]\n"
     ]
    }
   ],
   "source": [
    "test7([1,2,3,4],(1,2,3,4))"
   ]
  },
  {
   "cell_type": "code",
   "execution_count": 49,
   "id": "c0aaa3dc",
   "metadata": {},
   "outputs": [
    {
     "name": "stdout",
     "output_type": "stream",
     "text": [
      "[67, 56, 7]\n",
      "[23, 4, 5]\n"
     ]
    }
   ],
   "source": [
    "test7(1,2,3,[67,56,7],[23,4,5],\"jkbkvdss\")"
   ]
  },
  {
   "cell_type": "code",
   "execution_count": 50,
   "id": "5fea4916",
   "metadata": {},
   "outputs": [
    {
     "name": "stdout",
     "output_type": "stream",
     "text": [
      "[67, 56, 7]\n",
      "[23, 4, 5]\n"
     ]
    },
    {
     "data": {
      "text/plain": [
       "NoneType"
      ]
     },
     "execution_count": 50,
     "metadata": {},
     "output_type": "execute_result"
    }
   ],
   "source": [
    "type(test7(1,2,3,[67,56,7],[23,4,5],\"jkbkvdss\"))"
   ]
  },
  {
   "cell_type": "code",
   "execution_count": 1,
   "id": "0b441281",
   "metadata": {},
   "outputs": [],
   "source": [
    "def test7(**kwargs):\n",
    "    return kwargs\n"
   ]
  },
  {
   "cell_type": "code",
   "execution_count": 2,
   "id": "8403bf36",
   "metadata": {},
   "outputs": [
    {
     "ename": "TypeError",
     "evalue": "test7() takes 0 positional arguments but 3 were given",
     "output_type": "error",
     "traceback": [
      "\u001b[1;31m---------------------------------------------------------------------------\u001b[0m",
      "\u001b[1;31mTypeError\u001b[0m                                 Traceback (most recent call last)",
      "\u001b[1;32m<ipython-input-2-4a74fdf0e4d5>\u001b[0m in \u001b[0;36m<module>\u001b[1;34m\u001b[0m\n\u001b[1;32m----> 1\u001b[1;33m \u001b[0mtest7\u001b[0m\u001b[1;33m(\u001b[0m\u001b[1;36m23\u001b[0m\u001b[1;33m,\u001b[0m\u001b[1;36m4\u001b[0m\u001b[1;33m,\u001b[0m\u001b[1;36m5\u001b[0m\u001b[1;33m)\u001b[0m\u001b[1;33m\u001b[0m\u001b[1;33m\u001b[0m\u001b[0m\n\u001b[0m",
      "\u001b[1;31mTypeError\u001b[0m: test7() takes 0 positional arguments but 3 were given"
     ]
    }
   ],
   "source": [
    "test7(23,4,5)"
   ]
  },
  {
   "cell_type": "code",
   "execution_count": 4,
   "id": "f7296f57",
   "metadata": {},
   "outputs": [
    {
     "data": {
      "text/plain": [
       "{'a': 34, 'b': 34}"
      ]
     },
     "execution_count": 4,
     "metadata": {},
     "output_type": "execute_result"
    }
   ],
   "source": [
    "test7(a =34,b=34)"
   ]
  },
  {
   "cell_type": "code",
   "execution_count": 5,
   "id": "63c36824",
   "metadata": {},
   "outputs": [],
   "source": [
    "def test8(**prabhat):\n",
    "    return prabhat"
   ]
  },
  {
   "cell_type": "code",
   "execution_count": 6,
   "id": "25ea523a",
   "metadata": {},
   "outputs": [
    {
     "data": {
      "text/plain": [
       "{'b': 4}"
      ]
     },
     "execution_count": 6,
     "metadata": {},
     "output_type": "execute_result"
    }
   ],
   "source": [
    "test8(b=4)"
   ]
  },
  {
   "cell_type": "code",
   "execution_count": 7,
   "id": "c3ef002a",
   "metadata": {},
   "outputs": [
    {
     "ename": "SyntaxError",
     "evalue": "expression cannot contain assignment, perhaps you meant \"==\"? (<ipython-input-7-5956f3c03808>, line 1)",
     "output_type": "error",
     "traceback": [
      "\u001b[1;36m  File \u001b[1;32m\"<ipython-input-7-5956f3c03808>\"\u001b[1;36m, line \u001b[1;32m1\u001b[0m\n\u001b[1;33m    test8(\"b\"=\"prabh\")\u001b[0m\n\u001b[1;37m          ^\u001b[0m\n\u001b[1;31mSyntaxError\u001b[0m\u001b[1;31m:\u001b[0m expression cannot contain assignment, perhaps you meant \"==\"?\n"
     ]
    }
   ],
   "source": [
    "test8(\"b\"=\"prabh\")"
   ]
  },
  {
   "cell_type": "code",
   "execution_count": 8,
   "id": "3db4bc55",
   "metadata": {},
   "outputs": [],
   "source": [
    "def test9(**kwargs):\n",
    "    return kwargs\n",
    "    "
   ]
  },
  {
   "cell_type": "code",
   "execution_count": 9,
   "id": "e82312a5",
   "metadata": {},
   "outputs": [
    {
     "data": {
      "text/plain": [
       "{'name': 'prabhat', 'age': '31', 'phone_number': '234'}"
      ]
     },
     "execution_count": 9,
     "metadata": {},
     "output_type": "execute_result"
    }
   ],
   "source": [
    "test9(name=\"prabhat\",age=\"31\",phone_number=\"234\")"
   ]
  },
  {
   "cell_type": "code",
   "execution_count": 14,
   "id": "8db0360b",
   "metadata": {},
   "outputs": [],
   "source": [
    "def test10(a,**prabhat):\n",
    "    return prabhat,a"
   ]
  },
  {
   "cell_type": "code",
   "execution_count": 15,
   "id": "05e1ffa1",
   "metadata": {},
   "outputs": [
    {
     "ename": "TypeError",
     "evalue": "test10() takes 1 positional argument but 3 were given",
     "output_type": "error",
     "traceback": [
      "\u001b[1;31m---------------------------------------------------------------------------\u001b[0m",
      "\u001b[1;31mTypeError\u001b[0m                                 Traceback (most recent call last)",
      "\u001b[1;32m<ipython-input-15-491d34b018a7>\u001b[0m in \u001b[0;36m<module>\u001b[1;34m\u001b[0m\n\u001b[1;32m----> 1\u001b[1;33m \u001b[0mtest10\u001b[0m\u001b[1;33m(\u001b[0m\u001b[1;36m45\u001b[0m\u001b[1;33m,\u001b[0m\u001b[1;36m34\u001b[0m\u001b[1;33m,\u001b[0m\u001b[1;36m45\u001b[0m\u001b[1;33m)\u001b[0m\u001b[1;33m\u001b[0m\u001b[1;33m\u001b[0m\u001b[0m\n\u001b[0m",
      "\u001b[1;31mTypeError\u001b[0m: test10() takes 1 positional argument but 3 were given"
     ]
    }
   ],
   "source": [
    "test10(45,34,45)"
   ]
  },
  {
   "cell_type": "code",
   "execution_count": 16,
   "id": "f5c0666b",
   "metadata": {},
   "outputs": [
    {
     "data": {
      "text/plain": [
       "({'b': 34, 't': 23}, 45)"
      ]
     },
     "execution_count": 16,
     "metadata": {},
     "output_type": "execute_result"
    }
   ],
   "source": [
    "test10(45,b =34,t=23)"
   ]
  },
  {
   "cell_type": "code",
   "execution_count": 17,
   "id": "c9673654",
   "metadata": {},
   "outputs": [
    {
     "ename": "SyntaxError",
     "evalue": "invalid syntax (<ipython-input-17-a1c563651986>, line 1)",
     "output_type": "error",
     "traceback": [
      "\u001b[1;36m  File \u001b[1;32m\"<ipython-input-17-a1c563651986>\"\u001b[1;36m, line \u001b[1;32m1\u001b[0m\n\u001b[1;33m    def test11(a,**prabhat,*args):\u001b[0m\n\u001b[1;37m                           ^\u001b[0m\n\u001b[1;31mSyntaxError\u001b[0m\u001b[1;31m:\u001b[0m invalid syntax\n"
     ]
    }
   ],
   "source": [
    "def test11(a,**prabhat,*args):\n",
    "    return prabhat,a,args"
   ]
  },
  {
   "cell_type": "code",
   "execution_count": 21,
   "id": "ba897d28",
   "metadata": {},
   "outputs": [],
   "source": [
    "def test12(a,*args,**kwargs):\n",
    "    return a,args,kwargs"
   ]
  },
  {
   "cell_type": "code",
   "execution_count": 22,
   "id": "404219ee",
   "metadata": {},
   "outputs": [
    {
     "data": {
      "text/plain": [
       "(23, (23, 45, 556), {'g': 34, 'l': 23})"
      ]
     },
     "execution_count": 22,
     "metadata": {},
     "output_type": "execute_result"
    }
   ],
   "source": [
    "test12(23,23,45,556, g=34,l=23)"
   ]
  },
  {
   "cell_type": "code",
   "execution_count": 23,
   "id": "655263b8",
   "metadata": {},
   "outputs": [],
   "source": [
    "def test13(a,b):\n",
    "    return a*b"
   ]
  },
  {
   "cell_type": "code",
   "execution_count": 24,
   "id": "9b7d6a8e",
   "metadata": {},
   "outputs": [
    {
     "data": {
      "text/plain": [
       "144"
      ]
     },
     "execution_count": 24,
     "metadata": {},
     "output_type": "execute_result"
    }
   ],
   "source": [
    "test13(12,12)"
   ]
  },
  {
   "cell_type": "code",
   "execution_count": 25,
   "id": "eeec2d04",
   "metadata": {},
   "outputs": [
    {
     "data": {
      "text/plain": [
       "<function __main__.<lambda>(a, b)>"
      ]
     },
     "execution_count": 25,
     "metadata": {},
     "output_type": "execute_result"
    }
   ],
   "source": [
    "#crear a function without name\n",
    "lambda a,b:a*b"
   ]
  },
  {
   "cell_type": "code",
   "execution_count": 26,
   "id": "b4be1518",
   "metadata": {},
   "outputs": [
    {
     "data": {
      "text/plain": [
       "(3, 4)"
      ]
     },
     "execution_count": 26,
     "metadata": {},
     "output_type": "execute_result"
    }
   ],
   "source": [
    "3,4"
   ]
  },
  {
   "cell_type": "code",
   "execution_count": 27,
   "id": "934eb712",
   "metadata": {},
   "outputs": [],
   "source": [
    "a = lambda a,b:a*b"
   ]
  },
  {
   "cell_type": "code",
   "execution_count": 28,
   "id": "ebf603b2",
   "metadata": {},
   "outputs": [
    {
     "data": {
      "text/plain": [
       "144"
      ]
     },
     "execution_count": 28,
     "metadata": {},
     "output_type": "execute_result"
    }
   ],
   "source": [
    "a(12,12)"
   ]
  },
  {
   "cell_type": "code",
   "execution_count": 30,
   "id": "6e57fa7f",
   "metadata": {},
   "outputs": [],
   "source": [
    "a =lambda *a :a"
   ]
  },
  {
   "cell_type": "code",
   "execution_count": 31,
   "id": "71fb69b0",
   "metadata": {},
   "outputs": [
    {
     "data": {
      "text/plain": [
       "(23,)"
      ]
     },
     "execution_count": 31,
     "metadata": {},
     "output_type": "execute_result"
    }
   ],
   "source": [
    "a(23)"
   ]
  },
  {
   "cell_type": "code",
   "execution_count": 38,
   "id": "f2b741b4",
   "metadata": {},
   "outputs": [
    {
     "ename": "SyntaxError",
     "evalue": "invalid syntax (<ipython-input-38-a93e373d1b49>, line 1)",
     "output_type": "error",
     "traceback": [
      "\u001b[1;36m  File \u001b[1;32m\"<ipython-input-38-a93e373d1b49>\"\u001b[1;36m, line \u001b[1;32m1\u001b[0m\n\u001b[1;33m    x = lambda x:(for i in range(x):return i)\u001b[0m\n\u001b[1;37m                  ^\u001b[0m\n\u001b[1;31mSyntaxError\u001b[0m\u001b[1;31m:\u001b[0m invalid syntax\n"
     ]
    }
   ],
   "source": [
    "x = lambda x:(for i in x:return i)"
   ]
  },
  {
   "cell_type": "code",
   "execution_count": 41,
   "id": "90e7969c",
   "metadata": {},
   "outputs": [
    {
     "ename": "NameError",
     "evalue": "name 'x' is not defined",
     "output_type": "error",
     "traceback": [
      "\u001b[1;31m---------------------------------------------------------------------------\u001b[0m",
      "\u001b[1;31mNameError\u001b[0m                                 Traceback (most recent call last)",
      "\u001b[1;32m<ipython-input-41-72677bb15012>\u001b[0m in \u001b[0;36m<module>\u001b[1;34m\u001b[0m\n\u001b[1;32m----> 1\u001b[1;33m \u001b[0mx\u001b[0m \u001b[1;33m=\u001b[0m \u001b[1;33m(\u001b[0m\u001b[1;32mlambda\u001b[0m \u001b[0mx\u001b[0m\u001b[1;33m:\u001b[0m\u001b[0mprint\u001b[0m\u001b[1;33m(\u001b[0m\u001b[0mi\u001b[0m\u001b[1;33m)\u001b[0m \u001b[1;32mfor\u001b[0m \u001b[0mi\u001b[0m \u001b[1;32min\u001b[0m \u001b[0mx\u001b[0m\u001b[1;33m)\u001b[0m\u001b[1;33m\u001b[0m\u001b[1;33m\u001b[0m\u001b[0m\n\u001b[0m",
      "\u001b[1;31mNameError\u001b[0m: name 'x' is not defined"
     ]
    }
   ],
   "source": [
    "x = (lambda x:print(i) for i in x)"
   ]
  },
  {
   "cell_type": "code",
   "execution_count": 42,
   "id": "e1216316",
   "metadata": {},
   "outputs": [],
   "source": [
    "x = lambda x : [i for i in x]"
   ]
  },
  {
   "cell_type": "code",
   "execution_count": 44,
   "id": "9111355f",
   "metadata": {},
   "outputs": [
    {
     "data": {
      "text/plain": [
       "[2]"
      ]
     },
     "execution_count": 44,
     "metadata": {},
     "output_type": "execute_result"
    }
   ],
   "source": [
    "x([2])"
   ]
  },
  {
   "cell_type": "code",
   "execution_count": 45,
   "id": "c6b61989",
   "metadata": {},
   "outputs": [],
   "source": [
    "a = lambda **kwargs :kwargs"
   ]
  },
  {
   "cell_type": "code",
   "execution_count": 46,
   "id": "5c843273",
   "metadata": {},
   "outputs": [
    {
     "data": {
      "text/plain": [
       "{'b': 'pkmdk'}"
      ]
     },
     "execution_count": 46,
     "metadata": {},
     "output_type": "execute_result"
    }
   ],
   "source": [
    "a(b=\"pkmdk\")"
   ]
  },
  {
   "cell_type": "code",
   "execution_count": 47,
   "id": "af8d565e",
   "metadata": {},
   "outputs": [],
   "source": [
    "a = 10\n",
    "def test16(c,d):\n",
    "    return c*d\n",
    "    "
   ]
  },
  {
   "cell_type": "code",
   "execution_count": 48,
   "id": "8b9b25c1",
   "metadata": {},
   "outputs": [
    {
     "data": {
      "text/plain": [
       "156"
      ]
     },
     "execution_count": 48,
     "metadata": {},
     "output_type": "execute_result"
    }
   ],
   "source": [
    "test16(12,13)"
   ]
  },
  {
   "cell_type": "code",
   "execution_count": 52,
   "id": "c756c373",
   "metadata": {},
   "outputs": [
    {
     "data": {
      "text/plain": [
       "500"
      ]
     },
     "execution_count": 52,
     "metadata": {},
     "output_type": "execute_result"
    }
   ],
   "source": [
    "test16(a,50)"
   ]
  },
  {
   "cell_type": "code",
   "execution_count": 53,
   "id": "21f42546",
   "metadata": {},
   "outputs": [],
   "source": [
    "a = 10\n",
    "def test16(c,d):\n",
    "    a =5\n",
    "    return c*d"
   ]
  },
  {
   "cell_type": "code",
   "execution_count": 54,
   "id": "cd8706a9",
   "metadata": {},
   "outputs": [
    {
     "data": {
      "text/plain": [
       "500"
      ]
     },
     "execution_count": 54,
     "metadata": {},
     "output_type": "execute_result"
    }
   ],
   "source": [
    "test16(a,50)"
   ]
  },
  {
   "cell_type": "code",
   "execution_count": 55,
   "id": "a284dc26",
   "metadata": {},
   "outputs": [],
   "source": [
    "a = 10\n",
    "def test16(c,d):\n",
    "    c =5\n",
    "    return c*d"
   ]
  },
  {
   "cell_type": "code",
   "execution_count": 60,
   "id": "f190082d",
   "metadata": {},
   "outputs": [
    {
     "data": {
      "text/plain": [
       "250"
      ]
     },
     "execution_count": 60,
     "metadata": {},
     "output_type": "execute_result"
    }
   ],
   "source": [
    "test16(1,50)"
   ]
  },
  {
   "cell_type": "code",
   "execution_count": 58,
   "id": "02f213bc",
   "metadata": {},
   "outputs": [],
   "source": [
    "c = 10 #global declaration\n",
    "def test16(c,d):\n",
    "    c =5 #local declaration\n",
    "    return c*d"
   ]
  },
  {
   "cell_type": "code",
   "execution_count": 59,
   "id": "cdb0c2e2",
   "metadata": {},
   "outputs": [
    {
     "data": {
      "text/plain": [
       "10"
      ]
     },
     "execution_count": 59,
     "metadata": {},
     "output_type": "execute_result"
    }
   ],
   "source": [
    "c"
   ]
  },
  {
   "cell_type": "code",
   "execution_count": 63,
   "id": "bd01b16a",
   "metadata": {},
   "outputs": [],
   "source": [
    "#list comprehension\n",
    "l = [1,2,3,4,5,6,67,7]\n",
    "l1 = []\n",
    "for i in l:\n",
    "    l1.append(i+2)"
   ]
  },
  {
   "cell_type": "code",
   "execution_count": 64,
   "id": "fff309fd",
   "metadata": {},
   "outputs": [
    {
     "data": {
      "text/plain": [
       "[3, 4, 5, 6, 7, 8, 69, 9]"
      ]
     },
     "execution_count": 64,
     "metadata": {},
     "output_type": "execute_result"
    }
   ],
   "source": [
    "l1"
   ]
  },
  {
   "cell_type": "code",
   "execution_count": 68,
   "id": "b7a36911",
   "metadata": {},
   "outputs": [],
   "source": [
    "def test17(a):\n",
    "    l1 = []\n",
    "    for i in a:\n",
    "        l1.append(i+2)\n",
    "    return l1\n",
    "        "
   ]
  },
  {
   "cell_type": "code",
   "execution_count": 69,
   "id": "92e3e249",
   "metadata": {},
   "outputs": [
    {
     "data": {
      "text/plain": [
       "[3, 4, 5, 6, 7, 8, 69, 9]"
      ]
     },
     "execution_count": 69,
     "metadata": {},
     "output_type": "execute_result"
    }
   ],
   "source": [
    " test17(l)"
   ]
  },
  {
   "cell_type": "code",
   "execution_count": 70,
   "id": "866b7c66",
   "metadata": {},
   "outputs": [],
   "source": [
    "a =lambda a : [i+2 for i in a]"
   ]
  },
  {
   "cell_type": "code",
   "execution_count": 71,
   "id": "a587f91a",
   "metadata": {},
   "outputs": [
    {
     "data": {
      "text/plain": [
       "[3, 4, 5, 6, 7, 8, 69, 9]"
      ]
     },
     "execution_count": 71,
     "metadata": {},
     "output_type": "execute_result"
    }
   ],
   "source": [
    "a(l)"
   ]
  },
  {
   "cell_type": "code",
   "execution_count": 72,
   "id": "dd1248dc",
   "metadata": {},
   "outputs": [
    {
     "data": {
      "text/plain": [
       "[1, 2, 3, 4, 5, 6, 67, 7]"
      ]
     },
     "execution_count": 72,
     "metadata": {},
     "output_type": "execute_result"
    }
   ],
   "source": [
    "l"
   ]
  },
  {
   "cell_type": "code",
   "execution_count": 75,
   "id": "5364be41",
   "metadata": {},
   "outputs": [
    {
     "data": {
      "text/plain": [
       "[(4, 1), (5, 4), (6, 9), (7, 16), (8, 25), (9, 36), (70, 4489), (10, 49)]"
      ]
     },
     "execution_count": 75,
     "metadata": {},
     "output_type": "execute_result"
    }
   ],
   "source": [
    "[(i+3,i**2)for i in l]"
   ]
  },
  {
   "cell_type": "code",
   "execution_count": 77,
   "id": "f04e9e9d",
   "metadata": {},
   "outputs": [
    {
     "data": {
      "text/plain": [
       "[(5, 4), (6, 9)]"
      ]
     },
     "execution_count": 77,
     "metadata": {},
     "output_type": "execute_result"
    }
   ],
   "source": [
    "[(i+3,i**2)for i in l if i<4 if i>1]"
   ]
  },
  {
   "cell_type": "code",
   "execution_count": 78,
   "id": "9ce8e25f",
   "metadata": {},
   "outputs": [],
   "source": [
    "d = {1:2,2:4,3:9}"
   ]
  },
  {
   "cell_type": "code",
   "execution_count": 79,
   "id": "83139e31",
   "metadata": {},
   "outputs": [
    {
     "data": {
      "text/plain": [
       "{0: 0, 1: 1, 2: 4, 3: 9, 4: 16, 5: 25, 6: 36, 7: 49, 8: 64, 9: 81}"
      ]
     },
     "execution_count": 79,
     "metadata": {},
     "output_type": "execute_result"
    }
   ],
   "source": [
    "{i:i**2 for i in range(10)}"
   ]
  },
  {
   "cell_type": "code",
   "execution_count": 82,
   "id": "a28bfe41",
   "metadata": {},
   "outputs": [],
   "source": [
    "d1 = {}\n",
    "for i in range(10):\n",
    "    d1[i] = i**2"
   ]
  },
  {
   "cell_type": "code",
   "execution_count": 83,
   "id": "edff7763",
   "metadata": {},
   "outputs": [
    {
     "data": {
      "text/plain": [
       "{0: 0, 1: 1, 2: 4, 3: 9, 4: 16, 5: 25, 6: 36, 7: 49, 8: 64, 9: 81}"
      ]
     },
     "execution_count": 83,
     "metadata": {},
     "output_type": "execute_result"
    }
   ],
   "source": [
    "d1"
   ]
  },
  {
   "cell_type": "code",
   "execution_count": 89,
   "id": "d1ef57da",
   "metadata": {},
   "outputs": [
    {
     "data": {
      "text/plain": [
       "(0, 1, 2, 3, 4, 5, 6, 7, 8, 9)"
      ]
     },
     "execution_count": 89,
     "metadata": {},
     "output_type": "execute_result"
    }
   ],
   "source": [
    "tuple(i for i in range(10))"
   ]
  },
  {
   "cell_type": "code",
   "execution_count": 90,
   "id": "d0a33270",
   "metadata": {},
   "outputs": [
    {
     "ename": "TypeError",
     "evalue": "'int' object is not iterable",
     "output_type": "error",
     "traceback": [
      "\u001b[1;31m---------------------------------------------------------------------------\u001b[0m",
      "\u001b[1;31mTypeError\u001b[0m                                 Traceback (most recent call last)",
      "\u001b[1;32m<ipython-input-90-a22dd51ce2fc>\u001b[0m in \u001b[0;36m<module>\u001b[1;34m\u001b[0m\n\u001b[0;32m      1\u001b[0m \u001b[0ma\u001b[0m \u001b[1;33m=\u001b[0m\u001b[1;36m56\u001b[0m\u001b[1;33m\u001b[0m\u001b[1;33m\u001b[0m\u001b[0m\n\u001b[1;32m----> 2\u001b[1;33m \u001b[1;32mfor\u001b[0m \u001b[0mi\u001b[0m \u001b[1;32min\u001b[0m \u001b[0ma\u001b[0m\u001b[1;33m:\u001b[0m\u001b[1;33m\u001b[0m\u001b[1;33m\u001b[0m\u001b[0m\n\u001b[0m\u001b[0;32m      3\u001b[0m     \u001b[0mprint\u001b[0m\u001b[1;33m(\u001b[0m\u001b[0mi\u001b[0m\u001b[1;33m)\u001b[0m\u001b[1;33m\u001b[0m\u001b[1;33m\u001b[0m\u001b[0m\n",
      "\u001b[1;31mTypeError\u001b[0m: 'int' object is not iterable"
     ]
    }
   ],
   "source": [
    "a =56\n",
    "for i in a:\n",
    "    print(i)"
   ]
  },
  {
   "cell_type": "code",
   "execution_count": 91,
   "id": "84c210c3",
   "metadata": {},
   "outputs": [
    {
     "name": "stdout",
     "output_type": "stream",
     "text": [
      "p\n",
      "r\n",
      "a\n",
      "b\n",
      "h\n",
      "a\n",
      "t\n"
     ]
    }
   ],
   "source": [
    "a = \"prabhat\"\n",
    "for i in a:\n",
    "    print(i)"
   ]
  },
  {
   "cell_type": "code",
   "execution_count": 92,
   "id": "20e34c72",
   "metadata": {},
   "outputs": [],
   "source": [
    "s = \"prabaht\""
   ]
  },
  {
   "cell_type": "code",
   "execution_count": 93,
   "id": "51faab0f",
   "metadata": {},
   "outputs": [
    {
     "ename": "TypeError",
     "evalue": "'str' object is not an iterator",
     "output_type": "error",
     "traceback": [
      "\u001b[1;31m---------------------------------------------------------------------------\u001b[0m",
      "\u001b[1;31mTypeError\u001b[0m                                 Traceback (most recent call last)",
      "\u001b[1;32m<ipython-input-93-61c30b5fe1d5>\u001b[0m in \u001b[0;36m<module>\u001b[1;34m\u001b[0m\n\u001b[1;32m----> 1\u001b[1;33m \u001b[0mnext\u001b[0m\u001b[1;33m(\u001b[0m\u001b[0ms\u001b[0m\u001b[1;33m)\u001b[0m\u001b[1;33m\u001b[0m\u001b[1;33m\u001b[0m\u001b[0m\n\u001b[0m",
      "\u001b[1;31mTypeError\u001b[0m: 'str' object is not an iterator"
     ]
    }
   ],
   "source": [
    "next(s)"
   ]
  },
  {
   "cell_type": "code",
   "execution_count": 94,
   "id": "c17174c8",
   "metadata": {},
   "outputs": [],
   "source": [
    "l = [1,2,3]"
   ]
  },
  {
   "cell_type": "code",
   "execution_count": 95,
   "id": "40631b54",
   "metadata": {},
   "outputs": [
    {
     "ename": "TypeError",
     "evalue": "'list' object is not an iterator",
     "output_type": "error",
     "traceback": [
      "\u001b[1;31m---------------------------------------------------------------------------\u001b[0m",
      "\u001b[1;31mTypeError\u001b[0m                                 Traceback (most recent call last)",
      "\u001b[1;32m<ipython-input-95-cdc8a39da60d>\u001b[0m in \u001b[0;36m<module>\u001b[1;34m\u001b[0m\n\u001b[1;32m----> 1\u001b[1;33m \u001b[0mnext\u001b[0m\u001b[1;33m(\u001b[0m\u001b[0ml\u001b[0m\u001b[1;33m)\u001b[0m\u001b[1;33m\u001b[0m\u001b[1;33m\u001b[0m\u001b[0m\n\u001b[0m",
      "\u001b[1;31mTypeError\u001b[0m: 'list' object is not an iterator"
     ]
    }
   ],
   "source": [
    "next(l)"
   ]
  },
  {
   "cell_type": "code",
   "execution_count": 96,
   "id": "a6f8f8b5",
   "metadata": {},
   "outputs": [
    {
     "data": {
      "text/plain": [
       "<str_iterator at 0x2bdbef76190>"
      ]
     },
     "execution_count": 96,
     "metadata": {},
     "output_type": "execute_result"
    }
   ],
   "source": [
    "iter(s)"
   ]
  },
  {
   "cell_type": "code",
   "execution_count": 97,
   "id": "2bbab087",
   "metadata": {},
   "outputs": [],
   "source": [
    "b= iter(s)"
   ]
  },
  {
   "cell_type": "code",
   "execution_count": 98,
   "id": "462e654b",
   "metadata": {},
   "outputs": [
    {
     "data": {
      "text/plain": [
       "<str_iterator at 0x2bdbef6e730>"
      ]
     },
     "execution_count": 98,
     "metadata": {},
     "output_type": "execute_result"
    }
   ],
   "source": [
    "b"
   ]
  },
  {
   "cell_type": "code",
   "execution_count": 99,
   "id": "ededc5c8",
   "metadata": {},
   "outputs": [
    {
     "data": {
      "text/plain": [
       "'p'"
      ]
     },
     "execution_count": 99,
     "metadata": {},
     "output_type": "execute_result"
    }
   ],
   "source": [
    "next(b)"
   ]
  },
  {
   "cell_type": "code",
   "execution_count": 100,
   "id": "4360321f",
   "metadata": {},
   "outputs": [
    {
     "data": {
      "text/plain": [
       "'r'"
      ]
     },
     "execution_count": 100,
     "metadata": {},
     "output_type": "execute_result"
    }
   ],
   "source": [
    "next(b)"
   ]
  },
  {
   "cell_type": "code",
   "execution_count": 101,
   "id": "6d67ee0b",
   "metadata": {},
   "outputs": [
    {
     "data": {
      "text/plain": [
       "'a'"
      ]
     },
     "execution_count": 101,
     "metadata": {},
     "output_type": "execute_result"
    }
   ],
   "source": [
    "next(b)"
   ]
  },
  {
   "cell_type": "code",
   "execution_count": 102,
   "id": "55b72160",
   "metadata": {},
   "outputs": [
    {
     "name": "stdout",
     "output_type": "stream",
     "text": [
      "d\n",
      "s\n",
      "c\n",
      "a\n",
      "r\n",
      "g\n",
      "e\n",
      "b\n",
      "f\n",
      "f\n"
     ]
    }
   ],
   "source": [
    "s = \"dscargebff\"\n",
    "for i in s:\n",
    "    print(i)"
   ]
  },
  {
   "cell_type": "code",
   "execution_count": 103,
   "id": "f80d415c",
   "metadata": {},
   "outputs": [],
   "source": [
    "s =iter(s)"
   ]
  },
  {
   "cell_type": "code",
   "execution_count": 104,
   "id": "bc8f359a",
   "metadata": {},
   "outputs": [
    {
     "data": {
      "text/plain": [
       "'d'"
      ]
     },
     "execution_count": 104,
     "metadata": {},
     "output_type": "execute_result"
    }
   ],
   "source": [
    "next(s)"
   ]
  },
  {
   "cell_type": "code",
   "execution_count": 105,
   "id": "3d0f7f08",
   "metadata": {},
   "outputs": [
    {
     "data": {
      "text/plain": [
       "'s'"
      ]
     },
     "execution_count": 105,
     "metadata": {},
     "output_type": "execute_result"
    }
   ],
   "source": [
    "next(s)"
   ]
  },
  {
   "cell_type": "code",
   "execution_count": 106,
   "id": "8b85faa0",
   "metadata": {},
   "outputs": [],
   "source": [
    "l =[2,3,4,5]"
   ]
  },
  {
   "cell_type": "code",
   "execution_count": 107,
   "id": "6b1d5286",
   "metadata": {},
   "outputs": [
    {
     "ename": "TypeError",
     "evalue": "'list' object is not an iterator",
     "output_type": "error",
     "traceback": [
      "\u001b[1;31m---------------------------------------------------------------------------\u001b[0m",
      "\u001b[1;31mTypeError\u001b[0m                                 Traceback (most recent call last)",
      "\u001b[1;32m<ipython-input-107-cdc8a39da60d>\u001b[0m in \u001b[0;36m<module>\u001b[1;34m\u001b[0m\n\u001b[1;32m----> 1\u001b[1;33m \u001b[0mnext\u001b[0m\u001b[1;33m(\u001b[0m\u001b[0ml\u001b[0m\u001b[1;33m)\u001b[0m\u001b[1;33m\u001b[0m\u001b[1;33m\u001b[0m\u001b[0m\n\u001b[0m",
      "\u001b[1;31mTypeError\u001b[0m: 'list' object is not an iterator"
     ]
    }
   ],
   "source": [
    "next(l)"
   ]
  },
  {
   "cell_type": "code",
   "execution_count": 108,
   "id": "78d3d380",
   "metadata": {},
   "outputs": [],
   "source": [
    "l =iter(l)"
   ]
  },
  {
   "cell_type": "code",
   "execution_count": 109,
   "id": "f7a59dee",
   "metadata": {},
   "outputs": [
    {
     "data": {
      "text/plain": [
       "2"
      ]
     },
     "execution_count": 109,
     "metadata": {},
     "output_type": "execute_result"
    }
   ],
   "source": [
    "next(l)"
   ]
  },
  {
   "cell_type": "code",
   "execution_count": null,
   "id": "61728f06",
   "metadata": {},
   "outputs": [],
   "source": []
  }
 ],
 "metadata": {
  "kernelspec": {
   "display_name": "Python 3",
   "language": "python",
   "name": "python3"
  },
  "language_info": {
   "codemirror_mode": {
    "name": "ipython",
    "version": 3
   },
   "file_extension": ".py",
   "mimetype": "text/x-python",
   "name": "python",
   "nbconvert_exporter": "python",
   "pygments_lexer": "ipython3",
   "version": "3.8.8"
  }
 },
 "nbformat": 4,
 "nbformat_minor": 5
}
