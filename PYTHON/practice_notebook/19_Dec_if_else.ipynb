{
 "cells": [
  {
   "cell_type": "code",
   "execution_count": 1,
   "id": "d6dfe5fc",
   "metadata": {},
   "outputs": [],
   "source": [
    "a = 10"
   ]
  },
  {
   "cell_type": "code",
   "execution_count": 6,
   "id": "28249be1",
   "metadata": {},
   "outputs": [
    {
     "name": "stdout",
     "output_type": "stream",
     "text": [
      "my name is pk\n"
     ]
    }
   ],
   "source": [
    "if a < 15:\n",
    "    print(\"my name is pk\")"
   ]
  },
  {
   "cell_type": "code",
   "execution_count": 4,
   "id": "843395b4",
   "metadata": {},
   "outputs": [
    {
     "data": {
      "text/plain": [
       "True"
      ]
     },
     "execution_count": 4,
     "metadata": {},
     "output_type": "execute_result"
    }
   ],
   "source": [
    "a < 15"
   ]
  },
  {
   "cell_type": "code",
   "execution_count": 7,
   "id": "2ef89b62",
   "metadata": {},
   "outputs": [],
   "source": [
    "if a < 15:\n",
    "    pass"
   ]
  },
  {
   "cell_type": "code",
   "execution_count": 8,
   "id": "046a7e4f",
   "metadata": {},
   "outputs": [],
   "source": [
    "if 24 < 15:\n",
    "    print(\"hello\")"
   ]
  },
  {
   "cell_type": "code",
   "execution_count": 9,
   "id": "509df06a",
   "metadata": {},
   "outputs": [
    {
     "data": {
      "text/plain": [
       "False"
      ]
     },
     "execution_count": 9,
     "metadata": {},
     "output_type": "execute_result"
    }
   ],
   "source": [
    "24 < 15"
   ]
  },
  {
   "cell_type": "code",
   "execution_count": 10,
   "id": "a5a2e2d4",
   "metadata": {},
   "outputs": [
    {
     "name": "stdout",
     "output_type": "stream",
     "text": [
      "hi\n"
     ]
    }
   ],
   "source": [
    "if 10 < 3:\n",
    "    print(\"hello\")\n",
    "else :\n",
    "    print(\"hi\")\n",
    "    \n",
    "    "
   ]
  },
  {
   "cell_type": "code",
   "execution_count": 11,
   "id": "93c233ae",
   "metadata": {},
   "outputs": [
    {
     "name": "stdout",
     "output_type": "stream",
     "text": [
      "i wont tbe able to buy anything\n"
     ]
    }
   ],
   "source": [
    "income = 100\n",
    "if income <50:\n",
    "    print(\"i will buy phone\")\n",
    "elif income <70 :\n",
    "    print(\"i will buy car\")\n",
    "    \n",
    "elif income < 90 :\n",
    "    print(\"i will buy bungalow\")\n",
    "else  :\n",
    "    print(\"i wont tbe able to buy anything\")"
   ]
  },
  {
   "cell_type": "code",
   "execution_count": 13,
   "id": "14775722",
   "metadata": {},
   "outputs": [
    {
     "name": "stdout",
     "output_type": "stream",
     "text": [
      "26\n",
      "i will buy phone\n"
     ]
    }
   ],
   "source": [
    "income = int(input())\n",
    "if income <50:\n",
    "    print(\"i will buy phone\")\n",
    "elif income <70 :\n",
    "    print(\"i will buy car\")\n",
    "    \n",
    "elif income < 90 :\n",
    "    print(\"i will buy bungalow\")\n",
    "else  :\n",
    "    print(\"i wont tbe able to buy anything\")"
   ]
  },
  {
   "cell_type": "code",
   "execution_count": 15,
   "id": "f450359a",
   "metadata": {},
   "outputs": [
    {
     "name": "stdout",
     "output_type": "stream",
     "text": [
      "4565\n",
      "discount price 228.25\n"
     ]
    }
   ],
   "source": [
    "Total_price =int(input())\n",
    "if Total_price > 20000:\n",
    "    discount = Total_price * .20\n",
    "    print(\"discount will be\",discount)\n",
    "elif Total_price <=7000 :\n",
    "    discount = Total_price * .05\n",
    "    print(\"discount price\",discount)\n",
    "    \n",
    "else :\n",
    "    print(\"wont be able to buy\")\n",
    "    \n"
   ]
  },
  {
   "cell_type": "code",
   "execution_count": 18,
   "id": "ce93527d",
   "metadata": {},
   "outputs": [
    {
     "name": "stdout",
     "output_type": "stream",
     "text": [
      "able to get a discount of 5 %\n",
      "you wull be able to get ine neuron with this amount 6726.0\n"
     ]
    }
   ],
   "source": [
    "coup = \"sudh500\"\n",
    "if coup == \"sudh500\" :\n",
    "    print(\"able to get a discount of 5 %\")\n",
    "    paid_amount = 7080 - 7080 * 0.05\n",
    "    print(\"you wull be able to get ine neuron with this amount\",paid_amount)\n",
    "else:\n",
    "    print(\"kindlyuse valid coupon\")"
   ]
  },
  {
   "cell_type": "code",
   "execution_count": 17,
   "id": "cda4f212",
   "metadata": {},
   "outputs": [
    {
     "data": {
      "text/plain": [
       "True"
      ]
     },
     "execution_count": 17,
     "metadata": {},
     "output_type": "execute_result"
    }
   ],
   "source": [
    "\"prabh\" == \"prabh\""
   ]
  },
  {
   "cell_type": "code",
   "execution_count": 19,
   "id": "6e35273f",
   "metadata": {},
   "outputs": [
    {
     "name": "stdout",
     "output_type": "stream",
     "text": [
      "3.4\n"
     ]
    }
   ],
   "source": [
    "study = float(input())\n",
    "if study <1 and study >0.5 :\n",
    "    print(\"you may succeed\")\n",
    "else :\n",
    "    pass"
   ]
  },
  {
   "cell_type": "code",
   "execution_count": 20,
   "id": "30b9a400",
   "metadata": {},
   "outputs": [
    {
     "name": "stdout",
     "output_type": "stream",
     "text": [
      "valid\n"
     ]
    }
   ],
   "source": [
    "a = 9\n",
    "if a ==9 :\n",
    "    print(\"valid\")"
   ]
  },
  {
   "cell_type": "code",
   "execution_count": 2,
   "id": "0e0b58ed",
   "metadata": {},
   "outputs": [
    {
     "name": "stdout",
     "output_type": "stream",
     "text": [
      "enter a string to startoneneuron\n",
      "enter a course nameaxr\n",
      "enter service nameons\n",
      "kindly rISE YOUR DEMAND\n"
     ]
    }
   ],
   "source": [
    "s = input(\"enter a string to start\")\n",
    "course = input(\"enter a course name\")\n",
    "service = input(\"enter service name\")\n",
    "if s == \"oneneuron\" :\n",
    "    if course == \"DSA\" :\n",
    "        print(\"yes  its available under oneneuron and in multiple mode for job prep\")\n",
    "    elif course == \"Blockchain\":\n",
    "        print(\"this is not available as nof now kindly rOSE YPUR DEMAND \")\n",
    "    elif course == \"fsds\":\n",
    "        print(\"yes ots available and you can start learning\")\n",
    "    else :\n",
    "        print(\"kindly rISE YOUR DEMAND\")\n",
    "elif s == \"oneneuronservice\":\n",
    "    if service == \"courserequest\":\n",
    "        print(\"you can raise a demand\")\n",
    "    elif service == \"module\":\n",
    "        print(\"raise a demand\")\n",
    "        \n",
    "    elif service == \"doubt\":\n",
    "        print(\"it will be fufilled\")\n",
    "    elif service == \"workwithus\":\n",
    "        print(\"you can work with us\")\n",
    "    else: \n",
    "        print(\"kindly connect with us\")"
   ]
  },
  {
   "cell_type": "code",
   "execution_count": 3,
   "id": "713f0165",
   "metadata": {},
   "outputs": [
    {
     "name": "stdout",
     "output_type": "stream",
     "text": [
      "1\n",
      "2\n",
      "3\n",
      "4\n",
      "5\n",
      "6\n"
     ]
    }
   ],
   "source": [
    "l = [1,2,3,4,5,6]\n",
    "for i in l:\n",
    "    print(i)"
   ]
  },
  {
   "cell_type": "code",
   "execution_count": 4,
   "id": "6827e4da",
   "metadata": {},
   "outputs": [
    {
     "name": "stdout",
     "output_type": "stream",
     "text": [
      "p\n",
      "r\n",
      "a\n",
      "b\n",
      "h\n",
      "a\n",
      "t\n"
     ]
    }
   ],
   "source": [
    "s = \"prabhat\"\n",
    "for i in s:\n",
    "    print(i)"
   ]
  },
  {
   "cell_type": "code",
   "execution_count": 6,
   "id": "618397c0",
   "metadata": {},
   "outputs": [
    {
     "name": "stdout",
     "output_type": "stream",
     "text": [
      "4\n",
      "5\n",
      "6\n"
     ]
    }
   ],
   "source": [
    "l = [2,3,4]\n",
    "l2 =[]\n",
    "for i in l:\n",
    "    print(i+2)\n",
    "    l2.append(i+2)"
   ]
  },
  {
   "cell_type": "code",
   "execution_count": 7,
   "id": "a352f025",
   "metadata": {},
   "outputs": [
    {
     "data": {
      "text/plain": [
       "[4, 5, 6]"
      ]
     },
     "execution_count": 7,
     "metadata": {},
     "output_type": "execute_result"
    }
   ],
   "source": [
    "l2"
   ]
  },
  {
   "cell_type": "markdown",
   "id": "01ac51c9",
   "metadata": {},
   "source": [
    "# loop"
   ]
  },
  {
   "cell_type": "code",
   "execution_count": 1,
   "id": "bfc7ad7c",
   "metadata": {},
   "outputs": [
    {
     "name": "stdout",
     "output_type": "stream",
     "text": [
      "1\n",
      "2\n",
      "3\n",
      "4\n",
      "5\n",
      "6\n",
      "7\n"
     ]
    }
   ],
   "source": [
    "l = [1,2,3,4,5,6,7]\n",
    "for i in l:\n",
    "    print(i)"
   ]
  },
  {
   "cell_type": "code",
   "execution_count": 2,
   "id": "0d1d3b32",
   "metadata": {},
   "outputs": [
    {
     "name": "stdout",
     "output_type": "stream",
     "text": [
      "p\n",
      "r\n",
      "a\n",
      "b\n",
      "h\n",
      "a\n",
      "t\n"
     ]
    }
   ],
   "source": [
    "s = \"prabhat\"\n",
    "for i in s:\n",
    "    print(i)"
   ]
  },
  {
   "cell_type": "code",
   "execution_count": 3,
   "id": "806d5dca",
   "metadata": {},
   "outputs": [
    {
     "name": "stdout",
     "output_type": "stream",
     "text": [
      "1\n",
      "2\n",
      "3\n",
      "4\n",
      "5\n",
      "6\n"
     ]
    }
   ],
   "source": [
    "t = (1,2,3,4,5,6)\n",
    "for i in t:\n",
    "    print(i)"
   ]
  },
  {
   "cell_type": "code",
   "execution_count": 4,
   "id": "edf16cc7",
   "metadata": {},
   "outputs": [],
   "source": [
    "l = [1,2,3,4,5,\"prabhat\"]"
   ]
  },
  {
   "cell_type": "code",
   "execution_count": 8,
   "id": "aa94656f",
   "metadata": {},
   "outputs": [
    {
     "name": "stdout",
     "output_type": "stream",
     "text": [
      "<class 'int'>\n",
      "<class 'int'>\n",
      "<class 'int'>\n",
      "<class 'int'>\n",
      "<class 'int'>\n",
      "<class 'str'>\n"
     ]
    }
   ],
   "source": [
    "for i in l:\n",
    "    print(type(i))"
   ]
  },
  {
   "cell_type": "code",
   "execution_count": 9,
   "id": "4fd2273d",
   "metadata": {},
   "outputs": [
    {
     "name": "stdout",
     "output_type": "stream",
     "text": [
      "3\n",
      "5\n",
      "6\n"
     ]
    }
   ],
   "source": [
    "l = [1,3,4]\n",
    "\n",
    "for i in l:\n",
    "    print(i+2)"
   ]
  },
  {
   "cell_type": "code",
   "execution_count": 10,
   "id": "ba505b9d",
   "metadata": {},
   "outputs": [
    {
     "name": "stdout",
     "output_type": "stream",
     "text": [
      "3\n",
      "5\n",
      "6\n"
     ]
    }
   ],
   "source": [
    "l = [1,3,4]\n",
    "l1 = []\n",
    "for i in l:\n",
    "    print(i+2)\n",
    "    l1.append(i+2)"
   ]
  },
  {
   "cell_type": "code",
   "execution_count": 11,
   "id": "2488fe60",
   "metadata": {},
   "outputs": [
    {
     "data": {
      "text/plain": [
       "[3, 5, 6]"
      ]
     },
     "execution_count": 11,
     "metadata": {},
     "output_type": "execute_result"
    }
   ],
   "source": [
    "l1\n",
    "#get a list"
   ]
  },
  {
   "cell_type": "code",
   "execution_count": 12,
   "id": "3186bb71",
   "metadata": {},
   "outputs": [],
   "source": [
    "l = [2,4,3,5,6,5,\"prabhat\",[3,4,5]]"
   ]
  },
  {
   "cell_type": "code",
   "execution_count": 17,
   "id": "376a13d4",
   "metadata": {},
   "outputs": [
    {
     "name": "stdout",
     "output_type": "stream",
     "text": [
      "2\n",
      "4\n",
      "3\n",
      "5\n",
      "6\n",
      "5\n",
      "3\n",
      "4\n",
      "5\n"
     ]
    }
   ],
   "source": [
    "#get only integer form here\n",
    "for i in l:\n",
    "    if type(i) == int:\n",
    "        print(i)\n",
    "    elif type(i) == list:\n",
    "        #print(i)\n",
    "        for j in i:\n",
    "            if type(j) == int:\n",
    "                print(j)\n",
    "        "
   ]
  },
  {
   "cell_type": "code",
   "execution_count": 19,
   "id": "222a1b7b",
   "metadata": {},
   "outputs": [
    {
     "data": {
      "text/plain": [
       "[2, 4, 3, 5, 6, 5, 'prabhat', [3, 4, 5]]"
      ]
     },
     "execution_count": 19,
     "metadata": {},
     "output_type": "execute_result"
    }
   ],
   "source": [
    "l"
   ]
  },
  {
   "cell_type": "code",
   "execution_count": 20,
   "id": "fec75c71",
   "metadata": {},
   "outputs": [],
   "source": [
    "l = [2,45,78,12,\"prabhat\",6+6j ,[56,45,23,11,\"prabhat\"]]\n"
   ]
  },
  {
   "cell_type": "code",
   "execution_count": 22,
   "id": "b3e67917",
   "metadata": {},
   "outputs": [
    {
     "name": "stdout",
     "output_type": "stream",
     "text": [
      "0\n",
      "1\n",
      "2\n",
      "3\n",
      "4\n",
      "5\n",
      "6\n"
     ]
    }
   ],
   "source": [
    "#q1:  print index of all elements\n",
    "for i in l:\n",
    "    print(l.index(i))\n",
    "#not advisable to use index func to\n",
    "#if there are repetetive numbers then we face problem"
   ]
  },
  {
   "cell_type": "code",
   "execution_count": 37,
   "id": "ba0ac843",
   "metadata": {},
   "outputs": [
    {
     "data": {
      "text/plain": [
       "7"
      ]
     },
     "execution_count": 37,
     "metadata": {},
     "output_type": "execute_result"
    }
   ],
   "source": [
    "len(l)"
   ]
  },
  {
   "cell_type": "code",
   "execution_count": 40,
   "id": "8c16f3bb",
   "metadata": {},
   "outputs": [
    {
     "name": "stdout",
     "output_type": "stream",
     "text": [
      "index 0 for an element 2\n",
      "index 1 for an element 45\n",
      "index 2 for an element 78\n",
      "index 3 for an element 12\n",
      "index 4 for an element prabhat\n",
      "index 5 for an element (6+6j)\n",
      "index 6 for an element [56, 45, 23, 11, 'prabhat']\n"
     ]
    },
    {
     "ename": "IndexError",
     "evalue": "list index out of range",
     "output_type": "error",
     "traceback": [
      "\u001b[1;31m---------------------------------------------------------------------------\u001b[0m",
      "\u001b[1;31mIndexError\u001b[0m                                Traceback (most recent call last)",
      "\u001b[1;32m<ipython-input-40-02e1478ffcd3>\u001b[0m in \u001b[0;36m<module>\u001b[1;34m\u001b[0m\n\u001b[0;32m      1\u001b[0m \u001b[1;31m#another solution\u001b[0m\u001b[1;33m\u001b[0m\u001b[1;33m\u001b[0m\u001b[1;33m\u001b[0m\u001b[0m\n\u001b[0;32m      2\u001b[0m \u001b[1;32mfor\u001b[0m \u001b[0mi\u001b[0m \u001b[1;32min\u001b[0m \u001b[0mrange\u001b[0m\u001b[1;33m(\u001b[0m\u001b[1;36m10\u001b[0m\u001b[1;33m)\u001b[0m\u001b[1;33m:\u001b[0m\u001b[1;33m\u001b[0m\u001b[1;33m\u001b[0m\u001b[0m\n\u001b[1;32m----> 3\u001b[1;33m     \u001b[0mprint\u001b[0m\u001b[1;33m(\u001b[0m\u001b[1;34m\"index\"\u001b[0m \u001b[1;33m,\u001b[0m \u001b[0mi\u001b[0m \u001b[1;33m,\u001b[0m \u001b[1;34m\"for an element\"\u001b[0m \u001b[1;33m,\u001b[0m\u001b[0ml\u001b[0m\u001b[1;33m[\u001b[0m\u001b[0mi\u001b[0m\u001b[1;33m]\u001b[0m\u001b[1;33m)\u001b[0m\u001b[1;33m\u001b[0m\u001b[1;33m\u001b[0m\u001b[0m\n\u001b[0m",
      "\u001b[1;31mIndexError\u001b[0m: list index out of range"
     ]
    }
   ],
   "source": [
    "#another solution\n",
    "for i in range(10):\n",
    "    print(\"index\" , i , \"for an element\" ,l[i])"
   ]
  },
  {
   "cell_type": "code",
   "execution_count": 41,
   "id": "33712cb7",
   "metadata": {},
   "outputs": [
    {
     "name": "stdout",
     "output_type": "stream",
     "text": [
      "(0, 2)\n",
      "(1, 45)\n",
      "(2, 78)\n",
      "(3, 12)\n",
      "(4, 'prabhat')\n",
      "(5, (6+6j))\n",
      "(6, [56, 45, 23, 11, 'prabhat'])\n"
     ]
    }
   ],
   "source": [
    "for i in enumerate(l):\n",
    "    print(i)"
   ]
  },
  {
   "cell_type": "code",
   "execution_count": 42,
   "id": "aca6d4ff",
   "metadata": {},
   "outputs": [
    {
     "name": "stdout",
     "output_type": "stream",
     "text": [
      "0 2\n",
      "1 45\n",
      "2 78\n",
      "3 12\n",
      "4 prabhat\n",
      "5 (6+6j)\n",
      "6 [56, 45, 23, 11, 'prabhat']\n"
     ]
    }
   ],
   "source": [
    "for i,j in enumerate(l):\n",
    "    print(i,j)"
   ]
  },
  {
   "cell_type": "code",
   "execution_count": 43,
   "id": "e9f78894",
   "metadata": {},
   "outputs": [
    {
     "data": {
      "text/plain": [
       "[2, 45, 78, 12, 'prabhat', (6+6j), [56, 45, 23, 11, 'prabhat']]"
      ]
     },
     "execution_count": 43,
     "metadata": {},
     "output_type": "execute_result"
    }
   ],
   "source": [
    "l"
   ]
  },
  {
   "cell_type": "code",
   "execution_count": 47,
   "id": "fb69d25f",
   "metadata": {},
   "outputs": [
    {
     "name": "stdout",
     "output_type": "stream",
     "text": [
      "['p', 'r', 'a', 'b', 'h', 'a', 't']\n"
     ]
    }
   ],
   "source": [
    "#extract all the list of char if a element is string\n",
    "\n",
    "for i in l:\n",
    "    if type(i) == str:\n",
    "        l1 = []\n",
    "        for j in i:\n",
    "            l1.append(j)\n",
    "        print(l1)\n",
    "        "
   ]
  },
  {
   "cell_type": "code",
   "execution_count": 45,
   "id": "b85a88fb",
   "metadata": {},
   "outputs": [
    {
     "data": {
      "text/plain": [
       "['prabhat']"
      ]
     },
     "execution_count": 45,
     "metadata": {},
     "output_type": "execute_result"
    }
   ],
   "source": [
    "l1"
   ]
  },
  {
   "cell_type": "code",
   "execution_count": 31,
   "id": "5c66908e",
   "metadata": {},
   "outputs": [
    {
     "data": {
      "text/plain": [
       "[2, 45, 78, 12, 'prabhat', (6+6j), [56, 45, 23, 11, 'prabhat']]"
      ]
     },
     "execution_count": 31,
     "metadata": {},
     "output_type": "execute_result"
    }
   ],
   "source": [
    "#return a list after doing a square of all elements\n",
    "l"
   ]
  },
  {
   "cell_type": "code",
   "execution_count": 49,
   "id": "f76f1f9b",
   "metadata": {},
   "outputs": [
    {
     "name": "stdout",
     "output_type": "stream",
     "text": [
      "[4, 2025, 6084, 144]\n"
     ]
    }
   ],
   "source": [
    "l3=[]\n",
    "for i in l:\n",
    "    if type(i) == int:\n",
    "        #print(i**2)\n",
    "        l3.append(i**2)\n",
    "print(l3)      "
   ]
  },
  {
   "cell_type": "code",
   "execution_count": 50,
   "id": "9a49ca71",
   "metadata": {},
   "outputs": [
    {
     "data": {
      "text/plain": [
       "[0, 1, 2, 3]"
      ]
     },
     "execution_count": 50,
     "metadata": {},
     "output_type": "execute_result"
    }
   ],
   "source": [
    "list(range(4))"
   ]
  },
  {
   "cell_type": "code",
   "execution_count": 51,
   "id": "7bdc7ff8",
   "metadata": {},
   "outputs": [
    {
     "data": {
      "text/plain": [
       "3"
      ]
     },
     "execution_count": 51,
     "metadata": {},
     "output_type": "execute_result"
    }
   ],
   "source": [
    "2 and 3"
   ]
  },
  {
   "cell_type": "code",
   "execution_count": 52,
   "id": "d4fbff5e",
   "metadata": {},
   "outputs": [
    {
     "data": {
      "text/plain": [
       "2"
      ]
     },
     "execution_count": 52,
     "metadata": {},
     "output_type": "execute_result"
    }
   ],
   "source": [
    "2 or 3"
   ]
  },
  {
   "cell_type": "code",
   "execution_count": null,
   "id": "0882d538",
   "metadata": {},
   "outputs": [],
   "source": []
  }
 ],
 "metadata": {
  "celltoolbar": "Raw Cell Format",
  "kernelspec": {
   "display_name": "Python 3",
   "language": "python",
   "name": "python3"
  },
  "language_info": {
   "codemirror_mode": {
    "name": "ipython",
    "version": 3
   },
   "file_extension": ".py",
   "mimetype": "text/x-python",
   "name": "python",
   "nbconvert_exporter": "python",
   "pygments_lexer": "ipython3",
   "version": "3.8.8"
  }
 },
 "nbformat": 4,
 "nbformat_minor": 5
}
