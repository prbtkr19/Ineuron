{
 "cells": [
  {
   "cell_type": "code",
   "execution_count": 1,
   "id": "7a364197",
   "metadata": {},
   "outputs": [],
   "source": [
    "import os"
   ]
  },
  {
   "cell_type": "code",
   "execution_count": 2,
   "id": "d74f981b",
   "metadata": {},
   "outputs": [
    {
     "data": {
      "text/plain": [
       "'C:\\\\Users\\\\prabh\\\\OneDrive\\\\Desktop\\\\INEURON\\\\Python_Practice_Notebook'"
      ]
     },
     "execution_count": 2,
     "metadata": {},
     "output_type": "execute_result"
    }
   ],
   "source": [
    "pwd"
   ]
  },
  {
   "cell_type": "code",
   "execution_count": 3,
   "id": "24a9b8a7",
   "metadata": {},
   "outputs": [
    {
     "name": "stdout",
     "output_type": "stream",
     "text": [
      " Volume in drive C is Windows\n",
      " Volume Serial Number is A645-86C6\n",
      "\n",
      " Directory of C:\\Users\\prabh\\OneDrive\\Desktop\\INEURON\\Python_Practice_Notebook\n",
      "\n",
      "04-02-2022  09:41    <DIR>          .\n",
      "04-02-2022  09:41    <DIR>          ..\n",
      "04-02-2022  09:20    <DIR>          .ipynb_checkpoints\n",
      "03-02-2022  21:58           131,535 10_JAN_GENERATOR_FILE-SYSTEM.ipynb\n",
      "04-02-2022  00:08            12,106 15_JAN_EXCEPTION_HANDLING.ipynb\n",
      "26-01-2022  18:20            43,725 18_Dec_(Tuple, set , dict).ipynb\n",
      "02-02-2022  18:19            19,816 19_Dec_if_else.ipynb\n",
      "02-02-2022  22:23           582,979 20_Dec_loop_break_continue.ipynb\n",
      "03-02-2022  12:34            16,126 21_Dec_loop_dict_practice.ipynb\n",
      "04-02-2022  09:41                 0 22_jan_modules.py\n",
      "04-02-2022  09:34               754 22_JAN_MODULES_OOPS.ipynb\n",
      "03-02-2022  22:36             2,797 23_DEC_CODING_PROB_FUCTION.ipynb\n",
      "03-02-2022  15:58            30,626 23_DEC_FUNCTION.ipynb\n",
      "24-01-2022  10:43            11,127 4_dec_class.ipynb\n",
      "26-01-2022  14:47            45,112 5_dec(string ,indexing ,list).ipynb\n",
      "03-02-2022  21:54             3,014 google.txt\n",
      "03-02-2022  22:06             2,654 OS_LEVEL_OPR.ipynb\n",
      "03-02-2022  19:12                 0 test.txt\n",
      "03-02-2022  20:06                56 test1.txt\n",
      "              16 File(s)        902,427 bytes\n",
      "               3 Dir(s)  320,962,306,048 bytes free\n"
     ]
    }
   ],
   "source": [
    "ls"
   ]
  },
  {
   "cell_type": "code",
   "execution_count": 4,
   "id": "743cde47",
   "metadata": {},
   "outputs": [
    {
     "data": {
      "text/plain": [
       "<_io.TextIOWrapper name='test3.py' mode='w' encoding='cp1252'>"
      ]
     },
     "execution_count": 4,
     "metadata": {},
     "output_type": "execute_result"
    }
   ],
   "source": [
    "open(\"test3.py\",\"w\")"
   ]
  },
  {
   "cell_type": "code",
   "execution_count": 5,
   "id": "4370f202",
   "metadata": {},
   "outputs": [
    {
     "name": "stdout",
     "output_type": "stream",
     "text": [
      " Volume in drive C is Windows\n",
      " Volume Serial Number is A645-86C6\n",
      "\n",
      " Directory of C:\\Users\\prabh\\OneDrive\\Desktop\\INEURON\\Python_Practice_Notebook\n",
      "\n",
      "04-02-2022  09:45    <DIR>          .\n",
      "04-02-2022  09:45    <DIR>          ..\n",
      "04-02-2022  09:20    <DIR>          .ipynb_checkpoints\n",
      "03-02-2022  21:58           131,535 10_JAN_GENERATOR_FILE-SYSTEM.ipynb\n",
      "04-02-2022  00:08            12,106 15_JAN_EXCEPTION_HANDLING.ipynb\n",
      "26-01-2022  18:20            43,725 18_Dec_(Tuple, set , dict).ipynb\n",
      "02-02-2022  18:19            19,816 19_Dec_if_else.ipynb\n",
      "02-02-2022  22:23           582,979 20_Dec_loop_break_continue.ipynb\n",
      "03-02-2022  12:34            16,126 21_Dec_loop_dict_practice.ipynb\n",
      "04-02-2022  09:41                 0 22_jan_modules.py\n",
      "04-02-2022  09:42             2,989 22_JAN_MODULES_OOPS.ipynb\n",
      "03-02-2022  22:36             2,797 23_DEC_CODING_PROB_FUCTION.ipynb\n",
      "03-02-2022  15:58            30,626 23_DEC_FUNCTION.ipynb\n",
      "24-01-2022  10:43            11,127 4_dec_class.ipynb\n",
      "26-01-2022  14:47            45,112 5_dec(string ,indexing ,list).ipynb\n",
      "03-02-2022  21:54             3,014 google.txt\n",
      "03-02-2022  22:06             2,654 OS_LEVEL_OPR.ipynb\n",
      "03-02-2022  19:12                 0 test.txt\n",
      "03-02-2022  20:06                56 test1.txt\n",
      "04-02-2022  09:45                 0 test3.py\n",
      "              17 File(s)        904,662 bytes\n",
      "               3 Dir(s)  320,963,715,072 bytes free\n"
     ]
    }
   ],
   "source": [
    "ls\n"
   ]
  },
  {
   "cell_type": "code",
   "execution_count": 6,
   "id": "41f715ad",
   "metadata": {},
   "outputs": [],
   "source": [
    "import test3"
   ]
  },
  {
   "cell_type": "markdown",
   "id": "9dac4eb8",
   "metadata": {},
   "source": [
    "#test3 is module name"
   ]
  },
  {
   "cell_type": "code",
   "execution_count": 7,
   "id": "00664a73",
   "metadata": {},
   "outputs": [
    {
     "name": "stdout",
     "output_type": "stream",
     "text": [
      " Volume in drive C is Windows\n",
      " Volume Serial Number is A645-86C6\n",
      "\n",
      " Directory of C:\\Users\\prabh\\OneDrive\\Desktop\\INEURON\\Python_Practice_Notebook\n",
      "\n",
      "04-02-2022  09:50    <DIR>          .\n",
      "04-02-2022  09:50    <DIR>          ..\n",
      "04-02-2022  09:20    <DIR>          .ipynb_checkpoints\n",
      "04-02-2022  09:46    <DIR>          __pycache__\n",
      "03-02-2022  21:58           131,535 10_JAN_GENERATOR_FILE-SYSTEM.ipynb\n",
      "04-02-2022  00:08            12,106 15_JAN_EXCEPTION_HANDLING.ipynb\n",
      "26-01-2022  18:20            43,725 18_Dec_(Tuple, set , dict).ipynb\n",
      "02-02-2022  18:19            19,816 19_Dec_if_else.ipynb\n",
      "02-02-2022  22:23           582,979 20_Dec_loop_break_continue.ipynb\n",
      "03-02-2022  12:34            16,126 21_Dec_loop_dict_practice.ipynb\n",
      "04-02-2022  09:41                 0 22_jan_modules.py\n",
      "04-02-2022  09:48             5,587 22_JAN_MODULES_OOPS.ipynb\n",
      "03-02-2022  22:36             2,797 23_DEC_CODING_PROB_FUCTION.ipynb\n",
      "03-02-2022  15:58            30,626 23_DEC_FUNCTION.ipynb\n",
      "24-01-2022  10:43            11,127 4_dec_class.ipynb\n",
      "26-01-2022  14:47            45,112 5_dec(string ,indexing ,list).ipynb\n",
      "03-02-2022  21:54             3,014 google.txt\n",
      "03-02-2022  22:06             2,654 OS_LEVEL_OPR.ipynb\n",
      "03-02-2022  19:12                 0 test.txt\n",
      "03-02-2022  20:06                56 test1.txt\n",
      "04-02-2022  09:45                 0 test3.py\n",
      "04-02-2022  09:50                30 test4.py\n",
      "              18 File(s)        907,290 bytes\n",
      "               4 Dir(s)  320,964,149,248 bytes free\n"
     ]
    }
   ],
   "source": [
    "ls\n"
   ]
  },
  {
   "cell_type": "code",
   "execution_count": 8,
   "id": "55fa40fa",
   "metadata": {},
   "outputs": [],
   "source": [
    "import test4"
   ]
  },
  {
   "cell_type": "code",
   "execution_count": 9,
   "id": "89b482d9",
   "metadata": {},
   "outputs": [
    {
     "data": {
      "text/plain": [
       "7"
      ]
     },
     "execution_count": 9,
     "metadata": {},
     "output_type": "execute_result"
    }
   ],
   "source": [
    "test4.test(3,4)"
   ]
  },
  {
   "cell_type": "code",
   "execution_count": 10,
   "id": "29430379",
   "metadata": {},
   "outputs": [
    {
     "name": "stdout",
     "output_type": "stream",
     "text": [
      " Volume in drive C is Windows\n",
      " Volume Serial Number is A645-86C6\n",
      "\n",
      " Directory of C:\\Users\\prabh\\OneDrive\\Desktop\\INEURON\\Python_Practice_Notebook\n",
      "\n",
      "04-02-2022  09:52    <DIR>          .\n",
      "04-02-2022  09:52    <DIR>          ..\n",
      "04-02-2022  09:20    <DIR>          .ipynb_checkpoints\n",
      "04-02-2022  09:51    <DIR>          __pycache__\n",
      "03-02-2022  21:58           131,535 10_JAN_GENERATOR_FILE-SYSTEM.ipynb\n",
      "04-02-2022  00:08            12,106 15_JAN_EXCEPTION_HANDLING.ipynb\n",
      "26-01-2022  18:20            43,725 18_Dec_(Tuple, set , dict).ipynb\n",
      "02-02-2022  18:19            19,816 19_Dec_if_else.ipynb\n",
      "02-02-2022  22:23           582,979 20_Dec_loop_break_continue.ipynb\n",
      "03-02-2022  12:34            16,126 21_Dec_loop_dict_practice.ipynb\n",
      "04-02-2022  09:41                 0 22_jan_modules.py\n",
      "04-02-2022  09:52             8,105 22_JAN_MODULES_OOPS.ipynb\n",
      "03-02-2022  22:36             2,797 23_DEC_CODING_PROB_FUCTION.ipynb\n",
      "03-02-2022  15:58            30,626 23_DEC_FUNCTION.ipynb\n",
      "24-01-2022  10:43            11,127 4_dec_class.ipynb\n",
      "26-01-2022  14:47            45,112 5_dec(string ,indexing ,list).ipynb\n",
      "03-02-2022  21:54             3,014 google.txt\n",
      "03-02-2022  22:06             2,654 OS_LEVEL_OPR.ipynb\n",
      "03-02-2022  19:12                 0 test.txt\n",
      "03-02-2022  20:06                56 test1.txt\n",
      "04-02-2022  09:45                 0 test3.py\n",
      "04-02-2022  09:54               169 test4.py\n",
      "              18 File(s)        909,947 bytes\n",
      "               4 Dir(s)  320,961,933,312 bytes free\n"
     ]
    }
   ],
   "source": [
    "ls"
   ]
  },
  {
   "cell_type": "code",
   "execution_count": 11,
   "id": "fbc05628",
   "metadata": {},
   "outputs": [],
   "source": [
    "import test4"
   ]
  },
  {
   "cell_type": "code",
   "execution_count": 12,
   "id": "f82e48d4",
   "metadata": {},
   "outputs": [
    {
     "ename": "AttributeError",
     "evalue": "module 'test4' has no attribute 'test3'",
     "output_type": "error",
     "traceback": [
      "\u001b[1;31m---------------------------------------------------------------------------\u001b[0m",
      "\u001b[1;31mAttributeError\u001b[0m                            Traceback (most recent call last)",
      "\u001b[1;32m<ipython-input-12-e8fc3de43ed3>\u001b[0m in \u001b[0;36m<module>\u001b[1;34m\u001b[0m\n\u001b[1;32m----> 1\u001b[1;33m \u001b[0mtest4\u001b[0m\u001b[1;33m.\u001b[0m\u001b[0mtest3\u001b[0m\u001b[1;33m(\u001b[0m\u001b[1;36m4\u001b[0m\u001b[1;33m,\u001b[0m\u001b[1;36m3\u001b[0m\u001b[1;33m)\u001b[0m\u001b[1;33m\u001b[0m\u001b[1;33m\u001b[0m\u001b[0m\n\u001b[0m",
      "\u001b[1;31mAttributeError\u001b[0m: module 'test4' has no attribute 'test3'"
     ]
    }
   ],
   "source": [
    "test4.test3(4,3)"
   ]
  },
  {
   "cell_type": "code",
   "execution_count": 1,
   "id": "e915f64f",
   "metadata": {},
   "outputs": [],
   "source": [
    "import test4"
   ]
  },
  {
   "cell_type": "code",
   "execution_count": null,
   "id": "fa78e604",
   "metadata": {},
   "outputs": [],
   "source": []
  }
 ],
 "metadata": {
  "kernelspec": {
   "display_name": "Python 3",
   "language": "python",
   "name": "python3"
  },
  "language_info": {
   "codemirror_mode": {
    "name": "ipython",
    "version": 3
   },
   "file_extension": ".py",
   "mimetype": "text/x-python",
   "name": "python",
   "nbconvert_exporter": "python",
   "pygments_lexer": "ipython3",
   "version": "3.8.8"
  }
 },
 "nbformat": 4,
 "nbformat_minor": 5
}
