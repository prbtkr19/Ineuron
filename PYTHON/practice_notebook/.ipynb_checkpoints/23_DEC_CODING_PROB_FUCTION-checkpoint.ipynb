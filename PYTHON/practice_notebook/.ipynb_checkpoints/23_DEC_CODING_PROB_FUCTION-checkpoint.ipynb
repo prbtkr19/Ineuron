{
 "cells": [
  {
   "cell_type": "code",
   "execution_count": null,
   "id": "764d08fc",
   "metadata": {},
   "outputs": [],
   "source": [
    "1 . write a function which will take stringf and return a len of it withiut using a inbuilt fun len()\n",
    "2.  write a function which will be able to print index of all the primitive element which ypu will pass\n",
    "3. write a function wi=which will take nput as a  dictionary and give me output as list of all v vlaues even in csse of 2 levl nesting it should work\n",
    "4. write a fun which will take another fun as as input and return ,e an output\n",
    "5.write a function which will take lisT AS A INPIT  AND GIVE ME CONCATENATION OF AL THE ELEMents asa an output\n",
    "6. write a function which willl be able to take a list as a input return an index of each element like a inbuilt index function but even if we have repetatvbe element it should return index\n",
    "7. write a fun which should return list of allthe file name from a directory\n",
    "8.write a finction which will able to show your system configuration\n",
    "9. write a fuction which will be able to show date and time\n",
    "10.write a function which will be able to read a image file and show it to you\n",
    "11. write a function which can read video file and play for you\n",
    "12. write a function which can move a file form one directory to another diectory\n",
    "13.write a fun which will be able to shoutfowm ypihr system\n",
    "14.write a function whicch will be able to access youe email\n",
    "15.writwe a function  which i can send a mail to anyone\n",
    "16.write afun to read  a complete PDF file\n",
    "17.write a fun to read a worf file\n",
    "18.write a function wjich can help you to filter only word file form a directory.\n",
    "19. write a function by which you canprint an ip address of your system\n",
    "20. write a functuion by which you be able to append two PDF file"
   ]
  },
  {
   "cell_type": "code",
   "execution_count": null,
   "id": "fa668969",
   "metadata": {},
   "outputs": [],
   "source": []
  }
 ],
 "metadata": {
  "kernelspec": {
   "display_name": "Python 3",
   "language": "python",
   "name": "python3"
  },
  "language_info": {
   "codemirror_mode": {
    "name": "ipython",
    "version": 3
   },
   "file_extension": ".py",
   "mimetype": "text/x-python",
   "name": "python",
   "nbconvert_exporter": "python",
   "pygments_lexer": "ipython3",
   "version": "3.8.8"
  }
 },
 "nbformat": 4,
 "nbformat_minor": 5
}
