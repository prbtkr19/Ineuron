{
 "cells": [
  {
   "cell_type": "code",
   "execution_count": 1,
   "id": "ee8a0809",
   "metadata": {},
   "outputs": [
    {
     "data": {
      "text/plain": [
       "7"
      ]
     },
     "execution_count": 1,
     "metadata": {},
     "output_type": "execute_result"
    }
   ],
   "source": [
    "len(\"prabhat\")"
   ]
  },
  {
   "cell_type": "code",
   "execution_count": 2,
   "id": "0eb3fde8",
   "metadata": {},
   "outputs": [
    {
     "name": "stdout",
     "output_type": "stream",
     "text": [
      "hi hello\n"
     ]
    }
   ],
   "source": [
    "print(\"hi hello\")"
   ]
  },
  {
   "cell_type": "code",
   "execution_count": 3,
   "id": "c15a0e2c",
   "metadata": {},
   "outputs": [
    {
     "data": {
      "text/plain": [
       "['s', 't', 'r']"
      ]
     },
     "execution_count": 3,
     "metadata": {},
     "output_type": "execute_result"
    }
   ],
   "source": [
    "list(\"str\")"
   ]
  },
  {
   "cell_type": "code",
   "execution_count": 4,
   "id": "37b527ef",
   "metadata": {},
   "outputs": [
    {
     "ename": "SyntaxError",
     "evalue": "unexpected EOF while parsing (<ipython-input-4-489ea896ce46>, line 3)",
     "output_type": "error",
     "traceback": [
      "\u001b[1;36m  File \u001b[1;32m\"<ipython-input-4-489ea896ce46>\"\u001b[1;36m, line \u001b[1;32m3\u001b[0m\n\u001b[1;33m    \u001b[0m\n\u001b[1;37m    ^\u001b[0m\n\u001b[1;31mSyntaxError\u001b[0m\u001b[1;31m:\u001b[0m unexpected EOF while parsing\n"
     ]
    }
   ],
   "source": [
    "#def is a keyword,abbre for definition\n",
    "def test():\n",
    "    "
   ]
  },
  {
   "cell_type": "code",
   "execution_count": 5,
   "id": "a533c620",
   "metadata": {},
   "outputs": [],
   "source": [
    "def test():\n",
    "    pass\n",
    "#meaning of pass means  i dont want to do anything just created as dummy fun"
   ]
  },
  {
   "cell_type": "code",
   "execution_count": 6,
   "id": "109afa39",
   "metadata": {},
   "outputs": [],
   "source": [
    "def test1():\n",
    "    print(\"this is my first function\")"
   ]
  },
  {
   "cell_type": "code",
   "execution_count": 7,
   "id": "a7a0d1f8",
   "metadata": {},
   "outputs": [
    {
     "name": "stdout",
     "output_type": "stream",
     "text": [
      "this is my first finction\n"
     ]
    }
   ],
   "source": [
    "#calling function\n",
    "test1()"
   ]
  },
  {
   "cell_type": "code",
   "execution_count": 9,
   "id": "8b1e204e",
   "metadata": {},
   "outputs": [
    {
     "name": "stdout",
     "output_type": "stream",
     "text": [
      "this is my first finction\n"
     ]
    }
   ],
   "source": [
    "test1()"
   ]
  },
  {
   "cell_type": "code",
   "execution_count": 10,
   "id": "b3437cf2",
   "metadata": {},
   "outputs": [
    {
     "name": "stdout",
     "output_type": "stream",
     "text": [
      "this is my first finction\n"
     ]
    }
   ],
   "source": [
    "a = test1()"
   ]
  },
  {
   "cell_type": "code",
   "execution_count": 12,
   "id": "10e8f478",
   "metadata": {},
   "outputs": [
    {
     "ename": "TypeError",
     "evalue": "unsupported operand type(s) for +: 'NoneType' and 'str'",
     "output_type": "error",
     "traceback": [
      "\u001b[1;31m---------------------------------------------------------------------------\u001b[0m",
      "\u001b[1;31mTypeError\u001b[0m                                 Traceback (most recent call last)",
      "\u001b[1;32m<ipython-input-12-d44b0fdb6bf0>\u001b[0m in \u001b[0;36m<module>\u001b[1;34m\u001b[0m\n\u001b[1;32m----> 1\u001b[1;33m \u001b[0ma\u001b[0m \u001b[1;33m+\u001b[0m \u001b[1;34m\"prabhat\"\u001b[0m\u001b[1;33m\u001b[0m\u001b[1;33m\u001b[0m\u001b[0m\n\u001b[0m",
      "\u001b[1;31mTypeError\u001b[0m: unsupported operand type(s) for +: 'NoneType' and 'str'"
     ]
    }
   ],
   "source": [
    "a + \"prabhat\""
   ]
  },
  {
   "cell_type": "code",
   "execution_count": 13,
   "id": "b8576c5a",
   "metadata": {},
   "outputs": [
    {
     "name": "stdout",
     "output_type": "stream",
     "text": [
      "this is my first finction\n"
     ]
    },
    {
     "ename": "TypeError",
     "evalue": "unsupported operand type(s) for +: 'NoneType' and 'str'",
     "output_type": "error",
     "traceback": [
      "\u001b[1;31m---------------------------------------------------------------------------\u001b[0m",
      "\u001b[1;31mTypeError\u001b[0m                                 Traceback (most recent call last)",
      "\u001b[1;32m<ipython-input-13-7ceeba4d6faf>\u001b[0m in \u001b[0;36m<module>\u001b[1;34m\u001b[0m\n\u001b[1;32m----> 1\u001b[1;33m \u001b[0mtest1\u001b[0m\u001b[1;33m(\u001b[0m\u001b[1;33m)\u001b[0m \u001b[1;33m+\u001b[0m \u001b[1;34m\"prabhat\"\u001b[0m\u001b[1;33m\u001b[0m\u001b[1;33m\u001b[0m\u001b[0m\n\u001b[0m",
      "\u001b[1;31mTypeError\u001b[0m: unsupported operand type(s) for +: 'NoneType' and 'str'"
     ]
    }
   ],
   "source": [
    "test1() + \"prabhat\""
   ]
  },
  {
   "cell_type": "code",
   "execution_count": 14,
   "id": "4f145254",
   "metadata": {},
   "outputs": [
    {
     "name": "stdout",
     "output_type": "stream",
     "text": [
      "this is my first finction\n"
     ]
    },
    {
     "data": {
      "text/plain": [
       "NoneType"
      ]
     },
     "execution_count": 14,
     "metadata": {},
     "output_type": "execute_result"
    }
   ],
   "source": [
    "type(test1())"
   ]
  },
  {
   "cell_type": "code",
   "execution_count": 15,
   "id": "90dff5e7",
   "metadata": {},
   "outputs": [
    {
     "name": "stdout",
     "output_type": "stream",
     "text": [
      "\n"
     ]
    },
    {
     "data": {
      "text/plain": [
       "NoneType"
      ]
     },
     "execution_count": 15,
     "metadata": {},
     "output_type": "execute_result"
    }
   ],
   "source": [
    "type(print())"
   ]
  },
  {
   "cell_type": "code",
   "execution_count": 16,
   "id": "d70be86c",
   "metadata": {},
   "outputs": [
    {
     "name": "stdout",
     "output_type": "stream",
     "text": [
      "hih\n"
     ]
    },
    {
     "ename": "TypeError",
     "evalue": "can only concatenate str (not \"NoneType\") to str",
     "output_type": "error",
     "traceback": [
      "\u001b[1;31m---------------------------------------------------------------------------\u001b[0m",
      "\u001b[1;31mTypeError\u001b[0m                                 Traceback (most recent call last)",
      "\u001b[1;32m<ipython-input-16-598a6a9cf1a2>\u001b[0m in \u001b[0;36m<module>\u001b[1;34m\u001b[0m\n\u001b[1;32m----> 1\u001b[1;33m \u001b[1;34m\"prabhat\"\u001b[0m \u001b[1;33m+\u001b[0m \u001b[0mprint\u001b[0m\u001b[1;33m(\u001b[0m\u001b[1;34m\"hih\"\u001b[0m\u001b[1;33m)\u001b[0m\u001b[1;33m\u001b[0m\u001b[1;33m\u001b[0m\u001b[0m\n\u001b[0m",
      "\u001b[1;31mTypeError\u001b[0m: can only concatenate str (not \"NoneType\") to str"
     ]
    }
   ],
   "source": [
    "\"prabhat\" + print(\"hih\")"
   ]
  },
  {
   "cell_type": "code",
   "execution_count": 17,
   "id": "69258a91",
   "metadata": {},
   "outputs": [
    {
     "name": "stdout",
     "output_type": "stream",
     "text": [
      "this is my first finction\n"
     ]
    }
   ],
   "source": [
    "                                          = test1()"
   ]
  },
  {
   "cell_type": "code",
   "execution_count": 18,
   "id": "038715dd",
   "metadata": {},
   "outputs": [
    {
     "data": {
      "text/plain": [
       "'None'"
      ]
     },
     "execution_count": 18,
     "metadata": {},
     "output_type": "execute_result"
    }
   ],
   "source": [
    "str(a)"
   ]
  },
  {
   "cell_type": "code",
   "execution_count": 20,
   "id": "05766cdd",
   "metadata": {},
   "outputs": [],
   "source": [
    "def test2():\n",
    "    return \"thisis my first function\"\n",
    "    "
   ]
  },
  {
   "cell_type": "code",
   "execution_count": 21,
   "id": "f8928535",
   "metadata": {},
   "outputs": [
    {
     "data": {
      "text/plain": [
       "'thisis my first function'"
      ]
     },
     "execution_count": 21,
     "metadata": {},
     "output_type": "execute_result"
    }
   ],
   "source": [
    "test2()"
   ]
  },
  {
   "cell_type": "code",
   "execution_count": 22,
   "id": "154f137f",
   "metadata": {},
   "outputs": [
    {
     "data": {
      "text/plain": [
       "'thisis my first functionprabhat'"
      ]
     },
     "execution_count": 22,
     "metadata": {},
     "output_type": "execute_result"
    }
   ],
   "source": [
    "test2() + \"prabhat\""
   ]
  },
  {
   "cell_type": "code",
   "execution_count": 24,
   "id": "cdd10a23",
   "metadata": {},
   "outputs": [],
   "source": [
    "def test3():\n",
    "    return 345344"
   ]
  },
  {
   "cell_type": "code",
   "execution_count": 25,
   "id": "767821ad",
   "metadata": {},
   "outputs": [
    {
     "data": {
      "text/plain": [
       "345344"
      ]
     },
     "execution_count": 25,
     "metadata": {},
     "output_type": "execute_result"
    }
   ],
   "source": [
    "test3()"
   ]
  },
  {
   "cell_type": "code",
   "execution_count": 26,
   "id": "0b878a64",
   "metadata": {},
   "outputs": [
    {
     "data": {
      "text/plain": [
       "int"
      ]
     },
     "execution_count": 26,
     "metadata": {},
     "output_type": "execute_result"
    }
   ],
   "source": [
    "type(test3())"
   ]
  },
  {
   "cell_type": "code",
   "execution_count": 29,
   "id": "0d097e2c",
   "metadata": {},
   "outputs": [
    {
     "name": "stdout",
     "output_type": "stream",
     "text": [
      "4\n"
     ]
    },
    {
     "data": {
      "text/plain": [
       "NoneType"
      ]
     },
     "execution_count": 29,
     "metadata": {},
     "output_type": "execute_result"
    }
   ],
   "source": [
    "type(print(4))"
   ]
  },
  {
   "cell_type": "code",
   "execution_count": 30,
   "id": "a32befa1",
   "metadata": {},
   "outputs": [
    {
     "name": "stdout",
     "output_type": "stream",
     "text": [
      "4\n"
     ]
    },
    {
     "data": {
      "text/plain": [
       "NoneType"
      ]
     },
     "execution_count": 30,
     "metadata": {},
     "output_type": "execute_result"
    }
   ],
   "source": [
    "type(print(\"4\"))"
   ]
  },
  {
   "cell_type": "code",
   "execution_count": 32,
   "id": "e7b705fa",
   "metadata": {},
   "outputs": [],
   "source": [
    "def test4():\n",
    "    return 4,3,\"prabhat\""
   ]
  },
  {
   "cell_type": "code",
   "execution_count": null,
   "id": "62621a2d",
   "metadata": {},
   "outputs": [],
   "source": [
    "\n"
   ]
  }
 ],
 "metadata": {
  "kernelspec": {
   "display_name": "Python 3",
   "language": "python",
   "name": "python3"
  },
  "language_info": {
   "codemirror_mode": {
    "name": "ipython",
    "version": 3
   },
   "file_extension": ".py",
   "mimetype": "text/x-python",
   "name": "python",
   "nbconvert_exporter": "python",
   "pygments_lexer": "ipython3",
   "version": "3.8.8"
  }
 },
 "nbformat": 4,
 "nbformat_minor": 5
}
