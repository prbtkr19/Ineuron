{
 "cells": [
  {
   "cell_type": "code",
   "execution_count": 1,
   "id": "456a0427",
   "metadata": {},
   "outputs": [],
   "source": [
    "s = \"prabhat\""
   ]
  },
  {
   "cell_type": "code",
   "execution_count": 2,
   "id": "1a5ad199",
   "metadata": {},
   "outputs": [
    {
     "data": {
      "text/plain": [
       "'p'"
      ]
     },
     "execution_count": 2,
     "metadata": {},
     "output_type": "execute_result"
    }
   ],
   "source": [
    "s[0]"
   ]
  },
  {
   "cell_type": "code",
   "execution_count": 3,
   "id": "31709986",
   "metadata": {},
   "outputs": [
    {
     "ename": "IndexError",
     "evalue": "string index out of range",
     "output_type": "error",
     "traceback": [
      "\u001b[1;31m---------------------------------------------------------------------------\u001b[0m",
      "\u001b[1;31mIndexError\u001b[0m                                Traceback (most recent call last)",
      "\u001b[1;32m<ipython-input-3-b035325af127>\u001b[0m in \u001b[0;36m<module>\u001b[1;34m\u001b[0m\n\u001b[1;32m----> 1\u001b[1;33m \u001b[0ms\u001b[0m\u001b[1;33m[\u001b[0m\u001b[1;36m7\u001b[0m\u001b[1;33m]\u001b[0m\u001b[1;33m\u001b[0m\u001b[1;33m\u001b[0m\u001b[0m\n\u001b[0m",
      "\u001b[1;31mIndexError\u001b[0m: string index out of range"
     ]
    }
   ],
   "source": [
    "s[7]"
   ]
  },
  {
   "cell_type": "code",
   "execution_count": 4,
   "id": "94cd3191",
   "metadata": {},
   "outputs": [
    {
     "data": {
      "text/plain": [
       "'t'"
      ]
     },
     "execution_count": 4,
     "metadata": {},
     "output_type": "execute_result"
    }
   ],
   "source": [
    "s[-1]"
   ]
  },
  {
   "cell_type": "code",
   "execution_count": 5,
   "id": "87f39471",
   "metadata": {},
   "outputs": [
    {
     "data": {
      "text/plain": [
       "'prabhat'"
      ]
     },
     "execution_count": 5,
     "metadata": {},
     "output_type": "execute_result"
    }
   ],
   "source": [
    "s[0:7]"
   ]
  },
  {
   "cell_type": "code",
   "execution_count": 6,
   "id": "3ebe351e",
   "metadata": {},
   "outputs": [],
   "source": [
    "b = \"ineuron\""
   ]
  },
  {
   "cell_type": "code",
   "execution_count": 7,
   "id": "579ff289",
   "metadata": {},
   "outputs": [
    {
     "data": {
      "text/plain": [
       "''"
      ]
     },
     "execution_count": 7,
     "metadata": {},
     "output_type": "execute_result"
    }
   ],
   "source": [
    "b[-1:-4]\n",
    "#why not giving any data"
   ]
  },
  {
   "cell_type": "code",
   "execution_count": 8,
   "id": "7cebda82",
   "metadata": {},
   "outputs": [],
   "source": [
    "a = \"kumar\""
   ]
  },
  {
   "cell_type": "code",
   "execution_count": 9,
   "id": "b4420822",
   "metadata": {},
   "outputs": [
    {
     "data": {
      "text/plain": [
       "'kumar'"
      ]
     },
     "execution_count": 9,
     "metadata": {},
     "output_type": "execute_result"
    }
   ],
   "source": [
    "a[0:300:1]"
   ]
  },
  {
   "cell_type": "code",
   "execution_count": 11,
   "id": "ab942f12",
   "metadata": {},
   "outputs": [
    {
     "data": {
      "text/plain": [
       "''"
      ]
     },
     "execution_count": 11,
     "metadata": {},
     "output_type": "execute_result"
    }
   ],
   "source": [
    "a[0:100:-1]"
   ]
  },
  {
   "cell_type": "code",
   "execution_count": 12,
   "id": "9a6af1b7",
   "metadata": {},
   "outputs": [
    {
     "data": {
      "text/plain": [
       "'ram'"
      ]
     },
     "execution_count": 12,
     "metadata": {},
     "output_type": "execute_result"
    }
   ],
   "source": [
    "a[-1:-4:-1]"
   ]
  },
  {
   "cell_type": "code",
   "execution_count": 14,
   "id": "f31262e4",
   "metadata": {},
   "outputs": [
    {
     "data": {
      "text/plain": [
       "'uma'"
      ]
     },
     "execution_count": 14,
     "metadata": {},
     "output_type": "execute_result"
    }
   ],
   "source": [
    "a[1:4:1]"
   ]
  },
  {
   "cell_type": "code",
   "execution_count": 15,
   "id": "35e0f593",
   "metadata": {},
   "outputs": [
    {
     "data": {
      "text/plain": [
       "'kumar'"
      ]
     },
     "execution_count": 15,
     "metadata": {},
     "output_type": "execute_result"
    }
   ],
   "source": [
    "a[::]"
   ]
  },
  {
   "cell_type": "code",
   "execution_count": 16,
   "id": "ec1a4ccd",
   "metadata": {},
   "outputs": [
    {
     "data": {
      "text/plain": [
       "'kumar'"
      ]
     },
     "execution_count": 16,
     "metadata": {},
     "output_type": "execute_result"
    }
   ],
   "source": [
    "a[:8]"
   ]
  },
  {
   "cell_type": "code",
   "execution_count": 17,
   "id": "8c72a2bc",
   "metadata": {},
   "outputs": [
    {
     "data": {
      "text/plain": [
       "'ar'"
      ]
     },
     "execution_count": 17,
     "metadata": {},
     "output_type": "execute_result"
    }
   ],
   "source": [
    "a[-2:]\n",
    "#by default it takes end point as length of string"
   ]
  },
  {
   "cell_type": "code",
   "execution_count": 18,
   "id": "5618c54e",
   "metadata": {},
   "outputs": [
    {
     "data": {
      "text/plain": [
       "'a'"
      ]
     },
     "execution_count": 18,
     "metadata": {},
     "output_type": "execute_result"
    }
   ],
   "source": [
    "a[-2:-1]\n",
    "#its positive move"
   ]
  },
  {
   "cell_type": "code",
   "execution_count": 20,
   "id": "2640ed41",
   "metadata": {},
   "outputs": [],
   "source": [
    "a = \"kumar\"\n"
   ]
  },
  {
   "cell_type": "code",
   "execution_count": 21,
   "id": "903bb226",
   "metadata": {},
   "outputs": [
    {
     "data": {
      "text/plain": [
       "'ramuk'"
      ]
     },
     "execution_count": 21,
     "metadata": {},
     "output_type": "execute_result"
    }
   ],
   "source": [
    "a[::-1]"
   ]
  },
  {
   "cell_type": "code",
   "execution_count": 22,
   "id": "46ea2f17",
   "metadata": {},
   "outputs": [
    {
     "data": {
      "text/plain": [
       "'ramuk'"
      ]
     },
     "execution_count": 22,
     "metadata": {},
     "output_type": "execute_result"
    }
   ],
   "source": [
    "a[-1::-1]"
   ]
  },
  {
   "cell_type": "code",
   "execution_count": 23,
   "id": "88b94d90",
   "metadata": {},
   "outputs": [
    {
     "data": {
      "text/plain": [
       "'r'"
      ]
     },
     "execution_count": 23,
     "metadata": {},
     "output_type": "execute_result"
    }
   ],
   "source": [
    "a[-1::1]"
   ]
  },
  {
   "cell_type": "code",
   "execution_count": 24,
   "id": "f2b62ea5",
   "metadata": {},
   "outputs": [],
   "source": [
    "a = \"i am a student of ineuron\"\n",
    "#reverse string"
   ]
  },
  {
   "cell_type": "code",
   "execution_count": 25,
   "id": "bc31d801",
   "metadata": {},
   "outputs": [
    {
     "data": {
      "text/plain": [
       "'norueni fo tneduts a ma i'"
      ]
     },
     "execution_count": 25,
     "metadata": {},
     "output_type": "execute_result"
    }
   ],
   "source": [
    "a[::-1]"
   ]
  },
  {
   "cell_type": "code",
   "execution_count": 26,
   "id": "cbdc1efa",
   "metadata": {},
   "outputs": [
    {
     "data": {
      "text/plain": [
       "''"
      ]
     },
     "execution_count": 26,
     "metadata": {},
     "output_type": "execute_result"
    }
   ],
   "source": [
    "a[-2:-10:+1]"
   ]
  },
  {
   "cell_type": "code",
   "execution_count": 27,
   "id": "e514e082",
   "metadata": {},
   "outputs": [
    {
     "data": {
      "text/plain": [
       "'prabhatprabhatprabhat'"
      ]
     },
     "execution_count": 27,
     "metadata": {},
     "output_type": "execute_result"
    }
   ],
   "source": [
    "\"prabhat\"*3"
   ]
  },
  {
   "cell_type": "code",
   "execution_count": 28,
   "id": "358aa9de",
   "metadata": {},
   "outputs": [
    {
     "data": {
      "text/plain": [
       "'prabhatkumar'"
      ]
     },
     "execution_count": 28,
     "metadata": {},
     "output_type": "execute_result"
    }
   ],
   "source": [
    "\"prabhat\" + \"kumar\""
   ]
  },
  {
   "cell_type": "code",
   "execution_count": 29,
   "id": "fdcc6c49",
   "metadata": {},
   "outputs": [
    {
     "data": {
      "text/plain": [
       "'i am a student of ineuron'"
      ]
     },
     "execution_count": 29,
     "metadata": {},
     "output_type": "execute_result"
    }
   ],
   "source": [
    "a"
   ]
  },
  {
   "cell_type": "code",
   "execution_count": 31,
   "id": "3f56f561",
   "metadata": {},
   "outputs": [
    {
     "data": {
      "text/plain": [
       "2"
      ]
     },
     "execution_count": 31,
     "metadata": {},
     "output_type": "execute_result"
    }
   ],
   "source": [
    "a.find('a')\n",
    "#find index of a"
   ]
  },
  {
   "cell_type": "code",
   "execution_count": 32,
   "id": "7b6d7bd2",
   "metadata": {},
   "outputs": [
    {
     "data": {
      "text/plain": [
       "0"
      ]
     },
     "execution_count": 32,
     "metadata": {},
     "output_type": "execute_result"
    }
   ],
   "source": [
    "a.find('i')\n",
    "#it will always encounter first occurennces"
   ]
  },
  {
   "cell_type": "code",
   "execution_count": 33,
   "id": "7d992346",
   "metadata": {},
   "outputs": [
    {
     "data": {
      "text/plain": [
       "-1"
      ]
     },
     "execution_count": 33,
     "metadata": {},
     "output_type": "execute_result"
    }
   ],
   "source": [
    "a.find(\"ia\")"
   ]
  },
  {
   "cell_type": "code",
   "execution_count": 34,
   "id": "aa297ddf",
   "metadata": {},
   "outputs": [
    {
     "data": {
      "text/plain": [
       "18"
      ]
     },
     "execution_count": 34,
     "metadata": {},
     "output_type": "execute_result"
    }
   ],
   "source": [
    "a.find(\"in\")"
   ]
  },
  {
   "cell_type": "code",
   "execution_count": 35,
   "id": "5a05c430",
   "metadata": {},
   "outputs": [
    {
     "data": {
      "text/plain": [
       "2"
      ]
     },
     "execution_count": 35,
     "metadata": {},
     "output_type": "execute_result"
    }
   ],
   "source": [
    "a.count(\"a\")\n",
    "#it will occurrence of a"
   ]
  },
  {
   "cell_type": "code",
   "execution_count": 36,
   "id": "ae538cf1",
   "metadata": {},
   "outputs": [
    {
     "data": {
      "text/plain": [
       "0"
      ]
     },
     "execution_count": 36,
     "metadata": {},
     "output_type": "execute_result"
    }
   ],
   "source": [
    "a.count(\"x\")"
   ]
  },
  {
   "cell_type": "code",
   "execution_count": 37,
   "id": "e5955ea0",
   "metadata": {},
   "outputs": [
    {
     "data": {
      "text/plain": [
       "'i am a student of ineuron'"
      ]
     },
     "execution_count": 37,
     "metadata": {},
     "output_type": "execute_result"
    }
   ],
   "source": [
    "a"
   ]
  },
  {
   "cell_type": "code",
   "execution_count": 38,
   "id": "edb6375a",
   "metadata": {},
   "outputs": [],
   "source": [
    "a = \"i am working with ineuron\""
   ]
  },
  {
   "cell_type": "code",
   "execution_count": 39,
   "id": "4e8e2c7a",
   "metadata": {},
   "outputs": [
    {
     "data": {
      "text/plain": [
       "'i am working with ineuron'"
      ]
     },
     "execution_count": 39,
     "metadata": {},
     "output_type": "execute_result"
    }
   ],
   "source": [
    "a"
   ]
  },
  {
   "cell_type": "code",
   "execution_count": 40,
   "id": "32fd5c6d",
   "metadata": {},
   "outputs": [
    {
     "data": {
      "text/plain": [
       "['i', 'am', 'working', 'with', 'ineuron']"
      ]
     },
     "execution_count": 40,
     "metadata": {},
     "output_type": "execute_result"
    }
   ],
   "source": [
    "a.split()"
   ]
  },
  {
   "cell_type": "code",
   "execution_count": 41,
   "id": "11ab9640",
   "metadata": {},
   "outputs": [
    {
     "data": {
      "text/plain": [
       "list"
      ]
     },
     "execution_count": 41,
     "metadata": {},
     "output_type": "execute_result"
    }
   ],
   "source": [
    "type(a.split())"
   ]
  },
  {
   "cell_type": "code",
   "execution_count": 43,
   "id": "27e6a193",
   "metadata": {},
   "outputs": [
    {
     "data": {
      "text/plain": [
       "'i'"
      ]
     },
     "execution_count": 43,
     "metadata": {},
     "output_type": "execute_result"
    }
   ],
   "source": [
    "a[0]"
   ]
  },
  {
   "cell_type": "code",
   "execution_count": 44,
   "id": "02a0acf9",
   "metadata": {},
   "outputs": [
    {
     "data": {
      "text/plain": [
       "'i am working with ineuron'"
      ]
     },
     "execution_count": 44,
     "metadata": {},
     "output_type": "execute_result"
    }
   ],
   "source": [
    "a"
   ]
  },
  {
   "cell_type": "code",
   "execution_count": 45,
   "id": "99da1784",
   "metadata": {},
   "outputs": [
    {
     "data": {
      "text/plain": [
       "['i am ', 'orking ', 'ith ineuron']"
      ]
     },
     "execution_count": 45,
     "metadata": {},
     "output_type": "execute_result"
    }
   ],
   "source": [
    "a.split('w')"
   ]
  },
  {
   "cell_type": "code",
   "execution_count": 46,
   "id": "082f4150",
   "metadata": {},
   "outputs": [
    {
     "data": {
      "text/plain": [
       "['i am ', 'rking with ineuron']"
      ]
     },
     "execution_count": 46,
     "metadata": {},
     "output_type": "execute_result"
    }
   ],
   "source": [
    "a.split('wo')"
   ]
  },
  {
   "cell_type": "code",
   "execution_count": 47,
   "id": "e1673753",
   "metadata": {},
   "outputs": [
    {
     "data": {
      "text/plain": [
       "'I AM WORKING WITH INEURON'"
      ]
     },
     "execution_count": 47,
     "metadata": {},
     "output_type": "execute_result"
    }
   ],
   "source": [
    "a.upper()"
   ]
  },
  {
   "cell_type": "code",
   "execution_count": 48,
   "id": "2d9bdae9",
   "metadata": {},
   "outputs": [],
   "source": [
    "s = \"prabHaT\""
   ]
  },
  {
   "cell_type": "code",
   "execution_count": 49,
   "id": "8ea69ce8",
   "metadata": {},
   "outputs": [
    {
     "data": {
      "text/plain": [
       "'PRABhAt'"
      ]
     },
     "execution_count": 49,
     "metadata": {},
     "output_type": "execute_result"
    }
   ],
   "source": [
    "s.swapcase()"
   ]
  },
  {
   "cell_type": "code",
   "execution_count": 50,
   "id": "41d62637",
   "metadata": {},
   "outputs": [
    {
     "data": {
      "text/plain": [
       "'Prabhat'"
      ]
     },
     "execution_count": 50,
     "metadata": {},
     "output_type": "execute_result"
    }
   ],
   "source": [
    "s.title()"
   ]
  },
  {
   "cell_type": "code",
   "execution_count": 51,
   "id": "bf00dcb0",
   "metadata": {},
   "outputs": [
    {
     "data": {
      "text/plain": [
       "'Prabhat'"
      ]
     },
     "execution_count": 51,
     "metadata": {},
     "output_type": "execute_result"
    }
   ],
   "source": [
    "s.capitalize()"
   ]
  },
  {
   "cell_type": "code",
   "execution_count": 53,
   "id": "5fa5c9fc",
   "metadata": {},
   "outputs": [],
   "source": [
    "b = \"sudh\"\n",
    "c = \"ineuron\"\n"
   ]
  },
  {
   "cell_type": "code",
   "execution_count": 54,
   "id": "2341c4ff",
   "metadata": {},
   "outputs": [
    {
     "data": {
      "text/plain": [
       "'isudhnsudhesudhusudhrsudhosudhn'"
      ]
     },
     "execution_count": 54,
     "metadata": {},
     "output_type": "execute_result"
    }
   ],
   "source": [
    "b.join(c)"
   ]
  },
  {
   "cell_type": "code",
   "execution_count": 55,
   "id": "5d346e96",
   "metadata": {},
   "outputs": [
    {
     "data": {
      "text/plain": [
       "'prabhat'"
      ]
     },
     "execution_count": 55,
     "metadata": {},
     "output_type": "execute_result"
    }
   ],
   "source": [
    "''.join(\"prabhat\")"
   ]
  },
  {
   "cell_type": "code",
   "execution_count": 56,
   "id": "2221c67a",
   "metadata": {},
   "outputs": [
    {
     "data": {
      "text/plain": [
       "'p r a b h a t'"
      ]
     },
     "execution_count": 56,
     "metadata": {},
     "output_type": "execute_result"
    }
   ],
   "source": [
    "' '.join(\"prabhat\")#after every character it joins with a space"
   ]
  },
  {
   "cell_type": "code",
   "execution_count": 57,
   "id": "ed0d1268",
   "metadata": {},
   "outputs": [
    {
     "data": {
      "text/plain": [
       "<reversed at 0x225207e4fd0>"
      ]
     },
     "execution_count": 57,
     "metadata": {},
     "output_type": "execute_result"
    }
   ],
   "source": [
    "reversed(\"prabhat\")"
   ]
  },
  {
   "cell_type": "code",
   "execution_count": 58,
   "id": "66cf1420",
   "metadata": {},
   "outputs": [
    {
     "name": "stdout",
     "output_type": "stream",
     "text": [
      "t\n",
      "a\n",
      "h\n",
      "b\n",
      "a\n",
      "r\n",
      "p\n"
     ]
    }
   ],
   "source": [
    "for i in reversed(\"prabhat\"):\n",
    "    print(i)"
   ]
  },
  {
   "cell_type": "code",
   "execution_count": 59,
   "id": "b1a740a4",
   "metadata": {},
   "outputs": [
    {
     "data": {
      "text/plain": [
       "'tahbarp'"
      ]
     },
     "execution_count": 59,
     "metadata": {},
     "output_type": "execute_result"
    }
   ],
   "source": [
    "s= 'prabhat'\n",
    "s[::-1]"
   ]
  },
  {
   "cell_type": "code",
   "execution_count": 60,
   "id": "eddce4c0",
   "metadata": {},
   "outputs": [],
   "source": [
    "s = \" sudh \""
   ]
  },
  {
   "cell_type": "code",
   "execution_count": 61,
   "id": "e9a7e939",
   "metadata": {},
   "outputs": [
    {
     "data": {
      "text/plain": [
       "' sudh'"
      ]
     },
     "execution_count": 61,
     "metadata": {},
     "output_type": "execute_result"
    }
   ],
   "source": [
    "s.rstrip()"
   ]
  },
  {
   "cell_type": "code",
   "execution_count": 62,
   "id": "10d7f883",
   "metadata": {},
   "outputs": [],
   "source": [
    "s = \"prabhat\""
   ]
  },
  {
   "cell_type": "code",
   "execution_count": 63,
   "id": "e035946c",
   "metadata": {},
   "outputs": [
    {
     "data": {
      "text/plain": [
       "'krabhat'"
      ]
     },
     "execution_count": 63,
     "metadata": {},
     "output_type": "execute_result"
    }
   ],
   "source": [
    "s.replace(\"p\",\"k\")\n",
    "#replace a letter"
   ]
  },
  {
   "cell_type": "code",
   "execution_count": 64,
   "id": "0072945d",
   "metadata": {},
   "outputs": [
    {
     "data": {
      "text/plain": [
       "'prabhat'"
      ]
     },
     "execution_count": 64,
     "metadata": {},
     "output_type": "execute_result"
    }
   ],
   "source": [
    "s.replace(\"k\",\"p\")"
   ]
  },
  {
   "cell_type": "code",
   "execution_count": 65,
   "id": "6ff1704f",
   "metadata": {},
   "outputs": [
    {
     "data": {
      "text/plain": [
       "'prmbhmt'"
      ]
     },
     "execution_count": 65,
     "metadata": {},
     "output_type": "execute_result"
    }
   ],
   "source": [
    "s.replace(\"a\",\"m\")"
   ]
  },
  {
   "cell_type": "code",
   "execution_count": 67,
   "id": "e9b129a1",
   "metadata": {},
   "outputs": [
    {
     "data": {
      "text/plain": [
       "'prabhat kumar'"
      ]
     },
     "execution_count": 67,
     "metadata": {},
     "output_type": "execute_result"
    }
   ],
   "source": [
    "\"prabhat\\tkumar\".expandtabs()"
   ]
  },
  {
   "cell_type": "code",
   "execution_count": 68,
   "id": "e126e9ee",
   "metadata": {},
   "outputs": [],
   "source": [
    "s = \"prabhat\""
   ]
  },
  {
   "cell_type": "code",
   "execution_count": 70,
   "id": "703743c2",
   "metadata": {},
   "outputs": [
    {
     "data": {
      "text/plain": [
       "'                prabhat                 '"
      ]
     },
     "execution_count": 70,
     "metadata": {},
     "output_type": "execute_result"
    }
   ],
   "source": [
    "s.center(40,\" \")"
   ]
  },
  {
   "cell_type": "code",
   "execution_count": 71,
   "id": "97c5047f",
   "metadata": {},
   "outputs": [
    {
     "data": {
      "text/plain": [
       "'################prabhat#################'"
      ]
     },
     "execution_count": 71,
     "metadata": {},
     "output_type": "execute_result"
    }
   ],
   "source": [
    "s.center(40,\"#\")"
   ]
  },
  {
   "cell_type": "code",
   "execution_count": 72,
   "id": "d37103f2",
   "metadata": {},
   "outputs": [
    {
     "data": {
      "text/plain": [
       "'i am working with ineuron'"
      ]
     },
     "execution_count": 72,
     "metadata": {},
     "output_type": "execute_result"
    }
   ],
   "source": [
    "a"
   ]
  },
  {
   "cell_type": "code",
   "execution_count": 73,
   "id": "fdc994d5",
   "metadata": {},
   "outputs": [
    {
     "data": {
      "text/plain": [
       "'i am working with ineuron'"
      ]
     },
     "execution_count": 73,
     "metadata": {},
     "output_type": "execute_result"
    }
   ],
   "source": [
    "a.strip()"
   ]
  },
  {
   "cell_type": "code",
   "execution_count": 74,
   "id": "bc1e1eb6",
   "metadata": {},
   "outputs": [
    {
     "data": {
      "text/plain": [
       "'prabhat'"
      ]
     },
     "execution_count": 74,
     "metadata": {},
     "output_type": "execute_result"
    }
   ],
   "source": [
    "s"
   ]
  },
  {
   "cell_type": "code",
   "execution_count": 75,
   "id": "cce98664",
   "metadata": {},
   "outputs": [
    {
     "data": {
      "text/plain": [
       "False"
      ]
     },
     "execution_count": 75,
     "metadata": {},
     "output_type": "execute_result"
    }
   ],
   "source": [
    "s.isupper()"
   ]
  },
  {
   "cell_type": "code",
   "execution_count": 76,
   "id": "f54db6cc",
   "metadata": {},
   "outputs": [
    {
     "data": {
      "text/plain": [
       "True"
      ]
     },
     "execution_count": 76,
     "metadata": {},
     "output_type": "execute_result"
    }
   ],
   "source": [
    "s.islower()"
   ]
  },
  {
   "cell_type": "code",
   "execution_count": 77,
   "id": "57c30cf6",
   "metadata": {},
   "outputs": [],
   "source": [
    "s = \" prabhat\""
   ]
  },
  {
   "cell_type": "code",
   "execution_count": 78,
   "id": "5b972ff4",
   "metadata": {},
   "outputs": [
    {
     "data": {
      "text/plain": [
       "False"
      ]
     },
     "execution_count": 78,
     "metadata": {},
     "output_type": "execute_result"
    }
   ],
   "source": [
    "s.isspace()"
   ]
  },
  {
   "cell_type": "code",
   "execution_count": 79,
   "id": "a0c0208b",
   "metadata": {},
   "outputs": [
    {
     "data": {
      "text/plain": [
       "' prabhat'"
      ]
     },
     "execution_count": 79,
     "metadata": {},
     "output_type": "execute_result"
    }
   ],
   "source": [
    "s"
   ]
  },
  {
   "cell_type": "code",
   "execution_count": 80,
   "id": "24f603dc",
   "metadata": {},
   "outputs": [
    {
     "data": {
      "text/plain": [
       "True"
      ]
     },
     "execution_count": 80,
     "metadata": {},
     "output_type": "execute_result"
    }
   ],
   "source": [
    "s.endswith('t')"
   ]
  },
  {
   "cell_type": "code",
   "execution_count": 81,
   "id": "dea94e71",
   "metadata": {},
   "outputs": [
    {
     "data": {
      "text/plain": [
       "False"
      ]
     },
     "execution_count": 81,
     "metadata": {},
     "output_type": "execute_result"
    }
   ],
   "source": [
    "s.endswith('a')"
   ]
  },
  {
   "cell_type": "code",
   "execution_count": 82,
   "id": "441d2d7b",
   "metadata": {},
   "outputs": [
    {
     "data": {
      "text/plain": [
       "False"
      ]
     },
     "execution_count": 82,
     "metadata": {},
     "output_type": "execute_result"
    }
   ],
   "source": [
    "s.startswith('t')"
   ]
  },
  {
   "cell_type": "code",
   "execution_count": 83,
   "id": "feb73dd5",
   "metadata": {},
   "outputs": [
    {
     "data": {
      "text/plain": [
       "False"
      ]
     },
     "execution_count": 83,
     "metadata": {},
     "output_type": "execute_result"
    }
   ],
   "source": [
    "s.startswith('p')"
   ]
  },
  {
   "cell_type": "markdown",
   "id": "071c40ab",
   "metadata": {},
   "source": [
    "# list"
   ]
  },
  {
   "cell_type": "code",
   "execution_count": 2,
   "id": "0169a7cb",
   "metadata": {},
   "outputs": [],
   "source": [
    "l = [\"xya\",34, True]"
   ]
  },
  {
   "cell_type": "code",
   "execution_count": 3,
   "id": "b1ae39fa",
   "metadata": {},
   "outputs": [
    {
     "data": {
      "text/plain": [
       "list"
      ]
     },
     "execution_count": 3,
     "metadata": {},
     "output_type": "execute_result"
    }
   ],
   "source": [
    "type(l)"
   ]
  },
  {
   "cell_type": "code",
   "execution_count": 4,
   "id": "cb1918e3",
   "metadata": {},
   "outputs": [
    {
     "data": {
      "text/plain": [
       "'xya'"
      ]
     },
     "execution_count": 4,
     "metadata": {},
     "output_type": "execute_result"
    }
   ],
   "source": [
    "l[0]"
   ]
  },
  {
   "cell_type": "code",
   "execution_count": 5,
   "id": "188df92b",
   "metadata": {},
   "outputs": [
    {
     "data": {
      "text/plain": [
       "True"
      ]
     },
     "execution_count": 5,
     "metadata": {},
     "output_type": "execute_result"
    }
   ],
   "source": [
    "l[-1]"
   ]
  },
  {
   "cell_type": "code",
   "execution_count": 6,
   "id": "c60af2aa",
   "metadata": {},
   "outputs": [
    {
     "data": {
      "text/plain": [
       "['xya', 34, True]"
      ]
     },
     "execution_count": 6,
     "metadata": {},
     "output_type": "execute_result"
    }
   ],
   "source": [
    "l[0:4]"
   ]
  },
  {
   "cell_type": "code",
   "execution_count": 7,
   "id": "d0194468",
   "metadata": {},
   "outputs": [
    {
     "data": {
      "text/plain": [
       "[True, 34, 'xya']"
      ]
     },
     "execution_count": 7,
     "metadata": {},
     "output_type": "execute_result"
    }
   ],
   "source": [
    "l[::-1]"
   ]
  },
  {
   "cell_type": "code",
   "execution_count": 9,
   "id": "f2103566",
   "metadata": {},
   "outputs": [
    {
     "data": {
      "text/plain": [
       "[]"
      ]
     },
     "execution_count": 9,
     "metadata": {},
     "output_type": "execute_result"
    }
   ],
   "source": [
    "l[-1:2]"
   ]
  },
  {
   "cell_type": "code",
   "execution_count": 10,
   "id": "74b9ebd3",
   "metadata": {},
   "outputs": [
    {
     "data": {
      "text/plain": [
       "['xya', 34, True]"
      ]
     },
     "execution_count": 10,
     "metadata": {},
     "output_type": "execute_result"
    }
   ],
   "source": [
    "l"
   ]
  },
  {
   "cell_type": "code",
   "execution_count": 12,
   "id": "7fd4c4a1",
   "metadata": {},
   "outputs": [
    {
     "data": {
      "text/plain": [
       "[]"
      ]
     },
     "execution_count": 12,
     "metadata": {},
     "output_type": "execute_result"
    }
   ],
   "source": [
    "l[-1:-3]"
   ]
  },
  {
   "cell_type": "code",
   "execution_count": 13,
   "id": "fb2fcdc6",
   "metadata": {},
   "outputs": [
    {
     "data": {
      "text/plain": [
       "[34, True]"
      ]
     },
     "execution_count": 13,
     "metadata": {},
     "output_type": "execute_result"
    }
   ],
   "source": [
    "l[1:3]"
   ]
  },
  {
   "cell_type": "code",
   "execution_count": 14,
   "id": "b1ed5684",
   "metadata": {},
   "outputs": [
    {
     "data": {
      "text/plain": [
       "['xya', 34, True]"
      ]
     },
     "execution_count": 14,
     "metadata": {},
     "output_type": "execute_result"
    }
   ],
   "source": [
    "l"
   ]
  },
  {
   "cell_type": "code",
   "execution_count": 15,
   "id": "5b18c997",
   "metadata": {},
   "outputs": [
    {
     "data": {
      "text/plain": [
       "'a'"
      ]
     },
     "execution_count": 15,
     "metadata": {},
     "output_type": "execute_result"
    }
   ],
   "source": [
    "l[0][2]\n",
    "#access a"
   ]
  },
  {
   "cell_type": "code",
   "execution_count": 16,
   "id": "09fa0546",
   "metadata": {},
   "outputs": [],
   "source": [
    "l1 = [\"prabhat\",\"kumar\",34]\n",
    "l2 = [\"xyz\",\"pqr\",342]"
   ]
  },
  {
   "cell_type": "code",
   "execution_count": 17,
   "id": "db9bc8bd",
   "metadata": {},
   "outputs": [
    {
     "data": {
      "text/plain": [
       "['prabhat', 'kumar', 34, 'xyz', 'pqr', 342]"
      ]
     },
     "execution_count": 17,
     "metadata": {},
     "output_type": "execute_result"
    }
   ],
   "source": [
    "l1 + l2"
   ]
  },
  {
   "cell_type": "code",
   "execution_count": 18,
   "id": "379f40c6",
   "metadata": {},
   "outputs": [
    {
     "ename": "TypeError",
     "evalue": "can only concatenate list (not \"str\") to list",
     "output_type": "error",
     "traceback": [
      "\u001b[1;31m---------------------------------------------------------------------------\u001b[0m",
      "\u001b[1;31mTypeError\u001b[0m                                 Traceback (most recent call last)",
      "\u001b[1;32m<ipython-input-18-ddac878765ac>\u001b[0m in \u001b[0;36m<module>\u001b[1;34m\u001b[0m\n\u001b[1;32m----> 1\u001b[1;33m \u001b[0ml1\u001b[0m \u001b[1;33m+\u001b[0m \u001b[1;34m\"prabhat\"\u001b[0m\u001b[1;33m\u001b[0m\u001b[1;33m\u001b[0m\u001b[0m\n\u001b[0m",
      "\u001b[1;31mTypeError\u001b[0m: can only concatenate list (not \"str\") to list"
     ]
    }
   ],
   "source": [
    "l1 + \"prabhat\""
   ]
  },
  {
   "cell_type": "code",
   "execution_count": 19,
   "id": "0c23efd5",
   "metadata": {},
   "outputs": [
    {
     "data": {
      "text/plain": [
       "['prabhat', 'kumar', 34, 'prabhat']"
      ]
     },
     "execution_count": 19,
     "metadata": {},
     "output_type": "execute_result"
    }
   ],
   "source": [
    "l1 + [\"prabhat\"]#both list datatype"
   ]
  },
  {
   "cell_type": "code",
   "execution_count": 21,
   "id": "d01f5c9a",
   "metadata": {},
   "outputs": [
    {
     "data": {
      "text/plain": [
       "['prabhat', 'kumar', 34, 'prabhat', 'kumar', 34]"
      ]
     },
     "execution_count": 21,
     "metadata": {},
     "output_type": "execute_result"
    }
   ],
   "source": [
    "l1*2"
   ]
  },
  {
   "cell_type": "code",
   "execution_count": 22,
   "id": "5caa2b00",
   "metadata": {},
   "outputs": [
    {
     "data": {
      "text/plain": [
       "['prabhat', 'kumar', 34]"
      ]
     },
     "execution_count": 22,
     "metadata": {},
     "output_type": "execute_result"
    }
   ],
   "source": [
    "l1"
   ]
  },
  {
   "cell_type": "code",
   "execution_count": 23,
   "id": "0cc4f3d4",
   "metadata": {},
   "outputs": [],
   "source": [
    "l1[0] = \"kumar\""
   ]
  },
  {
   "cell_type": "code",
   "execution_count": 24,
   "id": "5c3f7ca2",
   "metadata": {},
   "outputs": [
    {
     "data": {
      "text/plain": [
       "['kumar', 'kumar', 34]"
      ]
     },
     "execution_count": 24,
     "metadata": {},
     "output_type": "execute_result"
    }
   ],
   "source": [
    "l1"
   ]
  },
  {
   "cell_type": "code",
   "execution_count": 25,
   "id": "d6bd25ab",
   "metadata": {},
   "outputs": [
    {
     "data": {
      "text/plain": [
       "'kumar'"
      ]
     },
     "execution_count": 25,
     "metadata": {},
     "output_type": "execute_result"
    }
   ],
   "source": [
    "l1[1]"
   ]
  },
  {
   "cell_type": "code",
   "execution_count": 26,
   "id": "0e614e3d",
   "metadata": {},
   "outputs": [
    {
     "data": {
      "text/plain": [
       "'sumar'"
      ]
     },
     "execution_count": 26,
     "metadata": {},
     "output_type": "execute_result"
    }
   ],
   "source": [
    "l1[1].replace(\"k\",\"s\")"
   ]
  },
  {
   "cell_type": "code",
   "execution_count": 29,
   "id": "9a77500e",
   "metadata": {},
   "outputs": [
    {
     "ename": "TypeError",
     "evalue": "'str' object does not support item assignment",
     "output_type": "error",
     "traceback": [
      "\u001b[1;31m---------------------------------------------------------------------------\u001b[0m",
      "\u001b[1;31mTypeError\u001b[0m                                 Traceback (most recent call last)",
      "\u001b[1;32m<ipython-input-29-a78ad52b965d>\u001b[0m in \u001b[0;36m<module>\u001b[1;34m\u001b[0m\n\u001b[1;32m----> 1\u001b[1;33m \u001b[0ml1\u001b[0m\u001b[1;33m[\u001b[0m\u001b[1;36m1\u001b[0m\u001b[1;33m]\u001b[0m\u001b[1;33m[\u001b[0m\u001b[1;36m0\u001b[0m\u001b[1;33m]\u001b[0m \u001b[1;33m=\u001b[0m\u001b[1;34m\"p\"\u001b[0m\u001b[1;33m\u001b[0m\u001b[1;33m\u001b[0m\u001b[0m\n\u001b[0m",
      "\u001b[1;31mTypeError\u001b[0m: 'str' object does not support item assignment"
     ]
    }
   ],
   "source": [
    "l1[1][0] =\"p\""
   ]
  },
  {
   "cell_type": "code",
   "execution_count": 30,
   "id": "1d857db2",
   "metadata": {},
   "outputs": [],
   "source": [
    "s= \"prabhat\""
   ]
  },
  {
   "cell_type": "code",
   "execution_count": 31,
   "id": "3df69e55",
   "metadata": {},
   "outputs": [
    {
     "ename": "TypeError",
     "evalue": "'str' object does not support item assignment",
     "output_type": "error",
     "traceback": [
      "\u001b[1;31m---------------------------------------------------------------------------\u001b[0m",
      "\u001b[1;31mTypeError\u001b[0m                                 Traceback (most recent call last)",
      "\u001b[1;32m<ipython-input-31-070d74e26ccf>\u001b[0m in \u001b[0;36m<module>\u001b[1;34m\u001b[0m\n\u001b[1;32m----> 1\u001b[1;33m \u001b[0ms\u001b[0m\u001b[1;33m[\u001b[0m\u001b[1;36m0\u001b[0m\u001b[1;33m]\u001b[0m\u001b[1;33m=\u001b[0m\u001b[1;34m\"k\"\u001b[0m\u001b[1;33m\u001b[0m\u001b[1;33m\u001b[0m\u001b[0m\n\u001b[0m",
      "\u001b[1;31mTypeError\u001b[0m: 'str' object does not support item assignment"
     ]
    }
   ],
   "source": [
    "s[0]=\"k\""
   ]
  },
  {
   "cell_type": "code",
   "execution_count": 32,
   "id": "ec76c1df",
   "metadata": {},
   "outputs": [
    {
     "data": {
      "text/plain": [
       "3"
      ]
     },
     "execution_count": 32,
     "metadata": {},
     "output_type": "execute_result"
    }
   ],
   "source": [
    "len(l1)"
   ]
  },
  {
   "cell_type": "code",
   "execution_count": 33,
   "id": "8886647c",
   "metadata": {},
   "outputs": [
    {
     "data": {
      "text/plain": [
       "False"
      ]
     },
     "execution_count": 33,
     "metadata": {},
     "output_type": "execute_result"
    }
   ],
   "source": [
    "\"prabhat\" in l1"
   ]
  },
  {
   "cell_type": "code",
   "execution_count": 34,
   "id": "0a9e13ca",
   "metadata": {},
   "outputs": [
    {
     "data": {
      "text/plain": [
       "['kumar', 'kumar', 34]"
      ]
     },
     "execution_count": 34,
     "metadata": {},
     "output_type": "execute_result"
    }
   ],
   "source": [
    "l1"
   ]
  },
  {
   "cell_type": "code",
   "execution_count": 35,
   "id": "68864301",
   "metadata": {},
   "outputs": [
    {
     "data": {
      "text/plain": [
       "['xyz', 'pqr', 342]"
      ]
     },
     "execution_count": 35,
     "metadata": {},
     "output_type": "execute_result"
    }
   ],
   "source": [
    "l2"
   ]
  },
  {
   "cell_type": "code",
   "execution_count": 37,
   "id": "b221fbec",
   "metadata": {},
   "outputs": [],
   "source": [
    "l1[0] =\"prabhat\""
   ]
  },
  {
   "cell_type": "code",
   "execution_count": 38,
   "id": "3028be13",
   "metadata": {},
   "outputs": [
    {
     "data": {
      "text/plain": [
       "['prabhat', 'kumar', 34]"
      ]
     },
     "execution_count": 38,
     "metadata": {},
     "output_type": "execute_result"
    }
   ],
   "source": [
    "l1"
   ]
  },
  {
   "cell_type": "code",
   "execution_count": 39,
   "id": "494a1113",
   "metadata": {},
   "outputs": [],
   "source": [
    "l1.append(\"singh\")"
   ]
  },
  {
   "cell_type": "code",
   "execution_count": 40,
   "id": "e06c58fd",
   "metadata": {},
   "outputs": [
    {
     "data": {
      "text/plain": [
       "['prabhat', 'kumar', 34, 'singh']"
      ]
     },
     "execution_count": 40,
     "metadata": {},
     "output_type": "execute_result"
    }
   ],
   "source": [
    "l1"
   ]
  },
  {
   "cell_type": "code",
   "execution_count": 41,
   "id": "17a60e90",
   "metadata": {},
   "outputs": [
    {
     "data": {
      "text/plain": [
       "'singh'"
      ]
     },
     "execution_count": 41,
     "metadata": {},
     "output_type": "execute_result"
    }
   ],
   "source": [
    "l1.pop()#return and remove item at last index"
   ]
  },
  {
   "cell_type": "code",
   "execution_count": 42,
   "id": "ae2d746f",
   "metadata": {},
   "outputs": [
    {
     "data": {
      "text/plain": [
       "['prabhat', 'kumar', 34]"
      ]
     },
     "execution_count": 42,
     "metadata": {},
     "output_type": "execute_result"
    }
   ],
   "source": [
    "l1"
   ]
  },
  {
   "cell_type": "code",
   "execution_count": 43,
   "id": "c5c1975b",
   "metadata": {},
   "outputs": [
    {
     "data": {
      "text/plain": [
       "'kumar'"
      ]
     },
     "execution_count": 43,
     "metadata": {},
     "output_type": "execute_result"
    }
   ],
   "source": [
    "l1.pop(1)"
   ]
  },
  {
   "cell_type": "code",
   "execution_count": 44,
   "id": "7623e89e",
   "metadata": {},
   "outputs": [
    {
     "data": {
      "text/plain": [
       "['prabhat', 34]"
      ]
     },
     "execution_count": 44,
     "metadata": {},
     "output_type": "execute_result"
    }
   ],
   "source": [
    "l1"
   ]
  },
  {
   "cell_type": "code",
   "execution_count": 45,
   "id": "5f840f45",
   "metadata": {},
   "outputs": [],
   "source": [
    "#insert ele at particular index\n",
    "l1.append(23)"
   ]
  },
  {
   "cell_type": "code",
   "execution_count": 46,
   "id": "cc585027",
   "metadata": {},
   "outputs": [
    {
     "data": {
      "text/plain": [
       "['prabhat', 34, 23]"
      ]
     },
     "execution_count": 46,
     "metadata": {},
     "output_type": "execute_result"
    }
   ],
   "source": [
    "l1"
   ]
  },
  {
   "cell_type": "code",
   "execution_count": 47,
   "id": "0da6b4a0",
   "metadata": {},
   "outputs": [],
   "source": [
    "l1.insert(1,\"xyz\")"
   ]
  },
  {
   "cell_type": "code",
   "execution_count": 48,
   "id": "d04bc252",
   "metadata": {},
   "outputs": [
    {
     "data": {
      "text/plain": [
       "['prabhat', 'xyz', 34, 23]"
      ]
     },
     "execution_count": 48,
     "metadata": {},
     "output_type": "execute_result"
    }
   ],
   "source": [
    "l1"
   ]
  },
  {
   "cell_type": "code",
   "execution_count": 49,
   "id": "0cbe623d",
   "metadata": {},
   "outputs": [],
   "source": [
    "l1.insert(3,[1,2,3])"
   ]
  },
  {
   "cell_type": "code",
   "execution_count": 50,
   "id": "232b2336",
   "metadata": {},
   "outputs": [
    {
     "data": {
      "text/plain": [
       "['prabhat', 'xyz', 34, [1, 2, 3], 23]"
      ]
     },
     "execution_count": 50,
     "metadata": {},
     "output_type": "execute_result"
    }
   ],
   "source": [
    "l1"
   ]
  },
  {
   "cell_type": "code",
   "execution_count": 51,
   "id": "dbf09852",
   "metadata": {},
   "outputs": [
    {
     "data": {
      "text/plain": [
       "[23, [1, 2, 3], 34, 'xyz', 'prabhat']"
      ]
     },
     "execution_count": 51,
     "metadata": {},
     "output_type": "execute_result"
    }
   ],
   "source": [
    "l1[::-1]#reversed"
   ]
  },
  {
   "cell_type": "code",
   "execution_count": 52,
   "id": "269430b2",
   "metadata": {},
   "outputs": [],
   "source": [
    "l1.reverse()"
   ]
  },
  {
   "cell_type": "code",
   "execution_count": 53,
   "id": "93cc1adc",
   "metadata": {},
   "outputs": [
    {
     "data": {
      "text/plain": [
       "[23, [1, 2, 3], 34, 'xyz', 'prabhat']"
      ]
     },
     "execution_count": 53,
     "metadata": {},
     "output_type": "execute_result"
    }
   ],
   "source": [
    "l1"
   ]
  },
  {
   "cell_type": "code",
   "execution_count": 54,
   "id": "63628d64",
   "metadata": {},
   "outputs": [
    {
     "data": {
      "text/plain": [
       "['xyz', 'pqr', 342]"
      ]
     },
     "execution_count": 54,
     "metadata": {},
     "output_type": "execute_result"
    }
   ],
   "source": [
    "l2"
   ]
  },
  {
   "cell_type": "code",
   "execution_count": 55,
   "id": "25bbf19e",
   "metadata": {},
   "outputs": [
    {
     "data": {
      "text/plain": [
       "1"
      ]
     },
     "execution_count": 55,
     "metadata": {},
     "output_type": "execute_result"
    }
   ],
   "source": [
    "l1.count(\"xyz\")"
   ]
  },
  {
   "cell_type": "code",
   "execution_count": 56,
   "id": "da692641",
   "metadata": {},
   "outputs": [],
   "source": [
    "l2.append([1,2,3])"
   ]
  },
  {
   "cell_type": "code",
   "execution_count": 57,
   "id": "df2eff58",
   "metadata": {},
   "outputs": [
    {
     "data": {
      "text/plain": [
       "['xyz', 'pqr', 342, [1, 2, 3]]"
      ]
     },
     "execution_count": 57,
     "metadata": {},
     "output_type": "execute_result"
    }
   ],
   "source": [
    "l2"
   ]
  },
  {
   "cell_type": "code",
   "execution_count": 58,
   "id": "501ff21b",
   "metadata": {},
   "outputs": [
    {
     "data": {
      "text/plain": [
       "[23, [1, 2, 3], 34, 'xyz', 'prabhat']"
      ]
     },
     "execution_count": 58,
     "metadata": {},
     "output_type": "execute_result"
    }
   ],
   "source": [
    "l1"
   ]
  },
  {
   "cell_type": "code",
   "execution_count": 59,
   "id": "7eae683a",
   "metadata": {},
   "outputs": [],
   "source": [
    "l1.extend([1,2,\"sudh\"])"
   ]
  },
  {
   "cell_type": "code",
   "execution_count": 60,
   "id": "b04fe175",
   "metadata": {},
   "outputs": [
    {
     "data": {
      "text/plain": [
       "[23, [1, 2, 3], 34, 'xyz', 'prabhat', 1, 2, 'sudh']"
      ]
     },
     "execution_count": 60,
     "metadata": {},
     "output_type": "execute_result"
    }
   ],
   "source": [
    "l1"
   ]
  },
  {
   "cell_type": "code",
   "execution_count": 62,
   "id": "fc1464bb",
   "metadata": {},
   "outputs": [
    {
     "ename": "TypeError",
     "evalue": "'int' object is not iterable",
     "output_type": "error",
     "traceback": [
      "\u001b[1;31m---------------------------------------------------------------------------\u001b[0m",
      "\u001b[1;31mTypeError\u001b[0m                                 Traceback (most recent call last)",
      "\u001b[1;32m<ipython-input-62-2ad832cd07e7>\u001b[0m in \u001b[0;36m<module>\u001b[1;34m\u001b[0m\n\u001b[1;32m----> 1\u001b[1;33m \u001b[0ml1\u001b[0m\u001b[1;33m.\u001b[0m\u001b[0mextend\u001b[0m\u001b[1;33m(\u001b[0m\u001b[1;36m1\u001b[0m\u001b[1;33m)\u001b[0m\u001b[1;33m\u001b[0m\u001b[1;33m\u001b[0m\u001b[0m\n\u001b[0m",
      "\u001b[1;31mTypeError\u001b[0m: 'int' object is not iterable"
     ]
    }
   ],
   "source": [
    "l1.extend(1)"
   ]
  },
  {
   "cell_type": "code",
   "execution_count": 63,
   "id": "7fc0d4b3",
   "metadata": {},
   "outputs": [],
   "source": [
    "s = \"suhd\"\n",
    "#convert str to list"
   ]
  },
  {
   "cell_type": "code",
   "execution_count": 65,
   "id": "d97533b8",
   "metadata": {},
   "outputs": [
    {
     "data": {
      "text/plain": [
       "['suhd']"
      ]
     },
     "execution_count": 65,
     "metadata": {},
     "output_type": "execute_result"
    }
   ],
   "source": [
    "s.split('#')"
   ]
  },
  {
   "cell_type": "code",
   "execution_count": 1,
   "id": "c04a31b1",
   "metadata": {},
   "outputs": [],
   "source": [
    "l = [2,3,4,5]"
   ]
  },
  {
   "cell_type": "code",
   "execution_count": 3,
   "id": "864b8a22",
   "metadata": {},
   "outputs": [
    {
     "data": {
      "text/plain": [
       "3"
      ]
     },
     "execution_count": 3,
     "metadata": {},
     "output_type": "execute_result"
    }
   ],
   "source": [
    "l.index(5)"
   ]
  },
  {
   "cell_type": "code",
   "execution_count": 6,
   "id": "59c906cc",
   "metadata": {},
   "outputs": [],
   "source": [
    "l2 = list(\"prabhat\")"
   ]
  },
  {
   "cell_type": "code",
   "execution_count": 7,
   "id": "9ba7d996",
   "metadata": {},
   "outputs": [
    {
     "data": {
      "text/plain": [
       "['p', 'r', 'a', 'b', 'h', 'a', 't']"
      ]
     },
     "execution_count": 7,
     "metadata": {},
     "output_type": "execute_result"
    }
   ],
   "source": [
    "l2"
   ]
  },
  {
   "cell_type": "code",
   "execution_count": 8,
   "id": "0b17fc7e",
   "metadata": {},
   "outputs": [],
   "source": [
    "l2.insert(-1,'t')"
   ]
  },
  {
   "cell_type": "code",
   "execution_count": 9,
   "id": "d031e0c5",
   "metadata": {},
   "outputs": [
    {
     "data": {
      "text/plain": [
       "['p', 'r', 'a', 'b', 'h', 'a', 't', 't']"
      ]
     },
     "execution_count": 9,
     "metadata": {},
     "output_type": "execute_result"
    }
   ],
   "source": [
    "l2"
   ]
  },
  {
   "cell_type": "code",
   "execution_count": 10,
   "id": "a2d03611",
   "metadata": {},
   "outputs": [
    {
     "name": "stdout",
     "output_type": "stream",
     "text": [
      "['a']\n",
      "['a', 'b']\n",
      "list element matched\n",
      "['a', 'b']\n"
     ]
    }
   ],
   "source": [
    "#compare two list and filter unmatched\n",
    "l1 = [\"a\",\"b\",\"c\"]\n",
    "l2 = [\"p\",\"q\",\"c\"]\n",
    "l3 = []\n",
    "for element in l1:\n",
    "    #print(element)\n",
    "    \n",
    "    if element in l2:\n",
    "        print(\"list element matched\")\n",
    "    else :\n",
    "        if element not in l2:\n",
    "            \n",
    "            l3.append(element)\n",
    "    print(l3)  "
   ]
  },
  {
   "cell_type": "code",
   "execution_count": 8,
   "id": "21c013dd",
   "metadata": {},
   "outputs": [
    {
     "data": {
      "text/plain": [
       "['a', 'b']"
      ]
     },
     "execution_count": 8,
     "metadata": {},
     "output_type": "execute_result"
    }
   ],
   "source": [
    "l3"
   ]
  },
  {
   "cell_type": "code",
   "execution_count": null,
   "id": "cc2caccb",
   "metadata": {},
   "outputs": [],
   "source": []
  }
 ],
 "metadata": {
  "kernelspec": {
   "display_name": "Python 3",
   "language": "python",
   "name": "python3"
  },
  "language_info": {
   "codemirror_mode": {
    "name": "ipython",
    "version": 3
   },
   "file_extension": ".py",
   "mimetype": "text/x-python",
   "name": "python",
   "nbconvert_exporter": "python",
   "pygments_lexer": "ipython3",
   "version": "3.8.8"
  }
 },
 "nbformat": 4,
 "nbformat_minor": 5
}
