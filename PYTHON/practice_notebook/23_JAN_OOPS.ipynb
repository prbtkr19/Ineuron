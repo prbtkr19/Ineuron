{
 "cells": [
  {
   "cell_type": "code",
   "execution_count": 3,
   "id": "6985b5b2",
   "metadata": {},
   "outputs": [
    {
     "ename": "SyntaxError",
     "evalue": "unexpected EOF while parsing (<ipython-input-3-597cd2fc15cc>, line 2)",
     "output_type": "error",
     "traceback": [
      "\u001b[1;36m  File \u001b[1;32m\"<ipython-input-3-597cd2fc15cc>\"\u001b[1;36m, line \u001b[1;32m2\u001b[0m\n\u001b[1;33m    \u001b[0m\n\u001b[1;37m    ^\u001b[0m\n\u001b[1;31mSyntaxError\u001b[0m\u001b[1;31m:\u001b[0m unexpected EOF while parsing\n"
     ]
    }
   ],
   "source": [
    "class car :\n",
    "    "
   ]
  },
  {
   "cell_type": "code",
   "execution_count": 4,
   "id": "f298f1a2",
   "metadata": {},
   "outputs": [],
   "source": [
    "class car:\n",
    "    pass"
   ]
  },
  {
   "cell_type": "code",
   "execution_count": 5,
   "id": "ca1e4cc3",
   "metadata": {},
   "outputs": [],
   "source": [
    "class car :\n",
    "    def __init__(self,brand_name ,fueltype ,body_type):\n",
    "        self.brand_name = brand_name\n",
    "        self.fueltype = fueltype\n",
    "        self.body_type = body_type\n",
    "        \n",
    "    def desc_car():\n",
    "        print(self.brand_name ,self.fueltype ,self.body_type)"
   ]
  },
  {
   "cell_type": "code",
   "execution_count": 6,
   "id": "9d73319a",
   "metadata": {},
   "outputs": [
    {
     "ename": "TypeError",
     "evalue": "__init__() missing 3 required positional arguments: 'brand_name', 'fueltype', and 'body_type'",
     "output_type": "error",
     "traceback": [
      "\u001b[1;31m---------------------------------------------------------------------------\u001b[0m",
      "\u001b[1;31mTypeError\u001b[0m                                 Traceback (most recent call last)",
      "\u001b[1;32m<ipython-input-6-4739df149d2c>\u001b[0m in \u001b[0;36m<module>\u001b[1;34m\u001b[0m\n\u001b[1;32m----> 1\u001b[1;33m \u001b[0minnova\u001b[0m \u001b[1;33m=\u001b[0m \u001b[0mcar\u001b[0m\u001b[1;33m(\u001b[0m\u001b[1;33m)\u001b[0m\u001b[1;33m\u001b[0m\u001b[1;33m\u001b[0m\u001b[0m\n\u001b[0m",
      "\u001b[1;31mTypeError\u001b[0m: __init__() missing 3 required positional arguments: 'brand_name', 'fueltype', and 'body_type'"
     ]
    }
   ],
   "source": [
    "innova = car()\n",
    "#innova is car class variable"
   ]
  },
  {
   "cell_type": "code",
   "execution_count": 7,
   "id": "efbb24e5",
   "metadata": {},
   "outputs": [],
   "source": [
    "innova = car(\"toyota\",\"petrol\",\"suv\")"
   ]
  },
  {
   "cell_type": "code",
   "execution_count": 8,
   "id": "5d89307d",
   "metadata": {},
   "outputs": [
    {
     "ename": "TypeError",
     "evalue": "desc_car() takes 0 positional arguments but 1 was given",
     "output_type": "error",
     "traceback": [
      "\u001b[1;31m---------------------------------------------------------------------------\u001b[0m",
      "\u001b[1;31mTypeError\u001b[0m                                 Traceback (most recent call last)",
      "\u001b[1;32m<ipython-input-8-cfdb7103a8d5>\u001b[0m in \u001b[0;36m<module>\u001b[1;34m\u001b[0m\n\u001b[1;32m----> 1\u001b[1;33m \u001b[0minnova\u001b[0m\u001b[1;33m.\u001b[0m\u001b[0mdesc_car\u001b[0m\u001b[1;33m(\u001b[0m\u001b[1;33m)\u001b[0m\u001b[1;33m\u001b[0m\u001b[1;33m\u001b[0m\u001b[0m\n\u001b[0m",
      "\u001b[1;31mTypeError\u001b[0m: desc_car() takes 0 positional arguments but 1 was given"
     ]
    }
   ],
   "source": [
    "innova.desc_car()"
   ]
  },
  {
   "cell_type": "code",
   "execution_count": 9,
   "id": "fa873e1c",
   "metadata": {},
   "outputs": [],
   "source": [
    "class car :\n",
    "    def __init__(self,brand_name ,fueltype ,body_type):\n",
    "        self.brand_name = brand_name\n",
    "        self.fueltype = fueltype\n",
    "        self.body_type = body_type\n",
    "        \n",
    "    def desc_car(self):\n",
    "        print(self.brand_name ,self.fueltype ,self.body_type)"
   ]
  },
  {
   "cell_type": "code",
   "execution_count": 10,
   "id": "20442c44",
   "metadata": {},
   "outputs": [],
   "source": [
    "innova = car(\"toyota\",\"petrol\",\"suv\")"
   ]
  },
  {
   "cell_type": "code",
   "execution_count": 13,
   "id": "3141288b",
   "metadata": {},
   "outputs": [
    {
     "name": "stdout",
     "output_type": "stream",
     "text": [
      "toyota petrol suv\n"
     ]
    }
   ],
   "source": [
    "innova.desc_car()"
   ]
  },
  {
   "cell_type": "code",
   "execution_count": 14,
   "id": "aab8d33d",
   "metadata": {},
   "outputs": [
    {
     "data": {
      "text/plain": [
       "'toyota'"
      ]
     },
     "execution_count": 14,
     "metadata": {},
     "output_type": "execute_result"
    }
   ],
   "source": [
    "innova.brand_name"
   ]
  },
  {
   "cell_type": "code",
   "execution_count": 15,
   "id": "2428379f",
   "metadata": {},
   "outputs": [],
   "source": [
    "nexon = car(\"tata\",\"petrol\",\"mini suv\")"
   ]
  },
  {
   "cell_type": "code",
   "execution_count": 16,
   "id": "d024d0db",
   "metadata": {},
   "outputs": [
    {
     "name": "stdout",
     "output_type": "stream",
     "text": [
      "tata petrol mini suv\n"
     ]
    }
   ],
   "source": [
    "nexon.desc_car()"
   ]
  },
  {
   "cell_type": "code",
   "execution_count": 17,
   "id": "702caea1",
   "metadata": {},
   "outputs": [
    {
     "name": "stdout",
     "output_type": "stream",
     "text": [
      "<class 'int'>\n"
     ]
    }
   ],
   "source": [
    "a = 10\n",
    "print(type(a))"
   ]
  },
  {
   "cell_type": "code",
   "execution_count": 18,
   "id": "ae93e641",
   "metadata": {},
   "outputs": [
    {
     "name": "stdout",
     "output_type": "stream",
     "text": [
      "<class 'str'>\n"
     ]
    }
   ],
   "source": [
    "s = \"prabhat\"\n",
    "print(type(s))"
   ]
  },
  {
   "cell_type": "code",
   "execution_count": 12,
   "id": "87dffbb7",
   "metadata": {},
   "outputs": [],
   "source": [
    "class car :\n",
    "    def __init__(self,body_type ,engine ,fuel_type):\n",
    "        self.body_type = body_type\n",
    "        self.engine = engine\n",
    "        self.fuel_type = fuel_type\n",
    "        \n",
    "    def test(self):\n",
    "        print(\"this is my firsts method in car class\")"
   ]
  },
  {
   "cell_type": "code",
   "execution_count": 13,
   "id": "2202cb26",
   "metadata": {},
   "outputs": [
    {
     "ename": "TypeError",
     "evalue": "__init__() missing 3 required positional arguments: 'body_type', 'engine', and 'fuel_type'",
     "output_type": "error",
     "traceback": [
      "\u001b[1;31m---------------------------------------------------------------------------\u001b[0m",
      "\u001b[1;31mTypeError\u001b[0m                                 Traceback (most recent call last)",
      "\u001b[1;32m<ipython-input-13-bb63fdabebe5>\u001b[0m in \u001b[0;36m<module>\u001b[1;34m\u001b[0m\n\u001b[1;32m----> 1\u001b[1;33m \u001b[0mfortuner\u001b[0m \u001b[1;33m=\u001b[0m \u001b[0mcar\u001b[0m\u001b[1;33m(\u001b[0m\u001b[1;33m)\u001b[0m\u001b[1;33m\u001b[0m\u001b[1;33m\u001b[0m\u001b[0m\n\u001b[0m",
      "\u001b[1;31mTypeError\u001b[0m: __init__() missing 3 required positional arguments: 'body_type', 'engine', and 'fuel_type'"
     ]
    }
   ],
   "source": [
    "fortuner = car()"
   ]
  },
  {
   "cell_type": "code",
   "execution_count": 14,
   "id": "68cd9ab8",
   "metadata": {},
   "outputs": [],
   "source": [
    "fortuner = car(\"suv\",\"bs4\",\"petrol\")"
   ]
  },
  {
   "cell_type": "code",
   "execution_count": 15,
   "id": "2468b21f",
   "metadata": {},
   "outputs": [
    {
     "data": {
      "text/plain": [
       "'suv'"
      ]
     },
     "execution_count": 15,
     "metadata": {},
     "output_type": "execute_result"
    }
   ],
   "source": [
    "fortuner.body_type"
   ]
  },
  {
   "cell_type": "code",
   "execution_count": 5,
   "id": "90895208",
   "metadata": {},
   "outputs": [
    {
     "data": {
      "text/plain": [
       "'bs4'"
      ]
     },
     "execution_count": 5,
     "metadata": {},
     "output_type": "execute_result"
    }
   ],
   "source": [
    "fortuner.engine\n"
   ]
  },
  {
   "cell_type": "code",
   "execution_count": 19,
   "id": "8f952946",
   "metadata": {},
   "outputs": [],
   "source": [
    "class car :\n",
    "    def __init__(self,body_type ,engine ,fuel_type):\n",
    "        self.body_type1 = body_type\n",
    "        self.engine = engine\n",
    "        self.fuel_type = fuel_type\n",
    "        \n",
    "    def test(self):\n",
    "        print(\"this is my firsts method in car class\")"
   ]
  },
  {
   "cell_type": "code",
   "execution_count": null,
   "id": "4d612f17",
   "metadata": {},
   "outputs": [],
   "source": []
  },
  {
   "cell_type": "code",
   "execution_count": 20,
   "id": "7517a790",
   "metadata": {},
   "outputs": [],
   "source": [
    "nexon1 = car(\"suv\",\"bs4\",\"petrol\")"
   ]
  },
  {
   "cell_type": "code",
   "execution_count": 21,
   "id": "5635a201",
   "metadata": {},
   "outputs": [
    {
     "ename": "AttributeError",
     "evalue": "'car' object has no attribute 'body_type'",
     "output_type": "error",
     "traceback": [
      "\u001b[1;31m---------------------------------------------------------------------------\u001b[0m",
      "\u001b[1;31mAttributeError\u001b[0m                            Traceback (most recent call last)",
      "\u001b[1;32m<ipython-input-21-9a538e069914>\u001b[0m in \u001b[0;36m<module>\u001b[1;34m\u001b[0m\n\u001b[1;32m----> 1\u001b[1;33m \u001b[0mnexon1\u001b[0m\u001b[1;33m.\u001b[0m\u001b[0mbody_type\u001b[0m\u001b[1;33m\u001b[0m\u001b[1;33m\u001b[0m\u001b[0m\n\u001b[0m",
      "\u001b[1;31mAttributeError\u001b[0m: 'car' object has no attribute 'body_type'"
     ]
    }
   ],
   "source": [
    "nexon1.body_type"
   ]
  },
  {
   "cell_type": "code",
   "execution_count": 22,
   "id": "295f92e8",
   "metadata": {},
   "outputs": [
    {
     "data": {
      "text/plain": [
       "'suv'"
      ]
     },
     "execution_count": 22,
     "metadata": {},
     "output_type": "execute_result"
    }
   ],
   "source": [
    "nexon1.body_type1"
   ]
  },
  {
   "cell_type": "code",
   "execution_count": 28,
   "id": "0b4f5606",
   "metadata": {},
   "outputs": [],
   "source": [
    "class car :\n",
    "    def __init__(self,body_type ,engine ,fuel_type):\n",
    "        self.a = body_type\n",
    "        self.b = engine\n",
    "        self.c = fuel_type\n",
    "        \n",
    "    def test(self):\n",
    "        print(\"this is my firsts method in car class\")"
   ]
  },
  {
   "cell_type": "code",
   "execution_count": 29,
   "id": "48b4991a",
   "metadata": {},
   "outputs": [],
   "source": [
    "fortuner = car(\"suv\",\"bs4\",\"petrol\")"
   ]
  },
  {
   "cell_type": "code",
   "execution_count": 25,
   "id": "f26d90a0",
   "metadata": {},
   "outputs": [
    {
     "data": {
      "text/plain": [
       "'suv'"
      ]
     },
     "execution_count": 25,
     "metadata": {},
     "output_type": "execute_result"
    }
   ],
   "source": [
    "fortuner.a"
   ]
  },
  {
   "cell_type": "code",
   "execution_count": 33,
   "id": "0a85963a",
   "metadata": {},
   "outputs": [],
   "source": [
    "class car :\n",
    "    def __init__(Prabhat,body_type ,engine ,fuel_type):\n",
    "        Prabhat.a = body_type\n",
    "        Prabhat.b = engine\n",
    "        Prabhat.c = fuel_type\n",
    "        \n",
    "    def test(prabhat):\n",
    "        print(\"this is my firsts method in car class\")"
   ]
  },
  {
   "cell_type": "code",
   "execution_count": 32,
   "id": "e9fa301a",
   "metadata": {},
   "outputs": [],
   "source": [
    "fortuner = car(\"suv\",\"bs4\",\"petrol\")"
   ]
  },
  {
   "cell_type": "code",
   "execution_count": 34,
   "id": "192eb2ec",
   "metadata": {},
   "outputs": [
    {
     "name": "stdout",
     "output_type": "stream",
     "text": [
      "this is my firsts method in car class\n"
     ]
    }
   ],
   "source": [
    "fortuner.test()"
   ]
  },
  {
   "cell_type": "code",
   "execution_count": 35,
   "id": "e40ee218",
   "metadata": {},
   "outputs": [],
   "source": [
    "def test(prabhat):\n",
    "        print(\"this is my firsts method in car class\")"
   ]
  },
  {
   "cell_type": "code",
   "execution_count": 36,
   "id": "1ea2fb73",
   "metadata": {},
   "outputs": [
    {
     "ename": "TypeError",
     "evalue": "test() missing 1 required positional argument: 'prabhat'",
     "output_type": "error",
     "traceback": [
      "\u001b[1;31m---------------------------------------------------------------------------\u001b[0m",
      "\u001b[1;31mTypeError\u001b[0m                                 Traceback (most recent call last)",
      "\u001b[1;32m<ipython-input-36-fbd55f77ab7c>\u001b[0m in \u001b[0;36m<module>\u001b[1;34m\u001b[0m\n\u001b[1;32m----> 1\u001b[1;33m \u001b[0mtest\u001b[0m\u001b[1;33m(\u001b[0m\u001b[1;33m)\u001b[0m\u001b[1;33m\u001b[0m\u001b[1;33m\u001b[0m\u001b[0m\n\u001b[0m",
      "\u001b[1;31mTypeError\u001b[0m: test() missing 1 required positional argument: 'prabhat'"
     ]
    }
   ],
   "source": [
    "test()"
   ]
  },
  {
   "cell_type": "code",
   "execution_count": 37,
   "id": "7bf3379c",
   "metadata": {},
   "outputs": [],
   "source": [
    "class car :\n",
    "    \n",
    "    def test(prabhat):\n",
    "        print(\"this is my firsts method in car class\")"
   ]
  },
  {
   "cell_type": "code",
   "execution_count": 38,
   "id": "a2a9cbe2",
   "metadata": {},
   "outputs": [],
   "source": [
    "x = car()"
   ]
  },
  {
   "cell_type": "code",
   "execution_count": 39,
   "id": "eb7c94d5",
   "metadata": {},
   "outputs": [
    {
     "name": "stdout",
     "output_type": "stream",
     "text": [
      "this is my firsts method in car class\n"
     ]
    }
   ],
   "source": [
    "x.test()"
   ]
  },
  {
   "cell_type": "markdown",
   "id": "6cf23ccc",
   "metadata": {},
   "source": [
    "#its ok if we dont habe init method in ckass,if required then only privide it"
   ]
  },
  {
   "cell_type": "markdown",
   "id": "41ff7cb2",
   "metadata": {},
   "source": []
  },
  {
   "cell_type": "code",
   "execution_count": 41,
   "id": "06840e97",
   "metadata": {},
   "outputs": [],
   "source": [
    "class car1:\n",
    "    def test1(self,a,b):\n",
    "        return a+b"
   ]
  },
  {
   "cell_type": "code",
   "execution_count": 43,
   "id": "b7c02b40",
   "metadata": {},
   "outputs": [],
   "source": [
    "y = car1()"
   ]
  },
  {
   "cell_type": "code",
   "execution_count": 44,
   "id": "e410ea1c",
   "metadata": {},
   "outputs": [
    {
     "data": {
      "text/plain": [
       "7"
      ]
     },
     "execution_count": 44,
     "metadata": {},
     "output_type": "execute_result"
    }
   ],
   "source": [
    "y.test1(3,4)"
   ]
  },
  {
   "cell_type": "code",
   "execution_count": 48,
   "id": "2afb77e4",
   "metadata": {},
   "outputs": [],
   "source": [
    "class list_parser:\n",
    "    def parser(self,a):\n",
    "        if type(a) == list:\n",
    "            for i in a:\n",
    "                print(i)\n",
    "    def reverse_list(self,z):\n",
    "        if type(z) == list:\n",
    "            return z[::-1]"
   ]
  },
  {
   "cell_type": "code",
   "execution_count": 49,
   "id": "e7667228",
   "metadata": {},
   "outputs": [],
   "source": [
    "c = list_parser()"
   ]
  },
  {
   "cell_type": "code",
   "execution_count": 50,
   "id": "d8919059",
   "metadata": {},
   "outputs": [
    {
     "name": "stdout",
     "output_type": "stream",
     "text": [
      "1\n",
      "2\n",
      "3\n",
      "4\n",
      "5\n",
      "6\n",
      "7\n"
     ]
    }
   ],
   "source": [
    "c.parser([1,2,3,4,5,6,7])"
   ]
  },
  {
   "cell_type": "code",
   "execution_count": 51,
   "id": "9651aedc",
   "metadata": {},
   "outputs": [
    {
     "data": {
      "text/plain": [
       "[7, 6, 5, 4, 3, 2, 1]"
      ]
     },
     "execution_count": 51,
     "metadata": {},
     "output_type": "execute_result"
    }
   ],
   "source": [
    "c.reverse_list([1,2,3,4,5,6,7])"
   ]
  },
  {
   "cell_type": "code",
   "execution_count": 56,
   "id": "ab2612dc",
   "metadata": {},
   "outputs": [],
   "source": [
    "class list_parser:\n",
    "    def __init__(self,l):\n",
    "        self.l = l\n",
    "        \n",
    "    def parser(self):\n",
    "        if type(self.l) == list:\n",
    "            for i in self.l:\n",
    "                print(i)\n",
    "                \n",
    "    def reverse_list(self):\n",
    "        if type(self.l) == list:\n",
    "            return self.l[::-1]"
   ]
  },
  {
   "cell_type": "code",
   "execution_count": 57,
   "id": "9e67f93b",
   "metadata": {},
   "outputs": [],
   "source": [
    "c1 = list_parser([1,2,3,4,5,6,78])"
   ]
  },
  {
   "cell_type": "code",
   "execution_count": 58,
   "id": "04736ad6",
   "metadata": {},
   "outputs": [
    {
     "name": "stdout",
     "output_type": "stream",
     "text": [
      "1\n",
      "2\n",
      "3\n",
      "4\n",
      "5\n",
      "6\n",
      "78\n"
     ]
    }
   ],
   "source": [
    "c1.parser()"
   ]
  },
  {
   "cell_type": "code",
   "execution_count": null,
   "id": "e93400ff",
   "metadata": {},
   "outputs": [],
   "source": [
    "create class for dict parsing\n",
    "1. write a function to give all the keys\n",
    "2.write a function to give all the values\n",
    "3. write a function to throw an exception incase of input is not a dictionary\n",
    "4. write a function for take user input and the parse a key and value out of ictionarhy\n",
    "5.write a function to insert a new value pair into dictionaery"
   ]
  },
  {
   "cell_type": "code",
   "execution_count": 46,
   "id": "a02bd80f",
   "metadata": {},
   "outputs": [],
   "source": [
    "class dict_parsing:\n",
    "    def __init__(self,d):\n",
    "        self.d = d\n",
    "        \n",
    "    def getkeys(self):\n",
    "        if type(self.d) == dict:\n",
    "            #print(self.d.keys())\n",
    "            return list(self.d.keys())\n",
    "            \n",
    "    def getvalues(self):\n",
    "        if type(self.d) == dict:\n",
    "            #print(self.d.values())\n",
    "            return list(self.d.values())\n",
    "            \n",
    "    def error(self):\n",
    "        try:\n",
    "            \n",
    "            if type(self.d)!=dict:\n",
    "                #print(self.d)\n",
    "                return none\n",
    "        except :\n",
    "            print(\"not a dictionary\")\n",
    "            \n",
    "    def userinput(self):\n",
    "        self.d = eval(input())\n",
    "        print(self.d,type(self.a))\n",
    "        print(self.d.keys())\n",
    "        print(self.d.values())\n",
    "            \n",
    "    def insert(self,k,v):\n",
    "        \n",
    "        self.d[k] = v\n",
    "        \n",
    "#         self.d = self.d.insert{\"key1\":\"we\"}\n",
    "#         print(self.d)\n",
    "                \n",
    "            \n",
    "        \n",
    "    "
   ]
  },
  {
   "cell_type": "code",
   "execution_count": 47,
   "id": "270c7ca8",
   "metadata": {},
   "outputs": [],
   "source": [
    "d = dict_parsing({\"a\":10,\"B\":23})\n",
    "#d.userinput()"
   ]
  },
  {
   "cell_type": "code",
   "execution_count": 45,
   "id": "8e09155f",
   "metadata": {},
   "outputs": [],
   "source": [
    "d.insert(\"k1\",[1,2])"
   ]
  },
  {
   "cell_type": "code",
   "execution_count": 87,
   "id": "b92a7624",
   "metadata": {},
   "outputs": [
    {
     "name": "stdout",
     "output_type": "stream",
     "text": [
      "not a dictionary\n"
     ]
    }
   ],
   "source": [
    "d = dict_parsing([1,2,3])\n",
    "d.error()"
   ]
  },
  {
   "cell_type": "code",
   "execution_count": 82,
   "id": "1670dcb1",
   "metadata": {},
   "outputs": [
    {
     "data": {
      "text/plain": [
       "[1, 2, 3]"
      ]
     },
     "execution_count": 82,
     "metadata": {},
     "output_type": "execute_result"
    }
   ],
   "source": [
    "d.error()"
   ]
  },
  {
   "cell_type": "code",
   "execution_count": 83,
   "id": "1860b813",
   "metadata": {},
   "outputs": [],
   "source": [
    "d.keys()"
   ]
  },
  {
   "cell_type": "code",
   "execution_count": 84,
   "id": "7fad7d00",
   "metadata": {},
   "outputs": [],
   "source": [
    "d.values()"
   ]
  },
  {
   "cell_type": "code",
   "execution_count": 10,
   "id": "ce0a0c5b",
   "metadata": {},
   "outputs": [],
   "source": [
    "d1 = {\"a\":1}"
   ]
  },
  {
   "cell_type": "code",
   "execution_count": 12,
   "id": "07e41750",
   "metadata": {},
   "outputs": [],
   "source": [
    "d1[\"b\"] =20"
   ]
  },
  {
   "cell_type": "code",
   "execution_count": 13,
   "id": "c89c9972",
   "metadata": {},
   "outputs": [
    {
     "data": {
      "text/plain": [
       "{'a': 1, 'b': 20}"
      ]
     },
     "execution_count": 13,
     "metadata": {},
     "output_type": "execute_result"
    }
   ],
   "source": [
    "d1"
   ]
  },
  {
   "cell_type": "code",
   "execution_count": 48,
   "id": "2311346a",
   "metadata": {},
   "outputs": [
    {
     "data": {
      "text/plain": [
       "<_io.TextIOWrapper name='mydict.py' mode='w' encoding='cp1252'>"
      ]
     },
     "execution_count": 48,
     "metadata": {},
     "output_type": "execute_result"
    }
   ],
   "source": [
    "open(\"mydict.py\",\"w\")"
   ]
  },
  {
   "cell_type": "code",
   "execution_count": null,
   "id": "6605e312",
   "metadata": {},
   "outputs": [],
   "source": []
  }
 ],
 "metadata": {
  "kernelspec": {
   "display_name": "Python 3",
   "language": "python",
   "name": "python3"
  },
  "language_info": {
   "codemirror_mode": {
    "name": "ipython",
    "version": 3
   },
   "file_extension": ".py",
   "mimetype": "text/x-python",
   "name": "python",
   "nbconvert_exporter": "python",
   "pygments_lexer": "ipython3",
   "version": "3.8.8"
  }
 },
 "nbformat": 4,
 "nbformat_minor": 5
}
