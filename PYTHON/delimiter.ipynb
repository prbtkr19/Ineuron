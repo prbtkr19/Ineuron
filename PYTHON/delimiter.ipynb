{
 "cells": [
  {
   "cell_type": "markdown",
   "id": "f45d3d42",
   "metadata": {},
   "source": [
    "# Write a Python program to split a string with multiple delimiters.\n",
    "\n",
    "Note : A delimiter is a sequence of one or more characters used to specify the boundary between separate,\n",
    "independent regions in plain text or other data streams.\n",
    "An example of a delimiter is the comma character,\n",
    "which acts as a field delimiter in a sequence of comma-separated values."
   ]
  },
  {
   "cell_type": "code",
   "execution_count": null,
   "id": "799abbbe",
   "metadata": {},
   "outputs": [],
   "source": [
    "import re\n",
    "text = 'The quick brown\\nfox jumps*over the lazy dog.'\n",
    "print(re.split('; |, |\\*|\\n',text))"
   ]
  },
  {
   "cell_type": "code",
   "execution_count": null,
   "id": "354a73ff",
   "metadata": {},
   "outputs": [],
   "source": []
  }
 ],
 "metadata": {
  "kernelspec": {
   "display_name": "Python 3 (ipykernel)",
   "language": "python",
   "name": "python3"
  },
  "language_info": {
   "codemirror_mode": {
    "name": "ipython",
    "version": 3
   },
   "file_extension": ".py",
   "mimetype": "text/x-python",
   "name": "python",
   "nbconvert_exporter": "python",
   "pygments_lexer": "ipython3",
   "version": "3.8.8"
  }
 },
 "nbformat": 4,
 "nbformat_minor": 5
}
